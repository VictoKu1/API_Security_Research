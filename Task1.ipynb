{
 "cells": [
  {
   "cell_type": "markdown",
   "metadata": {
    "id": "view-in-github",
    "colab_type": "text"
   },
   "source": [
    "<a href=\"https://colab.research.google.com/github/VictoKu1/API_Security_Research/blob/master/Task1.ipynb\" target=\"_parent\"><img src=\"https://colab.research.google.com/assets/colab-badge.svg\" alt=\"Open In Colab\"/></a>"
   ]
  },
  {
   "cell_type": "markdown",
   "source": [
    "# Cisco - Ariel University API Security Detection Challenge 2023\n",
    "\n",
    "\n",
    "---\n",
    "\n",
    "\n",
    "\n",
    "---\n",
    "\n"
   ],
   "metadata": {
    "id": "0qy3f4gTtupa"
   }
  },
  {
   "cell_type": "markdown",
   "metadata": {
    "id": "AuMEXBTxtQX4"
   },
   "source": [
    "## Dataset 1 (Task 1)\n",
    "\n",
    "The most basic API traffic containing the least number of attacks and endpoints. Will basically enable to have a soft start. \n",
    "\n",
    "```\n",
    "Dataset 1 baseline score:\n",
    "\n",
    "                   precision    recall  f1-score   support\n",
    "\n",
    "    Benign          0.95715   0.93922   0.99792       480\n",
    "    Malware         0.99799   0.94129   0.96881       528\n",
    "    \n",
    "    accuracy                            0.96825      1008\n",
    "    macro avg       0.96860   0.96960   0.96824      1008\n",
    "    weighted avg    0.97000   0.96825   0.96827      1008\n",
    "\n",
    "```\n",
    "\n",
    "[Link to the Dataset 1](https://drive.google.com/file/d/15MxHRAdwPXCENACwn8wLMkb98ZCjDeh6/view?usp=share_link)"
   ]
  },
  {
   "cell_type": "markdown",
   "source": [
    "## Baseline code"
   ],
   "metadata": {
    "id": "PBWko2gLtx3k"
   }
  },
  {
   "cell_type": "markdown",
   "metadata": {
    "id": "6_GdA948tQX6"
   },
   "source": [
    "### Imports and global settings"
   ]
  },
  {
   "cell_type": "code",
   "execution_count": 437,
   "metadata": {
    "id": "yvB-vaattQX7",
    "colab": {
     "base_uri": "https://localhost:8080/",
     "height": 236
    },
    "outputId": "76904523-e1be-46f4-edb8-3fda00f7f10e"
   },
   "outputs": [
    {
     "data": {
      "text/plain": "  request.headers.Host                         request.headers.User-Agent  \\\n0       127.0.0.1:5000  Mozilla/5.0 (X11; Linux i586; rv:31.0) Gecko/2...   \n1       127.0.0.1:5000  Mozilla/5.0 (X11; OpenBSD amd64; rv:28.0) Geck...   \n2       127.0.0.1:5000  Mozilla/5.0 (X11; Ubuntu; Linux x86_64; rv:24....   \n3       127.0.0.1:5000  Mozilla/5.0 (Windows NT 6.1; rv:27.3) Gecko/20...   \n4       127.0.0.1:5000  Mozilla/5.0 (Windows NT 6.1; Win64; x64; rv:25...   \n\n  request.headers.Accept-Encoding request.headers.Accept  \\\n0               gzip, deflate, br                    */*   \n1               gzip, deflate, br                    */*   \n2               gzip, deflate, br                    */*   \n3               gzip, deflate, br                    */*   \n4               gzip, deflate, br                    */*   \n\n  request.headers.Connection request.headers.Accept-Language  \\\n0                 keep-alive                           de-CH   \n1                 keep-alive                              de   \n2                 keep-alive                              de   \n3                 keep-alive                           de-CH   \n4                 keep-alive                              de   \n\n  request.headers.Sec-Fetch-Site request.headers.Sec-Fetch-Mode  \\\n0                           none                    same-origin   \n1                           none                    same-origin   \n2                           none                    same-origin   \n3                           none                    same-origin   \n4                           none                    same-origin   \n\n  request.headers.Sec-Fetch-User  \\\n0                             ?1   \n1                             ?1   \n2                             ?1   \n3                             ?1   \n4                             ?1   \n\n                      request.headers.Sec-Fetch-Dest  \\\n0                                           document   \n1                                           document   \n2                                           document   \n3                                           document   \n4  document${jndi:ldaphttps://mitsui-jyuku.mixh.j...   \n\n                          request.headers.Set-Cookie  \\\n0  ['ck=o_GpTr9HHJJuQyahzYzRI32s-1_JPvkhLtweRRmjP...   \n1  ['ck=UYrrg74Ph7dWrlCA9rgXy6qtYSwxuCZK_nBsCp-j5...   \n2  ['ck=wiMIulyT7VOEQKT-4D5ChZAjxiTdRXAYUaz_OQ3Rc...   \n3  ['ck=pQiHhJSsvZ9vw-yR8NmaTGKzqUBsn583t3Q6zWEoz...   \n4  ['ck=vGDsymCRgtDms448zxnOurIjvy46d_4aAGJRG6gmh...   \n\n            request.headers.Date request.method  \\\n0  Mon, 21 Nov 2022 18:12:16 GMT            GET   \n1  Mon, 21 Nov 2022 18:12:16 GMT            GET   \n2  Mon, 21 Nov 2022 18:12:16 GMT            GET   \n3  Mon, 21 Nov 2022 18:12:16 GMT            GET   \n4  Mon, 21 Nov 2022 18:12:16 GMT            GET   \n\n                                         request.url request.body  \\\n0  http://127.0.0.1:5000/static/download_txt/../....                \n1   http://127.0.0.1:5000/categories/check/name/2467                \n2                  http://127.0.0.1:5000/cookielogin                \n3       http://127.0.0.1:5000/states/get/region/6117                \n4   http://127.0.0.1:5000/categories/check/name/2508                \n\n    request.Attack_Tag response.status response.headers.Content-Type  \\\n0  Directory Traversal          200 OK              application/json   \n1                  NaN   404 NOT FOUND              application/json   \n2     Cookie Injection          200 OK      text/html; charset=utf-8   \n3                  NaN   404 NOT FOUND              application/json   \n4                LOG4J   404 NOT FOUND              application/json   \n\n  response.headers.Content-Length  response.status_code  \\\n0                              72                   200   \n1                              41                   404   \n2                             105                   200   \n3                              30                   404   \n4                              41                   404   \n\n                                       response.body  \\\n0  {\"error\": \"File ../../../../../../../../window...   \n1               {\"error\": \"Category name not found\"}   \n2  <h1>Logged in as Cedric</h1><form method='POST...   \n3                          {\"error\": \"Not a region\"}   \n4               {\"error\": \"Category name not found\"}   \n\n                              request.headers.Cookie  \\\n0                                                NaN   \n1                                                NaN   \n2  username=gASVyQAAAAAAAACMCGJ1aWx0aW5zlIwEZXZhb...   \n3                                                NaN   \n4                                                NaN   \n\n  response.headers.Location request.headers.Content-Length  \\\n0                       NaN                            NaN   \n1                       NaN                            NaN   \n2                       NaN                            NaN   \n3                       NaN                            NaN   \n4                       NaN                            NaN   \n\n  response.headers.Set-Cookie  \n0                         NaN  \n1                         NaN  \n2                         NaN  \n3                         NaN  \n4                         NaN  ",
      "text/html": "<div>\n<style scoped>\n    .dataframe tbody tr th:only-of-type {\n        vertical-align: middle;\n    }\n\n    .dataframe tbody tr th {\n        vertical-align: top;\n    }\n\n    .dataframe thead th {\n        text-align: right;\n    }\n</style>\n<table border=\"1\" class=\"dataframe\">\n  <thead>\n    <tr style=\"text-align: right;\">\n      <th></th>\n      <th>request.headers.Host</th>\n      <th>request.headers.User-Agent</th>\n      <th>request.headers.Accept-Encoding</th>\n      <th>request.headers.Accept</th>\n      <th>request.headers.Connection</th>\n      <th>request.headers.Accept-Language</th>\n      <th>request.headers.Sec-Fetch-Site</th>\n      <th>request.headers.Sec-Fetch-Mode</th>\n      <th>request.headers.Sec-Fetch-User</th>\n      <th>request.headers.Sec-Fetch-Dest</th>\n      <th>request.headers.Set-Cookie</th>\n      <th>request.headers.Date</th>\n      <th>request.method</th>\n      <th>request.url</th>\n      <th>request.body</th>\n      <th>request.Attack_Tag</th>\n      <th>response.status</th>\n      <th>response.headers.Content-Type</th>\n      <th>response.headers.Content-Length</th>\n      <th>response.status_code</th>\n      <th>response.body</th>\n      <th>request.headers.Cookie</th>\n      <th>response.headers.Location</th>\n      <th>request.headers.Content-Length</th>\n      <th>response.headers.Set-Cookie</th>\n    </tr>\n  </thead>\n  <tbody>\n    <tr>\n      <th>0</th>\n      <td>127.0.0.1:5000</td>\n      <td>Mozilla/5.0 (X11; Linux i586; rv:31.0) Gecko/2...</td>\n      <td>gzip, deflate, br</td>\n      <td>*/*</td>\n      <td>keep-alive</td>\n      <td>de-CH</td>\n      <td>none</td>\n      <td>same-origin</td>\n      <td>?1</td>\n      <td>document</td>\n      <td>['ck=o_GpTr9HHJJuQyahzYzRI32s-1_JPvkhLtweRRmjP...</td>\n      <td>Mon, 21 Nov 2022 18:12:16 GMT</td>\n      <td>GET</td>\n      <td>http://127.0.0.1:5000/static/download_txt/../....</td>\n      <td></td>\n      <td>Directory Traversal</td>\n      <td>200 OK</td>\n      <td>application/json</td>\n      <td>72</td>\n      <td>200</td>\n      <td>{\"error\": \"File ../../../../../../../../window...</td>\n      <td>NaN</td>\n      <td>NaN</td>\n      <td>NaN</td>\n      <td>NaN</td>\n    </tr>\n    <tr>\n      <th>1</th>\n      <td>127.0.0.1:5000</td>\n      <td>Mozilla/5.0 (X11; OpenBSD amd64; rv:28.0) Geck...</td>\n      <td>gzip, deflate, br</td>\n      <td>*/*</td>\n      <td>keep-alive</td>\n      <td>de</td>\n      <td>none</td>\n      <td>same-origin</td>\n      <td>?1</td>\n      <td>document</td>\n      <td>['ck=UYrrg74Ph7dWrlCA9rgXy6qtYSwxuCZK_nBsCp-j5...</td>\n      <td>Mon, 21 Nov 2022 18:12:16 GMT</td>\n      <td>GET</td>\n      <td>http://127.0.0.1:5000/categories/check/name/2467</td>\n      <td></td>\n      <td>NaN</td>\n      <td>404 NOT FOUND</td>\n      <td>application/json</td>\n      <td>41</td>\n      <td>404</td>\n      <td>{\"error\": \"Category name not found\"}</td>\n      <td>NaN</td>\n      <td>NaN</td>\n      <td>NaN</td>\n      <td>NaN</td>\n    </tr>\n    <tr>\n      <th>2</th>\n      <td>127.0.0.1:5000</td>\n      <td>Mozilla/5.0 (X11; Ubuntu; Linux x86_64; rv:24....</td>\n      <td>gzip, deflate, br</td>\n      <td>*/*</td>\n      <td>keep-alive</td>\n      <td>de</td>\n      <td>none</td>\n      <td>same-origin</td>\n      <td>?1</td>\n      <td>document</td>\n      <td>['ck=wiMIulyT7VOEQKT-4D5ChZAjxiTdRXAYUaz_OQ3Rc...</td>\n      <td>Mon, 21 Nov 2022 18:12:16 GMT</td>\n      <td>GET</td>\n      <td>http://127.0.0.1:5000/cookielogin</td>\n      <td></td>\n      <td>Cookie Injection</td>\n      <td>200 OK</td>\n      <td>text/html; charset=utf-8</td>\n      <td>105</td>\n      <td>200</td>\n      <td>&lt;h1&gt;Logged in as Cedric&lt;/h1&gt;&lt;form method='POST...</td>\n      <td>username=gASVyQAAAAAAAACMCGJ1aWx0aW5zlIwEZXZhb...</td>\n      <td>NaN</td>\n      <td>NaN</td>\n      <td>NaN</td>\n    </tr>\n    <tr>\n      <th>3</th>\n      <td>127.0.0.1:5000</td>\n      <td>Mozilla/5.0 (Windows NT 6.1; rv:27.3) Gecko/20...</td>\n      <td>gzip, deflate, br</td>\n      <td>*/*</td>\n      <td>keep-alive</td>\n      <td>de-CH</td>\n      <td>none</td>\n      <td>same-origin</td>\n      <td>?1</td>\n      <td>document</td>\n      <td>['ck=pQiHhJSsvZ9vw-yR8NmaTGKzqUBsn583t3Q6zWEoz...</td>\n      <td>Mon, 21 Nov 2022 18:12:16 GMT</td>\n      <td>GET</td>\n      <td>http://127.0.0.1:5000/states/get/region/6117</td>\n      <td></td>\n      <td>NaN</td>\n      <td>404 NOT FOUND</td>\n      <td>application/json</td>\n      <td>30</td>\n      <td>404</td>\n      <td>{\"error\": \"Not a region\"}</td>\n      <td>NaN</td>\n      <td>NaN</td>\n      <td>NaN</td>\n      <td>NaN</td>\n    </tr>\n    <tr>\n      <th>4</th>\n      <td>127.0.0.1:5000</td>\n      <td>Mozilla/5.0 (Windows NT 6.1; Win64; x64; rv:25...</td>\n      <td>gzip, deflate, br</td>\n      <td>*/*</td>\n      <td>keep-alive</td>\n      <td>de</td>\n      <td>none</td>\n      <td>same-origin</td>\n      <td>?1</td>\n      <td>document${jndi:ldaphttps://mitsui-jyuku.mixh.j...</td>\n      <td>['ck=vGDsymCRgtDms448zxnOurIjvy46d_4aAGJRG6gmh...</td>\n      <td>Mon, 21 Nov 2022 18:12:16 GMT</td>\n      <td>GET</td>\n      <td>http://127.0.0.1:5000/categories/check/name/2508</td>\n      <td></td>\n      <td>LOG4J</td>\n      <td>404 NOT FOUND</td>\n      <td>application/json</td>\n      <td>41</td>\n      <td>404</td>\n      <td>{\"error\": \"Category name not found\"}</td>\n      <td>NaN</td>\n      <td>NaN</td>\n      <td>NaN</td>\n      <td>NaN</td>\n    </tr>\n  </tbody>\n</table>\n</div>"
     },
     "execution_count": 437,
     "metadata": {},
     "output_type": "execute_result"
    }
   ],
   "source": [
    "# Imports, settings and first dataset view\n",
    "import pandas as pd\n",
    "import seaborn as sns\n",
    "import numpy as np\n",
    "import json\n",
    "\n",
    "from sklearn.feature_extraction.text import CountVectorizer, HashingVectorizer\n",
    "from sklearn.preprocessing import LabelEncoder\n",
    "from sklearn.model_selection import train_test_split\n",
    "from sklearn.ensemble import RandomForestClassifier\n",
    "from sklearn.metrics import confusion_matrix, classification_report\n",
    "from collections import Counter\n",
    "from sklearn.model_selection import GridSearchCV, cross_validate\n",
    "from sklearn.decomposition import TruncatedSVD\n",
    "\n",
    "import plotly.express as px\n",
    "import plotly.graph_objects as go\n",
    "import plotly.subplots as ps\n",
    "import matplotlib.pyplot as plt\n",
    "import plotly.io as pio\n",
    "pio.templates.default = \"plotly_dark\"\n",
    "pio.templates['plotly_dark'].layout.autosize = False\n",
    "pio.templates['plotly_dark'].layout.width = 1_000\n",
    "pio.templates['plotly_dark'].layout.height = 800\n",
    "\n",
    "from sklearn.svm import SVC\n",
    "from sklearn.decomposition import PCA\n",
    "from sklearn.preprocessing import StandardScaler\n",
    "from sklearn.linear_model import LogisticRegression\n",
    "from sklearn.neighbors import KNeighborsClassifier\n",
    "from sklearn.tree import DecisionTreeClassifier\n",
    "from sklearn.ensemble import AdaBoostClassifier\n",
    "from sklearn.ensemble import GradientBoostingClassifier\n",
    "from sklearn.metrics import make_scorer, recall_score\n",
    "from sklearn.neural_network import MLPClassifier\n",
    "from sklearn.ensemble import VotingClassifier\n",
    "from sklearn.ensemble import StackingClassifier\n",
    "import pickle\n",
    "\n",
    "# from ipywidgets import widgets\n",
    "# Set pandas to show all columns when you print a dataframe\n",
    "pd.set_option('display.max_columns', None)\n",
    "\n",
    "# Global setting here you choose the dataset number and classification type for the model\n",
    "dataset_number = 1   # Options are [1, 2, 3, 4]\n",
    "test_type = 'label'  # Options are ['label', 'attack_type']\n",
    "\n",
    "# Read the json and read it to a pandas dataframe object, you can change these settings\n",
    "with open(f'./dataset_{str(dataset_number)}_train.json') as file:\n",
    "    raw_ds = json.load(file)\n",
    "df = pd.json_normalize(raw_ds, max_level=2)\n",
    "\n",
    "# Shoe the first five lines of the dataframe to see if everything was read accordingly\n",
    "df.head()"
   ]
  },
  {
   "cell_type": "markdown",
   "metadata": {
    "id": "wqT5w6tStQX-"
   },
   "source": [
    "### Basic dataset label arrangements"
   ]
  },
  {
   "cell_type": "code",
   "execution_count": 438,
   "metadata": {
    "id": "yAB0tgYstQX_"
   },
   "outputs": [
    {
     "data": {
      "text/plain": "     request.headers.Host                         request.headers.User-Agent  \\\n0          127.0.0.1:5000  Mozilla/5.0 (X11; Linux i586; rv:31.0) Gecko/2...   \n1          127.0.0.1:5000  Mozilla/5.0 (X11; OpenBSD amd64; rv:28.0) Geck...   \n2          127.0.0.1:5000  Mozilla/5.0 (X11; Ubuntu; Linux x86_64; rv:24....   \n3          127.0.0.1:5000  Mozilla/5.0 (Windows NT 6.1; rv:27.3) Gecko/20...   \n4          127.0.0.1:5000  Mozilla/5.0 (Windows NT 6.1; Win64; x64; rv:25...   \n...                   ...                                                ...   \n4277       127.0.0.1:5000  Mozilla/5.0 (Windows NT 10.0) AppleWebKit/537....   \n4278       127.0.0.1:5000  Mozilla/5.0 (Windows NT 5.1; rv:31.0) Gecko/20...   \n4279       127.0.0.1:5000  Mozilla/5.0 (Windows NT 5.1) AppleWebKit/537.3...   \n4280       127.0.0.1:5000  Mozilla/5.0 (Windows NT 5.1; rv:31.0) Gecko/20...   \n4281       127.0.0.1:5000  Mozilla/5.0 (Windows NT 6.3; WOW64) AppleWebKi...   \n\n     request.headers.Accept-Encoding request.headers.Accept  \\\n0                  gzip, deflate, br                    */*   \n1                  gzip, deflate, br                    */*   \n2                  gzip, deflate, br                    */*   \n3                  gzip, deflate, br                    */*   \n4                  gzip, deflate, br                    */*   \n...                              ...                    ...   \n4277               gzip, deflate, br                    */*   \n4278               gzip, deflate, br                    */*   \n4279               gzip, deflate, br                    */*   \n4280               gzip, deflate, br                    */*   \n4281               gzip, deflate, br                    */*   \n\n     request.headers.Connection request.headers.Accept-Language  \\\n0                    keep-alive                           de-CH   \n1                    keep-alive                              de   \n2                    keep-alive                              de   \n3                    keep-alive                           de-CH   \n4                    keep-alive                              de   \n...                         ...                             ...   \n4277                 keep-alive                  en-US,en;q=0.5   \n4278                 keep-alive                              de   \n4279                 keep-alive                           de-CH   \n4280                 keep-alive                           de-CH   \n4281                 keep-alive                           de-CH   \n\n     request.headers.Sec-Fetch-Site request.headers.Sec-Fetch-Mode  \\\n0                              none                    same-origin   \n1                              none                    same-origin   \n2                              none                    same-origin   \n3                              none                    same-origin   \n4                              none                    same-origin   \n...                             ...                            ...   \n4277                           none                      websocket   \n4278                           none                    same-origin   \n4279                           none                    same-origin   \n4280                           none                    same-origin   \n4281                           none                      websocket   \n\n     request.headers.Sec-Fetch-User  \\\n0                                ?1   \n1                                ?1   \n2                                ?1   \n3                                ?1   \n4                                ?1   \n...                             ...   \n4277                             ?1   \n4278                             ?1   \n4279                             ?1   \n4280                             ?1   \n4281                             ?1   \n\n                         request.headers.Sec-Fetch-Dest  \\\n0                                              document   \n1                                              document   \n2                                              document   \n3                                              document   \n4     document${jndi:ldaphttps://mitsui-jyuku.mixh.j...   \n...                                                 ...   \n4277                                           document   \n4278                                           document   \n4279                                           document   \n4280                                           document   \n4281                                           document   \n\n                             request.headers.Set-Cookie  \\\n0     ['ck=o_GpTr9HHJJuQyahzYzRI32s-1_JPvkhLtweRRmjP...   \n1     ['ck=UYrrg74Ph7dWrlCA9rgXy6qtYSwxuCZK_nBsCp-j5...   \n2     ['ck=wiMIulyT7VOEQKT-4D5ChZAjxiTdRXAYUaz_OQ3Rc...   \n3     ['ck=pQiHhJSsvZ9vw-yR8NmaTGKzqUBsn583t3Q6zWEoz...   \n4     ['ck=vGDsymCRgtDms448zxnOurIjvy46d_4aAGJRG6gmh...   \n...                                                 ...   \n4277  ['ck=wKm-iDQeCXGjwXGrGJvfzWzs5VYbnWSP75B6BjFz1...   \n4278  ['ck=oyXTP1KfNdMwWb_jIYEQYKzE9RZALsuCGCtJtUlju...   \n4279  ['ck=bfYOeMnpxlFA9F7ObPemhCXYmeYNbBteewfAWbnfy...   \n4280  ['ck=kTL1HiXNUcc1ZoDLBVDOczEbmMAFehlQ-razZ-gjx...   \n4281  ['ck=IG3IRaClzR5z1Ytwj0SZfrp9v3TC0dsIvcoFd4YMQ...   \n\n               request.headers.Date request.method  \\\n0     Mon, 21 Nov 2022 18:12:16 GMT            GET   \n1     Mon, 21 Nov 2022 18:12:16 GMT            GET   \n2     Mon, 21 Nov 2022 18:12:16 GMT            GET   \n3     Mon, 21 Nov 2022 18:12:16 GMT            GET   \n4     Mon, 21 Nov 2022 18:12:16 GMT            GET   \n...                             ...            ...   \n4277  Mon, 21 Nov 2022 18:39:51 GMT           POST   \n4278  Mon, 21 Nov 2022 18:39:51 GMT            GET   \n4279  Mon, 21 Nov 2022 18:39:52 GMT           POST   \n4280  Mon, 21 Nov 2022 18:39:53 GMT            GET   \n4281  Mon, 21 Nov 2022 18:39:54 GMT            GET   \n\n                                            request.url request.body  \\\n0     http://127.0.0.1:5000/static/download_txt/../....                \n1      http://127.0.0.1:5000/categories/check/name/2467                \n2                     http://127.0.0.1:5000/cookielogin                \n3          http://127.0.0.1:5000/states/get/region/6117                \n4      http://127.0.0.1:5000/categories/check/name/2508                \n...                                                 ...          ...   \n4277                  http://127.0.0.1:5000/cookielogin                \n4278           http://127.0.0.1:5000/orders/get/id/7668                \n4279                  http://127.0.0.1:5000/cookielogin                \n4280   http://127.0.0.1:5000/categories/check/name/8449                \n4281  http://127.0.0.1:5000/categories/check/name/10348                \n\n     response.status response.headers.Content-Type  \\\n0             200 OK              application/json   \n1      404 NOT FOUND              application/json   \n2             200 OK      text/html; charset=utf-8   \n3      404 NOT FOUND              application/json   \n4      404 NOT FOUND              application/json   \n...              ...                           ...   \n4277       302 FOUND      text/html; charset=utf-8   \n4278   404 NOT FOUND              application/json   \n4279       302 FOUND      text/html; charset=utf-8   \n4280   404 NOT FOUND              application/json   \n4281   404 NOT FOUND              application/json   \n\n     response.headers.Content-Length  response.status_code  \\\n0                                 72                   200   \n1                                 41                   404   \n2                                105                   200   \n3                                 30                   404   \n4                                 41                   404   \n...                              ...                   ...   \n4277                             211                   302   \n4278                              36                   404   \n4279                             211                   302   \n4280                              41                   404   \n4281                              41                   404   \n\n                                          response.body  \\\n0     {\"error\": \"File ../../../../../../../../window...   \n1                  {\"error\": \"Category name not found\"}   \n2     <h1>Logged in as Cedric</h1><form method='POST...   \n3                             {\"error\": \"Not a region\"}   \n4                  {\"error\": \"Category name not found\"}   \n...                                                 ...   \n4277  <!doctype html>\\n<html lang=en>\\n<title>Redire...   \n4278                    {\"error\": \"Order ID not found\"}   \n4279  <!doctype html>\\n<html lang=en>\\n<title>Redire...   \n4280               {\"error\": \"Category name not found\"}   \n4281               {\"error\": \"Category name not found\"}   \n\n                                 request.headers.Cookie  \\\n0                                                   NaN   \n1                                                   NaN   \n2     username=gASVyQAAAAAAAACMCGJ1aWx0aW5zlIwEZXZhb...   \n3                                                   NaN   \n4                                                   NaN   \n...                                                 ...   \n4277  username=gASVyQAAAAAAAACMCGJ1aWx0aW5zlIwEZXZhb...   \n4278                                                NaN   \n4279  username=gASVyAAAAAAAAACMCGJ1aWx0aW5zlIwEZXZhb...   \n4280                                                NaN   \n4281                                                NaN   \n\n     response.headers.Location request.headers.Content-Length  \\\n0                          NaN                            NaN   \n1                          NaN                            NaN   \n2                          NaN                            NaN   \n3                          NaN                            NaN   \n4                          NaN                            NaN   \n...                        ...                            ...   \n4277              /cookielogin                              0   \n4278                       NaN                            NaN   \n4279              /cookielogin                              0   \n4280                       NaN                            NaN   \n4281                       NaN                            NaN   \n\n                            response.headers.Set-Cookie          attack_type  \\\n0                                                   NaN  Directory Traversal   \n1                                                   NaN               Benign   \n2                                                   NaN     Cookie Injection   \n3                                                   NaN               Benign   \n4                                                   NaN                LOG4J   \n...                                                 ...                  ...   \n4277  username=gASVKgAAAAAAAACMCF9fbWFpbl9flIwGUGVyc...     Cookie Injection   \n4278                                                NaN               Benign   \n4279  username=gASVKgAAAAAAAACMCF9fbWFpbl9flIwGUGVyc...     Cookie Injection   \n4280                                                NaN               Benign   \n4281                                                NaN                LOG4J   \n\n        label  \n0     Malware  \n1      Benign  \n2     Malware  \n3      Benign  \n4     Malware  \n...       ...  \n4277  Malware  \n4278   Benign  \n4279  Malware  \n4280   Benign  \n4281  Malware  \n\n[4282 rows x 26 columns]",
      "text/html": "<div>\n<style scoped>\n    .dataframe tbody tr th:only-of-type {\n        vertical-align: middle;\n    }\n\n    .dataframe tbody tr th {\n        vertical-align: top;\n    }\n\n    .dataframe thead th {\n        text-align: right;\n    }\n</style>\n<table border=\"1\" class=\"dataframe\">\n  <thead>\n    <tr style=\"text-align: right;\">\n      <th></th>\n      <th>request.headers.Host</th>\n      <th>request.headers.User-Agent</th>\n      <th>request.headers.Accept-Encoding</th>\n      <th>request.headers.Accept</th>\n      <th>request.headers.Connection</th>\n      <th>request.headers.Accept-Language</th>\n      <th>request.headers.Sec-Fetch-Site</th>\n      <th>request.headers.Sec-Fetch-Mode</th>\n      <th>request.headers.Sec-Fetch-User</th>\n      <th>request.headers.Sec-Fetch-Dest</th>\n      <th>request.headers.Set-Cookie</th>\n      <th>request.headers.Date</th>\n      <th>request.method</th>\n      <th>request.url</th>\n      <th>request.body</th>\n      <th>response.status</th>\n      <th>response.headers.Content-Type</th>\n      <th>response.headers.Content-Length</th>\n      <th>response.status_code</th>\n      <th>response.body</th>\n      <th>request.headers.Cookie</th>\n      <th>response.headers.Location</th>\n      <th>request.headers.Content-Length</th>\n      <th>response.headers.Set-Cookie</th>\n      <th>attack_type</th>\n      <th>label</th>\n    </tr>\n  </thead>\n  <tbody>\n    <tr>\n      <th>0</th>\n      <td>127.0.0.1:5000</td>\n      <td>Mozilla/5.0 (X11; Linux i586; rv:31.0) Gecko/2...</td>\n      <td>gzip, deflate, br</td>\n      <td>*/*</td>\n      <td>keep-alive</td>\n      <td>de-CH</td>\n      <td>none</td>\n      <td>same-origin</td>\n      <td>?1</td>\n      <td>document</td>\n      <td>['ck=o_GpTr9HHJJuQyahzYzRI32s-1_JPvkhLtweRRmjP...</td>\n      <td>Mon, 21 Nov 2022 18:12:16 GMT</td>\n      <td>GET</td>\n      <td>http://127.0.0.1:5000/static/download_txt/../....</td>\n      <td></td>\n      <td>200 OK</td>\n      <td>application/json</td>\n      <td>72</td>\n      <td>200</td>\n      <td>{\"error\": \"File ../../../../../../../../window...</td>\n      <td>NaN</td>\n      <td>NaN</td>\n      <td>NaN</td>\n      <td>NaN</td>\n      <td>Directory Traversal</td>\n      <td>Malware</td>\n    </tr>\n    <tr>\n      <th>1</th>\n      <td>127.0.0.1:5000</td>\n      <td>Mozilla/5.0 (X11; OpenBSD amd64; rv:28.0) Geck...</td>\n      <td>gzip, deflate, br</td>\n      <td>*/*</td>\n      <td>keep-alive</td>\n      <td>de</td>\n      <td>none</td>\n      <td>same-origin</td>\n      <td>?1</td>\n      <td>document</td>\n      <td>['ck=UYrrg74Ph7dWrlCA9rgXy6qtYSwxuCZK_nBsCp-j5...</td>\n      <td>Mon, 21 Nov 2022 18:12:16 GMT</td>\n      <td>GET</td>\n      <td>http://127.0.0.1:5000/categories/check/name/2467</td>\n      <td></td>\n      <td>404 NOT FOUND</td>\n      <td>application/json</td>\n      <td>41</td>\n      <td>404</td>\n      <td>{\"error\": \"Category name not found\"}</td>\n      <td>NaN</td>\n      <td>NaN</td>\n      <td>NaN</td>\n      <td>NaN</td>\n      <td>Benign</td>\n      <td>Benign</td>\n    </tr>\n    <tr>\n      <th>2</th>\n      <td>127.0.0.1:5000</td>\n      <td>Mozilla/5.0 (X11; Ubuntu; Linux x86_64; rv:24....</td>\n      <td>gzip, deflate, br</td>\n      <td>*/*</td>\n      <td>keep-alive</td>\n      <td>de</td>\n      <td>none</td>\n      <td>same-origin</td>\n      <td>?1</td>\n      <td>document</td>\n      <td>['ck=wiMIulyT7VOEQKT-4D5ChZAjxiTdRXAYUaz_OQ3Rc...</td>\n      <td>Mon, 21 Nov 2022 18:12:16 GMT</td>\n      <td>GET</td>\n      <td>http://127.0.0.1:5000/cookielogin</td>\n      <td></td>\n      <td>200 OK</td>\n      <td>text/html; charset=utf-8</td>\n      <td>105</td>\n      <td>200</td>\n      <td>&lt;h1&gt;Logged in as Cedric&lt;/h1&gt;&lt;form method='POST...</td>\n      <td>username=gASVyQAAAAAAAACMCGJ1aWx0aW5zlIwEZXZhb...</td>\n      <td>NaN</td>\n      <td>NaN</td>\n      <td>NaN</td>\n      <td>Cookie Injection</td>\n      <td>Malware</td>\n    </tr>\n    <tr>\n      <th>3</th>\n      <td>127.0.0.1:5000</td>\n      <td>Mozilla/5.0 (Windows NT 6.1; rv:27.3) Gecko/20...</td>\n      <td>gzip, deflate, br</td>\n      <td>*/*</td>\n      <td>keep-alive</td>\n      <td>de-CH</td>\n      <td>none</td>\n      <td>same-origin</td>\n      <td>?1</td>\n      <td>document</td>\n      <td>['ck=pQiHhJSsvZ9vw-yR8NmaTGKzqUBsn583t3Q6zWEoz...</td>\n      <td>Mon, 21 Nov 2022 18:12:16 GMT</td>\n      <td>GET</td>\n      <td>http://127.0.0.1:5000/states/get/region/6117</td>\n      <td></td>\n      <td>404 NOT FOUND</td>\n      <td>application/json</td>\n      <td>30</td>\n      <td>404</td>\n      <td>{\"error\": \"Not a region\"}</td>\n      <td>NaN</td>\n      <td>NaN</td>\n      <td>NaN</td>\n      <td>NaN</td>\n      <td>Benign</td>\n      <td>Benign</td>\n    </tr>\n    <tr>\n      <th>4</th>\n      <td>127.0.0.1:5000</td>\n      <td>Mozilla/5.0 (Windows NT 6.1; Win64; x64; rv:25...</td>\n      <td>gzip, deflate, br</td>\n      <td>*/*</td>\n      <td>keep-alive</td>\n      <td>de</td>\n      <td>none</td>\n      <td>same-origin</td>\n      <td>?1</td>\n      <td>document${jndi:ldaphttps://mitsui-jyuku.mixh.j...</td>\n      <td>['ck=vGDsymCRgtDms448zxnOurIjvy46d_4aAGJRG6gmh...</td>\n      <td>Mon, 21 Nov 2022 18:12:16 GMT</td>\n      <td>GET</td>\n      <td>http://127.0.0.1:5000/categories/check/name/2508</td>\n      <td></td>\n      <td>404 NOT FOUND</td>\n      <td>application/json</td>\n      <td>41</td>\n      <td>404</td>\n      <td>{\"error\": \"Category name not found\"}</td>\n      <td>NaN</td>\n      <td>NaN</td>\n      <td>NaN</td>\n      <td>NaN</td>\n      <td>LOG4J</td>\n      <td>Malware</td>\n    </tr>\n    <tr>\n      <th>...</th>\n      <td>...</td>\n      <td>...</td>\n      <td>...</td>\n      <td>...</td>\n      <td>...</td>\n      <td>...</td>\n      <td>...</td>\n      <td>...</td>\n      <td>...</td>\n      <td>...</td>\n      <td>...</td>\n      <td>...</td>\n      <td>...</td>\n      <td>...</td>\n      <td>...</td>\n      <td>...</td>\n      <td>...</td>\n      <td>...</td>\n      <td>...</td>\n      <td>...</td>\n      <td>...</td>\n      <td>...</td>\n      <td>...</td>\n      <td>...</td>\n      <td>...</td>\n      <td>...</td>\n    </tr>\n    <tr>\n      <th>4277</th>\n      <td>127.0.0.1:5000</td>\n      <td>Mozilla/5.0 (Windows NT 10.0) AppleWebKit/537....</td>\n      <td>gzip, deflate, br</td>\n      <td>*/*</td>\n      <td>keep-alive</td>\n      <td>en-US,en;q=0.5</td>\n      <td>none</td>\n      <td>websocket</td>\n      <td>?1</td>\n      <td>document</td>\n      <td>['ck=wKm-iDQeCXGjwXGrGJvfzWzs5VYbnWSP75B6BjFz1...</td>\n      <td>Mon, 21 Nov 2022 18:39:51 GMT</td>\n      <td>POST</td>\n      <td>http://127.0.0.1:5000/cookielogin</td>\n      <td></td>\n      <td>302 FOUND</td>\n      <td>text/html; charset=utf-8</td>\n      <td>211</td>\n      <td>302</td>\n      <td>&lt;!doctype html&gt;\\n&lt;html lang=en&gt;\\n&lt;title&gt;Redire...</td>\n      <td>username=gASVyQAAAAAAAACMCGJ1aWx0aW5zlIwEZXZhb...</td>\n      <td>/cookielogin</td>\n      <td>0</td>\n      <td>username=gASVKgAAAAAAAACMCF9fbWFpbl9flIwGUGVyc...</td>\n      <td>Cookie Injection</td>\n      <td>Malware</td>\n    </tr>\n    <tr>\n      <th>4278</th>\n      <td>127.0.0.1:5000</td>\n      <td>Mozilla/5.0 (Windows NT 5.1; rv:31.0) Gecko/20...</td>\n      <td>gzip, deflate, br</td>\n      <td>*/*</td>\n      <td>keep-alive</td>\n      <td>de</td>\n      <td>none</td>\n      <td>same-origin</td>\n      <td>?1</td>\n      <td>document</td>\n      <td>['ck=oyXTP1KfNdMwWb_jIYEQYKzE9RZALsuCGCtJtUlju...</td>\n      <td>Mon, 21 Nov 2022 18:39:51 GMT</td>\n      <td>GET</td>\n      <td>http://127.0.0.1:5000/orders/get/id/7668</td>\n      <td></td>\n      <td>404 NOT FOUND</td>\n      <td>application/json</td>\n      <td>36</td>\n      <td>404</td>\n      <td>{\"error\": \"Order ID not found\"}</td>\n      <td>NaN</td>\n      <td>NaN</td>\n      <td>NaN</td>\n      <td>NaN</td>\n      <td>Benign</td>\n      <td>Benign</td>\n    </tr>\n    <tr>\n      <th>4279</th>\n      <td>127.0.0.1:5000</td>\n      <td>Mozilla/5.0 (Windows NT 5.1) AppleWebKit/537.3...</td>\n      <td>gzip, deflate, br</td>\n      <td>*/*</td>\n      <td>keep-alive</td>\n      <td>de-CH</td>\n      <td>none</td>\n      <td>same-origin</td>\n      <td>?1</td>\n      <td>document</td>\n      <td>['ck=bfYOeMnpxlFA9F7ObPemhCXYmeYNbBteewfAWbnfy...</td>\n      <td>Mon, 21 Nov 2022 18:39:52 GMT</td>\n      <td>POST</td>\n      <td>http://127.0.0.1:5000/cookielogin</td>\n      <td></td>\n      <td>302 FOUND</td>\n      <td>text/html; charset=utf-8</td>\n      <td>211</td>\n      <td>302</td>\n      <td>&lt;!doctype html&gt;\\n&lt;html lang=en&gt;\\n&lt;title&gt;Redire...</td>\n      <td>username=gASVyAAAAAAAAACMCGJ1aWx0aW5zlIwEZXZhb...</td>\n      <td>/cookielogin</td>\n      <td>0</td>\n      <td>username=gASVKgAAAAAAAACMCF9fbWFpbl9flIwGUGVyc...</td>\n      <td>Cookie Injection</td>\n      <td>Malware</td>\n    </tr>\n    <tr>\n      <th>4280</th>\n      <td>127.0.0.1:5000</td>\n      <td>Mozilla/5.0 (Windows NT 5.1; rv:31.0) Gecko/20...</td>\n      <td>gzip, deflate, br</td>\n      <td>*/*</td>\n      <td>keep-alive</td>\n      <td>de-CH</td>\n      <td>none</td>\n      <td>same-origin</td>\n      <td>?1</td>\n      <td>document</td>\n      <td>['ck=kTL1HiXNUcc1ZoDLBVDOczEbmMAFehlQ-razZ-gjx...</td>\n      <td>Mon, 21 Nov 2022 18:39:53 GMT</td>\n      <td>GET</td>\n      <td>http://127.0.0.1:5000/categories/check/name/8449</td>\n      <td></td>\n      <td>404 NOT FOUND</td>\n      <td>application/json</td>\n      <td>41</td>\n      <td>404</td>\n      <td>{\"error\": \"Category name not found\"}</td>\n      <td>NaN</td>\n      <td>NaN</td>\n      <td>NaN</td>\n      <td>NaN</td>\n      <td>Benign</td>\n      <td>Benign</td>\n    </tr>\n    <tr>\n      <th>4281</th>\n      <td>127.0.0.1:5000</td>\n      <td>Mozilla/5.0 (Windows NT 6.3; WOW64) AppleWebKi...</td>\n      <td>gzip, deflate, br</td>\n      <td>*/*</td>\n      <td>keep-alive</td>\n      <td>de-CH</td>\n      <td>none</td>\n      <td>websocket</td>\n      <td>?1</td>\n      <td>document</td>\n      <td>['ck=IG3IRaClzR5z1Ytwj0SZfrp9v3TC0dsIvcoFd4YMQ...</td>\n      <td>Mon, 21 Nov 2022 18:39:54 GMT</td>\n      <td>GET</td>\n      <td>http://127.0.0.1:5000/categories/check/name/10348</td>\n      <td></td>\n      <td>404 NOT FOUND</td>\n      <td>application/json</td>\n      <td>41</td>\n      <td>404</td>\n      <td>{\"error\": \"Category name not found\"}</td>\n      <td>NaN</td>\n      <td>NaN</td>\n      <td>NaN</td>\n      <td>NaN</td>\n      <td>LOG4J</td>\n      <td>Malware</td>\n    </tr>\n  </tbody>\n</table>\n<p>4282 rows × 26 columns</p>\n</div>"
     },
     "execution_count": 438,
     "metadata": {},
     "output_type": "execute_result"
    }
   ],
   "source": [
    "# Fill the black attack tag lines with \"Benign\" string\n",
    "df['request.Attack_Tag'] = df['request.Attack_Tag'].fillna('Benign')\n",
    "df['attack_type'] = df['request.Attack_Tag']\n",
    "\n",
    "# This function will be used in the lambda below to iterate over the label columns\n",
    "# You can use this snippet to run your own lambda on any data with the apply() method\n",
    "def categorize(row):\n",
    "    if row['request.Attack_Tag'] == 'Benign':\n",
    "        return 'Benign'\n",
    "    return 'Malware'\n",
    "\n",
    "\n",
    "df['label'] = df.apply(lambda row: categorize(row), axis=1)\n",
    "\n",
    "# After finishing the arrangements we delete the irrelevant column\n",
    "df.drop('request.Attack_Tag', axis=1, inplace=True)\n",
    "df"
   ]
  },
  {
   "cell_type": "code",
   "execution_count": 439,
   "metadata": {
    "id": "5-McMOIitQX_"
   },
   "outputs": [
    {
     "name": "stdout",
     "output_type": "stream",
     "text": [
      "<class 'pandas.core.frame.DataFrame'>\n",
      "RangeIndex: 4282 entries, 0 to 4281\n",
      "Data columns (total 26 columns):\n",
      " #   Column                           Non-Null Count  Dtype \n",
      "---  ------                           --------------  ----- \n",
      " 0   request.headers.Host             4282 non-null   object\n",
      " 1   request.headers.User-Agent       4282 non-null   object\n",
      " 2   request.headers.Accept-Encoding  4282 non-null   object\n",
      " 3   request.headers.Accept           4282 non-null   object\n",
      " 4   request.headers.Connection       4282 non-null   object\n",
      " 5   request.headers.Accept-Language  4282 non-null   object\n",
      " 6   request.headers.Sec-Fetch-Site   4282 non-null   object\n",
      " 7   request.headers.Sec-Fetch-Mode   4282 non-null   object\n",
      " 8   request.headers.Sec-Fetch-User   4282 non-null   object\n",
      " 9   request.headers.Sec-Fetch-Dest   4282 non-null   object\n",
      " 10  request.headers.Set-Cookie       4282 non-null   object\n",
      " 11  request.headers.Date             4282 non-null   object\n",
      " 12  request.method                   4282 non-null   object\n",
      " 13  request.url                      4282 non-null   object\n",
      " 14  request.body                     4282 non-null   object\n",
      " 15  response.status                  4282 non-null   object\n",
      " 16  response.headers.Content-Type    4282 non-null   object\n",
      " 17  response.headers.Content-Length  4282 non-null   object\n",
      " 18  response.status_code             4282 non-null   int64 \n",
      " 19  response.body                    4282 non-null   object\n",
      " 20  request.headers.Cookie           566 non-null    object\n",
      " 21  response.headers.Location        401 non-null    object\n",
      " 22  request.headers.Content-Length   299 non-null    object\n",
      " 23  response.headers.Set-Cookie      299 non-null    object\n",
      " 24  attack_type                      4282 non-null   object\n",
      " 25  label                            4282 non-null   object\n",
      "dtypes: int64(1), object(25)\n",
      "memory usage: 869.9+ KB\n"
     ]
    }
   ],
   "source": [
    "# Information about the dataset\n",
    "df.info()"
   ]
  },
  {
   "cell_type": "markdown",
   "source": [
    "### Preprocessing Data"
   ],
   "metadata": {
    "id": "qZcxB32Z1gv4"
   }
  },
  {
   "cell_type": "code",
   "execution_count": 440,
   "metadata": {
    "id": "WctWOumGtQX_"
   },
   "outputs": [
    {
     "name": "stdout",
     "output_type": "stream",
     "text": [
      "Column response.headers.Location has 3881 NaN values, which is 90.64%, and has 2 unique values\n",
      "Column request.headers.Content-Length has 3983 NaN values, which is 93.02%, and has 1 unique values\n",
      "Column response.headers.Set-Cookie has 3983 NaN values, which is 93.02%, and has 1 unique values\n"
     ]
    }
   ],
   "source": [
    "list_of_nan_for_more_than_90 = []\n",
    "\n",
    "for col in df.columns:\n",
    "    if df[col].isna().sum() / df.shape[0] * 100 > 90:\n",
    "        list_of_nan_for_more_than_90.append(col)\n",
    "        print(f\"Column {col} has {df[col].isna().sum()} NaN values, which is {round(df[col].isna().sum() / df.shape[0] * 100, 2)}%, and has {df[col].nunique()} unique values\")"
   ]
  },
  {
   "cell_type": "code",
   "execution_count": 441,
   "metadata": {
    "id": "YygL1wzatQYA"
   },
   "outputs": [
    {
     "data": {
      "text/plain": "  request.headers.Host                         request.headers.User-Agent  \\\n0       127.0.0.1:5000  Mozilla/5.0 (X11; Linux i586; rv:31.0) Gecko/2...   \n1       127.0.0.1:5000  Mozilla/5.0 (X11; OpenBSD amd64; rv:28.0) Geck...   \n2       127.0.0.1:5000  Mozilla/5.0 (X11; Ubuntu; Linux x86_64; rv:24....   \n3       127.0.0.1:5000  Mozilla/5.0 (Windows NT 6.1; rv:27.3) Gecko/20...   \n4       127.0.0.1:5000  Mozilla/5.0 (Windows NT 6.1; Win64; x64; rv:25...   \n\n  request.headers.Accept-Encoding request.headers.Accept  \\\n0               gzip, deflate, br                    */*   \n1               gzip, deflate, br                    */*   \n2               gzip, deflate, br                    */*   \n3               gzip, deflate, br                    */*   \n4               gzip, deflate, br                    */*   \n\n  request.headers.Connection request.headers.Accept-Language  \\\n0                 keep-alive                           de-CH   \n1                 keep-alive                              de   \n2                 keep-alive                              de   \n3                 keep-alive                           de-CH   \n4                 keep-alive                              de   \n\n  request.headers.Sec-Fetch-Site request.headers.Sec-Fetch-Mode  \\\n0                           none                    same-origin   \n1                           none                    same-origin   \n2                           none                    same-origin   \n3                           none                    same-origin   \n4                           none                    same-origin   \n\n  request.headers.Sec-Fetch-User  \\\n0                             ?1   \n1                             ?1   \n2                             ?1   \n3                             ?1   \n4                             ?1   \n\n                      request.headers.Sec-Fetch-Dest  \\\n0                                           document   \n1                                           document   \n2                                           document   \n3                                           document   \n4  document${jndi:ldaphttps://mitsui-jyuku.mixh.j...   \n\n                          request.headers.Set-Cookie  \\\n0  ['ck=o_GpTr9HHJJuQyahzYzRI32s-1_JPvkhLtweRRmjP...   \n1  ['ck=UYrrg74Ph7dWrlCA9rgXy6qtYSwxuCZK_nBsCp-j5...   \n2  ['ck=wiMIulyT7VOEQKT-4D5ChZAjxiTdRXAYUaz_OQ3Rc...   \n3  ['ck=pQiHhJSsvZ9vw-yR8NmaTGKzqUBsn583t3Q6zWEoz...   \n4  ['ck=vGDsymCRgtDms448zxnOurIjvy46d_4aAGJRG6gmh...   \n\n            request.headers.Date request.method  \\\n0  Mon, 21 Nov 2022 18:12:16 GMT            GET   \n1  Mon, 21 Nov 2022 18:12:16 GMT            GET   \n2  Mon, 21 Nov 2022 18:12:16 GMT            GET   \n3  Mon, 21 Nov 2022 18:12:16 GMT            GET   \n4  Mon, 21 Nov 2022 18:12:16 GMT            GET   \n\n                                         request.url request.body  \\\n0  http://127.0.0.1:5000/static/download_txt/../....                \n1   http://127.0.0.1:5000/categories/check/name/2467                \n2                  http://127.0.0.1:5000/cookielogin                \n3       http://127.0.0.1:5000/states/get/region/6117                \n4   http://127.0.0.1:5000/categories/check/name/2508                \n\n  response.status response.headers.Content-Type  \\\n0          200 OK              application/json   \n1   404 NOT FOUND              application/json   \n2          200 OK      text/html; charset=utf-8   \n3   404 NOT FOUND              application/json   \n4   404 NOT FOUND              application/json   \n\n  response.headers.Content-Length  response.status_code  \\\n0                              72                   200   \n1                              41                   404   \n2                             105                   200   \n3                              30                   404   \n4                              41                   404   \n\n                                       response.body  \\\n0  {\"error\": \"File ../../../../../../../../window...   \n1               {\"error\": \"Category name not found\"}   \n2  <h1>Logged in as Cedric</h1><form method='POST...   \n3                          {\"error\": \"Not a region\"}   \n4               {\"error\": \"Category name not found\"}   \n\n                              request.headers.Cookie  \\\n0                                               None   \n1                                               None   \n2  username=gASVyQAAAAAAAACMCGJ1aWx0aW5zlIwEZXZhb...   \n3                                               None   \n4                                               None   \n\n  response.headers.Location request.headers.Content-Length  \\\n0                      None                           None   \n1                      None                           None   \n2                      None                           None   \n3                      None                           None   \n4                      None                           None   \n\n  response.headers.Set-Cookie          attack_type    label  \n0                        None  Directory Traversal  Malware  \n1                        None               Benign   Benign  \n2                        None     Cookie Injection  Malware  \n3                        None               Benign   Benign  \n4                        None                LOG4J  Malware  ",
      "text/html": "<div>\n<style scoped>\n    .dataframe tbody tr th:only-of-type {\n        vertical-align: middle;\n    }\n\n    .dataframe tbody tr th {\n        vertical-align: top;\n    }\n\n    .dataframe thead th {\n        text-align: right;\n    }\n</style>\n<table border=\"1\" class=\"dataframe\">\n  <thead>\n    <tr style=\"text-align: right;\">\n      <th></th>\n      <th>request.headers.Host</th>\n      <th>request.headers.User-Agent</th>\n      <th>request.headers.Accept-Encoding</th>\n      <th>request.headers.Accept</th>\n      <th>request.headers.Connection</th>\n      <th>request.headers.Accept-Language</th>\n      <th>request.headers.Sec-Fetch-Site</th>\n      <th>request.headers.Sec-Fetch-Mode</th>\n      <th>request.headers.Sec-Fetch-User</th>\n      <th>request.headers.Sec-Fetch-Dest</th>\n      <th>request.headers.Set-Cookie</th>\n      <th>request.headers.Date</th>\n      <th>request.method</th>\n      <th>request.url</th>\n      <th>request.body</th>\n      <th>response.status</th>\n      <th>response.headers.Content-Type</th>\n      <th>response.headers.Content-Length</th>\n      <th>response.status_code</th>\n      <th>response.body</th>\n      <th>request.headers.Cookie</th>\n      <th>response.headers.Location</th>\n      <th>request.headers.Content-Length</th>\n      <th>response.headers.Set-Cookie</th>\n      <th>attack_type</th>\n      <th>label</th>\n    </tr>\n  </thead>\n  <tbody>\n    <tr>\n      <th>0</th>\n      <td>127.0.0.1:5000</td>\n      <td>Mozilla/5.0 (X11; Linux i586; rv:31.0) Gecko/2...</td>\n      <td>gzip, deflate, br</td>\n      <td>*/*</td>\n      <td>keep-alive</td>\n      <td>de-CH</td>\n      <td>none</td>\n      <td>same-origin</td>\n      <td>?1</td>\n      <td>document</td>\n      <td>['ck=o_GpTr9HHJJuQyahzYzRI32s-1_JPvkhLtweRRmjP...</td>\n      <td>Mon, 21 Nov 2022 18:12:16 GMT</td>\n      <td>GET</td>\n      <td>http://127.0.0.1:5000/static/download_txt/../....</td>\n      <td></td>\n      <td>200 OK</td>\n      <td>application/json</td>\n      <td>72</td>\n      <td>200</td>\n      <td>{\"error\": \"File ../../../../../../../../window...</td>\n      <td>None</td>\n      <td>None</td>\n      <td>None</td>\n      <td>None</td>\n      <td>Directory Traversal</td>\n      <td>Malware</td>\n    </tr>\n    <tr>\n      <th>1</th>\n      <td>127.0.0.1:5000</td>\n      <td>Mozilla/5.0 (X11; OpenBSD amd64; rv:28.0) Geck...</td>\n      <td>gzip, deflate, br</td>\n      <td>*/*</td>\n      <td>keep-alive</td>\n      <td>de</td>\n      <td>none</td>\n      <td>same-origin</td>\n      <td>?1</td>\n      <td>document</td>\n      <td>['ck=UYrrg74Ph7dWrlCA9rgXy6qtYSwxuCZK_nBsCp-j5...</td>\n      <td>Mon, 21 Nov 2022 18:12:16 GMT</td>\n      <td>GET</td>\n      <td>http://127.0.0.1:5000/categories/check/name/2467</td>\n      <td></td>\n      <td>404 NOT FOUND</td>\n      <td>application/json</td>\n      <td>41</td>\n      <td>404</td>\n      <td>{\"error\": \"Category name not found\"}</td>\n      <td>None</td>\n      <td>None</td>\n      <td>None</td>\n      <td>None</td>\n      <td>Benign</td>\n      <td>Benign</td>\n    </tr>\n    <tr>\n      <th>2</th>\n      <td>127.0.0.1:5000</td>\n      <td>Mozilla/5.0 (X11; Ubuntu; Linux x86_64; rv:24....</td>\n      <td>gzip, deflate, br</td>\n      <td>*/*</td>\n      <td>keep-alive</td>\n      <td>de</td>\n      <td>none</td>\n      <td>same-origin</td>\n      <td>?1</td>\n      <td>document</td>\n      <td>['ck=wiMIulyT7VOEQKT-4D5ChZAjxiTdRXAYUaz_OQ3Rc...</td>\n      <td>Mon, 21 Nov 2022 18:12:16 GMT</td>\n      <td>GET</td>\n      <td>http://127.0.0.1:5000/cookielogin</td>\n      <td></td>\n      <td>200 OK</td>\n      <td>text/html; charset=utf-8</td>\n      <td>105</td>\n      <td>200</td>\n      <td>&lt;h1&gt;Logged in as Cedric&lt;/h1&gt;&lt;form method='POST...</td>\n      <td>username=gASVyQAAAAAAAACMCGJ1aWx0aW5zlIwEZXZhb...</td>\n      <td>None</td>\n      <td>None</td>\n      <td>None</td>\n      <td>Cookie Injection</td>\n      <td>Malware</td>\n    </tr>\n    <tr>\n      <th>3</th>\n      <td>127.0.0.1:5000</td>\n      <td>Mozilla/5.0 (Windows NT 6.1; rv:27.3) Gecko/20...</td>\n      <td>gzip, deflate, br</td>\n      <td>*/*</td>\n      <td>keep-alive</td>\n      <td>de-CH</td>\n      <td>none</td>\n      <td>same-origin</td>\n      <td>?1</td>\n      <td>document</td>\n      <td>['ck=pQiHhJSsvZ9vw-yR8NmaTGKzqUBsn583t3Q6zWEoz...</td>\n      <td>Mon, 21 Nov 2022 18:12:16 GMT</td>\n      <td>GET</td>\n      <td>http://127.0.0.1:5000/states/get/region/6117</td>\n      <td></td>\n      <td>404 NOT FOUND</td>\n      <td>application/json</td>\n      <td>30</td>\n      <td>404</td>\n      <td>{\"error\": \"Not a region\"}</td>\n      <td>None</td>\n      <td>None</td>\n      <td>None</td>\n      <td>None</td>\n      <td>Benign</td>\n      <td>Benign</td>\n    </tr>\n    <tr>\n      <th>4</th>\n      <td>127.0.0.1:5000</td>\n      <td>Mozilla/5.0 (Windows NT 6.1; Win64; x64; rv:25...</td>\n      <td>gzip, deflate, br</td>\n      <td>*/*</td>\n      <td>keep-alive</td>\n      <td>de</td>\n      <td>none</td>\n      <td>same-origin</td>\n      <td>?1</td>\n      <td>document${jndi:ldaphttps://mitsui-jyuku.mixh.j...</td>\n      <td>['ck=vGDsymCRgtDms448zxnOurIjvy46d_4aAGJRG6gmh...</td>\n      <td>Mon, 21 Nov 2022 18:12:16 GMT</td>\n      <td>GET</td>\n      <td>http://127.0.0.1:5000/categories/check/name/2508</td>\n      <td></td>\n      <td>404 NOT FOUND</td>\n      <td>application/json</td>\n      <td>41</td>\n      <td>404</td>\n      <td>{\"error\": \"Category name not found\"}</td>\n      <td>None</td>\n      <td>None</td>\n      <td>None</td>\n      <td>None</td>\n      <td>LOG4J</td>\n      <td>Malware</td>\n    </tr>\n  </tbody>\n</table>\n</div>"
     },
     "execution_count": 441,
     "metadata": {},
     "output_type": "execute_result"
    }
   ],
   "source": [
    "# Remove all NAN columns or replace with desired string\n",
    "# This loop iterates over all of the column names which are all NaN\n",
    "\n",
    "for column in df.columns[df.isna().any()].tolist():\n",
    "    df[column] = df[column].fillna('None')\n",
    "\n",
    "df.head()"
   ]
  },
  {
   "cell_type": "code",
   "execution_count": 442,
   "metadata": {
    "id": "aupIL7CVtQYA"
   },
   "outputs": [
    {
     "name": "stdout",
     "output_type": "stream",
     "text": [
      "request.headers.Host\n",
      "request.headers.Accept\n",
      "request.headers.Connection\n",
      "request.headers.Sec-Fetch-User\n",
      "request.body\n"
     ]
    }
   ],
   "source": [
    "from collections import Counter\n",
    "\n",
    "# Detect columns that have the \n",
    "# same value for all rows and print them\n",
    "for column in df.columns:\n",
    "    if len(Counter(df[column])) == 1:\n",
    "        print(column)"
   ]
  },
  {
   "cell_type": "code",
   "execution_count": 443,
   "metadata": {
    "id": "p35ZEGbEtQYA"
   },
   "outputs": [],
   "source": [
    "# Setting features for further feature extraction by choosing columns\n",
    "# Some will be \"simply\" encoded via \n",
    "# label encoding and others with HashingVectorizer\n",
    "\n",
    "# On these headers we will run a \"simple\" BOW\n",
    "SIMPLE_HEADERS = ['request.headers.Accept-Encoding',\n",
    "                  'request.headers.Host',\n",
    "                  'request.method',\n",
    "                  'request.headers.Accept-Language',\n",
    "                  'request.headers.Sec-Fetch-Site',\n",
    "                  'request.headers.Sec-Fetch-Mode',\n",
    "                  'request.headers.Sec-Fetch-Dest',\n",
    "                  'response.status',\n",
    "                  ]\n",
    "\n",
    "# On these headers we will run HashingVectorizer\n",
    "COMPLEX_HEADERS = ['request.headers.User-Agent',\n",
    "                   'request.headers.Set-Cookie',\n",
    "                   'request.headers.Date',\n",
    "                   'request.url',\n",
    "                   'response.headers.Content-Type',\n",
    "                   'response.body',\n",
    "                   'response.headers.Location',\n",
    "                   'request.headers.Content-Length',\n",
    "                   'request.headers.Cookie',\n",
    "                   'response.headers.Set-Cookie'\n",
    "                   ]\n",
    "\n",
    "COLUMNS_TO_REMOVE = ['request.body',\n",
    "                     'response.headers.Content-Length',\n",
    "                     'request.headers.Date',\n",
    "                     'request.headers.Accept',\n",
    "                     'request.headers.Connection',\n",
    "                     'request.headers.Sec-Fetch-User',\n",
    "                     ]"
   ]
  },
  {
   "cell_type": "code",
   "source": [
    "# Main preprocessing function -\n",
    "# iterate over all of the chosen columns\n",
    "# and run some feature extraction models\n",
    "\n",
    "def vectorize_df(df):\n",
    "    le = LabelEncoder()\n",
    "    h_vec = HashingVectorizer(n_features=4)\n",
    "\n",
    "    # Run LabelEncoder on the chosen features\n",
    "    for j in SIMPLE_HEADERS:\n",
    "        df[j] = le.fit_transform(df[j])\n",
    "\n",
    "    # Run HashingVectorized on the chosen features\n",
    "    for j in COMPLEX_HEADERS:\n",
    "        newHVec = h_vec.fit_transform(df[j])\n",
    "        df[j] = newHVec.todense()\n",
    "\n",
    "    # Remove some columns that may be needed.. (Or not, you decide)\n",
    "    for j in COLUMNS_TO_REMOVE:\n",
    "        df.drop(j, axis=1, inplace=True)\n",
    "    return df\n",
    "\n",
    "df = vectorize_df(df)\n",
    "df.head()"
   ],
   "metadata": {
    "id": "l7YjI-Ksu-22"
   },
   "execution_count": 444,
   "outputs": [
    {
     "data": {
      "text/plain": "   request.headers.Host  request.headers.User-Agent  \\\n0                     0                   -0.632456   \n1                     0                   -0.632456   \n2                     0                   -0.800000   \n3                     0                   -0.516398   \n4                     0                    0.377964   \n\n   request.headers.Accept-Encoding  request.headers.Accept-Language  \\\n0                                0                                1   \n1                                0                                0   \n2                                0                                0   \n3                                0                                1   \n4                                0                                0   \n\n   request.headers.Sec-Fetch-Site  request.headers.Sec-Fetch-Mode  \\\n0                               0                               0   \n1                               0                               0   \n2                               0                               0   \n3                               0                               0   \n4                               0                               0   \n\n   request.headers.Sec-Fetch-Dest  request.headers.Set-Cookie  request.method  \\\n0                               0                   -0.786334               0   \n1                               0                   -0.786146               0   \n2                               0                   -0.751646               0   \n3                               0                   -0.716002               0   \n4                              29                   -0.691095               0   \n\n   request.url  response.status  response.headers.Content-Type  \\\n0     0.000000                0                           -1.0   \n1     0.000000                4                           -1.0   \n2     1.000000                0                           -1.0   \n3     0.894427                4                           -1.0   \n4     0.000000                4                           -1.0   \n\n   response.status_code  response.body  request.headers.Cookie  \\\n0                   200       0.000000               -1.000000   \n1                   404       0.000000               -1.000000   \n2                   200       0.436436               -0.408248   \n3                   404       0.577350               -1.000000   \n4                   404       0.000000               -1.000000   \n\n   response.headers.Location  request.headers.Content-Length  \\\n0                       -1.0                            -1.0   \n1                       -1.0                            -1.0   \n2                       -1.0                            -1.0   \n3                       -1.0                            -1.0   \n4                       -1.0                            -1.0   \n\n   response.headers.Set-Cookie          attack_type    label  \n0                         -1.0  Directory Traversal  Malware  \n1                         -1.0               Benign   Benign  \n2                         -1.0     Cookie Injection  Malware  \n3                         -1.0               Benign   Benign  \n4                         -1.0                LOG4J  Malware  ",
      "text/html": "<div>\n<style scoped>\n    .dataframe tbody tr th:only-of-type {\n        vertical-align: middle;\n    }\n\n    .dataframe tbody tr th {\n        vertical-align: top;\n    }\n\n    .dataframe thead th {\n        text-align: right;\n    }\n</style>\n<table border=\"1\" class=\"dataframe\">\n  <thead>\n    <tr style=\"text-align: right;\">\n      <th></th>\n      <th>request.headers.Host</th>\n      <th>request.headers.User-Agent</th>\n      <th>request.headers.Accept-Encoding</th>\n      <th>request.headers.Accept-Language</th>\n      <th>request.headers.Sec-Fetch-Site</th>\n      <th>request.headers.Sec-Fetch-Mode</th>\n      <th>request.headers.Sec-Fetch-Dest</th>\n      <th>request.headers.Set-Cookie</th>\n      <th>request.method</th>\n      <th>request.url</th>\n      <th>response.status</th>\n      <th>response.headers.Content-Type</th>\n      <th>response.status_code</th>\n      <th>response.body</th>\n      <th>request.headers.Cookie</th>\n      <th>response.headers.Location</th>\n      <th>request.headers.Content-Length</th>\n      <th>response.headers.Set-Cookie</th>\n      <th>attack_type</th>\n      <th>label</th>\n    </tr>\n  </thead>\n  <tbody>\n    <tr>\n      <th>0</th>\n      <td>0</td>\n      <td>-0.632456</td>\n      <td>0</td>\n      <td>1</td>\n      <td>0</td>\n      <td>0</td>\n      <td>0</td>\n      <td>-0.786334</td>\n      <td>0</td>\n      <td>0.000000</td>\n      <td>0</td>\n      <td>-1.0</td>\n      <td>200</td>\n      <td>0.000000</td>\n      <td>-1.000000</td>\n      <td>-1.0</td>\n      <td>-1.0</td>\n      <td>-1.0</td>\n      <td>Directory Traversal</td>\n      <td>Malware</td>\n    </tr>\n    <tr>\n      <th>1</th>\n      <td>0</td>\n      <td>-0.632456</td>\n      <td>0</td>\n      <td>0</td>\n      <td>0</td>\n      <td>0</td>\n      <td>0</td>\n      <td>-0.786146</td>\n      <td>0</td>\n      <td>0.000000</td>\n      <td>4</td>\n      <td>-1.0</td>\n      <td>404</td>\n      <td>0.000000</td>\n      <td>-1.000000</td>\n      <td>-1.0</td>\n      <td>-1.0</td>\n      <td>-1.0</td>\n      <td>Benign</td>\n      <td>Benign</td>\n    </tr>\n    <tr>\n      <th>2</th>\n      <td>0</td>\n      <td>-0.800000</td>\n      <td>0</td>\n      <td>0</td>\n      <td>0</td>\n      <td>0</td>\n      <td>0</td>\n      <td>-0.751646</td>\n      <td>0</td>\n      <td>1.000000</td>\n      <td>0</td>\n      <td>-1.0</td>\n      <td>200</td>\n      <td>0.436436</td>\n      <td>-0.408248</td>\n      <td>-1.0</td>\n      <td>-1.0</td>\n      <td>-1.0</td>\n      <td>Cookie Injection</td>\n      <td>Malware</td>\n    </tr>\n    <tr>\n      <th>3</th>\n      <td>0</td>\n      <td>-0.516398</td>\n      <td>0</td>\n      <td>1</td>\n      <td>0</td>\n      <td>0</td>\n      <td>0</td>\n      <td>-0.716002</td>\n      <td>0</td>\n      <td>0.894427</td>\n      <td>4</td>\n      <td>-1.0</td>\n      <td>404</td>\n      <td>0.577350</td>\n      <td>-1.000000</td>\n      <td>-1.0</td>\n      <td>-1.0</td>\n      <td>-1.0</td>\n      <td>Benign</td>\n      <td>Benign</td>\n    </tr>\n    <tr>\n      <th>4</th>\n      <td>0</td>\n      <td>0.377964</td>\n      <td>0</td>\n      <td>0</td>\n      <td>0</td>\n      <td>0</td>\n      <td>29</td>\n      <td>-0.691095</td>\n      <td>0</td>\n      <td>0.000000</td>\n      <td>4</td>\n      <td>-1.0</td>\n      <td>404</td>\n      <td>0.000000</td>\n      <td>-1.000000</td>\n      <td>-1.0</td>\n      <td>-1.0</td>\n      <td>-1.0</td>\n      <td>LOG4J</td>\n      <td>Malware</td>\n    </tr>\n  </tbody>\n</table>\n</div>"
     },
     "execution_count": 444,
     "metadata": {},
     "output_type": "execute_result"
    }
   ]
  },
  {
   "cell_type": "code",
   "execution_count": 445,
   "metadata": {
    "id": "1iLcF0qJtQYB"
   },
   "outputs": [
    {
     "name": "stdout",
     "output_type": "stream",
     "text": [
      "<class 'pandas.core.frame.DataFrame'>\n",
      "RangeIndex: 4282 entries, 0 to 4281\n",
      "Data columns (total 20 columns):\n",
      " #   Column                           Non-Null Count  Dtype  \n",
      "---  ------                           --------------  -----  \n",
      " 0   request.headers.Host             4282 non-null   int32  \n",
      " 1   request.headers.User-Agent       4282 non-null   float64\n",
      " 2   request.headers.Accept-Encoding  4282 non-null   int32  \n",
      " 3   request.headers.Accept-Language  4282 non-null   int32  \n",
      " 4   request.headers.Sec-Fetch-Site   4282 non-null   int32  \n",
      " 5   request.headers.Sec-Fetch-Mode   4282 non-null   int32  \n",
      " 6   request.headers.Sec-Fetch-Dest   4282 non-null   int32  \n",
      " 7   request.headers.Set-Cookie       4282 non-null   float64\n",
      " 8   request.method                   4282 non-null   int32  \n",
      " 9   request.url                      4282 non-null   float64\n",
      " 10  response.status                  4282 non-null   int32  \n",
      " 11  response.headers.Content-Type    4282 non-null   float64\n",
      " 12  response.status_code             4282 non-null   int64  \n",
      " 13  response.body                    4282 non-null   float64\n",
      " 14  request.headers.Cookie           4282 non-null   float64\n",
      " 15  response.headers.Location        4282 non-null   float64\n",
      " 16  request.headers.Content-Length   4282 non-null   float64\n",
      " 17  response.headers.Set-Cookie      4282 non-null   float64\n",
      " 18  attack_type                      4282 non-null   object \n",
      " 19  label                            4282 non-null   object \n",
      "dtypes: float64(9), int32(8), int64(1), object(2)\n",
      "memory usage: 1010.9 KB\n"
     ]
    }
   ],
   "source": [
    "# Memory check\n",
    "df.info(memory_usage=\"deep\")"
   ]
  },
  {
   "cell_type": "code",
   "execution_count": 446,
   "metadata": {
    "id": "ReUVDl3stQYB"
   },
   "outputs": [
    {
     "name": "stdout",
     "output_type": "stream",
     "text": [
      "['request.headers.Host', 'request.headers.User-Agent', 'request.headers.Accept-Encoding', 'request.headers.Accept-Language', 'request.headers.Sec-Fetch-Site', 'request.headers.Sec-Fetch-Mode', 'request.headers.Sec-Fetch-Dest', 'request.headers.Set-Cookie', 'request.method', 'request.url', 'response.status', 'response.headers.Content-Type', 'response.status_code', 'response.body', 'request.headers.Cookie', 'response.headers.Location', 'request.headers.Content-Length', 'response.headers.Set-Cookie']\n"
     ]
    },
    {
     "data": {
      "text/plain": "request.headers.Host                 int32\nrequest.headers.User-Agent         float64\nrequest.headers.Accept-Encoding      int32\nrequest.headers.Accept-Language      int32\nrequest.headers.Sec-Fetch-Site       int32\nrequest.headers.Sec-Fetch-Mode       int32\nrequest.headers.Sec-Fetch-Dest       int32\nrequest.headers.Set-Cookie         float64\nrequest.method                       int32\nrequest.url                        float64\nresponse.status                      int32\nresponse.headers.Content-Type      float64\nresponse.status_code                 int64\nresponse.body                      float64\nrequest.headers.Cookie             float64\nresponse.headers.Location          float64\nrequest.headers.Content-Length     float64\nresponse.headers.Set-Cookie        float64\nattack_type                         object\nlabel                               object\ndtype: object"
     },
     "execution_count": 446,
     "metadata": {},
     "output_type": "execute_result"
    }
   ],
   "source": [
    "# Choose features\n",
    "features_list = df.columns.to_list()\n",
    "features_list.remove('label')\n",
    "features_list.remove('attack_type')\n",
    "\n",
    "print(features_list)\n",
    "\n",
    "# Check type\n",
    "df.dtypes"
   ]
  },
  {
   "cell_type": "code",
   "execution_count": 447,
   "metadata": {
    "id": "3Umf-GuotQYD"
   },
   "outputs": [
    {
     "data": {
      "text/plain": "<matplotlib.collections.PathCollection at 0x18ad2868f40>"
     },
     "execution_count": 447,
     "metadata": {},
     "output_type": "execute_result"
    },
    {
     "data": {
      "text/plain": "<Figure size 640x480 with 1 Axes>",
      "image/png": "[encoded data removed]"
     },
     "metadata": {},
     "output_type": "display_data"
    }
   ],
   "source": [
    "ss = StandardScaler()\n",
    "pca = PCA(n_components=2)\n",
    "x_after_pca_in_2D = pca.fit_transform(ss.fit_transform(df[features_list].to_numpy()))\n",
    "\n",
    "plt.scatter(x_after_pca_in_2D[:, 0], \n",
    "            x_after_pca_in_2D[:, 1], \n",
    "            c=df['label'].map({'Benign': 0, 'Malware': 1}))"
   ]
  },
  {
   "cell_type": "code",
   "execution_count": 448,
   "metadata": {
    "id": "fdXLzGhhtQYE"
   },
   "outputs": [
    {
     "data": {
      "application/vnd.plotly.v1+json": {
       "data": [
        {
         "fillpattern": {
          "shape": ""
         },
         "hovertemplate": "# Components=%{x}<br>Explained Variance=%{y}<extra></extra>",
         "legendgroup": "",
         "line": {
          "color": "#636efa"
         },
         "marker": {
          "symbol": "circle"
         },
         "mode": "lines",
         "name": "",
         "orientation": "v",
         "showlegend": false,
         "stackgroup": "1",
         "x": [
          1,
          2,
          3,
          4,
          5,
          6,
          7,
          8,
          9,
          10,
          11,
          12,
          13,
          14,
          15,
          16,
          17,
          18
         ],
         "xaxis": "x",
         "y": [
          0.294703646168834,
          0.4255131633334587,
          0.4937331401906773,
          0.5598608359753491,
          0.6245283530327637,
          0.6877300280091271,
          0.7501458672977701,
          0.8108409755390263,
          0.870545583860903,
          0.9290058070051854,
          0.9684899929650266,
          0.9953727603427949,
          0.99921745297995,
          1.0000000000000002,
          1.0000000000000002,
          1.0000000000000002,
          1.0000000000000002,
          1.0000000000000002
         ],
         "yaxis": "y",
         "type": "scatter"
        }
       ],
       "layout": {
        "template": {
         "data": {
          "histogram2dcontour": [
           {
            "type": "histogram2dcontour",
            "colorbar": {
             "outlinewidth": 0,
             "ticks": ""
            },
            "colorscale": [
             [
              0.0,
              "#0d0887"
             ],
             [
              0.1111111111111111,
              "#46039f"
             ],
             [
              0.2222222222222222,
              "#7201a8"
             ],
             [
              0.3333333333333333,
              "#9c179e"
             ],
             [
              0.4444444444444444,
              "#bd3786"
             ],
             [
              0.5555555555555556,
              "#d8576b"
             ],
             [
              0.6666666666666666,
              "#ed7953"
             ],
             [
              0.7777777777777778,
              "#fb9f3a"
             ],
             [
              0.8888888888888888,
              "#fdca26"
             ],
             [
              1.0,
              "#f0f921"
             ]
            ]
           }
          ],
          "choropleth": [
           {
            "type": "choropleth",
            "colorbar": {
             "outlinewidth": 0,
             "ticks": ""
            }
           }
          ],
          "histogram2d": [
           {
            "type": "histogram2d",
            "colorbar": {
             "outlinewidth": 0,
             "ticks": ""
            },
            "colorscale": [
             [
              0.0,
              "#0d0887"
             ],
             [
              0.1111111111111111,
              "#46039f"
             ],
             [
              0.2222222222222222,
              "#7201a8"
             ],
             [
              0.3333333333333333,
              "#9c179e"
             ],
             [
              0.4444444444444444,
              "#bd3786"
             ],
             [
              0.5555555555555556,
              "#d8576b"
             ],
             [
              0.6666666666666666,
              "#ed7953"
             ],
             [
              0.7777777777777778,
              "#fb9f3a"
             ],
             [
              0.8888888888888888,
              "#fdca26"
             ],
             [
              1.0,
              "#f0f921"
             ]
            ]
           }
          ],
          "heatmap": [
           {
            "type": "heatmap",
            "colorbar": {
             "outlinewidth": 0,
             "ticks": ""
            },
            "colorscale": [
             [
              0.0,
              "#0d0887"
             ],
             [
              0.1111111111111111,
              "#46039f"
             ],
             [
              0.2222222222222222,
              "#7201a8"
             ],
             [
              0.3333333333333333,
              "#9c179e"
             ],
             [
              0.4444444444444444,
              "#bd3786"
             ],
             [
              0.5555555555555556,
              "#d8576b"
             ],
             [
              0.6666666666666666,
              "#ed7953"
             ],
             [
              0.7777777777777778,
              "#fb9f3a"
             ],
             [
              0.8888888888888888,
              "#fdca26"
             ],
             [
              1.0,
              "#f0f921"
             ]
            ]
           }
          ],
          "heatmapgl": [
           {
            "type": "heatmapgl",
            "colorbar": {
             "outlinewidth": 0,
             "ticks": ""
            },
            "colorscale": [
             [
              0.0,
              "#0d0887"
             ],
             [
              0.1111111111111111,
              "#46039f"
             ],
             [
              0.2222222222222222,
              "#7201a8"
             ],
             [
              0.3333333333333333,
              "#9c179e"
             ],
             [
              0.4444444444444444,
              "#bd3786"
             ],
             [
              0.5555555555555556,
              "#d8576b"
             ],
             [
              0.6666666666666666,
              "#ed7953"
             ],
             [
              0.7777777777777778,
              "#fb9f3a"
             ],
             [
              0.8888888888888888,
              "#fdca26"
             ],
             [
              1.0,
              "#f0f921"
             ]
            ]
           }
          ],
          "contourcarpet": [
           {
            "type": "contourcarpet",
            "colorbar": {
             "outlinewidth": 0,
             "ticks": ""
            }
           }
          ],
          "contour": [
           {
            "type": "contour",
            "colorbar": {
             "outlinewidth": 0,
             "ticks": ""
            },
            "colorscale": [
             [
              0.0,
              "#0d0887"
             ],
             [
              0.1111111111111111,
              "#46039f"
             ],
             [
              0.2222222222222222,
              "#7201a8"
             ],
             [
              0.3333333333333333,
              "#9c179e"
             ],
             [
              0.4444444444444444,
              "#bd3786"
             ],
             [
              0.5555555555555556,
              "#d8576b"
             ],
             [
              0.6666666666666666,
              "#ed7953"
             ],
             [
              0.7777777777777778,
              "#fb9f3a"
             ],
             [
              0.8888888888888888,
              "#fdca26"
             ],
             [
              1.0,
              "#f0f921"
             ]
            ]
           }
          ],
          "surface": [
           {
            "type": "surface",
            "colorbar": {
             "outlinewidth": 0,
             "ticks": ""
            },
            "colorscale": [
             [
              0.0,
              "#0d0887"
             ],
             [
              0.1111111111111111,
              "#46039f"
             ],
             [
              0.2222222222222222,
              "#7201a8"
             ],
             [
              0.3333333333333333,
              "#9c179e"
             ],
             [
              0.4444444444444444,
              "#bd3786"
             ],
             [
              0.5555555555555556,
              "#d8576b"
             ],
             [
              0.6666666666666666,
              "#ed7953"
             ],
             [
              0.7777777777777778,
              "#fb9f3a"
             ],
             [
              0.8888888888888888,
              "#fdca26"
             ],
             [
              1.0,
              "#f0f921"
             ]
            ]
           }
          ],
          "mesh3d": [
           {
            "type": "mesh3d",
            "colorbar": {
             "outlinewidth": 0,
             "ticks": ""
            }
           }
          ],
          "scatter": [
           {
            "marker": {
             "line": {
              "color": "#283442"
             }
            },
            "type": "scatter"
           }
          ],
          "parcoords": [
           {
            "type": "parcoords",
            "line": {
             "colorbar": {
              "outlinewidth": 0,
              "ticks": ""
             }
            }
           }
          ],
          "scatterpolargl": [
           {
            "type": "scatterpolargl",
            "marker": {
             "colorbar": {
              "outlinewidth": 0,
              "ticks": ""
             }
            }
           }
          ],
          "bar": [
           {
            "error_x": {
             "color": "#f2f5fa"
            },
            "error_y": {
             "color": "#f2f5fa"
            },
            "marker": {
             "line": {
              "color": "rgb(17,17,17)",
              "width": 0.5
             },
             "pattern": {
              "fillmode": "overlay",
              "size": 10,
              "solidity": 0.2
             }
            },
            "type": "bar"
           }
          ],
          "scattergeo": [
           {
            "type": "scattergeo",
            "marker": {
             "colorbar": {
              "outlinewidth": 0,
              "ticks": ""
             }
            }
           }
          ],
          "scatterpolar": [
           {
            "type": "scatterpolar",
            "marker": {
             "colorbar": {
              "outlinewidth": 0,
              "ticks": ""
             }
            }
           }
          ],
          "histogram": [
           {
            "marker": {
             "pattern": {
              "fillmode": "overlay",
              "size": 10,
              "solidity": 0.2
             }
            },
            "type": "histogram"
           }
          ],
          "scattergl": [
           {
            "marker": {
             "line": {
              "color": "#283442"
             }
            },
            "type": "scattergl"
           }
          ],
          "scatter3d": [
           {
            "type": "scatter3d",
            "line": {
             "colorbar": {
              "outlinewidth": 0,
              "ticks": ""
             }
            },
            "marker": {
             "colorbar": {
              "outlinewidth": 0,
              "ticks": ""
             }
            }
           }
          ],
          "scattermapbox": [
           {
            "type": "scattermapbox",
            "marker": {
             "colorbar": {
              "outlinewidth": 0,
              "ticks": ""
             }
            }
           }
          ],
          "scatterternary": [
           {
            "type": "scatterternary",
            "marker": {
             "colorbar": {
              "outlinewidth": 0,
              "ticks": ""
             }
            }
           }
          ],
          "scattercarpet": [
           {
            "type": "scattercarpet",
            "marker": {
             "colorbar": {
              "outlinewidth": 0,
              "ticks": ""
             }
            }
           }
          ],
          "carpet": [
           {
            "aaxis": {
             "endlinecolor": "#A2B1C6",
             "gridcolor": "#506784",
             "linecolor": "#506784",
             "minorgridcolor": "#506784",
             "startlinecolor": "#A2B1C6"
            },
            "baxis": {
             "endlinecolor": "#A2B1C6",
             "gridcolor": "#506784",
             "linecolor": "#506784",
             "minorgridcolor": "#506784",
             "startlinecolor": "#A2B1C6"
            },
            "type": "carpet"
           }
          ],
          "table": [
           {
            "cells": {
             "fill": {
              "color": "#506784"
             },
             "line": {
              "color": "rgb(17,17,17)"
             }
            },
            "header": {
             "fill": {
              "color": "#2a3f5f"
             },
             "line": {
              "color": "rgb(17,17,17)"
             }
            },
            "type": "table"
           }
          ],
          "barpolar": [
           {
            "marker": {
             "line": {
              "color": "rgb(17,17,17)",
              "width": 0.5
             },
             "pattern": {
              "fillmode": "overlay",
              "size": 10,
              "solidity": 0.2
             }
            },
            "type": "barpolar"
           }
          ],
          "pie": [
           {
            "automargin": true,
            "type": "pie"
           }
          ]
         },
         "layout": {
          "autotypenumbers": "strict",
          "colorway": [
           "#636efa",
           "#EF553B",
           "#00cc96",
           "#ab63fa",
           "#FFA15A",
           "#19d3f3",
           "#FF6692",
           "#B6E880",
           "#FF97FF",
           "#FECB52"
          ],
          "font": {
           "color": "#f2f5fa"
          },
          "hovermode": "closest",
          "hoverlabel": {
           "align": "left"
          },
          "paper_bgcolor": "rgb(17,17,17)",
          "plot_bgcolor": "rgb(17,17,17)",
          "polar": {
           "bgcolor": "rgb(17,17,17)",
           "angularaxis": {
            "gridcolor": "#506784",
            "linecolor": "#506784",
            "ticks": ""
           },
           "radialaxis": {
            "gridcolor": "#506784",
            "linecolor": "#506784",
            "ticks": ""
           }
          },
          "ternary": {
           "bgcolor": "rgb(17,17,17)",
           "aaxis": {
            "gridcolor": "#506784",
            "linecolor": "#506784",
            "ticks": ""
           },
           "baxis": {
            "gridcolor": "#506784",
            "linecolor": "#506784",
            "ticks": ""
           },
           "caxis": {
            "gridcolor": "#506784",
            "linecolor": "#506784",
            "ticks": ""
           }
          },
          "coloraxis": {
           "colorbar": {
            "outlinewidth": 0,
            "ticks": ""
           }
          },
          "colorscale": {
           "sequential": [
            [
             0.0,
             "#0d0887"
            ],
            [
             0.1111111111111111,
             "#46039f"
            ],
            [
             0.2222222222222222,
             "#7201a8"
            ],
            [
             0.3333333333333333,
             "#9c179e"
            ],
            [
             0.4444444444444444,
             "#bd3786"
            ],
            [
             0.5555555555555556,
             "#d8576b"
            ],
            [
             0.6666666666666666,
             "#ed7953"
            ],
            [
             0.7777777777777778,
             "#fb9f3a"
            ],
            [
             0.8888888888888888,
             "#fdca26"
            ],
            [
             1.0,
             "#f0f921"
            ]
           ],
           "sequentialminus": [
            [
             0.0,
             "#0d0887"
            ],
            [
             0.1111111111111111,
             "#46039f"
            ],
            [
             0.2222222222222222,
             "#7201a8"
            ],
            [
             0.3333333333333333,
             "#9c179e"
            ],
            [
             0.4444444444444444,
             "#bd3786"
            ],
            [
             0.5555555555555556,
             "#d8576b"
            ],
            [
             0.6666666666666666,
             "#ed7953"
            ],
            [
             0.7777777777777778,
             "#fb9f3a"
            ],
            [
             0.8888888888888888,
             "#fdca26"
            ],
            [
             1.0,
             "#f0f921"
            ]
           ],
           "diverging": [
            [
             0,
             "#8e0152"
            ],
            [
             0.1,
             "#c51b7d"
            ],
            [
             0.2,
             "#de77ae"
            ],
            [
             0.3,
             "#f1b6da"
            ],
            [
             0.4,
             "#fde0ef"
            ],
            [
             0.5,
             "#f7f7f7"
            ],
            [
             0.6,
             "#e6f5d0"
            ],
            [
             0.7,
             "#b8e186"
            ],
            [
             0.8,
             "#7fbc41"
            ],
            [
             0.9,
             "#4d9221"
            ],
            [
             1,
             "#276419"
            ]
           ]
          },
          "xaxis": {
           "gridcolor": "#283442",
           "linecolor": "#506784",
           "ticks": "",
           "title": {
            "standoff": 15
           },
           "zerolinecolor": "#283442",
           "automargin": true,
           "zerolinewidth": 2
          },
          "yaxis": {
           "gridcolor": "#283442",
           "linecolor": "#506784",
           "ticks": "",
           "title": {
            "standoff": 15
           },
           "zerolinecolor": "#283442",
           "automargin": true,
           "zerolinewidth": 2
          },
          "scene": {
           "xaxis": {
            "backgroundcolor": "rgb(17,17,17)",
            "gridcolor": "#506784",
            "linecolor": "#506784",
            "showbackground": true,
            "ticks": "",
            "zerolinecolor": "#C8D4E3",
            "gridwidth": 2
           },
           "yaxis": {
            "backgroundcolor": "rgb(17,17,17)",
            "gridcolor": "#506784",
            "linecolor": "#506784",
            "showbackground": true,
            "ticks": "",
            "zerolinecolor": "#C8D4E3",
            "gridwidth": 2
           },
           "zaxis": {
            "backgroundcolor": "rgb(17,17,17)",
            "gridcolor": "#506784",
            "linecolor": "#506784",
            "showbackground": true,
            "ticks": "",
            "zerolinecolor": "#C8D4E3",
            "gridwidth": 2
           }
          },
          "shapedefaults": {
           "line": {
            "color": "#f2f5fa"
           }
          },
          "annotationdefaults": {
           "arrowcolor": "#f2f5fa",
           "arrowhead": 0,
           "arrowwidth": 1
          },
          "geo": {
           "bgcolor": "rgb(17,17,17)",
           "landcolor": "rgb(17,17,17)",
           "subunitcolor": "#506784",
           "showland": true,
           "showlakes": true,
           "lakecolor": "rgb(17,17,17)"
          },
          "title": {
           "x": 0.05
          },
          "updatemenudefaults": {
           "bgcolor": "#506784",
           "borderwidth": 0
          },
          "sliderdefaults": {
           "bgcolor": "#C8D4E3",
           "borderwidth": 1,
           "bordercolor": "rgb(17,17,17)",
           "tickwidth": 0
          },
          "mapbox": {
           "style": "dark"
          },
          "autosize": false,
          "width": 1000,
          "height": 800
         }
        },
        "xaxis": {
         "anchor": "y",
         "domain": [
          0.0,
          1.0
         ],
         "title": {
          "text": "# Components"
         }
        },
        "yaxis": {
         "anchor": "x",
         "domain": [
          0.0,
          1.0
         ],
         "title": {
          "text": "Explained Variance"
         },
         "range": [
          0.98,
          1.02
         ]
        },
        "legend": {
         "tracegroupgap": 0
        },
        "title": {
         "text": "SVD Explained Variance Ratio"
        }
       },
       "config": {
        "plotlyServerURL": "https://plot.ly"
       }
      },
      "text/html": "<div>                            <div id=\"5fd31723-6359-4500-aea7-887fea592fe2\" class=\"plotly-graph-div\" style=\"height:800px; width:1000px;\"></div>            <script type=\"text/javascript\">                require([\"plotly\"], function(Plotly) {                    window.PLOTLYENV=window.PLOTLYENV || {};                                    if (document.getElementById(\"5fd31723-6359-4500-aea7-887fea592fe2\")) {                    Plotly.newPlot(                        \"5fd31723-6359-4500-aea7-887fea592fe2\",                        [{\"fillpattern\":{\"shape\":\"\"},\"hovertemplate\":\"# Components=%{x}<br>Explained Variance=%{y}<extra></extra>\",\"legendgroup\":\"\",\"line\":{\"color\":\"#636efa\"},\"marker\":{\"symbol\":\"circle\"},\"mode\":\"lines\",\"name\":\"\",\"orientation\":\"v\",\"showlegend\":false,\"stackgroup\":\"1\",\"x\":[1,2,3,4,5,6,7,8,9,10,11,12,13,14,15,16,17,18],\"xaxis\":\"x\",\"y\":[0.294703646168834,0.4255131633334587,0.4937331401906773,0.5598608359753491,0.6245283530327637,0.6877300280091271,0.7501458672977701,0.8108409755390263,0.870545583860903,0.9290058070051854,0.9684899929650266,0.9953727603427949,0.99921745297995,1.0000000000000002,1.0000000000000002,1.0000000000000002,1.0000000000000002,1.0000000000000002],\"yaxis\":\"y\",\"type\":\"scatter\"}],                        {\"template\":{\"data\":{\"histogram2dcontour\":[{\"type\":\"histogram2dcontour\",\"colorbar\":{\"outlinewidth\":0,\"ticks\":\"\"},\"colorscale\":[[0.0,\"#0d0887\"],[0.1111111111111111,\"#46039f\"],[0.2222222222222222,\"#7201a8\"],[0.3333333333333333,\"#9c179e\"],[0.4444444444444444,\"#bd3786\"],[0.5555555555555556,\"#d8576b\"],[0.6666666666666666,\"#ed7953\"],[0.7777777777777778,\"#fb9f3a\"],[0.8888888888888888,\"#fdca26\"],[1.0,\"#f0f921\"]]}],\"choropleth\":[{\"type\":\"choropleth\",\"colorbar\":{\"outlinewidth\":0,\"ticks\":\"\"}}],\"histogram2d\":[{\"type\":\"histogram2d\",\"colorbar\":{\"outlinewidth\":0,\"ticks\":\"\"},\"colorscale\":[[0.0,\"#0d0887\"],[0.1111111111111111,\"#46039f\"],[0.2222222222222222,\"#7201a8\"],[0.3333333333333333,\"#9c179e\"],[0.4444444444444444,\"#bd3786\"],[0.5555555555555556,\"#d8576b\"],[0.6666666666666666,\"#ed7953\"],[0.7777777777777778,\"#fb9f3a\"],[0.8888888888888888,\"#fdca26\"],[1.0,\"#f0f921\"]]}],\"heatmap\":[{\"type\":\"heatmap\",\"colorbar\":{\"outlinewidth\":0,\"ticks\":\"\"},\"colorscale\":[[0.0,\"#0d0887\"],[0.1111111111111111,\"#46039f\"],[0.2222222222222222,\"#7201a8\"],[0.3333333333333333,\"#9c179e\"],[0.4444444444444444,\"#bd3786\"],[0.5555555555555556,\"#d8576b\"],[0.6666666666666666,\"#ed7953\"],[0.7777777777777778,\"#fb9f3a\"],[0.8888888888888888,\"#fdca26\"],[1.0,\"#f0f921\"]]}],\"heatmapgl\":[{\"type\":\"heatmapgl\",\"colorbar\":{\"outlinewidth\":0,\"ticks\":\"\"},\"colorscale\":[[0.0,\"#0d0887\"],[0.1111111111111111,\"#46039f\"],[0.2222222222222222,\"#7201a8\"],[0.3333333333333333,\"#9c179e\"],[0.4444444444444444,\"#bd3786\"],[0.5555555555555556,\"#d8576b\"],[0.6666666666666666,\"#ed7953\"],[0.7777777777777778,\"#fb9f3a\"],[0.8888888888888888,\"#fdca26\"],[1.0,\"#f0f921\"]]}],\"contourcarpet\":[{\"type\":\"contourcarpet\",\"colorbar\":{\"outlinewidth\":0,\"ticks\":\"\"}}],\"contour\":[{\"type\":\"contour\",\"colorbar\":{\"outlinewidth\":0,\"ticks\":\"\"},\"colorscale\":[[0.0,\"#0d0887\"],[0.1111111111111111,\"#46039f\"],[0.2222222222222222,\"#7201a8\"],[0.3333333333333333,\"#9c179e\"],[0.4444444444444444,\"#bd3786\"],[0.5555555555555556,\"#d8576b\"],[0.6666666666666666,\"#ed7953\"],[0.7777777777777778,\"#fb9f3a\"],[0.8888888888888888,\"#fdca26\"],[1.0,\"#f0f921\"]]}],\"surface\":[{\"type\":\"surface\",\"colorbar\":{\"outlinewidth\":0,\"ticks\":\"\"},\"colorscale\":[[0.0,\"#0d0887\"],[0.1111111111111111,\"#46039f\"],[0.2222222222222222,\"#7201a8\"],[0.3333333333333333,\"#9c179e\"],[0.4444444444444444,\"#bd3786\"],[0.5555555555555556,\"#d8576b\"],[0.6666666666666666,\"#ed7953\"],[0.7777777777777778,\"#fb9f3a\"],[0.8888888888888888,\"#fdca26\"],[1.0,\"#f0f921\"]]}],\"mesh3d\":[{\"type\":\"mesh3d\",\"colorbar\":{\"outlinewidth\":0,\"ticks\":\"\"}}],\"scatter\":[{\"marker\":{\"line\":{\"color\":\"#283442\"}},\"type\":\"scatter\"}],\"parcoords\":[{\"type\":\"parcoords\",\"line\":{\"colorbar\":{\"outlinewidth\":0,\"ticks\":\"\"}}}],\"scatterpolargl\":[{\"type\":\"scatterpolargl\",\"marker\":{\"colorbar\":{\"outlinewidth\":0,\"ticks\":\"\"}}}],\"bar\":[{\"error_x\":{\"color\":\"#f2f5fa\"},\"error_y\":{\"color\":\"#f2f5fa\"},\"marker\":{\"line\":{\"color\":\"rgb(17,17,17)\",\"width\":0.5},\"pattern\":{\"fillmode\":\"overlay\",\"size\":10,\"solidity\":0.2}},\"type\":\"bar\"}],\"scattergeo\":[{\"type\":\"scattergeo\",\"marker\":{\"colorbar\":{\"outlinewidth\":0,\"ticks\":\"\"}}}],\"scatterpolar\":[{\"type\":\"scatterpolar\",\"marker\":{\"colorbar\":{\"outlinewidth\":0,\"ticks\":\"\"}}}],\"histogram\":[{\"marker\":{\"pattern\":{\"fillmode\":\"overlay\",\"size\":10,\"solidity\":0.2}},\"type\":\"histogram\"}],\"scattergl\":[{\"marker\":{\"line\":{\"color\":\"#283442\"}},\"type\":\"scattergl\"}],\"scatter3d\":[{\"type\":\"scatter3d\",\"line\":{\"colorbar\":{\"outlinewidth\":0,\"ticks\":\"\"}},\"marker\":{\"colorbar\":{\"outlinewidth\":0,\"ticks\":\"\"}}}],\"scattermapbox\":[{\"type\":\"scattermapbox\",\"marker\":{\"colorbar\":{\"outlinewidth\":0,\"ticks\":\"\"}}}],\"scatterternary\":[{\"type\":\"scatterternary\",\"marker\":{\"colorbar\":{\"outlinewidth\":0,\"ticks\":\"\"}}}],\"scattercarpet\":[{\"type\":\"scattercarpet\",\"marker\":{\"colorbar\":{\"outlinewidth\":0,\"ticks\":\"\"}}}],\"carpet\":[{\"aaxis\":{\"endlinecolor\":\"#A2B1C6\",\"gridcolor\":\"#506784\",\"linecolor\":\"#506784\",\"minorgridcolor\":\"#506784\",\"startlinecolor\":\"#A2B1C6\"},\"baxis\":{\"endlinecolor\":\"#A2B1C6\",\"gridcolor\":\"#506784\",\"linecolor\":\"#506784\",\"minorgridcolor\":\"#506784\",\"startlinecolor\":\"#A2B1C6\"},\"type\":\"carpet\"}],\"table\":[{\"cells\":{\"fill\":{\"color\":\"#506784\"},\"line\":{\"color\":\"rgb(17,17,17)\"}},\"header\":{\"fill\":{\"color\":\"#2a3f5f\"},\"line\":{\"color\":\"rgb(17,17,17)\"}},\"type\":\"table\"}],\"barpolar\":[{\"marker\":{\"line\":{\"color\":\"rgb(17,17,17)\",\"width\":0.5},\"pattern\":{\"fillmode\":\"overlay\",\"size\":10,\"solidity\":0.2}},\"type\":\"barpolar\"}],\"pie\":[{\"automargin\":true,\"type\":\"pie\"}]},\"layout\":{\"autotypenumbers\":\"strict\",\"colorway\":[\"#636efa\",\"#EF553B\",\"#00cc96\",\"#ab63fa\",\"#FFA15A\",\"#19d3f3\",\"#FF6692\",\"#B6E880\",\"#FF97FF\",\"#FECB52\"],\"font\":{\"color\":\"#f2f5fa\"},\"hovermode\":\"closest\",\"hoverlabel\":{\"align\":\"left\"},\"paper_bgcolor\":\"rgb(17,17,17)\",\"plot_bgcolor\":\"rgb(17,17,17)\",\"polar\":{\"bgcolor\":\"rgb(17,17,17)\",\"angularaxis\":{\"gridcolor\":\"#506784\",\"linecolor\":\"#506784\",\"ticks\":\"\"},\"radialaxis\":{\"gridcolor\":\"#506784\",\"linecolor\":\"#506784\",\"ticks\":\"\"}},\"ternary\":{\"bgcolor\":\"rgb(17,17,17)\",\"aaxis\":{\"gridcolor\":\"#506784\",\"linecolor\":\"#506784\",\"ticks\":\"\"},\"baxis\":{\"gridcolor\":\"#506784\",\"linecolor\":\"#506784\",\"ticks\":\"\"},\"caxis\":{\"gridcolor\":\"#506784\",\"linecolor\":\"#506784\",\"ticks\":\"\"}},\"coloraxis\":{\"colorbar\":{\"outlinewidth\":0,\"ticks\":\"\"}},\"colorscale\":{\"sequential\":[[0.0,\"#0d0887\"],[0.1111111111111111,\"#46039f\"],[0.2222222222222222,\"#7201a8\"],[0.3333333333333333,\"#9c179e\"],[0.4444444444444444,\"#bd3786\"],[0.5555555555555556,\"#d8576b\"],[0.6666666666666666,\"#ed7953\"],[0.7777777777777778,\"#fb9f3a\"],[0.8888888888888888,\"#fdca26\"],[1.0,\"#f0f921\"]],\"sequentialminus\":[[0.0,\"#0d0887\"],[0.1111111111111111,\"#46039f\"],[0.2222222222222222,\"#7201a8\"],[0.3333333333333333,\"#9c179e\"],[0.4444444444444444,\"#bd3786\"],[0.5555555555555556,\"#d8576b\"],[0.6666666666666666,\"#ed7953\"],[0.7777777777777778,\"#fb9f3a\"],[0.8888888888888888,\"#fdca26\"],[1.0,\"#f0f921\"]],\"diverging\":[[0,\"#8e0152\"],[0.1,\"#c51b7d\"],[0.2,\"#de77ae\"],[0.3,\"#f1b6da\"],[0.4,\"#fde0ef\"],[0.5,\"#f7f7f7\"],[0.6,\"#e6f5d0\"],[0.7,\"#b8e186\"],[0.8,\"#7fbc41\"],[0.9,\"#4d9221\"],[1,\"#276419\"]]},\"xaxis\":{\"gridcolor\":\"#283442\",\"linecolor\":\"#506784\",\"ticks\":\"\",\"title\":{\"standoff\":15},\"zerolinecolor\":\"#283442\",\"automargin\":true,\"zerolinewidth\":2},\"yaxis\":{\"gridcolor\":\"#283442\",\"linecolor\":\"#506784\",\"ticks\":\"\",\"title\":{\"standoff\":15},\"zerolinecolor\":\"#283442\",\"automargin\":true,\"zerolinewidth\":2},\"scene\":{\"xaxis\":{\"backgroundcolor\":\"rgb(17,17,17)\",\"gridcolor\":\"#506784\",\"linecolor\":\"#506784\",\"showbackground\":true,\"ticks\":\"\",\"zerolinecolor\":\"#C8D4E3\",\"gridwidth\":2},\"yaxis\":{\"backgroundcolor\":\"rgb(17,17,17)\",\"gridcolor\":\"#506784\",\"linecolor\":\"#506784\",\"showbackground\":true,\"ticks\":\"\",\"zerolinecolor\":\"#C8D4E3\",\"gridwidth\":2},\"zaxis\":{\"backgroundcolor\":\"rgb(17,17,17)\",\"gridcolor\":\"#506784\",\"linecolor\":\"#506784\",\"showbackground\":true,\"ticks\":\"\",\"zerolinecolor\":\"#C8D4E3\",\"gridwidth\":2}},\"shapedefaults\":{\"line\":{\"color\":\"#f2f5fa\"}},\"annotationdefaults\":{\"arrowcolor\":\"#f2f5fa\",\"arrowhead\":0,\"arrowwidth\":1},\"geo\":{\"bgcolor\":\"rgb(17,17,17)\",\"landcolor\":\"rgb(17,17,17)\",\"subunitcolor\":\"#506784\",\"showland\":true,\"showlakes\":true,\"lakecolor\":\"rgb(17,17,17)\"},\"title\":{\"x\":0.05},\"updatemenudefaults\":{\"bgcolor\":\"#506784\",\"borderwidth\":0},\"sliderdefaults\":{\"bgcolor\":\"#C8D4E3\",\"borderwidth\":1,\"bordercolor\":\"rgb(17,17,17)\",\"tickwidth\":0},\"mapbox\":{\"style\":\"dark\"},\"autosize\":false,\"width\":1000,\"height\":800}},\"xaxis\":{\"anchor\":\"y\",\"domain\":[0.0,1.0],\"title\":{\"text\":\"# Components\"}},\"yaxis\":{\"anchor\":\"x\",\"domain\":[0.0,1.0],\"title\":{\"text\":\"Explained Variance\"},\"range\":[0.98,1.02]},\"legend\":{\"tracegroupgap\":0},\"title\":{\"text\":\"SVD Explained Variance Ratio\"}},                        {\"responsive\": true}                    ).then(function(){\n                            \nvar gd = document.getElementById('5fd31723-6359-4500-aea7-887fea592fe2');\nvar x = new MutationObserver(function (mutations, observer) {{\n        var display = window.getComputedStyle(gd).display;\n        if (!display || display === 'none') {{\n            console.log([gd, 'removed!']);\n            Plotly.purge(gd);\n            observer.disconnect();\n        }}\n}});\n\n// Listen for the removal of the full notebook cells\nvar notebookContainer = gd.closest('#notebook-container');\nif (notebookContainer) {{\n    x.observe(notebookContainer, {childList: true});\n}}\n\n// Listen for the clearing of the current output cell\nvar outputEl = gd.closest('.output');\nif (outputEl) {{\n    x.observe(outputEl, {childList: true});\n}}\n\n                        })                };                });            </script>        </div>"
     },
     "metadata": {},
     "output_type": "display_data"
    }
   ],
   "source": [
    "pca = PCA()\n",
    "pca.fit(ss.fit_transform(df[features_list].to_numpy()))\n",
    "\n",
    "exp_var_cumul = np.cumsum(pca.explained_variance_ratio_)\n",
    "\n",
    "px.area(\n",
    "    x=range(1, exp_var_cumul.shape[0] + 1),\n",
    "    y=exp_var_cumul,\n",
    "    labels={\"x\": \"# Components\", \"y\": \"Explained Variance\"},\n",
    "    range_y=(0.98, 1.02),\n",
    "    title=\"SVD Explained Variance Ratio\"\n",
    "    )"
   ]
  },
  {
   "cell_type": "markdown",
   "metadata": {
    "id": "rOpSFrpCtQYE"
   },
   "source": [
    "As we can see we can compress the data into 14 components without losing any information."
   ]
  },
  {
   "cell_type": "markdown",
   "metadata": {
    "id": "Y3N0VmYUtQYE"
   },
   "source": [
    "## Train Test Split\n",
    "\n",
    "*   x_Train and y_Train will be used for _Train_\n",
    "*   x_test and y_test.T will be used for _Test_\n"
   ]
  },
  {
   "cell_type": "code",
   "execution_count": 449,
   "metadata": {
    "id": "rO8EJboItQYE"
   },
   "outputs": [
    {
     "name": "stdout",
     "output_type": "stream",
     "text": [
      "(3526, 18) (3526,)\n",
      "(756, 18) (756,)\n"
     ]
    },
    {
     "data": {
      "text/plain": "Counter({'Malware': 2264, 'Benign': 2018})"
     },
     "execution_count": 449,
     "metadata": {},
     "output_type": "execute_result"
    }
   ],
   "source": [
    "# Convert the feature list to a numpy array\n",
    "x = df[features_list]\n",
    "\n",
    "# This column is the desired prediction we'll use to train our model\n",
    "y = np.stack(df[test_type])\n",
    "\n",
    "# Split the dataset to train and test\n",
    "x_train, x_test, y_train, y_test = train_test_split(x,\n",
    "                                                    y, \n",
    "                                                    test_size=0.1765, \n",
    "                                                    random_state=42, \n",
    "                                                    stratify=y)\n",
    "\n",
    "# Print the resulted datasets \n",
    "print(x_train.shape, y_train.shape)\n",
    "print(x_test.shape, y_test.shape)\n",
    "\n",
    "# Count differences\n",
    "counter = Counter(y)\n",
    "counter"
   ]
  },
  {
   "cell_type": "code",
   "execution_count": 450,
   "metadata": {
    "id": "FmyWULmztQYF"
   },
   "outputs": [],
   "source": [
    "ss = StandardScaler()\n",
    "x_train = ss.fit_transform(x_train)\n",
    "x_test = ss.transform(x_test)\n",
    "\n",
    "pca = PCA(8)\n",
    "pca.fit(x_train)\n",
    "\n",
    "x_train_pca_real = pca.transform(x_train)\n",
    "x_train_pca = x_train\n",
    "\n",
    "x_test_pca_real = pca.transform(x_test)\n",
    "x_test_pca = x_test"
   ]
  },
  {
   "cell_type": "code",
   "execution_count": 451,
   "metadata": {
    "id": "25UNKDYUtQYF"
   },
   "outputs": [],
   "source": [
    "def plot_feature_importance(model):\n",
    "    plt.figure(figsize=(10, 10))\n",
    "    plt.title(\"Feature importance\")\n",
    "    plt.barh(range(x_train_pca.shape[1]), model.feature_importances_, align=\"center\")\n",
    "    plt.yticks(np.arange(x_train_pca.shape[1]), features_list)\n",
    "    plt.ylim([-1, x_train_pca.shape[1]])\n",
    "    plt.show()"
   ]
  },
  {
   "cell_type": "code",
   "execution_count": 452,
   "metadata": {
    "id": "LWN-ew_ZtQYF"
   },
   "outputs": [
    {
     "data": {
      "text/plain": "<Figure size 1000x1000 with 1 Axes>",
      "image/png": "[encoded data removed]"
     },
     "metadata": {},
     "output_type": "display_data"
    }
   ],
   "source": [
    "# Feature selection with Random Forest Classifier\n",
    "rfc_fs = RandomForestClassifier(n_estimators=100, random_state=42)\n",
    "rfc_fs.fit(x_train_pca, y_train)\n",
    "\n",
    "# Plot the feature importance of the forest\n",
    "plot_feature_importance(rfc_fs)"
   ]
  },
  {
   "cell_type": "code",
   "execution_count": 453,
   "metadata": {
    "id": "7z9DDcLPtQYG"
   },
   "outputs": [
    {
     "data": {
      "text/plain": "<Figure size 1000x1000 with 1 Axes>",
      "image/png": "[encoded data removed]"
     },
     "metadata": {},
     "output_type": "display_data"
    }
   ],
   "source": [
    "# Feature selection with AdaBoost Classifier\n",
    "abc_fs = AdaBoostClassifier(n_estimators=100, random_state=42)\n",
    "abc_fs.fit(x_train_pca, y_train)\n",
    "\n",
    "# Plot the feature importance of the forest\n",
    "plot_feature_importance(abc_fs)"
   ]
  },
  {
   "cell_type": "code",
   "execution_count": 454,
   "metadata": {
    "id": "2ylllY_1tQYG"
   },
   "outputs": [
    {
     "data": {
      "text/plain": "<Figure size 1000x1000 with 1 Axes>",
      "image/png": "[encoded data removed]"
     },
     "metadata": {},
     "output_type": "display_data"
    }
   ],
   "source": [
    "# Feature selection with Gradient Boosting Classifier\n",
    "gbc_fs = GradientBoostingClassifier(n_estimators=100, random_state=42)\n",
    "gbc_fs.fit(x_train_pca, y_train)\n",
    "\n",
    "# Plot the feature importance of the forest\n",
    "plot_feature_importance(gbc_fs)"
   ]
  },
  {
   "cell_type": "code",
   "execution_count": 455,
   "metadata": {
    "id": "a0U5qsaItQYG"
   },
   "outputs": [
    {
     "data": {
      "text/plain": "<Figure size 1000x1000 with 1 Axes>",
      "image/png": "[encoded data removed]"
     },
     "metadata": {},
     "output_type": "display_data"
    }
   ],
   "source": [
    "from sklearn.svm import LinearSVC\n",
    "\n",
    "# Feature importance with Linear SVC\n",
    "linear_svc = LinearSVC(C=0.01, penalty=\"l1\", dual=False).fit(x_train_pca, y_train)\n",
    "linear_svc.coef_\n",
    "\n",
    "# Plot feature importance with Linear SVC\n",
    "plt.figure(figsize=(10, 10))\n",
    "plt.title(\"Feature importance\")\n",
    "plt.barh(range(x_train_pca.shape[1]), linear_svc.coef_[0], align=\"center\")\n",
    "plt.yticks(np.arange(x_train_pca.shape[1]), features_list)\n",
    "plt.ylim([-1, x_train_pca.shape[1]])\n",
    "plt.show()"
   ]
  },
  {
   "cell_type": "code",
   "execution_count": 456,
   "metadata": {
    "id": "PeEEvHxYtQYG"
   },
   "outputs": [
    {
     "data": {
      "text/plain": "<Figure size 1000x1000 with 1 Axes>",
      "image/png": "[encoded data removed]"
     },
     "metadata": {},
     "output_type": "display_data"
    }
   ],
   "source": [
    "# Feature selection with Decision Tree Classifier\n",
    "dtc_fs = DecisionTreeClassifier(random_state=42)\n",
    "dtc_fs.fit(x_train_pca, y_train)\n",
    "\n",
    "plot_feature_importance(dtc_fs)"
   ]
  },
  {
   "cell_type": "code",
   "execution_count": 457,
   "metadata": {
    "id": "8Vrv_FwitQYH"
   },
   "outputs": [
    {
     "data": {
      "text/plain": "<Figure size 1000x1000 with 1 Axes>",
      "image/png": "[encoded data removed]"
     },
     "metadata": {},
     "output_type": "display_data"
    }
   ],
   "source": [
    "from sklearn.ensemble import ExtraTreesClassifier\n",
    "\n",
    "# Feature selection with Extra Trees Classifier\n",
    "etc_fs = ExtraTreesClassifier(n_estimators=100, random_state=42)\n",
    "etc_fs.fit(x_train_pca, y_train)\n",
    "\n",
    "plot_feature_importance(etc_fs)"
   ]
  },
  {
   "cell_type": "code",
   "execution_count": 458,
   "metadata": {
    "id": "-zGLxdLNtQYH"
   },
   "outputs": [
    {
     "name": "stderr",
     "output_type": "stream",
     "text": [
      "C:\\Users\\moria\\AppData\\Local\\Temp\\ipykernel_18288\\1497109417.py:16: FutureWarning:\n",
      "\n",
      "Dropping of nuisance columns in DataFrame reductions (with 'numeric_only=None') is deprecated; in a future version this will raise TypeError.  Select only valid columns before calling the reduction.\n",
      "\n"
     ]
    },
    {
     "data": {
      "text/plain": "                            Feature  Random Forest  AdaBoost  \\\n10                  response.status       0.155628      0.10   \n12             response.status_code       0.138157      0.10   \n9                       request.url       0.182896      0.20   \n13                    response.body       0.155524      0.38   \n14           request.headers.Cookie       0.045316      0.01   \n7        request.headers.Set-Cookie       0.131813      0.17   \n6    request.headers.Sec-Fetch-Dest       0.027921      0.01   \n2   request.headers.Accept-Encoding       0.017887      0.01   \n4    request.headers.Sec-Fetch-Site       0.018250      0.01   \n1        request.headers.User-Agent       0.060500      0.00   \n15        response.headers.Location       0.011306      0.01   \n3   request.headers.Accept-Language       0.026698      0.00   \n5    request.headers.Sec-Fetch-Mode       0.010198      0.00   \n17      response.headers.Set-Cookie       0.007275      0.00   \n8                    request.method       0.006449      0.00   \n\n    Gradient Boosting  Linear SVC  Decision Tree  Extra Trees      Mean  \n10           0.317642    1.923120       0.279180     0.178263  0.492305  \n12           0.175329    1.669553       0.056443     0.091527  0.371835  \n9            0.192172    0.181007       0.173912     0.147617  0.179601  \n13           0.123382    0.034752       0.154585     0.168602  0.169474  \n14           0.079570    0.403778       0.060056     0.067256  0.110996  \n7            0.002788    0.000000       0.104812     0.127421  0.089472  \n6            0.043132    0.177921       0.039681     0.028503  0.054526  \n2            0.029884    0.135646       0.027977     0.018431  0.039971  \n4            0.027686    0.129863       0.025411     0.017488  0.038116  \n1            0.000788    0.000000       0.044074     0.067019  0.028730  \n15           0.007425    0.049683       0.000000     0.014550  0.015494  \n3            0.000133    0.000000       0.023225     0.028606  0.013110  \n5            0.000019    0.000000       0.010645     0.009661  0.005087  \n17           0.000014    0.006329       0.000000     0.011477  0.004183  \n8            0.000036    0.007044       0.000000     0.009382  0.003819  ",
      "text/html": "<div>\n<style scoped>\n    .dataframe tbody tr th:only-of-type {\n        vertical-align: middle;\n    }\n\n    .dataframe tbody tr th {\n        vertical-align: top;\n    }\n\n    .dataframe thead th {\n        text-align: right;\n    }\n</style>\n<table border=\"1\" class=\"dataframe\">\n  <thead>\n    <tr style=\"text-align: right;\">\n      <th></th>\n      <th>Feature</th>\n      <th>Random Forest</th>\n      <th>AdaBoost</th>\n      <th>Gradient Boosting</th>\n      <th>Linear SVC</th>\n      <th>Decision Tree</th>\n      <th>Extra Trees</th>\n      <th>Mean</th>\n    </tr>\n  </thead>\n  <tbody>\n    <tr>\n      <th>10</th>\n      <td>response.status</td>\n      <td>0.155628</td>\n      <td>0.10</td>\n      <td>0.317642</td>\n      <td>1.923120</td>\n      <td>0.279180</td>\n      <td>0.178263</td>\n      <td>0.492305</td>\n    </tr>\n    <tr>\n      <th>12</th>\n      <td>response.status_code</td>\n      <td>0.138157</td>\n      <td>0.10</td>\n      <td>0.175329</td>\n      <td>1.669553</td>\n      <td>0.056443</td>\n      <td>0.091527</td>\n      <td>0.371835</td>\n    </tr>\n    <tr>\n      <th>9</th>\n      <td>request.url</td>\n      <td>0.182896</td>\n      <td>0.20</td>\n      <td>0.192172</td>\n      <td>0.181007</td>\n      <td>0.173912</td>\n      <td>0.147617</td>\n      <td>0.179601</td>\n    </tr>\n    <tr>\n      <th>13</th>\n      <td>response.body</td>\n      <td>0.155524</td>\n      <td>0.38</td>\n      <td>0.123382</td>\n      <td>0.034752</td>\n      <td>0.154585</td>\n      <td>0.168602</td>\n      <td>0.169474</td>\n    </tr>\n    <tr>\n      <th>14</th>\n      <td>request.headers.Cookie</td>\n      <td>0.045316</td>\n      <td>0.01</td>\n      <td>0.079570</td>\n      <td>0.403778</td>\n      <td>0.060056</td>\n      <td>0.067256</td>\n      <td>0.110996</td>\n    </tr>\n    <tr>\n      <th>7</th>\n      <td>request.headers.Set-Cookie</td>\n      <td>0.131813</td>\n      <td>0.17</td>\n      <td>0.002788</td>\n      <td>0.000000</td>\n      <td>0.104812</td>\n      <td>0.127421</td>\n      <td>0.089472</td>\n    </tr>\n    <tr>\n      <th>6</th>\n      <td>request.headers.Sec-Fetch-Dest</td>\n      <td>0.027921</td>\n      <td>0.01</td>\n      <td>0.043132</td>\n      <td>0.177921</td>\n      <td>0.039681</td>\n      <td>0.028503</td>\n      <td>0.054526</td>\n    </tr>\n    <tr>\n      <th>2</th>\n      <td>request.headers.Accept-Encoding</td>\n      <td>0.017887</td>\n      <td>0.01</td>\n      <td>0.029884</td>\n      <td>0.135646</td>\n      <td>0.027977</td>\n      <td>0.018431</td>\n      <td>0.039971</td>\n    </tr>\n    <tr>\n      <th>4</th>\n      <td>request.headers.Sec-Fetch-Site</td>\n      <td>0.018250</td>\n      <td>0.01</td>\n      <td>0.027686</td>\n      <td>0.129863</td>\n      <td>0.025411</td>\n      <td>0.017488</td>\n      <td>0.038116</td>\n    </tr>\n    <tr>\n      <th>1</th>\n      <td>request.headers.User-Agent</td>\n      <td>0.060500</td>\n      <td>0.00</td>\n      <td>0.000788</td>\n      <td>0.000000</td>\n      <td>0.044074</td>\n      <td>0.067019</td>\n      <td>0.028730</td>\n    </tr>\n    <tr>\n      <th>15</th>\n      <td>response.headers.Location</td>\n      <td>0.011306</td>\n      <td>0.01</td>\n      <td>0.007425</td>\n      <td>0.049683</td>\n      <td>0.000000</td>\n      <td>0.014550</td>\n      <td>0.015494</td>\n    </tr>\n    <tr>\n      <th>3</th>\n      <td>request.headers.Accept-Language</td>\n      <td>0.026698</td>\n      <td>0.00</td>\n      <td>0.000133</td>\n      <td>0.000000</td>\n      <td>0.023225</td>\n      <td>0.028606</td>\n      <td>0.013110</td>\n    </tr>\n    <tr>\n      <th>5</th>\n      <td>request.headers.Sec-Fetch-Mode</td>\n      <td>0.010198</td>\n      <td>0.00</td>\n      <td>0.000019</td>\n      <td>0.000000</td>\n      <td>0.010645</td>\n      <td>0.009661</td>\n      <td>0.005087</td>\n    </tr>\n    <tr>\n      <th>17</th>\n      <td>response.headers.Set-Cookie</td>\n      <td>0.007275</td>\n      <td>0.00</td>\n      <td>0.000014</td>\n      <td>0.006329</td>\n      <td>0.000000</td>\n      <td>0.011477</td>\n      <td>0.004183</td>\n    </tr>\n    <tr>\n      <th>8</th>\n      <td>request.method</td>\n      <td>0.006449</td>\n      <td>0.00</td>\n      <td>0.000036</td>\n      <td>0.007044</td>\n      <td>0.000000</td>\n      <td>0.009382</td>\n      <td>0.003819</td>\n    </tr>\n  </tbody>\n</table>\n</div>"
     },
     "execution_count": 458,
     "metadata": {},
     "output_type": "execute_result"
    }
   ],
   "source": [
    "# Print the feature ranking - Top 10\n",
    "fs_table = pd.DataFrame(columns=['Feature',\n",
    "                                 'Random Forest',\n",
    "                                 'AdaBoost',\n",
    "                                 'Gradient Boosting',\n",
    "                                 'Linear SVC',\n",
    "                                 'Decision Tree',\n",
    "                                 'Extra Trees'])\n",
    "fs_table['Feature'] = features_list\n",
    "fs_table['Random Forest'] = rfc_fs.feature_importances_\n",
    "fs_table['AdaBoost'] = abc_fs.feature_importances_\n",
    "fs_table['Gradient Boosting'] = gbc_fs.feature_importances_\n",
    "fs_table['Linear SVC'] = np.abs(linear_svc.coef_[0])\n",
    "fs_table['Decision Tree'] = dtc_fs.feature_importances_\n",
    "fs_table['Extra Trees'] = etc_fs.feature_importances_\n",
    "fs_table['Mean'] = fs_table.mean(axis=1)\n",
    "fs_table.sort_values(by='Mean', ascending=False, inplace=True)\n",
    "fs_table.head(15)"
   ]
  },
  {
   "cell_type": "code",
   "execution_count": 459,
   "metadata": {
    "id": "bsFQnAIZtQYH"
   },
   "outputs": [
    {
     "name": "stdout",
     "output_type": "stream",
     "text": [
      "Fitting estimator with 18 features.\n",
      "Fitting estimator with 17 features.\n",
      "Fitting estimator with 16 features.\n",
      "Fitting estimator with 15 features.\n",
      "Fitting estimator with 14 features.\n",
      "Fitting estimator with 13 features.\n",
      "Fitting estimator with 12 features.\n",
      "Fitting estimator with 11 features.\n",
      "Fitting estimator with 10 features.\n",
      "Fitting estimator with 9 features.\n",
      "Optimal number of features: 8\n"
     ]
    },
    {
     "data": {
      "text/plain": "<Figure size 640x480 with 1 Axes>",
      "image/png": "[encoded data removed]"
     },
     "metadata": {},
     "output_type": "display_data"
    }
   ],
   "source": [
    "# Feature selection\n",
    "\n",
    "from sklearn.feature_selection import RFECV\n",
    "from sklearn.model_selection import StratifiedKFold\n",
    "\n",
    "# Create the RFE object and compute a cross-validated score\n",
    "recall_scorer = make_scorer(recall_score, pos_label='Malware')\n",
    "rfecv = RFECV(estimator=LogisticRegression(),\n",
    "              step=1,\n",
    "              cv=StratifiedKFold(2),\n",
    "              scoring=recall_scorer,\n",
    "              verbose=1,\n",
    "              n_jobs=-1)\n",
    "rfecv.fit(x_train_pca, y_train)\n",
    "\n",
    "print(\"Optimal number of features: %d\" % rfecv.n_features_)\n",
    "\n",
    "# Plot number of features VS. cross-validation scores\n",
    "plt.figure()\n",
    "plt.xlabel(\"Number Of Features\")\n",
    "plt.ylabel(\"Cross Validation Score (nb of correct classifications)\")\n",
    "plt.errorbar(range(1, len(rfecv.cv_results_[\"mean_test_score\"]) + 1),\n",
    "             rfecv.cv_results_[\"mean_test_score\"],\n",
    "             yerr=rfecv.cv_results_[\"std_test_score\"])\n",
    "plt.show()\n",
    "\n",
    "x_train_pca = rfecv.transform(x_train_pca)\n",
    "x_test_pca = rfecv.transform(x_test_pca)"
   ]
  },
  {
   "cell_type": "code",
   "execution_count": 460,
   "metadata": {
    "id": "RwkR141atQYH"
   },
   "outputs": [],
   "source": [
    "# Grid search to find the best hyperParameters for the model\n",
    "def create_grid_search(model, params):\n",
    "    return GridSearchCV(estimator=model,\n",
    "                        param_grid=params,\n",
    "                        scoring=recall_scorer,\n",
    "                        n_jobs=1,\n",
    "                        cv=3,\n",
    "                        verbose=3,\n",
    "                        return_train_score=True)"
   ]
  },
  {
   "cell_type": "code",
   "execution_count": 461,
   "metadata": {
    "id": "nfbTrzEctQYH"
   },
   "outputs": [],
   "source": [
    "# https://plotly.com/python/parallel-categories-diagram/\n",
    "\n",
    "def plot_grid_search_results(results):\n",
    "    df = pd.DataFrame(results)\n",
    "    \n",
    "    # Build parcats dimensions\n",
    "    categorical_dimensions = [c for c in df.columns if \"param_\" in c]\n",
    "\n",
    "    dimensions = [dict(values=df[label], label=label)for label in categorical_dimensions]\n",
    "\n",
    "    # Build color scale\n",
    "    color = np.zeros(len(df), dtype='uint8')\n",
    "    color_scale = [[0, 'gray'], [1, 'blue']]\n",
    "\n",
    "    # Build figure as FigureWidget\n",
    "    fig = go.FigureWidget(data=[go.Scatter(x=df['std_test_score'],\n",
    "                                           y=df['mean_test_score'],\n",
    "                                           marker={'color': 'gray'},\n",
    "                                           mode='markers',\n",
    "                                           selected={'marker': {'color': 'blue'}},\n",
    "                                           unselected={'marker': {'opacity': 0.3}}),\n",
    "                                go.Parcats(domain={'y': [0, 0.4]},\n",
    "                                           dimensions=dimensions,\n",
    "                                           line={'colorscale': color_scale,\n",
    "                                                 'cmin': 0,\n",
    "                                                 'cmax': 1,\n",
    "                                                 'color': color,\n",
    "                                                 'shape': 'hspline'})])\n",
    "\n",
    "    fig.update_layout(height=800,\n",
    "                      xaxis={'title': 'STD Score'},\n",
    "                      yaxis={'title': 'Mean Score', 'domain': [0.6, 1]},\n",
    "                      dragmode='lasso',\n",
    "                      hovermode='closest')\n",
    "\n",
    "    # Update color callback\n",
    "    def update_color(points):\n",
    "        # Update scatter selection\n",
    "        fig.data[0].selectedpoints = points.point_inds\n",
    "\n",
    "        # Update parcats colors\n",
    "        new_color = np.zeros(len(df), dtype='uint8')\n",
    "        new_color[points.point_inds] = 1\n",
    "        fig.data[1].line.color = new_color\n",
    "\n",
    "    # Register callback on scatter selection...\n",
    "    fig.data[0].on_selection(update_color)\n",
    "    # and parcats click\n",
    "    fig.data[1].on_click(update_color)\n",
    "\n",
    "    return fig"
   ]
  },
  {
   "cell_type": "markdown",
   "metadata": {
    "id": "qv9jNo_JtQYI"
   },
   "source": [
    "### Model Choosing & Fitting\n"
   ]
  },
  {
   "cell_type": "markdown",
   "source": [
    "#### Random Forest\n",
    "\n",
    "Ensemble learning method that uses multiple decision trees to make predictions. \n",
    "It is a robust and flexible model that can handle high-dimensional and complex data,making it a good choice for API classification tasks."
   ],
   "metadata": {
    "id": "MZh-4aqw5nsR"
   }
  },
  {
   "cell_type": "code",
   "execution_count": 462,
   "metadata": {
    "colab": {
     "base_uri": "https://localhost:8080/",
     "height": 236
    },
    "id": "IDyPm42MtQYI",
    "outputId": "6eef204b-cf81-447c-9383-108e88b104d6"
   },
   "outputs": [
    {
     "name": "stdout",
     "output_type": "stream",
     "text": [
      "Fitting 3 folds for each of 6 candidates, totalling 18 fits\n",
      "[CV 1/3] END criterion=gini, max_depth=3;, score=(train=0.969, test=0.957) total time=   0.1s\n",
      "[CV 2/3] END criterion=gini, max_depth=3;, score=(train=0.965, test=0.963) total time=   0.1s\n",
      "[CV 3/3] END criterion=gini, max_depth=3;, score=(train=0.954, test=0.955) total time=   0.1s\n",
      "[CV 1/3] END criterion=gini, max_depth=5;, score=(train=0.966, test=0.952) total time=   0.1s\n",
      "[CV 2/3] END criterion=gini, max_depth=5;, score=(train=0.965, test=0.958) total time=   0.1s\n",
      "[CV 3/3] END criterion=gini, max_depth=5;, score=(train=0.957, test=0.968) total time=   0.1s\n",
      "[CV 1/3] END criterion=entropy, max_depth=3;, score=(train=0.969, test=0.957) total time=   0.1s\n",
      "[CV 2/3] END criterion=entropy, max_depth=3;, score=(train=0.957, test=0.958) total time=   0.1s\n",
      "[CV 3/3] END criterion=entropy, max_depth=3;, score=(train=0.960, test=0.966) total time=   0.1s\n",
      "[CV 1/3] END criterion=entropy, max_depth=5;, score=(train=0.967, test=0.953) total time=   0.1s\n",
      "[CV 2/3] END criterion=entropy, max_depth=5;, score=(train=0.964, test=0.957) total time=   0.1s\n",
      "[CV 3/3] END criterion=entropy, max_depth=5;, score=(train=0.957, test=0.968) total time=   0.1s\n",
      "[CV 1/3] END criterion=log_loss, max_depth=3;, score=(train=0.969, test=0.957) total time=   0.1s\n",
      "[CV 2/3] END criterion=log_loss, max_depth=3;, score=(train=0.963, test=0.963) total time=   0.1s\n",
      "[CV 3/3] END criterion=log_loss, max_depth=3;, score=(train=0.960, test=0.966) total time=   0.1s\n",
      "[CV 1/3] END criterion=log_loss, max_depth=5;, score=(train=0.966, test=0.953) total time=   0.1s\n",
      "[CV 2/3] END criterion=log_loss, max_depth=5;, score=(train=0.964, test=0.957) total time=   0.2s\n",
      "[CV 3/3] END criterion=log_loss, max_depth=5;, score=(train=0.957, test=0.968) total time=   0.1s\n",
      "Best parameters: {'criterion': 'log_loss', 'max_depth': 3}\n"
     ]
    }
   ],
   "source": [
    "rf = RandomForestClassifier()\n",
    "rf_param = {\n",
    "    \"criterion\": [\"gini\", \"entropy\", \"log_loss\"],\n",
    "    \"max_depth\": [3, 5],\n",
    "}\n",
    "rf_gcv = create_grid_search(rf, rf_param)\n",
    "rf_gcv.fit(x_train_pca, y_train)\n",
    "\n",
    "print(\"Best parameters:\", rf_gcv.best_params_)"
   ]
  },
  {
   "cell_type": "code",
   "execution_count": 463,
   "metadata": {
    "id": "y_hNKYBmtQYJ"
   },
   "outputs": [],
   "source": [
    "# # Save the model\n",
    "clf = rf_gcv.best_estimator_\n",
    "# filename = \"Model/\"+str(dataset_number)+\"/rf\"+str(dataset_number)+\"_model.sav\"\n",
    "# pickle.dump(clf, open(filename, 'wb'))"
   ]
  },
  {
   "cell_type": "markdown",
   "source": [
    "#### SVM - Support Vector Machines \n",
    "\n",
    "Popular choice for classification tasks, including API classification. \n",
    "They work by finding the hyperplane in a high-dimensional space that maximally separates different classes of data points."
   ],
   "metadata": {
    "id": "pUFYNbKb53Xl"
   }
  },
  {
   "cell_type": "code",
   "execution_count": 464,
   "metadata": {
    "id": "kKk28U_8tQYJ"
   },
   "outputs": [
    {
     "name": "stdout",
     "output_type": "stream",
     "text": [
      "Fitting 3 folds for each of 9 candidates, totalling 27 fits\n",
      "[CV 1/3] END C=1, kernel=poly, probability=True;, score=(train=0.963, test=0.952) total time=   0.5s\n",
      "[CV 2/3] END C=1, kernel=poly, probability=True;, score=(train=0.959, test=0.960) total time=   0.5s\n",
      "[CV 3/3] END C=1, kernel=poly, probability=True;, score=(train=0.956, test=0.965) total time=   0.4s\n",
      "[CV 1/3] END C=1, kernel=rbf, probability=True;, score=(train=0.965, test=0.952) total time=   0.8s\n",
      "[CV 2/3] END C=1, kernel=rbf, probability=True;, score=(train=0.961, test=0.960) total time=   0.7s\n",
      "[CV 3/3] END C=1, kernel=rbf, probability=True;, score=(train=0.956, test=0.966) total time=   0.7s\n",
      "[CV 1/3] END C=1, kernel=sigmoid, probability=True;, score=(train=0.967, test=0.957) total time=   0.6s\n",
      "[CV 2/3] END C=1, kernel=sigmoid, probability=True;, score=(train=0.960, test=0.960) total time=   0.6s\n",
      "[CV 3/3] END C=1, kernel=sigmoid, probability=True;, score=(train=0.960, test=0.971) total time=   0.5s\n",
      "[CV 1/3] END C=2, kernel=poly, probability=True;, score=(train=0.964, test=0.952) total time=   0.3s\n",
      "[CV 2/3] END C=2, kernel=poly, probability=True;, score=(train=0.960, test=0.958) total time=   0.3s\n",
      "[CV 3/3] END C=2, kernel=poly, probability=True;, score=(train=0.956, test=0.965) total time=   0.3s\n",
      "[CV 1/3] END C=2, kernel=rbf, probability=True;, score=(train=0.965, test=0.953) total time=   0.7s\n",
      "[CV 2/3] END C=2, kernel=rbf, probability=True;, score=(train=0.961, test=0.960) total time=   0.7s\n",
      "[CV 3/3] END C=2, kernel=rbf, probability=True;, score=(train=0.956, test=0.968) total time=   0.6s\n",
      "[CV 1/3] END C=2, kernel=sigmoid, probability=True;, score=(train=0.967, test=0.955) total time=   0.5s\n",
      "[CV 2/3] END C=2, kernel=sigmoid, probability=True;, score=(train=0.963, test=0.963) total time=   0.5s\n",
      "[CV 3/3] END C=2, kernel=sigmoid, probability=True;, score=(train=0.959, test=0.971) total time=   0.5s\n",
      "[CV 1/3] END C=3, kernel=poly, probability=True;, score=(train=0.965, test=0.952) total time=   0.3s\n",
      "[CV 2/3] END C=3, kernel=poly, probability=True;, score=(train=0.961, test=0.958) total time=   0.3s\n",
      "[CV 3/3] END C=3, kernel=poly, probability=True;, score=(train=0.956, test=0.965) total time=   0.3s\n",
      "[CV 1/3] END C=3, kernel=rbf, probability=True;, score=(train=0.965, test=0.953) total time=   0.7s\n",
      "[CV 2/3] END C=3, kernel=rbf, probability=True;, score=(train=0.961, test=0.960) total time=   0.6s\n",
      "[CV 3/3] END C=3, kernel=rbf, probability=True;, score=(train=0.956, test=0.969) total time=   0.7s\n",
      "[CV 1/3] END C=3, kernel=sigmoid, probability=True;, score=(train=0.968, test=0.955) total time=   0.5s\n",
      "[CV 2/3] END C=3, kernel=sigmoid, probability=True;, score=(train=0.965, test=0.963) total time=   0.4s\n",
      "[CV 3/3] END C=3, kernel=sigmoid, probability=True;, score=(train=0.959, test=0.968) total time=   0.5s\n",
      "Best parameters: {'C': 2, 'kernel': 'sigmoid', 'probability': True}\n"
     ]
    }
   ],
   "source": [
    "svc = SVC(cache_size=500)\n",
    "svc_param = {\n",
    "    \"C\": [1, 2, 3],\n",
    "    \"kernel\": [\"poly\", \"rbf\", \"sigmoid\"],\n",
    "    \"probability\": [True],\n",
    "}\n",
    "svc_gcv = create_grid_search(svc, svc_param)\n",
    "svc_gcv.fit(x_train_pca, y_train)\n",
    "\n",
    "print(\"Best parameters:\", svc_gcv.best_params_)"
   ]
  },
  {
   "cell_type": "code",
   "execution_count": 465,
   "metadata": {
    "id": "Hwit7qV9tQYK"
   },
   "outputs": [],
   "source": [
    "# # Save the model\n",
    "svc = svc_gcv.best_estimator_\n",
    "# filename = \"Model/\"+str(dataset_number)+\"/svc\"+str(dataset_number)+\"_model.sav\"\n",
    "# pickle.dump(svc, open(filename, 'wb'))"
   ]
  },
  {
   "cell_type": "markdown",
   "source": [
    "#### Logistic Regression\n",
    "\n",
    "Simple yet effective linear model for classification tasks. \n",
    "It is particularly useful for predicting binary outcomes (e.g., malicious vs benign) and is often used as a baseline model for comparison with more complex models."
   ],
   "metadata": {
    "id": "X7nsGqT66L_e"
   }
  },
  {
   "cell_type": "code",
   "execution_count": 466,
   "metadata": {
    "id": "LlPFCW_3tQYK"
   },
   "outputs": [
    {
     "name": "stdout",
     "output_type": "stream",
     "text": [
      "Fitting 3 folds for each of 10 candidates, totalling 30 fits\n",
      "[CV 1/3] END ...C=1, penalty=l1;, score=(train=nan, test=nan) total time=   0.0s\n",
      "[CV 2/3] END ...C=1, penalty=l1;, score=(train=nan, test=nan) total time=   0.0s\n",
      "[CV 3/3] END ...C=1, penalty=l1;, score=(train=nan, test=nan) total time=   0.0s\n",
      "[CV 1/3] END C=1, penalty=l2;, score=(train=0.965, test=0.952) total time=   0.0s\n",
      "[CV 2/3] END C=1, penalty=l2;, score=(train=0.961, test=0.960) total time=   0.0s\n",
      "[CV 3/3] END C=1, penalty=l2;, score=(train=0.956, test=0.966) total time=   0.0s\n",
      "[CV 1/3] END ...C=2, penalty=l1;, score=(train=nan, test=nan) total time=   0.0s\n",
      "[CV 2/3] END ...C=2, penalty=l1;, score=(train=nan, test=nan) total time=   0.0s\n",
      "[CV 3/3] END ...C=2, penalty=l1;, score=(train=nan, test=nan) total time=   0.0s\n",
      "[CV 1/3] END C=2, penalty=l2;, score=(train=0.965, test=0.952) total time=   0.0s\n",
      "[CV 2/3] END C=2, penalty=l2;, score=(train=0.961, test=0.960) total time=   0.0s\n",
      "[CV 3/3] END C=2, penalty=l2;, score=(train=0.956, test=0.968) total time=   0.0s\n",
      "[CV 1/3] END ...C=3, penalty=l1;, score=(train=nan, test=nan) total time=   0.0s\n",
      "[CV 2/3] END ...C=3, penalty=l1;, score=(train=nan, test=nan) total time=   0.0s\n",
      "[CV 3/3] END ...C=3, penalty=l1;, score=(train=nan, test=nan) total time=   0.0s\n",
      "[CV 1/3] END C=3, penalty=l2;, score=(train=0.965, test=0.953) total time=   0.0s\n",
      "[CV 2/3] END C=3, penalty=l2;, score=(train=0.961, test=0.960) total time=   0.0s\n",
      "[CV 3/3] END C=3, penalty=l2;, score=(train=0.956, test=0.969) total time=   0.0s\n",
      "[CV 1/3] END ...C=4, penalty=l1;, score=(train=nan, test=nan) total time=   0.0s\n",
      "[CV 2/3] END ...C=4, penalty=l1;, score=(train=nan, test=nan) total time=   0.0s\n",
      "[CV 3/3] END ...C=4, penalty=l1;, score=(train=nan, test=nan) total time=   0.0s\n",
      "[CV 1/3] END C=4, penalty=l2;, score=(train=0.965, test=0.953) total time=   0.0s\n",
      "[CV 2/3] END C=4, penalty=l2;, score=(train=0.962, test=0.960) total time=   0.0s\n",
      "[CV 3/3] END C=4, penalty=l2;, score=(train=0.956, test=0.969) total time=   0.0s\n",
      "[CV 1/3] END ...C=5, penalty=l1;, score=(train=nan, test=nan) total time=   0.0s\n",
      "[CV 2/3] END ...C=5, penalty=l1;, score=(train=nan, test=nan) total time=   0.0s\n",
      "[CV 3/3] END ...C=5, penalty=l1;, score=(train=nan, test=nan) total time=   0.0s\n",
      "[CV 1/3] END C=5, penalty=l2;, score=(train=0.965, test=0.953) total time=   0.0s\n",
      "[CV 2/3] END C=5, penalty=l2;, score=(train=0.962, test=0.960) total time=   0.0s\n",
      "[CV 3/3] END C=5, penalty=l2;, score=(train=0.957, test=0.969) total time=   0.0s\n",
      "Best parameters: {'C': 3, 'penalty': 'l2'}\n"
     ]
    },
    {
     "name": "stderr",
     "output_type": "stream",
     "text": [
      "C:\\Users\\moria\\PycharmProjects\\API_Security_Research\\venv\\lib\\site-packages\\sklearn\\model_selection\\_validation.py:378: FitFailedWarning:\n",
      "\n",
      "\n",
      "15 fits failed out of a total of 30.\n",
      "The score on these train-test partitions for these parameters will be set to nan.\n",
      "If these failures are not expected, you can try to debug them by setting error_score='raise'.\n",
      "\n",
      "Below are more details about the failures:\n",
      "--------------------------------------------------------------------------------\n",
      "15 fits failed with the following error:\n",
      "Traceback (most recent call last):\n",
      "  File \"C:\\Users\\moria\\PycharmProjects\\API_Security_Research\\venv\\lib\\site-packages\\sklearn\\model_selection\\_validation.py\", line 686, in _fit_and_score\n",
      "    estimator.fit(X_train, y_train, **fit_params)\n",
      "  File \"C:\\Users\\moria\\PycharmProjects\\API_Security_Research\\venv\\lib\\site-packages\\sklearn\\linear_model\\_logistic.py\", line 1162, in fit\n",
      "    solver = _check_solver(self.solver, self.penalty, self.dual)\n",
      "  File \"C:\\Users\\moria\\PycharmProjects\\API_Security_Research\\venv\\lib\\site-packages\\sklearn\\linear_model\\_logistic.py\", line 54, in _check_solver\n",
      "    raise ValueError(\n",
      "ValueError: Solver lbfgs supports only 'l2' or 'none' penalties, got l1 penalty.\n",
      "\n",
      "\n",
      "C:\\Users\\moria\\PycharmProjects\\API_Security_Research\\venv\\lib\\site-packages\\sklearn\\model_selection\\_search.py:953: UserWarning:\n",
      "\n",
      "One or more of the test scores are non-finite: [       nan 0.95923147        nan 0.95976824        nan 0.96084091\n",
      "        nan 0.96084091        nan 0.96084091]\n",
      "\n",
      "C:\\Users\\moria\\PycharmProjects\\API_Security_Research\\venv\\lib\\site-packages\\sklearn\\model_selection\\_search.py:953: UserWarning:\n",
      "\n",
      "One or more of the train scores are non-finite: [       nan 0.96030158        nan 0.96056974        nan 0.96056974\n",
      "        nan 0.96083791        nan 0.96110608]\n",
      "\n"
     ]
    }
   ],
   "source": [
    "lr = LogisticRegression()\n",
    "lr_param = {\n",
    "    \"C\": [1, 2, 3, 4, 5],\n",
    "    \"penalty\": [\"l1\", \"l2\"],\n",
    "}\n",
    "lr_gcv = create_grid_search(lr, lr_param)\n",
    "lr_gcv.fit(x_train_pca, y_train)\n",
    "\n",
    "# plot_grid_search_results(lr_gcv.cv_results_)\n",
    "print(\"Best parameters:\", lr_gcv.best_params_)"
   ]
  },
  {
   "cell_type": "code",
   "execution_count": 467,
   "metadata": {
    "id": "aW6Hr9XatQYL"
   },
   "outputs": [],
   "source": [
    "# # Save the model\n",
    "lr = lr_gcv.best_estimator_\n",
    "# filename = \"Model/\"+str(dataset_number)+\"/lr\"+str(dataset_number)+\"_model.sav\"\n",
    "# pickle.dump(lr, open(filename, 'wb'))"
   ]
  },
  {
   "cell_type": "markdown",
   "source": [
    "#### KNN\n",
    "\n",
    "Simple yet effective classification algorithm that works by finding the k nearest neighbors of a data point.\n",
    "It is a non-parametric model that does not make any assumptions about the underlying data distribution.\n"
   ],
   "metadata": {
    "id": "ShxFM2lT6aoS"
   }
  },
  {
   "cell_type": "code",
   "execution_count": 468,
   "metadata": {
    "id": "erKztQB5tQYL"
   },
   "outputs": [
    {
     "name": "stdout",
     "output_type": "stream",
     "text": [
      "Fitting 3 folds for each of 6 candidates, totalling 18 fits\n",
      "[CV 1/3] END n_neighbors=5, weights=uniform;, score=(train=0.579, test=0.564) total time=   0.0s\n",
      "[CV 2/3] END n_neighbors=5, weights=uniform;, score=(train=0.962, test=0.958) total time=   0.0s\n",
      "[CV 3/3] END n_neighbors=5, weights=uniform;, score=(train=0.955, test=0.965) total time=   0.0s\n",
      "[CV 1/3] END n_neighbors=5, weights=distance;, score=(train=0.581, test=0.564) total time=   0.0s\n",
      "[CV 2/3] END n_neighbors=5, weights=distance;, score=(train=0.965, test=0.958) total time=   0.0s\n",
      "[CV 3/3] END n_neighbors=5, weights=distance;, score=(train=0.957, test=0.966) total time=   0.0s\n",
      "[CV 1/3] END n_neighbors=9, weights=uniform;, score=(train=0.963, test=0.953) total time=   0.0s\n",
      "[CV 2/3] END n_neighbors=9, weights=uniform;, score=(train=0.961, test=0.958) total time=   0.0s\n",
      "[CV 3/3] END n_neighbors=9, weights=uniform;, score=(train=0.955, test=0.965) total time=   0.0s\n",
      "[CV 1/3] END n_neighbors=9, weights=distance;, score=(train=0.967, test=0.953) total time=   0.0s\n",
      "[CV 2/3] END n_neighbors=9, weights=distance;, score=(train=0.965, test=0.958) total time=   0.0s\n",
      "[CV 3/3] END n_neighbors=9, weights=distance;, score=(train=0.957, test=0.965) total time=   0.0s\n",
      "[CV 1/3] END n_neighbors=13, weights=uniform;, score=(train=0.961, test=0.950) total time=   0.0s\n",
      "[CV 2/3] END n_neighbors=13, weights=uniform;, score=(train=0.958, test=0.958) total time=   0.0s\n",
      "[CV 3/3] END n_neighbors=13, weights=uniform;, score=(train=0.955, test=0.963) total time=   0.0s\n",
      "[CV 1/3] END n_neighbors=13, weights=distance;, score=(train=0.967, test=0.953) total time=   0.0s\n",
      "[CV 2/3] END n_neighbors=13, weights=distance;, score=(train=0.965, test=0.958) total time=   0.0s\n",
      "[CV 3/3] END n_neighbors=13, weights=distance;, score=(train=0.957, test=0.965) total time=   0.0s\n",
      "Best parameters: {'n_neighbors': 9, 'weights': 'uniform'}\n"
     ]
    }
   ],
   "source": [
    "knn = KNeighborsClassifier()\n",
    "knn_param = {\n",
    "    \"n_neighbors\": [5, 9, 13],\n",
    "    \"weights\": [\"uniform\", \"distance\"],\n",
    "}\n",
    "knn_gcv = create_grid_search(knn, knn_param)\n",
    "knn_gcv.fit(x_train_pca, y_train)\n",
    "\n",
    "# plot_grid_search_results(knn_gcv.cv_results_)\n",
    "print(\"Best parameters:\", knn_gcv.best_params_)"
   ]
  },
  {
   "cell_type": "code",
   "execution_count": 469,
   "metadata": {
    "id": "fyorE_PntQYM"
   },
   "outputs": [],
   "source": [
    "# # Save the model\n",
    "knn = knn_gcv.best_estimator_\n",
    "# filename = \"Model/\"+str(dataset_number)+\"/knn\"+str(dataset_number)+\"_model.sav\"\n",
    "# pickle.dump(knn, open(filename, 'wb'))"
   ]
  },
  {
   "cell_type": "markdown",
   "source": [
    "#### Decision Trees\n",
    "\n",
    "Popular choice for classification tasks.\n",
    "They work by recursively partitioning the feature space into smaller and smaller regions, until each region contains only a single class of data points.\n"
   ],
   "metadata": {
    "id": "1Qr6pUrk6ljz"
   }
  },
  {
   "cell_type": "code",
   "execution_count": 470,
   "metadata": {
    "id": "rj8eI5NitQYM"
   },
   "outputs": [
    {
     "name": "stdout",
     "output_type": "stream",
     "text": [
      "Fitting 3 folds for each of 6 candidates, totalling 18 fits\n",
      "[CV 1/3] END criterion=gini, max_depth=5;, score=(train=0.965, test=0.949) total time=   0.0s\n",
      "[CV 2/3] END criterion=gini, max_depth=5;, score=(train=0.961, test=0.957) total time=   0.0s\n",
      "[CV 3/3] END criterion=gini, max_depth=5;, score=(train=0.954, test=0.965) total time=   0.0s\n",
      "[CV 1/3] END criterion=gini, max_depth=7;, score=(train=0.967, test=0.953) total time=   0.0s\n",
      "[CV 2/3] END criterion=gini, max_depth=7;, score=(train=0.965, test=0.958) total time=   0.0s\n",
      "[CV 3/3] END criterion=gini, max_depth=7;, score=(train=0.957, test=0.968) total time=   0.0s\n",
      "[CV 1/3] END criterion=gini, max_depth=9;, score=(train=0.967, test=0.953) total time=   0.0s\n",
      "[CV 2/3] END criterion=gini, max_depth=9;, score=(train=0.965, test=0.958) total time=   0.0s\n",
      "[CV 3/3] END criterion=gini, max_depth=9;, score=(train=0.957, test=0.968) total time=   0.0s\n",
      "[CV 1/3] END criterion=entropy, max_depth=5;, score=(train=0.965, test=0.949) total time=   0.0s\n",
      "[CV 2/3] END criterion=entropy, max_depth=5;, score=(train=0.961, test=0.957) total time=   0.0s\n",
      "[CV 3/3] END criterion=entropy, max_depth=5;, score=(train=0.954, test=0.965) total time=   0.0s\n",
      "[CV 1/3] END criterion=entropy, max_depth=7;, score=(train=0.967, test=0.953) total time=   0.0s\n",
      "[CV 2/3] END criterion=entropy, max_depth=7;, score=(train=0.965, test=0.958) total time=   0.0s\n",
      "[CV 3/3] END criterion=entropy, max_depth=7;, score=(train=0.957, test=0.968) total time=   0.0s\n",
      "[CV 1/3] END criterion=entropy, max_depth=9;, score=(train=0.967, test=0.953) total time=   0.0s\n",
      "[CV 2/3] END criterion=entropy, max_depth=9;, score=(train=0.965, test=0.958) total time=   0.0s\n",
      "[CV 3/3] END criterion=entropy, max_depth=9;, score=(train=0.957, test=0.968) total time=   0.0s\n",
      "Best parameters: {'criterion': 'gini', 'max_depth': 7}\n"
     ]
    }
   ],
   "source": [
    "dt = DecisionTreeClassifier()\n",
    "dt_param = {\n",
    "    \"criterion\": [\"gini\", \"entropy\"],\n",
    "    \"max_depth\": [5, 7, 9],\n",
    "}\n",
    "dt_gcv = create_grid_search(dt, dt_param)\n",
    "dt_gcv.fit(x_train_pca, y_train)\n",
    "\n",
    "# plot_grid_search_results(dt_gcv.cv_results_)\n",
    "print(\"Best parameters:\", dt_gcv.best_params_)"
   ]
  },
  {
   "cell_type": "code",
   "execution_count": 471,
   "metadata": {
    "id": "M-rX4NAktQYO"
   },
   "outputs": [],
   "source": [
    "# # Save the model\n",
    "dt = dt_gcv.best_estimator_\n",
    "# filename = \"Model/\"+str(dataset_number)+\"/dt\"+str(dataset_number)+\"_model.sav\"\n",
    "# pickle.dump(dt, open(filename, 'wb'))"
   ]
  },
  {
   "cell_type": "markdown",
   "source": [
    "#### AdaBoost\n",
    "\n",
    "Popular ensemble method that works by combining the predictions of multiple weak learners.\n",
    "It is a simple way to improve the performance of a model by combining the predictions of multiple models."
   ],
   "metadata": {
    "collapsed": false
   }
  },
  {
   "cell_type": "code",
   "execution_count": 472,
   "metadata": {
    "id": "4xpG7iRstQYO"
   },
   "outputs": [
    {
     "name": "stdout",
     "output_type": "stream",
     "text": [
      "Fitting 3 folds for each of 9 candidates, totalling 27 fits\n",
      "[CV 1/3] END learning_rate=1, n_estimators=3;, score=(train=0.938, test=0.936) total time=   0.0s\n",
      "[CV 2/3] END learning_rate=1, n_estimators=3;, score=(train=0.931, test=0.950) total time=   0.0s\n",
      "[CV 3/3] END learning_rate=1, n_estimators=3;, score=(train=0.943, test=0.926) total time=   0.0s\n",
      "[CV 1/3] END learning_rate=1, n_estimators=5;, score=(train=0.952, test=0.947) total time=   0.0s\n",
      "[CV 2/3] END learning_rate=1, n_estimators=5;, score=(train=0.948, test=0.955) total time=   0.0s\n",
      "[CV 3/3] END learning_rate=1, n_estimators=5;, score=(train=0.944, test=0.942) total time=   0.0s\n",
      "[CV 1/3] END learning_rate=1, n_estimators=10;, score=(train=0.967, test=0.955) total time=   0.0s\n",
      "[CV 2/3] END learning_rate=1, n_estimators=10;, score=(train=0.965, test=0.960) total time=   0.0s\n",
      "[CV 3/3] END learning_rate=1, n_estimators=10;, score=(train=0.957, test=0.973) total time=   0.0s\n",
      "[CV 1/3] END learning_rate=100, n_estimators=3;, score=(train=1.000, test=1.000) total time=   0.0s\n",
      "[CV 2/3] END learning_rate=100, n_estimators=3;, score=(train=1.000, test=1.000) total time=   0.0s\n",
      "[CV 3/3] END learning_rate=100, n_estimators=3;, score=(train=1.000, test=1.000) total time=   0.0s\n",
      "[CV 1/3] END learning_rate=100, n_estimators=5;, score=(train=1.000, test=1.000) total time=   0.0s\n",
      "[CV 2/3] END learning_rate=100, n_estimators=5;, score=(train=1.000, test=1.000) total time=   0.0s\n",
      "[CV 3/3] END learning_rate=100, n_estimators=5;, score=(train=1.000, test=1.000) total time=   0.0s\n",
      "[CV 1/3] END learning_rate=100, n_estimators=10;, score=(train=1.000, test=1.000) total time=   0.0s\n",
      "[CV 2/3] END learning_rate=100, n_estimators=10;, score=(train=1.000, test=1.000) total time=   0.0s\n",
      "[CV 3/3] END learning_rate=100, n_estimators=10;, score=(train=1.000, test=1.000) total time=   0.0s\n",
      "[CV 1/3] END learning_rate=1000, n_estimators=3;, score=(train=0.938, test=0.936) total time=   0.0s\n",
      "[CV 2/3] END learning_rate=1000, n_estimators=3;, score=(train=0.931, test=0.950) total time=   0.0s\n",
      "[CV 3/3] END learning_rate=1000, n_estimators=3;, score=(train=0.943, test=0.926) total time=   0.0s\n",
      "[CV 1/3] END learning_rate=1000, n_estimators=5;, score=(train=0.938, test=0.936) total time=   0.0s\n",
      "[CV 2/3] END learning_rate=1000, n_estimators=5;, score=(train=0.931, test=0.950) total time=   0.0s\n",
      "[CV 3/3] END learning_rate=1000, n_estimators=5;, score=(train=0.943, test=0.926) total time=   0.0s\n",
      "[CV 1/3] END learning_rate=1000, n_estimators=10;, score=(train=0.938, test=0.936) total time=   0.0s\n",
      "[CV 2/3] END learning_rate=1000, n_estimators=10;, score=(train=0.931, test=0.950) total time=   0.0s\n",
      "[CV 3/3] END learning_rate=1000, n_estimators=10;, score=(train=0.943, test=0.926) total time=   0.0s\n",
      "Best parameters: {'learning_rate': 100, 'n_estimators': 3}\n"
     ]
    },
    {
     "name": "stderr",
     "output_type": "stream",
     "text": [
      "C:\\Users\\moria\\PycharmProjects\\API_Security_Research\\venv\\lib\\site-packages\\sklearn\\ensemble\\_weight_boosting.py:627: RuntimeWarning:\n",
      "\n",
      "overflow encountered in exp\n",
      "\n",
      "C:\\Users\\moria\\PycharmProjects\\API_Security_Research\\venv\\lib\\site-packages\\sklearn\\model_selection\\_validation.py:686: UserWarning:\n",
      "\n",
      "Sample weights have reached infinite values, at iteration 1, causing overflow. Iterations stopped. Try lowering the learning rate.\n",
      "\n",
      "C:\\Users\\moria\\PycharmProjects\\API_Security_Research\\venv\\lib\\site-packages\\sklearn\\ensemble\\_weight_boosting.py:627: RuntimeWarning:\n",
      "\n",
      "overflow encountered in exp\n",
      "\n",
      "C:\\Users\\moria\\PycharmProjects\\API_Security_Research\\venv\\lib\\site-packages\\sklearn\\model_selection\\_validation.py:686: UserWarning:\n",
      "\n",
      "Sample weights have reached infinite values, at iteration 1, causing overflow. Iterations stopped. Try lowering the learning rate.\n",
      "\n",
      "C:\\Users\\moria\\PycharmProjects\\API_Security_Research\\venv\\lib\\site-packages\\sklearn\\ensemble\\_weight_boosting.py:627: RuntimeWarning:\n",
      "\n",
      "overflow encountered in exp\n",
      "\n",
      "C:\\Users\\moria\\PycharmProjects\\API_Security_Research\\venv\\lib\\site-packages\\sklearn\\model_selection\\_validation.py:686: UserWarning:\n",
      "\n",
      "Sample weights have reached infinite values, at iteration 1, causing overflow. Iterations stopped. Try lowering the learning rate.\n",
      "\n",
      "C:\\Users\\moria\\PycharmProjects\\API_Security_Research\\venv\\lib\\site-packages\\sklearn\\ensemble\\_weight_boosting.py:627: RuntimeWarning:\n",
      "\n",
      "overflow encountered in exp\n",
      "\n",
      "C:\\Users\\moria\\PycharmProjects\\API_Security_Research\\venv\\lib\\site-packages\\sklearn\\model_selection\\_validation.py:686: UserWarning:\n",
      "\n",
      "Sample weights have reached infinite values, at iteration 1, causing overflow. Iterations stopped. Try lowering the learning rate.\n",
      "\n",
      "C:\\Users\\moria\\PycharmProjects\\API_Security_Research\\venv\\lib\\site-packages\\sklearn\\ensemble\\_weight_boosting.py:627: RuntimeWarning:\n",
      "\n",
      "overflow encountered in exp\n",
      "\n",
      "C:\\Users\\moria\\PycharmProjects\\API_Security_Research\\venv\\lib\\site-packages\\sklearn\\model_selection\\_validation.py:686: UserWarning:\n",
      "\n",
      "Sample weights have reached infinite values, at iteration 1, causing overflow. Iterations stopped. Try lowering the learning rate.\n",
      "\n",
      "C:\\Users\\moria\\PycharmProjects\\API_Security_Research\\venv\\lib\\site-packages\\sklearn\\ensemble\\_weight_boosting.py:627: RuntimeWarning:\n",
      "\n",
      "overflow encountered in exp\n",
      "\n",
      "C:\\Users\\moria\\PycharmProjects\\API_Security_Research\\venv\\lib\\site-packages\\sklearn\\model_selection\\_validation.py:686: UserWarning:\n",
      "\n",
      "Sample weights have reached infinite values, at iteration 1, causing overflow. Iterations stopped. Try lowering the learning rate.\n",
      "\n",
      "C:\\Users\\moria\\PycharmProjects\\API_Security_Research\\venv\\lib\\site-packages\\sklearn\\ensemble\\_weight_boosting.py:627: RuntimeWarning:\n",
      "\n",
      "overflow encountered in exp\n",
      "\n",
      "C:\\Users\\moria\\PycharmProjects\\API_Security_Research\\venv\\lib\\site-packages\\sklearn\\model_selection\\_validation.py:686: UserWarning:\n",
      "\n",
      "Sample weights have reached infinite values, at iteration 1, causing overflow. Iterations stopped. Try lowering the learning rate.\n",
      "\n",
      "C:\\Users\\moria\\PycharmProjects\\API_Security_Research\\venv\\lib\\site-packages\\sklearn\\ensemble\\_weight_boosting.py:627: RuntimeWarning:\n",
      "\n",
      "overflow encountered in exp\n",
      "\n",
      "C:\\Users\\moria\\PycharmProjects\\API_Security_Research\\venv\\lib\\site-packages\\sklearn\\model_selection\\_validation.py:686: UserWarning:\n",
      "\n",
      "Sample weights have reached infinite values, at iteration 1, causing overflow. Iterations stopped. Try lowering the learning rate.\n",
      "\n",
      "C:\\Users\\moria\\PycharmProjects\\API_Security_Research\\venv\\lib\\site-packages\\sklearn\\ensemble\\_weight_boosting.py:627: RuntimeWarning:\n",
      "\n",
      "overflow encountered in exp\n",
      "\n",
      "C:\\Users\\moria\\PycharmProjects\\API_Security_Research\\venv\\lib\\site-packages\\sklearn\\model_selection\\_validation.py:686: UserWarning:\n",
      "\n",
      "Sample weights have reached infinite values, at iteration 1, causing overflow. Iterations stopped. Try lowering the learning rate.\n",
      "\n",
      "C:\\Users\\moria\\PycharmProjects\\API_Security_Research\\venv\\lib\\site-packages\\sklearn\\ensemble\\_weight_boosting.py:627: RuntimeWarning:\n",
      "\n",
      "overflow encountered in exp\n",
      "\n",
      "C:\\Users\\moria\\PycharmProjects\\API_Security_Research\\venv\\lib\\site-packages\\sklearn\\model_selection\\_validation.py:686: UserWarning:\n",
      "\n",
      "Sample weights have reached infinite values, at iteration 0, causing overflow. Iterations stopped. Try lowering the learning rate.\n",
      "\n",
      "C:\\Users\\moria\\PycharmProjects\\API_Security_Research\\venv\\lib\\site-packages\\sklearn\\ensemble\\_weight_boosting.py:627: RuntimeWarning:\n",
      "\n",
      "overflow encountered in exp\n",
      "\n",
      "C:\\Users\\moria\\PycharmProjects\\API_Security_Research\\venv\\lib\\site-packages\\sklearn\\model_selection\\_validation.py:686: UserWarning:\n",
      "\n",
      "Sample weights have reached infinite values, at iteration 0, causing overflow. Iterations stopped. Try lowering the learning rate.\n",
      "\n",
      "C:\\Users\\moria\\PycharmProjects\\API_Security_Research\\venv\\lib\\site-packages\\sklearn\\ensemble\\_weight_boosting.py:627: RuntimeWarning:\n",
      "\n",
      "overflow encountered in exp\n",
      "\n",
      "C:\\Users\\moria\\PycharmProjects\\API_Security_Research\\venv\\lib\\site-packages\\sklearn\\model_selection\\_validation.py:686: UserWarning:\n",
      "\n",
      "Sample weights have reached infinite values, at iteration 0, causing overflow. Iterations stopped. Try lowering the learning rate.\n",
      "\n",
      "C:\\Users\\moria\\PycharmProjects\\API_Security_Research\\venv\\lib\\site-packages\\sklearn\\ensemble\\_weight_boosting.py:627: RuntimeWarning:\n",
      "\n",
      "overflow encountered in exp\n",
      "\n",
      "C:\\Users\\moria\\PycharmProjects\\API_Security_Research\\venv\\lib\\site-packages\\sklearn\\model_selection\\_validation.py:686: UserWarning:\n",
      "\n",
      "Sample weights have reached infinite values, at iteration 0, causing overflow. Iterations stopped. Try lowering the learning rate.\n",
      "\n",
      "C:\\Users\\moria\\PycharmProjects\\API_Security_Research\\venv\\lib\\site-packages\\sklearn\\ensemble\\_weight_boosting.py:627: RuntimeWarning:\n",
      "\n",
      "overflow encountered in exp\n",
      "\n",
      "C:\\Users\\moria\\PycharmProjects\\API_Security_Research\\venv\\lib\\site-packages\\sklearn\\model_selection\\_validation.py:686: UserWarning:\n",
      "\n",
      "Sample weights have reached infinite values, at iteration 0, causing overflow. Iterations stopped. Try lowering the learning rate.\n",
      "\n",
      "C:\\Users\\moria\\PycharmProjects\\API_Security_Research\\venv\\lib\\site-packages\\sklearn\\ensemble\\_weight_boosting.py:627: RuntimeWarning:\n",
      "\n",
      "overflow encountered in exp\n",
      "\n",
      "C:\\Users\\moria\\PycharmProjects\\API_Security_Research\\venv\\lib\\site-packages\\sklearn\\model_selection\\_validation.py:686: UserWarning:\n",
      "\n",
      "Sample weights have reached infinite values, at iteration 0, causing overflow. Iterations stopped. Try lowering the learning rate.\n",
      "\n",
      "C:\\Users\\moria\\PycharmProjects\\API_Security_Research\\venv\\lib\\site-packages\\sklearn\\ensemble\\_weight_boosting.py:627: RuntimeWarning:\n",
      "\n",
      "overflow encountered in exp\n",
      "\n",
      "C:\\Users\\moria\\PycharmProjects\\API_Security_Research\\venv\\lib\\site-packages\\sklearn\\model_selection\\_validation.py:686: UserWarning:\n",
      "\n",
      "Sample weights have reached infinite values, at iteration 0, causing overflow. Iterations stopped. Try lowering the learning rate.\n",
      "\n",
      "C:\\Users\\moria\\PycharmProjects\\API_Security_Research\\venv\\lib\\site-packages\\sklearn\\ensemble\\_weight_boosting.py:627: RuntimeWarning:\n",
      "\n",
      "overflow encountered in exp\n",
      "\n",
      "C:\\Users\\moria\\PycharmProjects\\API_Security_Research\\venv\\lib\\site-packages\\sklearn\\model_selection\\_validation.py:686: UserWarning:\n",
      "\n",
      "Sample weights have reached infinite values, at iteration 0, causing overflow. Iterations stopped. Try lowering the learning rate.\n",
      "\n",
      "C:\\Users\\moria\\PycharmProjects\\API_Security_Research\\venv\\lib\\site-packages\\sklearn\\ensemble\\_weight_boosting.py:627: RuntimeWarning:\n",
      "\n",
      "overflow encountered in exp\n",
      "\n",
      "C:\\Users\\moria\\PycharmProjects\\API_Security_Research\\venv\\lib\\site-packages\\sklearn\\model_selection\\_validation.py:686: UserWarning:\n",
      "\n",
      "Sample weights have reached infinite values, at iteration 0, causing overflow. Iterations stopped. Try lowering the learning rate.\n",
      "\n",
      "C:\\Users\\moria\\PycharmProjects\\API_Security_Research\\venv\\lib\\site-packages\\sklearn\\ensemble\\_weight_boosting.py:627: RuntimeWarning:\n",
      "\n",
      "overflow encountered in exp\n",
      "\n",
      "C:\\Users\\moria\\PycharmProjects\\API_Security_Research\\venv\\lib\\site-packages\\sklearn\\model_selection\\_search.py:910: UserWarning:\n",
      "\n",
      "Sample weights have reached infinite values, at iteration 1, causing overflow. Iterations stopped. Try lowering the learning rate.\n",
      "\n"
     ]
    }
   ],
   "source": [
    "abc = AdaBoostClassifier()\n",
    "abc_param = {\n",
    "    \"n_estimators\": [3, 5, 10],\n",
    "    \"learning_rate\": [1, 100, 1000],\n",
    "}\n",
    "abc_gcv = create_grid_search(abc, abc_param)\n",
    "abc_gcv.fit(x_train_pca, y_train)\n",
    "\n",
    "# plot_grid_search_results(abc_gcv.cv_results_)\n",
    "print(\"Best parameters:\", abc_gcv.best_params_)"
   ]
  },
  {
   "cell_type": "code",
   "execution_count": 473,
   "metadata": {
    "id": "NLca5q90tQYP"
   },
   "outputs": [],
   "source": [
    "# # Save the model\n",
    "abc = abc_gcv.best_estimator_\n",
    "# filename = \"Model/\"+str(dataset_number)+\"/abc\"+str(dataset_number)+\"_model.sav\"\n",
    "# pickle.dump(abc, open(filename, 'wb'))\n"
   ]
  },
  {
   "cell_type": "markdown",
   "source": [
    "#### Gradient Boosting\n",
    "\n",
    "Popular ensemble method that works by combining the predictions of multiple weak learners.\n",
    "It is a simple way to improve the performance of a model by combining the predictions of multiple models.\n"
   ],
   "metadata": {
    "id": "qBEl87sv6wys"
   }
  },
  {
   "cell_type": "code",
   "execution_count": 474,
   "metadata": {
    "id": "PRR9ar89tQYQ"
   },
   "outputs": [
    {
     "name": "stdout",
     "output_type": "stream",
     "text": [
      "Fitting 3 folds for each of 6 candidates, totalling 18 fits\n",
      "[CV 1/3] END learning_rate=0.001, n_estimators=3;, score=(train=1.000, test=1.000) total time=   0.0s\n",
      "[CV 2/3] END learning_rate=0.001, n_estimators=3;, score=(train=1.000, test=1.000) total time=   0.0s\n",
      "[CV 3/3] END learning_rate=0.001, n_estimators=3;, score=(train=1.000, test=1.000) total time=   0.0s\n",
      "[CV 1/3] END learning_rate=0.001, n_estimators=5;, score=(train=1.000, test=1.000) total time=   0.0s\n",
      "[CV 2/3] END learning_rate=0.001, n_estimators=5;, score=(train=1.000, test=1.000) total time=   0.0s\n",
      "[CV 3/3] END learning_rate=0.001, n_estimators=5;, score=(train=1.000, test=1.000) total time=   0.0s\n",
      "[CV 1/3] END learning_rate=0.001, n_estimators=10;, score=(train=1.000, test=1.000) total time=   0.0s\n",
      "[CV 2/3] END learning_rate=0.001, n_estimators=10;, score=(train=1.000, test=1.000) total time=   0.0s\n",
      "[CV 3/3] END learning_rate=0.001, n_estimators=10;, score=(train=1.000, test=1.000) total time=   0.0s\n",
      "[CV 1/3] END learning_rate=0.1, n_estimators=3;, score=(train=0.961, test=0.950) total time=   0.0s\n",
      "[CV 2/3] END learning_rate=0.1, n_estimators=3;, score=(train=0.959, test=0.958) total time=   0.0s\n",
      "[CV 3/3] END learning_rate=0.1, n_estimators=3;, score=(train=0.957, test=0.961) total time=   0.0s\n",
      "[CV 1/3] END learning_rate=0.1, n_estimators=5;, score=(train=0.969, test=0.957) total time=   0.0s\n",
      "[CV 2/3] END learning_rate=0.1, n_estimators=5;, score=(train=0.967, test=0.963) total time=   0.0s\n",
      "[CV 3/3] END learning_rate=0.1, n_estimators=5;, score=(train=0.953, test=0.965) total time=   0.0s\n",
      "[CV 1/3] END learning_rate=0.1, n_estimators=10;, score=(train=0.962, test=0.947) total time=   0.0s\n",
      "[CV 2/3] END learning_rate=0.1, n_estimators=10;, score=(train=0.958, test=0.957) total time=   0.0s\n",
      "[CV 3/3] END learning_rate=0.1, n_estimators=10;, score=(train=0.953, test=0.965) total time=   0.0s\n",
      "Best parameters: {'learning_rate': 0.001, 'n_estimators': 3}\n"
     ]
    }
   ],
   "source": [
    "gbc = GradientBoostingClassifier()\n",
    "gbc_param = {\n",
    "    \"n_estimators\": [3, 5, 10],\n",
    "    \"learning_rate\": [0.001, 0.1],\n",
    "}\n",
    "gbc_gcv = create_grid_search(gbc, gbc_param)\n",
    "gbc_gcv.fit(x_train_pca, y_train)\n",
    "\n",
    "# plot_grid_search_results(gbc_gcv.cv_results_)\n",
    "print(\"Best parameters:\", gbc_gcv.best_params_)"
   ]
  },
  {
   "cell_type": "code",
   "execution_count": 475,
   "metadata": {
    "id": "BQX4Rx6ytQYQ"
   },
   "outputs": [],
   "source": [
    "# # Save the model\n",
    "gbc = gbc_gcv.best_estimator_\n",
    "# filename = \"Model/\"+str(dataset_number)+\"/gbc\"+str(dataset_number)+\"_model.sav\"\n",
    "# pickle.dump(gbc, open(filename, 'wb'))"
   ]
  },
  {
   "cell_type": "markdown",
   "source": [
    "#### Neural Networks\n",
    "\n",
    "popular choice for classification tasks.\n",
    "They work by learning the weights of the connections between neurons in the network."
   ],
   "metadata": {
    "id": "t1n6T-c26-NA"
   }
  },
  {
   "cell_type": "code",
   "execution_count": 476,
   "metadata": {
    "id": "6CyJE8tctQYR"
   },
   "outputs": [
    {
     "name": "stdout",
     "output_type": "stream",
     "text": [
      "Fitting 3 folds for each of 3 candidates, totalling 9 fits\n",
      "[CV 1/3] END activation=logistic, early_stopping=True, learning_rate=constant, solver=sgd;, score=(train=1.000, test=1.000) total time=   0.3s\n",
      "[CV 2/3] END activation=logistic, early_stopping=True, learning_rate=constant, solver=sgd;, score=(train=0.989, test=0.992) total time=   0.3s\n",
      "[CV 3/3] END activation=logistic, early_stopping=True, learning_rate=constant, solver=sgd;, score=(train=0.994, test=0.998) total time=   0.2s\n",
      "[CV 1/3] END activation=logistic, early_stopping=True, learning_rate=invscaling, solver=sgd;, score=(train=0.026, test=0.040) total time=   0.3s\n",
      "[CV 2/3] END activation=logistic, early_stopping=True, learning_rate=invscaling, solver=sgd;, score=(train=1.000, test=1.000) total time=   0.3s\n",
      "[CV 3/3] END activation=logistic, early_stopping=True, learning_rate=invscaling, solver=sgd;, score=(train=1.000, test=1.000) total time=   0.3s\n",
      "[CV 1/3] END activation=logistic, early_stopping=True, learning_rate=adaptive, solver=sgd;, score=(train=0.994, test=0.984) total time=   1.9s\n",
      "[CV 2/3] END activation=logistic, early_stopping=True, learning_rate=adaptive, solver=sgd;, score=(train=1.000, test=1.000) total time=   1.9s\n",
      "[CV 3/3] END activation=logistic, early_stopping=True, learning_rate=adaptive, solver=sgd;, score=(train=0.990, test=0.987) total time=   1.9s\n",
      "Best parameters: {'activation': 'logistic', 'early_stopping': True, 'learning_rate': 'constant', 'solver': 'sgd'}\n"
     ]
    }
   ],
   "source": [
    "mlp = MLPClassifier()\n",
    "mlp_param = {\n",
    "    \"activation\": [\"logistic\"],\n",
    "    \"solver\": [\"sgd\"],\n",
    "    \"learning_rate\": [\"constant\", \"invscaling\", \"adaptive\"],\n",
    "    \"early_stopping\": [True],\n",
    "}\n",
    "mlp_gcv = create_grid_search(mlp, mlp_param)\n",
    "mlp_gcv.fit(x_train_pca, y_train)\n",
    "\n",
    "# plot_grid_search_results(mlp_gcv.cv_results_)\n",
    "print(\"Best parameters:\", mlp_gcv.best_params_)"
   ]
  },
  {
   "cell_type": "code",
   "execution_count": 477,
   "metadata": {
    "id": "yQyzKxNztQYS"
   },
   "outputs": [],
   "source": [
    "# # Save the model\n",
    "mlp = mlp_gcv.best_estimator_\n",
    "# filename = \"Model/\"+str(dataset_number)+\"/mlp\"+str(dataset_number)+\"_model.sav\"\n",
    "# pickle.dump(mlp, open(filename, 'wb'))"
   ]
  },
  {
   "cell_type": "markdown",
   "source": [
    "#### Voting Classifier\n",
    "\n",
    "Meta-classifier that combines the predictions of multiple classifiers.\n",
    "It is a simple way to improve the performance of a model by combining the predictions of multiple models.\n"
   ],
   "metadata": {
    "id": "Wbh3lFrE7Iav"
   }
  },
  {
   "cell_type": "code",
   "execution_count": 478,
   "metadata": {
    "id": "pjecOnGrtQYS"
   },
   "outputs": [
    {
     "name": "stdout",
     "output_type": "stream",
     "text": [
      "Fitting 3 folds for each of 18 candidates, totalling 54 fits\n",
      "[CV 1/3] END voting=hard, weights=[1, 1, 1, 1, 1, 1, 1, 1];, score=(train=0.969, test=0.957) total time=   1.2s\n",
      "[CV 2/3] END voting=hard, weights=[1, 1, 1, 1, 1, 1, 1, 1];, score=(train=0.965, test=0.963) total time=   1.2s\n",
      "[CV 3/3] END voting=hard, weights=[1, 1, 1, 1, 1, 1, 1, 1];, score=(train=0.959, test=0.968) total time=   1.2s\n",
      "[CV 1/3] END voting=hard, weights=[7, 1, 1, 1, 1, 1, 1, 1];, score=(train=0.960, test=0.950) total time=   1.3s\n",
      "[CV 2/3] END voting=hard, weights=[7, 1, 1, 1, 1, 1, 1, 1];, score=(train=0.965, test=0.963) total time=   1.5s\n",
      "[CV 3/3] END voting=hard, weights=[7, 1, 1, 1, 1, 1, 1, 1];, score=(train=0.959, test=0.966) total time=   1.7s\n",
      "[CV 1/3] END voting=hard, weights=[1, 7, 1, 1, 1, 1, 1, 1];, score=(train=0.967, test=0.955) total time=   1.5s\n",
      "[CV 2/3] END voting=hard, weights=[1, 7, 1, 1, 1, 1, 1, 1];, score=(train=0.963, test=0.963) total time=   1.4s\n",
      "[CV 3/3] END voting=hard, weights=[1, 7, 1, 1, 1, 1, 1, 1];, score=(train=0.959, test=0.971) total time=   1.5s\n",
      "[CV 1/3] END voting=hard, weights=[1, 1, 7, 1, 1, 1, 1, 1];, score=(train=0.965, test=0.953) total time=   1.5s\n",
      "[CV 2/3] END voting=hard, weights=[1, 1, 7, 1, 1, 1, 1, 1];, score=(train=0.961, test=0.960) total time=   1.4s\n",
      "[CV 3/3] END voting=hard, weights=[1, 1, 7, 1, 1, 1, 1, 1];, score=(train=0.956, test=0.969) total time=   1.6s\n",
      "[CV 1/3] END voting=hard, weights=[1, 1, 1, 7, 1, 1, 1, 1];, score=(train=0.963, test=0.953) total time=   1.2s\n",
      "[CV 2/3] END voting=hard, weights=[1, 1, 1, 7, 1, 1, 1, 1];, score=(train=0.961, test=0.958) total time=   1.4s\n",
      "[CV 3/3] END voting=hard, weights=[1, 1, 1, 7, 1, 1, 1, 1];, score=(train=0.955, test=0.965) total time=   1.2s\n",
      "[CV 1/3] END voting=hard, weights=[1, 1, 1, 1, 7, 1, 1, 1];, score=(train=0.967, test=0.953) total time=   1.2s\n",
      "[CV 2/3] END voting=hard, weights=[1, 1, 1, 1, 7, 1, 1, 1];, score=(train=0.965, test=0.958) total time=   1.2s\n",
      "[CV 3/3] END voting=hard, weights=[1, 1, 1, 1, 7, 1, 1, 1];, score=(train=0.957, test=0.968) total time=   1.2s\n",
      "[CV 1/3] END voting=hard, weights=[1, 1, 1, 1, 1, 7, 1, 1];, score=(train=1.000, test=1.000) total time=   1.4s\n",
      "[CV 2/3] END voting=hard, weights=[1, 1, 1, 1, 1, 7, 1, 1];, score=(train=1.000, test=1.000) total time=   1.2s\n",
      "[CV 3/3] END voting=hard, weights=[1, 1, 1, 1, 1, 7, 1, 1];, score=(train=1.000, test=1.000) total time=   1.1s\n",
      "[CV 1/3] END voting=hard, weights=[1, 1, 1, 1, 1, 1, 7, 1];, score=(train=1.000, test=1.000) total time=   1.1s\n",
      "[CV 2/3] END voting=hard, weights=[1, 1, 1, 1, 1, 1, 7, 1];, score=(train=1.000, test=1.000) total time=   1.2s\n",
      "[CV 3/3] END voting=hard, weights=[1, 1, 1, 1, 1, 1, 7, 1];, score=(train=1.000, test=1.000) total time=   1.1s\n",
      "[CV 1/3] END voting=hard, weights=[1, 1, 1, 1, 1, 1, 1, 7];, score=(train=0.618, test=0.614) total time=   1.1s\n",
      "[CV 2/3] END voting=hard, weights=[1, 1, 1, 1, 1, 1, 1, 7];, score=(train=0.990, test=0.992) total time=   1.2s\n",
      "[CV 3/3] END voting=hard, weights=[1, 1, 1, 1, 1, 1, 1, 7];, score=(train=0.984, test=0.968) total time=   1.2s\n",
      "[CV 1/3] END voting=soft, weights=[1, 1, 1, 1, 1, 1, 1, 1];, score=(train=0.967, test=0.953) total time=   1.3s\n",
      "[CV 2/3] END voting=soft, weights=[1, 1, 1, 1, 1, 1, 1, 1];, score=(train=0.964, test=0.960) total time=   1.2s\n",
      "[CV 3/3] END voting=soft, weights=[1, 1, 1, 1, 1, 1, 1, 1];, score=(train=0.957, test=0.968) total time=   1.2s\n",
      "[CV 1/3] END voting=soft, weights=[7, 1, 1, 1, 1, 1, 1, 1];, score=(train=0.966, test=0.953) total time=   1.5s\n",
      "[CV 2/3] END voting=soft, weights=[7, 1, 1, 1, 1, 1, 1, 1];, score=(train=0.964, test=0.960) total time=   1.3s\n",
      "[CV 3/3] END voting=soft, weights=[7, 1, 1, 1, 1, 1, 1, 1];, score=(train=0.957, test=0.968) total time=   1.3s\n",
      "[CV 1/3] END voting=soft, weights=[1, 7, 1, 1, 1, 1, 1, 1];, score=(train=0.967, test=0.955) total time=   1.2s\n",
      "[CV 2/3] END voting=soft, weights=[1, 7, 1, 1, 1, 1, 1, 1];, score=(train=0.961, test=0.960) total time=   1.2s\n",
      "[CV 3/3] END voting=soft, weights=[1, 7, 1, 1, 1, 1, 1, 1];, score=(train=0.959, test=0.968) total time=   1.2s\n",
      "[CV 1/3] END voting=soft, weights=[1, 1, 7, 1, 1, 1, 1, 1];, score=(train=0.965, test=0.953) total time=   1.2s\n",
      "[CV 2/3] END voting=soft, weights=[1, 1, 7, 1, 1, 1, 1, 1];, score=(train=0.963, test=0.960) total time=   1.2s\n",
      "[CV 3/3] END voting=soft, weights=[1, 1, 7, 1, 1, 1, 1, 1];, score=(train=0.956, test=0.969) total time=   1.1s\n",
      "[CV 1/3] END voting=soft, weights=[1, 1, 1, 7, 1, 1, 1, 1];, score=(train=0.965, test=0.953) total time=   1.2s\n",
      "[CV 2/3] END voting=soft, weights=[1, 1, 1, 7, 1, 1, 1, 1];, score=(train=0.962, test=0.958) total time=   1.4s\n",
      "[CV 3/3] END voting=soft, weights=[1, 1, 1, 7, 1, 1, 1, 1];, score=(train=0.955, test=0.965) total time=   1.2s\n",
      "[CV 1/3] END voting=soft, weights=[1, 1, 1, 1, 7, 1, 1, 1];, score=(train=0.967, test=0.953) total time=   1.3s\n",
      "[CV 2/3] END voting=soft, weights=[1, 1, 1, 1, 7, 1, 1, 1];, score=(train=0.965, test=0.958) total time=   1.2s\n",
      "[CV 3/3] END voting=soft, weights=[1, 1, 1, 1, 7, 1, 1, 1];, score=(train=0.957, test=0.968) total time=   1.4s\n",
      "[CV 1/3] END voting=soft, weights=[1, 1, 1, 1, 1, 7, 1, 1];, score=(train=1.000, test=1.000) total time=   1.2s\n",
      "[CV 2/3] END voting=soft, weights=[1, 1, 1, 1, 1, 7, 1, 1];, score=(train=0.998, test=0.997) total time=   1.1s\n",
      "[CV 3/3] END voting=soft, weights=[1, 1, 1, 1, 1, 7, 1, 1];, score=(train=1.000, test=1.000) total time=   1.1s\n",
      "[CV 1/3] END voting=soft, weights=[1, 1, 1, 1, 1, 1, 7, 1];, score=(train=0.967, test=0.953) total time=   1.2s\n",
      "[CV 2/3] END voting=soft, weights=[1, 1, 1, 1, 1, 1, 7, 1];, score=(train=0.965, test=0.960) total time=   1.1s\n",
      "[CV 3/3] END voting=soft, weights=[1, 1, 1, 1, 1, 1, 7, 1];, score=(train=0.957, test=0.969) total time=   1.2s\n",
      "[CV 1/3] END voting=soft, weights=[1, 1, 1, 1, 1, 1, 1, 7];, score=(train=0.967, test=0.953) total time=   1.1s\n",
      "[CV 2/3] END voting=soft, weights=[1, 1, 1, 1, 1, 1, 1, 7];, score=(train=0.964, test=0.960) total time=   1.1s\n",
      "[CV 3/3] END voting=soft, weights=[1, 1, 1, 1, 1, 1, 1, 7];, score=(train=0.961, test=0.974) total time=   1.2s\n",
      "Best parameters: {'voting': 'hard', 'weights': [1, 1, 1, 1, 1, 7, 1, 1]}\n"
     ]
    },
    {
     "name": "stderr",
     "output_type": "stream",
     "text": [
      "C:\\Users\\moria\\PycharmProjects\\API_Security_Research\\venv\\lib\\site-packages\\sklearn\\ensemble\\_weight_boosting.py:627: RuntimeWarning:\n",
      "\n",
      "overflow encountered in exp\n",
      "\n",
      "C:\\Users\\moria\\PycharmProjects\\API_Security_Research\\venv\\lib\\site-packages\\sklearn\\ensemble\\_base.py:46: UserWarning:\n",
      "\n",
      "Sample weights have reached infinite values, at iteration 1, causing overflow. Iterations stopped. Try lowering the learning rate.\n",
      "\n",
      "C:\\Users\\moria\\PycharmProjects\\API_Security_Research\\venv\\lib\\site-packages\\sklearn\\ensemble\\_weight_boosting.py:627: RuntimeWarning:\n",
      "\n",
      "overflow encountered in exp\n",
      "\n",
      "C:\\Users\\moria\\PycharmProjects\\API_Security_Research\\venv\\lib\\site-packages\\sklearn\\ensemble\\_base.py:46: UserWarning:\n",
      "\n",
      "Sample weights have reached infinite values, at iteration 1, causing overflow. Iterations stopped. Try lowering the learning rate.\n",
      "\n",
      "C:\\Users\\moria\\PycharmProjects\\API_Security_Research\\venv\\lib\\site-packages\\sklearn\\ensemble\\_weight_boosting.py:627: RuntimeWarning:\n",
      "\n",
      "overflow encountered in exp\n",
      "\n",
      "C:\\Users\\moria\\PycharmProjects\\API_Security_Research\\venv\\lib\\site-packages\\sklearn\\ensemble\\_base.py:46: UserWarning:\n",
      "\n",
      "Sample weights have reached infinite values, at iteration 1, causing overflow. Iterations stopped. Try lowering the learning rate.\n",
      "\n",
      "C:\\Users\\moria\\PycharmProjects\\API_Security_Research\\venv\\lib\\site-packages\\sklearn\\ensemble\\_weight_boosting.py:627: RuntimeWarning:\n",
      "\n",
      "overflow encountered in exp\n",
      "\n",
      "C:\\Users\\moria\\PycharmProjects\\API_Security_Research\\venv\\lib\\site-packages\\sklearn\\ensemble\\_base.py:46: UserWarning:\n",
      "\n",
      "Sample weights have reached infinite values, at iteration 1, causing overflow. Iterations stopped. Try lowering the learning rate.\n",
      "\n",
      "C:\\Users\\moria\\PycharmProjects\\API_Security_Research\\venv\\lib\\site-packages\\sklearn\\ensemble\\_weight_boosting.py:627: RuntimeWarning:\n",
      "\n",
      "overflow encountered in exp\n",
      "\n",
      "C:\\Users\\moria\\PycharmProjects\\API_Security_Research\\venv\\lib\\site-packages\\sklearn\\ensemble\\_base.py:46: UserWarning:\n",
      "\n",
      "Sample weights have reached infinite values, at iteration 1, causing overflow. Iterations stopped. Try lowering the learning rate.\n",
      "\n",
      "C:\\Users\\moria\\PycharmProjects\\API_Security_Research\\venv\\lib\\site-packages\\sklearn\\ensemble\\_weight_boosting.py:627: RuntimeWarning:\n",
      "\n",
      "overflow encountered in exp\n",
      "\n",
      "C:\\Users\\moria\\PycharmProjects\\API_Security_Research\\venv\\lib\\site-packages\\sklearn\\ensemble\\_base.py:46: UserWarning:\n",
      "\n",
      "Sample weights have reached infinite values, at iteration 1, causing overflow. Iterations stopped. Try lowering the learning rate.\n",
      "\n",
      "C:\\Users\\moria\\PycharmProjects\\API_Security_Research\\venv\\lib\\site-packages\\sklearn\\ensemble\\_weight_boosting.py:627: RuntimeWarning:\n",
      "\n",
      "overflow encountered in exp\n",
      "\n",
      "C:\\Users\\moria\\PycharmProjects\\API_Security_Research\\venv\\lib\\site-packages\\sklearn\\ensemble\\_base.py:46: UserWarning:\n",
      "\n",
      "Sample weights have reached infinite values, at iteration 1, causing overflow. Iterations stopped. Try lowering the learning rate.\n",
      "\n",
      "C:\\Users\\moria\\PycharmProjects\\API_Security_Research\\venv\\lib\\site-packages\\sklearn\\ensemble\\_weight_boosting.py:627: RuntimeWarning:\n",
      "\n",
      "overflow encountered in exp\n",
      "\n",
      "C:\\Users\\moria\\PycharmProjects\\API_Security_Research\\venv\\lib\\site-packages\\sklearn\\ensemble\\_base.py:46: UserWarning:\n",
      "\n",
      "Sample weights have reached infinite values, at iteration 1, causing overflow. Iterations stopped. Try lowering the learning rate.\n",
      "\n",
      "C:\\Users\\moria\\PycharmProjects\\API_Security_Research\\venv\\lib\\site-packages\\sklearn\\ensemble\\_weight_boosting.py:627: RuntimeWarning:\n",
      "\n",
      "overflow encountered in exp\n",
      "\n",
      "C:\\Users\\moria\\PycharmProjects\\API_Security_Research\\venv\\lib\\site-packages\\sklearn\\ensemble\\_base.py:46: UserWarning:\n",
      "\n",
      "Sample weights have reached infinite values, at iteration 1, causing overflow. Iterations stopped. Try lowering the learning rate.\n",
      "\n",
      "C:\\Users\\moria\\PycharmProjects\\API_Security_Research\\venv\\lib\\site-packages\\sklearn\\ensemble\\_weight_boosting.py:627: RuntimeWarning:\n",
      "\n",
      "overflow encountered in exp\n",
      "\n",
      "C:\\Users\\moria\\PycharmProjects\\API_Security_Research\\venv\\lib\\site-packages\\sklearn\\ensemble\\_base.py:46: UserWarning:\n",
      "\n",
      "Sample weights have reached infinite values, at iteration 1, causing overflow. Iterations stopped. Try lowering the learning rate.\n",
      "\n",
      "C:\\Users\\moria\\PycharmProjects\\API_Security_Research\\venv\\lib\\site-packages\\sklearn\\ensemble\\_weight_boosting.py:627: RuntimeWarning:\n",
      "\n",
      "overflow encountered in exp\n",
      "\n",
      "C:\\Users\\moria\\PycharmProjects\\API_Security_Research\\venv\\lib\\site-packages\\sklearn\\ensemble\\_base.py:46: UserWarning:\n",
      "\n",
      "Sample weights have reached infinite values, at iteration 1, causing overflow. Iterations stopped. Try lowering the learning rate.\n",
      "\n",
      "C:\\Users\\moria\\PycharmProjects\\API_Security_Research\\venv\\lib\\site-packages\\sklearn\\ensemble\\_weight_boosting.py:627: RuntimeWarning:\n",
      "\n",
      "overflow encountered in exp\n",
      "\n",
      "C:\\Users\\moria\\PycharmProjects\\API_Security_Research\\venv\\lib\\site-packages\\sklearn\\ensemble\\_base.py:46: UserWarning:\n",
      "\n",
      "Sample weights have reached infinite values, at iteration 1, causing overflow. Iterations stopped. Try lowering the learning rate.\n",
      "\n",
      "C:\\Users\\moria\\PycharmProjects\\API_Security_Research\\venv\\lib\\site-packages\\sklearn\\ensemble\\_weight_boosting.py:627: RuntimeWarning:\n",
      "\n",
      "overflow encountered in exp\n",
      "\n",
      "C:\\Users\\moria\\PycharmProjects\\API_Security_Research\\venv\\lib\\site-packages\\sklearn\\ensemble\\_base.py:46: UserWarning:\n",
      "\n",
      "Sample weights have reached infinite values, at iteration 1, causing overflow. Iterations stopped. Try lowering the learning rate.\n",
      "\n",
      "C:\\Users\\moria\\PycharmProjects\\API_Security_Research\\venv\\lib\\site-packages\\sklearn\\ensemble\\_weight_boosting.py:627: RuntimeWarning:\n",
      "\n",
      "overflow encountered in exp\n",
      "\n",
      "C:\\Users\\moria\\PycharmProjects\\API_Security_Research\\venv\\lib\\site-packages\\sklearn\\ensemble\\_base.py:46: UserWarning:\n",
      "\n",
      "Sample weights have reached infinite values, at iteration 1, causing overflow. Iterations stopped. Try lowering the learning rate.\n",
      "\n",
      "C:\\Users\\moria\\PycharmProjects\\API_Security_Research\\venv\\lib\\site-packages\\sklearn\\ensemble\\_weight_boosting.py:627: RuntimeWarning:\n",
      "\n",
      "overflow encountered in exp\n",
      "\n",
      "C:\\Users\\moria\\PycharmProjects\\API_Security_Research\\venv\\lib\\site-packages\\sklearn\\ensemble\\_base.py:46: UserWarning:\n",
      "\n",
      "Sample weights have reached infinite values, at iteration 1, causing overflow. Iterations stopped. Try lowering the learning rate.\n",
      "\n",
      "C:\\Users\\moria\\PycharmProjects\\API_Security_Research\\venv\\lib\\site-packages\\sklearn\\ensemble\\_weight_boosting.py:627: RuntimeWarning:\n",
      "\n",
      "overflow encountered in exp\n",
      "\n",
      "C:\\Users\\moria\\PycharmProjects\\API_Security_Research\\venv\\lib\\site-packages\\sklearn\\ensemble\\_base.py:46: UserWarning:\n",
      "\n",
      "Sample weights have reached infinite values, at iteration 1, causing overflow. Iterations stopped. Try lowering the learning rate.\n",
      "\n",
      "C:\\Users\\moria\\PycharmProjects\\API_Security_Research\\venv\\lib\\site-packages\\sklearn\\ensemble\\_weight_boosting.py:627: RuntimeWarning:\n",
      "\n",
      "overflow encountered in exp\n",
      "\n",
      "C:\\Users\\moria\\PycharmProjects\\API_Security_Research\\venv\\lib\\site-packages\\sklearn\\ensemble\\_base.py:46: UserWarning:\n",
      "\n",
      "Sample weights have reached infinite values, at iteration 1, causing overflow. Iterations stopped. Try lowering the learning rate.\n",
      "\n",
      "C:\\Users\\moria\\PycharmProjects\\API_Security_Research\\venv\\lib\\site-packages\\sklearn\\ensemble\\_weight_boosting.py:627: RuntimeWarning:\n",
      "\n",
      "overflow encountered in exp\n",
      "\n",
      "C:\\Users\\moria\\PycharmProjects\\API_Security_Research\\venv\\lib\\site-packages\\sklearn\\ensemble\\_base.py:46: UserWarning:\n",
      "\n",
      "Sample weights have reached infinite values, at iteration 1, causing overflow. Iterations stopped. Try lowering the learning rate.\n",
      "\n",
      "C:\\Users\\moria\\PycharmProjects\\API_Security_Research\\venv\\lib\\site-packages\\sklearn\\ensemble\\_weight_boosting.py:627: RuntimeWarning:\n",
      "\n",
      "overflow encountered in exp\n",
      "\n",
      "C:\\Users\\moria\\PycharmProjects\\API_Security_Research\\venv\\lib\\site-packages\\sklearn\\ensemble\\_base.py:46: UserWarning:\n",
      "\n",
      "Sample weights have reached infinite values, at iteration 1, causing overflow. Iterations stopped. Try lowering the learning rate.\n",
      "\n",
      "C:\\Users\\moria\\PycharmProjects\\API_Security_Research\\venv\\lib\\site-packages\\sklearn\\ensemble\\_weight_boosting.py:627: RuntimeWarning:\n",
      "\n",
      "overflow encountered in exp\n",
      "\n",
      "C:\\Users\\moria\\PycharmProjects\\API_Security_Research\\venv\\lib\\site-packages\\sklearn\\ensemble\\_base.py:46: UserWarning:\n",
      "\n",
      "Sample weights have reached infinite values, at iteration 1, causing overflow. Iterations stopped. Try lowering the learning rate.\n",
      "\n",
      "C:\\Users\\moria\\PycharmProjects\\API_Security_Research\\venv\\lib\\site-packages\\sklearn\\ensemble\\_weight_boosting.py:627: RuntimeWarning:\n",
      "\n",
      "overflow encountered in exp\n",
      "\n",
      "C:\\Users\\moria\\PycharmProjects\\API_Security_Research\\venv\\lib\\site-packages\\sklearn\\ensemble\\_base.py:46: UserWarning:\n",
      "\n",
      "Sample weights have reached infinite values, at iteration 1, causing overflow. Iterations stopped. Try lowering the learning rate.\n",
      "\n",
      "C:\\Users\\moria\\PycharmProjects\\API_Security_Research\\venv\\lib\\site-packages\\sklearn\\ensemble\\_weight_boosting.py:627: RuntimeWarning:\n",
      "\n",
      "overflow encountered in exp\n",
      "\n",
      "C:\\Users\\moria\\PycharmProjects\\API_Security_Research\\venv\\lib\\site-packages\\sklearn\\ensemble\\_base.py:46: UserWarning:\n",
      "\n",
      "Sample weights have reached infinite values, at iteration 1, causing overflow. Iterations stopped. Try lowering the learning rate.\n",
      "\n",
      "C:\\Users\\moria\\PycharmProjects\\API_Security_Research\\venv\\lib\\site-packages\\sklearn\\ensemble\\_weight_boosting.py:627: RuntimeWarning:\n",
      "\n",
      "overflow encountered in exp\n",
      "\n",
      "C:\\Users\\moria\\PycharmProjects\\API_Security_Research\\venv\\lib\\site-packages\\sklearn\\ensemble\\_base.py:46: UserWarning:\n",
      "\n",
      "Sample weights have reached infinite values, at iteration 1, causing overflow. Iterations stopped. Try lowering the learning rate.\n",
      "\n",
      "C:\\Users\\moria\\PycharmProjects\\API_Security_Research\\venv\\lib\\site-packages\\sklearn\\ensemble\\_weight_boosting.py:627: RuntimeWarning:\n",
      "\n",
      "overflow encountered in exp\n",
      "\n",
      "C:\\Users\\moria\\PycharmProjects\\API_Security_Research\\venv\\lib\\site-packages\\sklearn\\ensemble\\_base.py:46: UserWarning:\n",
      "\n",
      "Sample weights have reached infinite values, at iteration 1, causing overflow. Iterations stopped. Try lowering the learning rate.\n",
      "\n",
      "C:\\Users\\moria\\PycharmProjects\\API_Security_Research\\venv\\lib\\site-packages\\sklearn\\ensemble\\_weight_boosting.py:627: RuntimeWarning:\n",
      "\n",
      "overflow encountered in exp\n",
      "\n",
      "C:\\Users\\moria\\PycharmProjects\\API_Security_Research\\venv\\lib\\site-packages\\sklearn\\ensemble\\_base.py:46: UserWarning:\n",
      "\n",
      "Sample weights have reached infinite values, at iteration 1, causing overflow. Iterations stopped. Try lowering the learning rate.\n",
      "\n",
      "C:\\Users\\moria\\PycharmProjects\\API_Security_Research\\venv\\lib\\site-packages\\sklearn\\ensemble\\_weight_boosting.py:627: RuntimeWarning:\n",
      "\n",
      "overflow encountered in exp\n",
      "\n",
      "C:\\Users\\moria\\PycharmProjects\\API_Security_Research\\venv\\lib\\site-packages\\sklearn\\ensemble\\_base.py:46: UserWarning:\n",
      "\n",
      "Sample weights have reached infinite values, at iteration 1, causing overflow. Iterations stopped. Try lowering the learning rate.\n",
      "\n",
      "C:\\Users\\moria\\PycharmProjects\\API_Security_Research\\venv\\lib\\site-packages\\sklearn\\ensemble\\_weight_boosting.py:627: RuntimeWarning:\n",
      "\n",
      "overflow encountered in exp\n",
      "\n",
      "C:\\Users\\moria\\PycharmProjects\\API_Security_Research\\venv\\lib\\site-packages\\sklearn\\ensemble\\_base.py:46: UserWarning:\n",
      "\n",
      "Sample weights have reached infinite values, at iteration 1, causing overflow. Iterations stopped. Try lowering the learning rate.\n",
      "\n",
      "C:\\Users\\moria\\PycharmProjects\\API_Security_Research\\venv\\lib\\site-packages\\sklearn\\ensemble\\_weight_boosting.py:627: RuntimeWarning:\n",
      "\n",
      "overflow encountered in exp\n",
      "\n",
      "C:\\Users\\moria\\PycharmProjects\\API_Security_Research\\venv\\lib\\site-packages\\sklearn\\ensemble\\_base.py:46: UserWarning:\n",
      "\n",
      "Sample weights have reached infinite values, at iteration 1, causing overflow. Iterations stopped. Try lowering the learning rate.\n",
      "\n",
      "C:\\Users\\moria\\PycharmProjects\\API_Security_Research\\venv\\lib\\site-packages\\sklearn\\ensemble\\_weight_boosting.py:627: RuntimeWarning:\n",
      "\n",
      "overflow encountered in exp\n",
      "\n",
      "C:\\Users\\moria\\PycharmProjects\\API_Security_Research\\venv\\lib\\site-packages\\sklearn\\ensemble\\_base.py:46: UserWarning:\n",
      "\n",
      "Sample weights have reached infinite values, at iteration 1, causing overflow. Iterations stopped. Try lowering the learning rate.\n",
      "\n",
      "C:\\Users\\moria\\PycharmProjects\\API_Security_Research\\venv\\lib\\site-packages\\sklearn\\ensemble\\_weight_boosting.py:627: RuntimeWarning:\n",
      "\n",
      "overflow encountered in exp\n",
      "\n",
      "C:\\Users\\moria\\PycharmProjects\\API_Security_Research\\venv\\lib\\site-packages\\sklearn\\ensemble\\_base.py:46: UserWarning:\n",
      "\n",
      "Sample weights have reached infinite values, at iteration 1, causing overflow. Iterations stopped. Try lowering the learning rate.\n",
      "\n",
      "C:\\Users\\moria\\PycharmProjects\\API_Security_Research\\venv\\lib\\site-packages\\sklearn\\ensemble\\_weight_boosting.py:627: RuntimeWarning:\n",
      "\n",
      "overflow encountered in exp\n",
      "\n",
      "C:\\Users\\moria\\PycharmProjects\\API_Security_Research\\venv\\lib\\site-packages\\sklearn\\ensemble\\_base.py:46: UserWarning:\n",
      "\n",
      "Sample weights have reached infinite values, at iteration 1, causing overflow. Iterations stopped. Try lowering the learning rate.\n",
      "\n",
      "C:\\Users\\moria\\PycharmProjects\\API_Security_Research\\venv\\lib\\site-packages\\sklearn\\ensemble\\_weight_boosting.py:627: RuntimeWarning:\n",
      "\n",
      "overflow encountered in exp\n",
      "\n",
      "C:\\Users\\moria\\PycharmProjects\\API_Security_Research\\venv\\lib\\site-packages\\sklearn\\ensemble\\_base.py:46: UserWarning:\n",
      "\n",
      "Sample weights have reached infinite values, at iteration 1, causing overflow. Iterations stopped. Try lowering the learning rate.\n",
      "\n",
      "C:\\Users\\moria\\PycharmProjects\\API_Security_Research\\venv\\lib\\site-packages\\sklearn\\ensemble\\_weight_boosting.py:627: RuntimeWarning:\n",
      "\n",
      "overflow encountered in exp\n",
      "\n",
      "C:\\Users\\moria\\PycharmProjects\\API_Security_Research\\venv\\lib\\site-packages\\sklearn\\ensemble\\_base.py:46: UserWarning:\n",
      "\n",
      "Sample weights have reached infinite values, at iteration 1, causing overflow. Iterations stopped. Try lowering the learning rate.\n",
      "\n",
      "C:\\Users\\moria\\PycharmProjects\\API_Security_Research\\venv\\lib\\site-packages\\sklearn\\ensemble\\_weight_boosting.py:627: RuntimeWarning:\n",
      "\n",
      "overflow encountered in exp\n",
      "\n",
      "C:\\Users\\moria\\PycharmProjects\\API_Security_Research\\venv\\lib\\site-packages\\sklearn\\ensemble\\_base.py:46: UserWarning:\n",
      "\n",
      "Sample weights have reached infinite values, at iteration 1, causing overflow. Iterations stopped. Try lowering the learning rate.\n",
      "\n",
      "C:\\Users\\moria\\PycharmProjects\\API_Security_Research\\venv\\lib\\site-packages\\sklearn\\ensemble\\_weight_boosting.py:627: RuntimeWarning:\n",
      "\n",
      "overflow encountered in exp\n",
      "\n",
      "C:\\Users\\moria\\PycharmProjects\\API_Security_Research\\venv\\lib\\site-packages\\sklearn\\ensemble\\_base.py:46: UserWarning:\n",
      "\n",
      "Sample weights have reached infinite values, at iteration 1, causing overflow. Iterations stopped. Try lowering the learning rate.\n",
      "\n",
      "C:\\Users\\moria\\PycharmProjects\\API_Security_Research\\venv\\lib\\site-packages\\sklearn\\ensemble\\_weight_boosting.py:627: RuntimeWarning:\n",
      "\n",
      "overflow encountered in exp\n",
      "\n",
      "C:\\Users\\moria\\PycharmProjects\\API_Security_Research\\venv\\lib\\site-packages\\sklearn\\ensemble\\_base.py:46: UserWarning:\n",
      "\n",
      "Sample weights have reached infinite values, at iteration 1, causing overflow. Iterations stopped. Try lowering the learning rate.\n",
      "\n",
      "C:\\Users\\moria\\PycharmProjects\\API_Security_Research\\venv\\lib\\site-packages\\sklearn\\ensemble\\_weight_boosting.py:627: RuntimeWarning:\n",
      "\n",
      "overflow encountered in exp\n",
      "\n",
      "C:\\Users\\moria\\PycharmProjects\\API_Security_Research\\venv\\lib\\site-packages\\sklearn\\ensemble\\_base.py:46: UserWarning:\n",
      "\n",
      "Sample weights have reached infinite values, at iteration 1, causing overflow. Iterations stopped. Try lowering the learning rate.\n",
      "\n",
      "C:\\Users\\moria\\PycharmProjects\\API_Security_Research\\venv\\lib\\site-packages\\sklearn\\ensemble\\_weight_boosting.py:627: RuntimeWarning:\n",
      "\n",
      "overflow encountered in exp\n",
      "\n",
      "C:\\Users\\moria\\PycharmProjects\\API_Security_Research\\venv\\lib\\site-packages\\sklearn\\ensemble\\_base.py:46: UserWarning:\n",
      "\n",
      "Sample weights have reached infinite values, at iteration 1, causing overflow. Iterations stopped. Try lowering the learning rate.\n",
      "\n",
      "C:\\Users\\moria\\PycharmProjects\\API_Security_Research\\venv\\lib\\site-packages\\sklearn\\ensemble\\_weight_boosting.py:627: RuntimeWarning:\n",
      "\n",
      "overflow encountered in exp\n",
      "\n",
      "C:\\Users\\moria\\PycharmProjects\\API_Security_Research\\venv\\lib\\site-packages\\sklearn\\ensemble\\_base.py:46: UserWarning:\n",
      "\n",
      "Sample weights have reached infinite values, at iteration 1, causing overflow. Iterations stopped. Try lowering the learning rate.\n",
      "\n",
      "C:\\Users\\moria\\PycharmProjects\\API_Security_Research\\venv\\lib\\site-packages\\sklearn\\ensemble\\_weight_boosting.py:627: RuntimeWarning:\n",
      "\n",
      "overflow encountered in exp\n",
      "\n",
      "C:\\Users\\moria\\PycharmProjects\\API_Security_Research\\venv\\lib\\site-packages\\sklearn\\ensemble\\_base.py:46: UserWarning:\n",
      "\n",
      "Sample weights have reached infinite values, at iteration 1, causing overflow. Iterations stopped. Try lowering the learning rate.\n",
      "\n",
      "C:\\Users\\moria\\PycharmProjects\\API_Security_Research\\venv\\lib\\site-packages\\sklearn\\ensemble\\_weight_boosting.py:627: RuntimeWarning:\n",
      "\n",
      "overflow encountered in exp\n",
      "\n",
      "C:\\Users\\moria\\PycharmProjects\\API_Security_Research\\venv\\lib\\site-packages\\sklearn\\ensemble\\_base.py:46: UserWarning:\n",
      "\n",
      "Sample weights have reached infinite values, at iteration 1, causing overflow. Iterations stopped. Try lowering the learning rate.\n",
      "\n",
      "C:\\Users\\moria\\PycharmProjects\\API_Security_Research\\venv\\lib\\site-packages\\sklearn\\ensemble\\_weight_boosting.py:627: RuntimeWarning:\n",
      "\n",
      "overflow encountered in exp\n",
      "\n",
      "C:\\Users\\moria\\PycharmProjects\\API_Security_Research\\venv\\lib\\site-packages\\sklearn\\ensemble\\_base.py:46: UserWarning:\n",
      "\n",
      "Sample weights have reached infinite values, at iteration 1, causing overflow. Iterations stopped. Try lowering the learning rate.\n",
      "\n",
      "C:\\Users\\moria\\PycharmProjects\\API_Security_Research\\venv\\lib\\site-packages\\sklearn\\ensemble\\_weight_boosting.py:627: RuntimeWarning:\n",
      "\n",
      "overflow encountered in exp\n",
      "\n",
      "C:\\Users\\moria\\PycharmProjects\\API_Security_Research\\venv\\lib\\site-packages\\sklearn\\ensemble\\_base.py:46: UserWarning:\n",
      "\n",
      "Sample weights have reached infinite values, at iteration 1, causing overflow. Iterations stopped. Try lowering the learning rate.\n",
      "\n",
      "C:\\Users\\moria\\PycharmProjects\\API_Security_Research\\venv\\lib\\site-packages\\sklearn\\ensemble\\_weight_boosting.py:627: RuntimeWarning:\n",
      "\n",
      "overflow encountered in exp\n",
      "\n",
      "C:\\Users\\moria\\PycharmProjects\\API_Security_Research\\venv\\lib\\site-packages\\sklearn\\ensemble\\_base.py:46: UserWarning:\n",
      "\n",
      "Sample weights have reached infinite values, at iteration 1, causing overflow. Iterations stopped. Try lowering the learning rate.\n",
      "\n",
      "C:\\Users\\moria\\PycharmProjects\\API_Security_Research\\venv\\lib\\site-packages\\sklearn\\ensemble\\_weight_boosting.py:627: RuntimeWarning:\n",
      "\n",
      "overflow encountered in exp\n",
      "\n",
      "C:\\Users\\moria\\PycharmProjects\\API_Security_Research\\venv\\lib\\site-packages\\sklearn\\ensemble\\_base.py:46: UserWarning:\n",
      "\n",
      "Sample weights have reached infinite values, at iteration 1, causing overflow. Iterations stopped. Try lowering the learning rate.\n",
      "\n",
      "C:\\Users\\moria\\PycharmProjects\\API_Security_Research\\venv\\lib\\site-packages\\sklearn\\ensemble\\_weight_boosting.py:627: RuntimeWarning:\n",
      "\n",
      "overflow encountered in exp\n",
      "\n",
      "C:\\Users\\moria\\PycharmProjects\\API_Security_Research\\venv\\lib\\site-packages\\sklearn\\ensemble\\_base.py:46: UserWarning:\n",
      "\n",
      "Sample weights have reached infinite values, at iteration 1, causing overflow. Iterations stopped. Try lowering the learning rate.\n",
      "\n",
      "C:\\Users\\moria\\PycharmProjects\\API_Security_Research\\venv\\lib\\site-packages\\sklearn\\ensemble\\_weight_boosting.py:627: RuntimeWarning:\n",
      "\n",
      "overflow encountered in exp\n",
      "\n",
      "C:\\Users\\moria\\PycharmProjects\\API_Security_Research\\venv\\lib\\site-packages\\sklearn\\ensemble\\_base.py:46: UserWarning:\n",
      "\n",
      "Sample weights have reached infinite values, at iteration 1, causing overflow. Iterations stopped. Try lowering the learning rate.\n",
      "\n",
      "C:\\Users\\moria\\PycharmProjects\\API_Security_Research\\venv\\lib\\site-packages\\sklearn\\ensemble\\_weight_boosting.py:627: RuntimeWarning:\n",
      "\n",
      "overflow encountered in exp\n",
      "\n",
      "C:\\Users\\moria\\PycharmProjects\\API_Security_Research\\venv\\lib\\site-packages\\sklearn\\ensemble\\_base.py:46: UserWarning:\n",
      "\n",
      "Sample weights have reached infinite values, at iteration 1, causing overflow. Iterations stopped. Try lowering the learning rate.\n",
      "\n",
      "C:\\Users\\moria\\PycharmProjects\\API_Security_Research\\venv\\lib\\site-packages\\sklearn\\ensemble\\_weight_boosting.py:627: RuntimeWarning:\n",
      "\n",
      "overflow encountered in exp\n",
      "\n",
      "C:\\Users\\moria\\PycharmProjects\\API_Security_Research\\venv\\lib\\site-packages\\sklearn\\ensemble\\_base.py:46: UserWarning:\n",
      "\n",
      "Sample weights have reached infinite values, at iteration 1, causing overflow. Iterations stopped. Try lowering the learning rate.\n",
      "\n",
      "C:\\Users\\moria\\PycharmProjects\\API_Security_Research\\venv\\lib\\site-packages\\sklearn\\ensemble\\_weight_boosting.py:627: RuntimeWarning:\n",
      "\n",
      "overflow encountered in exp\n",
      "\n",
      "C:\\Users\\moria\\PycharmProjects\\API_Security_Research\\venv\\lib\\site-packages\\sklearn\\ensemble\\_base.py:46: UserWarning:\n",
      "\n",
      "Sample weights have reached infinite values, at iteration 1, causing overflow. Iterations stopped. Try lowering the learning rate.\n",
      "\n",
      "C:\\Users\\moria\\PycharmProjects\\API_Security_Research\\venv\\lib\\site-packages\\sklearn\\ensemble\\_weight_boosting.py:627: RuntimeWarning:\n",
      "\n",
      "overflow encountered in exp\n",
      "\n",
      "C:\\Users\\moria\\PycharmProjects\\API_Security_Research\\venv\\lib\\site-packages\\sklearn\\ensemble\\_base.py:46: UserWarning:\n",
      "\n",
      "Sample weights have reached infinite values, at iteration 1, causing overflow. Iterations stopped. Try lowering the learning rate.\n",
      "\n",
      "C:\\Users\\moria\\PycharmProjects\\API_Security_Research\\venv\\lib\\site-packages\\sklearn\\ensemble\\_weight_boosting.py:627: RuntimeWarning:\n",
      "\n",
      "overflow encountered in exp\n",
      "\n",
      "C:\\Users\\moria\\PycharmProjects\\API_Security_Research\\venv\\lib\\site-packages\\sklearn\\ensemble\\_base.py:46: UserWarning:\n",
      "\n",
      "Sample weights have reached infinite values, at iteration 1, causing overflow. Iterations stopped. Try lowering the learning rate.\n",
      "\n",
      "C:\\Users\\moria\\PycharmProjects\\API_Security_Research\\venv\\lib\\site-packages\\sklearn\\ensemble\\_weight_boosting.py:627: RuntimeWarning:\n",
      "\n",
      "overflow encountered in exp\n",
      "\n",
      "C:\\Users\\moria\\PycharmProjects\\API_Security_Research\\venv\\lib\\site-packages\\sklearn\\ensemble\\_base.py:46: UserWarning:\n",
      "\n",
      "Sample weights have reached infinite values, at iteration 1, causing overflow. Iterations stopped. Try lowering the learning rate.\n",
      "\n",
      "C:\\Users\\moria\\PycharmProjects\\API_Security_Research\\venv\\lib\\site-packages\\sklearn\\ensemble\\_weight_boosting.py:627: RuntimeWarning:\n",
      "\n",
      "overflow encountered in exp\n",
      "\n",
      "C:\\Users\\moria\\PycharmProjects\\API_Security_Research\\venv\\lib\\site-packages\\sklearn\\ensemble\\_base.py:46: UserWarning:\n",
      "\n",
      "Sample weights have reached infinite values, at iteration 1, causing overflow. Iterations stopped. Try lowering the learning rate.\n",
      "\n",
      "C:\\Users\\moria\\PycharmProjects\\API_Security_Research\\venv\\lib\\site-packages\\sklearn\\ensemble\\_weight_boosting.py:627: RuntimeWarning:\n",
      "\n",
      "overflow encountered in exp\n",
      "\n",
      "C:\\Users\\moria\\PycharmProjects\\API_Security_Research\\venv\\lib\\site-packages\\sklearn\\ensemble\\_base.py:46: UserWarning:\n",
      "\n",
      "Sample weights have reached infinite values, at iteration 1, causing overflow. Iterations stopped. Try lowering the learning rate.\n",
      "\n"
     ]
    }
   ],
   "source": [
    "vc = VotingClassifier(estimators=[(\"clf\",clf),\n",
    "                                  (\"svc\",svc),\n",
    "                                  (\"lr\",lr),\n",
    "                                  (\"knn\",knn),\n",
    "                                  (\"dt\",dt),\n",
    "                                  (\"abc\",abc),\n",
    "                                  (\"gbc\",gbc),\n",
    "                                  (\"mlp\",mlp)])\n",
    "vc_param = {\n",
    "    \"weights\": [[1,1,1,1,1,1,1,1],\n",
    "                [7,1,1,1,1,1,1,1],\n",
    "                [1,7,1,1,1,1,1,1],\n",
    "                [1,1,7,1,1,1,1,1],\n",
    "                [1,1,1,7,1,1,1,1],\n",
    "                [1,1,1,1,7,1,1,1],\n",
    "                [1,1,1,1,1,7,1,1],\n",
    "                [1,1,1,1,1,1,7,1],\n",
    "                [1,1,1,1,1,1,1,7]],\n",
    "    \"voting\": [\"hard\", \"soft\"],\n",
    "}\n",
    "vc_gcv = create_grid_search(vc, vc_param)\n",
    "vc_gcv.fit(x_train_pca, y_train)\n",
    "\n",
    "# plot_grid_search_results(vc_gcv.cv_results_)\n",
    "print(\"Best parameters:\", vc_gcv.best_params_)"
   ]
  },
  {
   "cell_type": "code",
   "execution_count": 479,
   "metadata": {
    "id": "p1cgfU-btQYT"
   },
   "outputs": [],
   "source": [
    "# # Save the model\n",
    "vc = vc_gcv.best_estimator_\n",
    "# filename = \"Model/\"+str(dataset_number)+\"/vc\"+str(dataset_number)+\"_model.sav\"\n",
    "# pickle.dump(vc, open(filename, 'wb'))"
   ]
  },
  {
   "cell_type": "markdown",
   "source": [
    "#### Stacking Classifier\n",
    "\n",
    "Meta-classifier that combines the predictions of multiple classifiers.\n",
    "It is a simple way to improve the performance of a model by combining the predictions of multiple models.\n"
   ],
   "metadata": {
    "id": "IdpwW8Uu7Tzr"
   }
  },
  {
   "cell_type": "code",
   "execution_count": 480,
   "metadata": {
    "id": "mQqM32pEtQYU"
   },
   "outputs": [
    {
     "name": "stdout",
     "output_type": "stream",
     "text": [
      "Fitting 3 folds for each of 8 candidates, totalling 24 fits\n",
      "[CV 1/3] END cv=prefit, final_estimator__C=0;, score=(train=nan, test=nan) total time=   0.0s\n",
      "[CV 2/3] END cv=prefit, final_estimator__C=0;, score=(train=nan, test=nan) total time=   0.0s\n",
      "[CV 3/3] END cv=prefit, final_estimator__C=0;, score=(train=nan, test=nan) total time=   0.0s\n",
      "[CV 1/3] END cv=prefit, final_estimator__C=1;, score=(train=nan, test=nan) total time=   0.0s\n",
      "[CV 2/3] END cv=prefit, final_estimator__C=1;, score=(train=nan, test=nan) total time=   0.0s\n",
      "[CV 3/3] END cv=prefit, final_estimator__C=1;, score=(train=nan, test=nan) total time=   0.0s\n",
      "[CV 1/3] END cv=prefit, final_estimator__C=2;, score=(train=nan, test=nan) total time=   0.0s\n",
      "[CV 2/3] END cv=prefit, final_estimator__C=2;, score=(train=nan, test=nan) total time=   0.0s\n",
      "[CV 3/3] END cv=prefit, final_estimator__C=2;, score=(train=nan, test=nan) total time=   0.0s\n",
      "[CV 1/3] END cv=prefit, final_estimator__C=3;, score=(train=nan, test=nan) total time=   0.0s\n",
      "[CV 2/3] END cv=prefit, final_estimator__C=3;, score=(train=nan, test=nan) total time=   0.0s\n",
      "[CV 3/3] END cv=prefit, final_estimator__C=3;, score=(train=nan, test=nan) total time=   0.0s\n",
      "[CV 1/3] END cv=None, final_estimator__C=0;, score=(train=nan, test=nan) total time=   6.1s\n",
      "[CV 2/3] END cv=None, final_estimator__C=0;, score=(train=nan, test=nan) total time=   5.6s\n",
      "[CV 3/3] END cv=None, final_estimator__C=0;, score=(train=nan, test=nan) total time=   6.1s\n",
      "[CV 1/3] END cv=None, final_estimator__C=1;, score=(train=0.966, test=0.953) total time=   6.0s\n",
      "[CV 2/3] END cv=None, final_estimator__C=1;, score=(train=0.964, test=0.960) total time=   5.7s\n",
      "[CV 3/3] END cv=None, final_estimator__C=1;, score=(train=0.957, test=0.971) total time=   5.5s\n",
      "[CV 1/3] END cv=None, final_estimator__C=2;, score=(train=0.966, test=0.953) total time=   5.7s\n",
      "[CV 2/3] END cv=None, final_estimator__C=2;, score=(train=0.965, test=0.960) total time=   5.6s\n",
      "[CV 3/3] END cv=None, final_estimator__C=2;, score=(train=0.957, test=0.971) total time=   5.5s\n",
      "[CV 1/3] END cv=None, final_estimator__C=3;, score=(train=0.966, test=0.953) total time=   6.4s\n",
      "[CV 2/3] END cv=None, final_estimator__C=3;, score=(train=0.965, test=0.960) total time=   6.3s\n",
      "[CV 3/3] END cv=None, final_estimator__C=3;, score=(train=0.957, test=0.971) total time=   5.6s\n",
      "Best parameters: {'cv': None, 'final_estimator__C': 1}\n"
     ]
    },
    {
     "name": "stderr",
     "output_type": "stream",
     "text": [
      "C:\\Users\\moria\\PycharmProjects\\API_Security_Research\\venv\\lib\\site-packages\\sklearn\\ensemble\\_weight_boosting.py:627: RuntimeWarning:\n",
      "\n",
      "overflow encountered in exp\n",
      "\n",
      "C:\\Users\\moria\\PycharmProjects\\API_Security_Research\\venv\\lib\\site-packages\\sklearn\\ensemble\\_base.py:46: UserWarning:\n",
      "\n",
      "Sample weights have reached infinite values, at iteration 1, causing overflow. Iterations stopped. Try lowering the learning rate.\n",
      "\n",
      "C:\\Users\\moria\\PycharmProjects\\API_Security_Research\\venv\\lib\\site-packages\\sklearn\\ensemble\\_weight_boosting.py:627: RuntimeWarning:\n",
      "\n",
      "overflow encountered in exp\n",
      "\n",
      "C:\\Users\\moria\\PycharmProjects\\API_Security_Research\\venv\\lib\\site-packages\\sklearn\\model_selection\\_validation.py:1050: UserWarning:\n",
      "\n",
      "Sample weights have reached infinite values, at iteration 1, causing overflow. Iterations stopped. Try lowering the learning rate.\n",
      "\n",
      "C:\\Users\\moria\\PycharmProjects\\API_Security_Research\\venv\\lib\\site-packages\\sklearn\\ensemble\\_weight_boosting.py:627: RuntimeWarning:\n",
      "\n",
      "overflow encountered in exp\n",
      "\n",
      "C:\\Users\\moria\\PycharmProjects\\API_Security_Research\\venv\\lib\\site-packages\\sklearn\\model_selection\\_validation.py:1050: UserWarning:\n",
      "\n",
      "Sample weights have reached infinite values, at iteration 1, causing overflow. Iterations stopped. Try lowering the learning rate.\n",
      "\n",
      "C:\\Users\\moria\\PycharmProjects\\API_Security_Research\\venv\\lib\\site-packages\\sklearn\\ensemble\\_weight_boosting.py:627: RuntimeWarning:\n",
      "\n",
      "overflow encountered in exp\n",
      "\n",
      "C:\\Users\\moria\\PycharmProjects\\API_Security_Research\\venv\\lib\\site-packages\\sklearn\\model_selection\\_validation.py:1050: UserWarning:\n",
      "\n",
      "Sample weights have reached infinite values, at iteration 1, causing overflow. Iterations stopped. Try lowering the learning rate.\n",
      "\n",
      "C:\\Users\\moria\\PycharmProjects\\API_Security_Research\\venv\\lib\\site-packages\\sklearn\\ensemble\\_weight_boosting.py:627: RuntimeWarning:\n",
      "\n",
      "overflow encountered in exp\n",
      "\n",
      "C:\\Users\\moria\\PycharmProjects\\API_Security_Research\\venv\\lib\\site-packages\\sklearn\\model_selection\\_validation.py:1050: UserWarning:\n",
      "\n",
      "Sample weights have reached infinite values, at iteration 1, causing overflow. Iterations stopped. Try lowering the learning rate.\n",
      "\n",
      "C:\\Users\\moria\\PycharmProjects\\API_Security_Research\\venv\\lib\\site-packages\\sklearn\\ensemble\\_weight_boosting.py:627: RuntimeWarning:\n",
      "\n",
      "overflow encountered in exp\n",
      "\n",
      "C:\\Users\\moria\\PycharmProjects\\API_Security_Research\\venv\\lib\\site-packages\\sklearn\\model_selection\\_validation.py:1050: UserWarning:\n",
      "\n",
      "Sample weights have reached infinite values, at iteration 1, causing overflow. Iterations stopped. Try lowering the learning rate.\n",
      "\n",
      "C:\\Users\\moria\\PycharmProjects\\API_Security_Research\\venv\\lib\\site-packages\\sklearn\\ensemble\\_weight_boosting.py:627: RuntimeWarning:\n",
      "\n",
      "overflow encountered in exp\n",
      "\n",
      "C:\\Users\\moria\\PycharmProjects\\API_Security_Research\\venv\\lib\\site-packages\\sklearn\\ensemble\\_base.py:46: UserWarning:\n",
      "\n",
      "Sample weights have reached infinite values, at iteration 1, causing overflow. Iterations stopped. Try lowering the learning rate.\n",
      "\n",
      "C:\\Users\\moria\\PycharmProjects\\API_Security_Research\\venv\\lib\\site-packages\\sklearn\\ensemble\\_weight_boosting.py:627: RuntimeWarning:\n",
      "\n",
      "overflow encountered in exp\n",
      "\n",
      "C:\\Users\\moria\\PycharmProjects\\API_Security_Research\\venv\\lib\\site-packages\\sklearn\\model_selection\\_validation.py:1050: UserWarning:\n",
      "\n",
      "Sample weights have reached infinite values, at iteration 1, causing overflow. Iterations stopped. Try lowering the learning rate.\n",
      "\n",
      "C:\\Users\\moria\\PycharmProjects\\API_Security_Research\\venv\\lib\\site-packages\\sklearn\\ensemble\\_weight_boosting.py:627: RuntimeWarning:\n",
      "\n",
      "overflow encountered in exp\n",
      "\n",
      "C:\\Users\\moria\\PycharmProjects\\API_Security_Research\\venv\\lib\\site-packages\\sklearn\\model_selection\\_validation.py:1050: UserWarning:\n",
      "\n",
      "Sample weights have reached infinite values, at iteration 1, causing overflow. Iterations stopped. Try lowering the learning rate.\n",
      "\n",
      "C:\\Users\\moria\\PycharmProjects\\API_Security_Research\\venv\\lib\\site-packages\\sklearn\\ensemble\\_weight_boosting.py:627: RuntimeWarning:\n",
      "\n",
      "overflow encountered in exp\n",
      "\n",
      "C:\\Users\\moria\\PycharmProjects\\API_Security_Research\\venv\\lib\\site-packages\\sklearn\\model_selection\\_validation.py:1050: UserWarning:\n",
      "\n",
      "Sample weights have reached infinite values, at iteration 1, causing overflow. Iterations stopped. Try lowering the learning rate.\n",
      "\n",
      "C:\\Users\\moria\\PycharmProjects\\API_Security_Research\\venv\\lib\\site-packages\\sklearn\\ensemble\\_weight_boosting.py:627: RuntimeWarning:\n",
      "\n",
      "overflow encountered in exp\n",
      "\n",
      "C:\\Users\\moria\\PycharmProjects\\API_Security_Research\\venv\\lib\\site-packages\\sklearn\\model_selection\\_validation.py:1050: UserWarning:\n",
      "\n",
      "Sample weights have reached infinite values, at iteration 1, causing overflow. Iterations stopped. Try lowering the learning rate.\n",
      "\n",
      "C:\\Users\\moria\\PycharmProjects\\API_Security_Research\\venv\\lib\\site-packages\\sklearn\\ensemble\\_weight_boosting.py:627: RuntimeWarning:\n",
      "\n",
      "overflow encountered in exp\n",
      "\n",
      "C:\\Users\\moria\\PycharmProjects\\API_Security_Research\\venv\\lib\\site-packages\\sklearn\\model_selection\\_validation.py:1050: UserWarning:\n",
      "\n",
      "Sample weights have reached infinite values, at iteration 1, causing overflow. Iterations stopped. Try lowering the learning rate.\n",
      "\n",
      "C:\\Users\\moria\\PycharmProjects\\API_Security_Research\\venv\\lib\\site-packages\\sklearn\\ensemble\\_weight_boosting.py:627: RuntimeWarning:\n",
      "\n",
      "overflow encountered in exp\n",
      "\n",
      "C:\\Users\\moria\\PycharmProjects\\API_Security_Research\\venv\\lib\\site-packages\\sklearn\\ensemble\\_base.py:46: UserWarning:\n",
      "\n",
      "Sample weights have reached infinite values, at iteration 1, causing overflow. Iterations stopped. Try lowering the learning rate.\n",
      "\n",
      "C:\\Users\\moria\\PycharmProjects\\API_Security_Research\\venv\\lib\\site-packages\\sklearn\\ensemble\\_weight_boosting.py:627: RuntimeWarning:\n",
      "\n",
      "overflow encountered in exp\n",
      "\n",
      "C:\\Users\\moria\\PycharmProjects\\API_Security_Research\\venv\\lib\\site-packages\\sklearn\\model_selection\\_validation.py:1050: UserWarning:\n",
      "\n",
      "Sample weights have reached infinite values, at iteration 1, causing overflow. Iterations stopped. Try lowering the learning rate.\n",
      "\n",
      "C:\\Users\\moria\\PycharmProjects\\API_Security_Research\\venv\\lib\\site-packages\\sklearn\\ensemble\\_weight_boosting.py:627: RuntimeWarning:\n",
      "\n",
      "overflow encountered in exp\n",
      "\n",
      "C:\\Users\\moria\\PycharmProjects\\API_Security_Research\\venv\\lib\\site-packages\\sklearn\\model_selection\\_validation.py:1050: UserWarning:\n",
      "\n",
      "Sample weights have reached infinite values, at iteration 1, causing overflow. Iterations stopped. Try lowering the learning rate.\n",
      "\n",
      "C:\\Users\\moria\\PycharmProjects\\API_Security_Research\\venv\\lib\\site-packages\\sklearn\\ensemble\\_weight_boosting.py:627: RuntimeWarning:\n",
      "\n",
      "overflow encountered in exp\n",
      "\n",
      "C:\\Users\\moria\\PycharmProjects\\API_Security_Research\\venv\\lib\\site-packages\\sklearn\\model_selection\\_validation.py:1050: UserWarning:\n",
      "\n",
      "Sample weights have reached infinite values, at iteration 1, causing overflow. Iterations stopped. Try lowering the learning rate.\n",
      "\n",
      "C:\\Users\\moria\\PycharmProjects\\API_Security_Research\\venv\\lib\\site-packages\\sklearn\\ensemble\\_weight_boosting.py:627: RuntimeWarning:\n",
      "\n",
      "overflow encountered in exp\n",
      "\n",
      "C:\\Users\\moria\\PycharmProjects\\API_Security_Research\\venv\\lib\\site-packages\\sklearn\\model_selection\\_validation.py:1050: UserWarning:\n",
      "\n",
      "Sample weights have reached infinite values, at iteration 1, causing overflow. Iterations stopped. Try lowering the learning rate.\n",
      "\n",
      "C:\\Users\\moria\\PycharmProjects\\API_Security_Research\\venv\\lib\\site-packages\\sklearn\\ensemble\\_weight_boosting.py:627: RuntimeWarning:\n",
      "\n",
      "overflow encountered in exp\n",
      "\n",
      "C:\\Users\\moria\\PycharmProjects\\API_Security_Research\\venv\\lib\\site-packages\\sklearn\\model_selection\\_validation.py:1050: UserWarning:\n",
      "\n",
      "Sample weights have reached infinite values, at iteration 1, causing overflow. Iterations stopped. Try lowering the learning rate.\n",
      "\n",
      "C:\\Users\\moria\\PycharmProjects\\API_Security_Research\\venv\\lib\\site-packages\\sklearn\\ensemble\\_weight_boosting.py:627: RuntimeWarning:\n",
      "\n",
      "overflow encountered in exp\n",
      "\n",
      "C:\\Users\\moria\\PycharmProjects\\API_Security_Research\\venv\\lib\\site-packages\\sklearn\\ensemble\\_base.py:46: UserWarning:\n",
      "\n",
      "Sample weights have reached infinite values, at iteration 1, causing overflow. Iterations stopped. Try lowering the learning rate.\n",
      "\n",
      "C:\\Users\\moria\\PycharmProjects\\API_Security_Research\\venv\\lib\\site-packages\\sklearn\\ensemble\\_weight_boosting.py:627: RuntimeWarning:\n",
      "\n",
      "overflow encountered in exp\n",
      "\n",
      "C:\\Users\\moria\\PycharmProjects\\API_Security_Research\\venv\\lib\\site-packages\\sklearn\\model_selection\\_validation.py:1050: UserWarning:\n",
      "\n",
      "Sample weights have reached infinite values, at iteration 1, causing overflow. Iterations stopped. Try lowering the learning rate.\n",
      "\n",
      "C:\\Users\\moria\\PycharmProjects\\API_Security_Research\\venv\\lib\\site-packages\\sklearn\\ensemble\\_weight_boosting.py:627: RuntimeWarning:\n",
      "\n",
      "overflow encountered in exp\n",
      "\n",
      "C:\\Users\\moria\\PycharmProjects\\API_Security_Research\\venv\\lib\\site-packages\\sklearn\\model_selection\\_validation.py:1050: UserWarning:\n",
      "\n",
      "Sample weights have reached infinite values, at iteration 1, causing overflow. Iterations stopped. Try lowering the learning rate.\n",
      "\n",
      "C:\\Users\\moria\\PycharmProjects\\API_Security_Research\\venv\\lib\\site-packages\\sklearn\\ensemble\\_weight_boosting.py:627: RuntimeWarning:\n",
      "\n",
      "overflow encountered in exp\n",
      "\n",
      "C:\\Users\\moria\\PycharmProjects\\API_Security_Research\\venv\\lib\\site-packages\\sklearn\\model_selection\\_validation.py:1050: UserWarning:\n",
      "\n",
      "Sample weights have reached infinite values, at iteration 1, causing overflow. Iterations stopped. Try lowering the learning rate.\n",
      "\n",
      "C:\\Users\\moria\\PycharmProjects\\API_Security_Research\\venv\\lib\\site-packages\\sklearn\\ensemble\\_weight_boosting.py:627: RuntimeWarning:\n",
      "\n",
      "overflow encountered in exp\n",
      "\n",
      "C:\\Users\\moria\\PycharmProjects\\API_Security_Research\\venv\\lib\\site-packages\\sklearn\\model_selection\\_validation.py:1050: UserWarning:\n",
      "\n",
      "Sample weights have reached infinite values, at iteration 1, causing overflow. Iterations stopped. Try lowering the learning rate.\n",
      "\n",
      "C:\\Users\\moria\\PycharmProjects\\API_Security_Research\\venv\\lib\\site-packages\\sklearn\\ensemble\\_weight_boosting.py:627: RuntimeWarning:\n",
      "\n",
      "overflow encountered in exp\n",
      "\n",
      "C:\\Users\\moria\\PycharmProjects\\API_Security_Research\\venv\\lib\\site-packages\\sklearn\\model_selection\\_validation.py:1050: UserWarning:\n",
      "\n",
      "Sample weights have reached infinite values, at iteration 1, causing overflow. Iterations stopped. Try lowering the learning rate.\n",
      "\n",
      "C:\\Users\\moria\\PycharmProjects\\API_Security_Research\\venv\\lib\\site-packages\\sklearn\\ensemble\\_weight_boosting.py:627: RuntimeWarning:\n",
      "\n",
      "overflow encountered in exp\n",
      "\n",
      "C:\\Users\\moria\\PycharmProjects\\API_Security_Research\\venv\\lib\\site-packages\\sklearn\\ensemble\\_base.py:46: UserWarning:\n",
      "\n",
      "Sample weights have reached infinite values, at iteration 1, causing overflow. Iterations stopped. Try lowering the learning rate.\n",
      "\n",
      "C:\\Users\\moria\\PycharmProjects\\API_Security_Research\\venv\\lib\\site-packages\\sklearn\\ensemble\\_weight_boosting.py:627: RuntimeWarning:\n",
      "\n",
      "overflow encountered in exp\n",
      "\n",
      "C:\\Users\\moria\\PycharmProjects\\API_Security_Research\\venv\\lib\\site-packages\\sklearn\\model_selection\\_validation.py:1050: UserWarning:\n",
      "\n",
      "Sample weights have reached infinite values, at iteration 1, causing overflow. Iterations stopped. Try lowering the learning rate.\n",
      "\n",
      "C:\\Users\\moria\\PycharmProjects\\API_Security_Research\\venv\\lib\\site-packages\\sklearn\\ensemble\\_weight_boosting.py:627: RuntimeWarning:\n",
      "\n",
      "overflow encountered in exp\n",
      "\n",
      "C:\\Users\\moria\\PycharmProjects\\API_Security_Research\\venv\\lib\\site-packages\\sklearn\\model_selection\\_validation.py:1050: UserWarning:\n",
      "\n",
      "Sample weights have reached infinite values, at iteration 1, causing overflow. Iterations stopped. Try lowering the learning rate.\n",
      "\n",
      "C:\\Users\\moria\\PycharmProjects\\API_Security_Research\\venv\\lib\\site-packages\\sklearn\\ensemble\\_weight_boosting.py:627: RuntimeWarning:\n",
      "\n",
      "overflow encountered in exp\n",
      "\n",
      "C:\\Users\\moria\\PycharmProjects\\API_Security_Research\\venv\\lib\\site-packages\\sklearn\\model_selection\\_validation.py:1050: UserWarning:\n",
      "\n",
      "Sample weights have reached infinite values, at iteration 1, causing overflow. Iterations stopped. Try lowering the learning rate.\n",
      "\n",
      "C:\\Users\\moria\\PycharmProjects\\API_Security_Research\\venv\\lib\\site-packages\\sklearn\\ensemble\\_weight_boosting.py:627: RuntimeWarning:\n",
      "\n",
      "overflow encountered in exp\n",
      "\n",
      "C:\\Users\\moria\\PycharmProjects\\API_Security_Research\\venv\\lib\\site-packages\\sklearn\\model_selection\\_validation.py:1050: UserWarning:\n",
      "\n",
      "Sample weights have reached infinite values, at iteration 1, causing overflow. Iterations stopped. Try lowering the learning rate.\n",
      "\n",
      "C:\\Users\\moria\\PycharmProjects\\API_Security_Research\\venv\\lib\\site-packages\\sklearn\\ensemble\\_weight_boosting.py:627: RuntimeWarning:\n",
      "\n",
      "overflow encountered in exp\n",
      "\n",
      "C:\\Users\\moria\\PycharmProjects\\API_Security_Research\\venv\\lib\\site-packages\\sklearn\\model_selection\\_validation.py:1050: UserWarning:\n",
      "\n",
      "Sample weights have reached infinite values, at iteration 1, causing overflow. Iterations stopped. Try lowering the learning rate.\n",
      "\n",
      "C:\\Users\\moria\\PycharmProjects\\API_Security_Research\\venv\\lib\\site-packages\\sklearn\\ensemble\\_weight_boosting.py:627: RuntimeWarning:\n",
      "\n",
      "overflow encountered in exp\n",
      "\n",
      "C:\\Users\\moria\\PycharmProjects\\API_Security_Research\\venv\\lib\\site-packages\\sklearn\\ensemble\\_base.py:46: UserWarning:\n",
      "\n",
      "Sample weights have reached infinite values, at iteration 1, causing overflow. Iterations stopped. Try lowering the learning rate.\n",
      "\n",
      "C:\\Users\\moria\\PycharmProjects\\API_Security_Research\\venv\\lib\\site-packages\\sklearn\\ensemble\\_weight_boosting.py:627: RuntimeWarning:\n",
      "\n",
      "overflow encountered in exp\n",
      "\n",
      "C:\\Users\\moria\\PycharmProjects\\API_Security_Research\\venv\\lib\\site-packages\\sklearn\\model_selection\\_validation.py:1050: UserWarning:\n",
      "\n",
      "Sample weights have reached infinite values, at iteration 1, causing overflow. Iterations stopped. Try lowering the learning rate.\n",
      "\n",
      "C:\\Users\\moria\\PycharmProjects\\API_Security_Research\\venv\\lib\\site-packages\\sklearn\\ensemble\\_weight_boosting.py:627: RuntimeWarning:\n",
      "\n",
      "overflow encountered in exp\n",
      "\n",
      "C:\\Users\\moria\\PycharmProjects\\API_Security_Research\\venv\\lib\\site-packages\\sklearn\\model_selection\\_validation.py:1050: UserWarning:\n",
      "\n",
      "Sample weights have reached infinite values, at iteration 1, causing overflow. Iterations stopped. Try lowering the learning rate.\n",
      "\n",
      "C:\\Users\\moria\\PycharmProjects\\API_Security_Research\\venv\\lib\\site-packages\\sklearn\\ensemble\\_weight_boosting.py:627: RuntimeWarning:\n",
      "\n",
      "overflow encountered in exp\n",
      "\n",
      "C:\\Users\\moria\\PycharmProjects\\API_Security_Research\\venv\\lib\\site-packages\\sklearn\\model_selection\\_validation.py:1050: UserWarning:\n",
      "\n",
      "Sample weights have reached infinite values, at iteration 1, causing overflow. Iterations stopped. Try lowering the learning rate.\n",
      "\n",
      "C:\\Users\\moria\\PycharmProjects\\API_Security_Research\\venv\\lib\\site-packages\\sklearn\\ensemble\\_weight_boosting.py:627: RuntimeWarning:\n",
      "\n",
      "overflow encountered in exp\n",
      "\n",
      "C:\\Users\\moria\\PycharmProjects\\API_Security_Research\\venv\\lib\\site-packages\\sklearn\\model_selection\\_validation.py:1050: UserWarning:\n",
      "\n",
      "Sample weights have reached infinite values, at iteration 1, causing overflow. Iterations stopped. Try lowering the learning rate.\n",
      "\n",
      "C:\\Users\\moria\\PycharmProjects\\API_Security_Research\\venv\\lib\\site-packages\\sklearn\\ensemble\\_weight_boosting.py:627: RuntimeWarning:\n",
      "\n",
      "overflow encountered in exp\n",
      "\n",
      "C:\\Users\\moria\\PycharmProjects\\API_Security_Research\\venv\\lib\\site-packages\\sklearn\\model_selection\\_validation.py:1050: UserWarning:\n",
      "\n",
      "Sample weights have reached infinite values, at iteration 1, causing overflow. Iterations stopped. Try lowering the learning rate.\n",
      "\n",
      "C:\\Users\\moria\\PycharmProjects\\API_Security_Research\\venv\\lib\\site-packages\\sklearn\\ensemble\\_weight_boosting.py:627: RuntimeWarning:\n",
      "\n",
      "overflow encountered in exp\n",
      "\n",
      "C:\\Users\\moria\\PycharmProjects\\API_Security_Research\\venv\\lib\\site-packages\\sklearn\\ensemble\\_base.py:46: UserWarning:\n",
      "\n",
      "Sample weights have reached infinite values, at iteration 1, causing overflow. Iterations stopped. Try lowering the learning rate.\n",
      "\n",
      "C:\\Users\\moria\\PycharmProjects\\API_Security_Research\\venv\\lib\\site-packages\\sklearn\\ensemble\\_weight_boosting.py:627: RuntimeWarning:\n",
      "\n",
      "overflow encountered in exp\n",
      "\n",
      "C:\\Users\\moria\\PycharmProjects\\API_Security_Research\\venv\\lib\\site-packages\\sklearn\\model_selection\\_validation.py:1050: UserWarning:\n",
      "\n",
      "Sample weights have reached infinite values, at iteration 1, causing overflow. Iterations stopped. Try lowering the learning rate.\n",
      "\n",
      "C:\\Users\\moria\\PycharmProjects\\API_Security_Research\\venv\\lib\\site-packages\\sklearn\\ensemble\\_weight_boosting.py:627: RuntimeWarning:\n",
      "\n",
      "overflow encountered in exp\n",
      "\n",
      "C:\\Users\\moria\\PycharmProjects\\API_Security_Research\\venv\\lib\\site-packages\\sklearn\\model_selection\\_validation.py:1050: UserWarning:\n",
      "\n",
      "Sample weights have reached infinite values, at iteration 1, causing overflow. Iterations stopped. Try lowering the learning rate.\n",
      "\n",
      "C:\\Users\\moria\\PycharmProjects\\API_Security_Research\\venv\\lib\\site-packages\\sklearn\\ensemble\\_weight_boosting.py:627: RuntimeWarning:\n",
      "\n",
      "overflow encountered in exp\n",
      "\n",
      "C:\\Users\\moria\\PycharmProjects\\API_Security_Research\\venv\\lib\\site-packages\\sklearn\\model_selection\\_validation.py:1050: UserWarning:\n",
      "\n",
      "Sample weights have reached infinite values, at iteration 1, causing overflow. Iterations stopped. Try lowering the learning rate.\n",
      "\n",
      "C:\\Users\\moria\\PycharmProjects\\API_Security_Research\\venv\\lib\\site-packages\\sklearn\\ensemble\\_weight_boosting.py:627: RuntimeWarning:\n",
      "\n",
      "overflow encountered in exp\n",
      "\n",
      "C:\\Users\\moria\\PycharmProjects\\API_Security_Research\\venv\\lib\\site-packages\\sklearn\\model_selection\\_validation.py:1050: UserWarning:\n",
      "\n",
      "Sample weights have reached infinite values, at iteration 1, causing overflow. Iterations stopped. Try lowering the learning rate.\n",
      "\n",
      "C:\\Users\\moria\\PycharmProjects\\API_Security_Research\\venv\\lib\\site-packages\\sklearn\\ensemble\\_weight_boosting.py:627: RuntimeWarning:\n",
      "\n",
      "overflow encountered in exp\n",
      "\n",
      "C:\\Users\\moria\\PycharmProjects\\API_Security_Research\\venv\\lib\\site-packages\\sklearn\\model_selection\\_validation.py:1050: UserWarning:\n",
      "\n",
      "Sample weights have reached infinite values, at iteration 1, causing overflow. Iterations stopped. Try lowering the learning rate.\n",
      "\n",
      "C:\\Users\\moria\\PycharmProjects\\API_Security_Research\\venv\\lib\\site-packages\\sklearn\\ensemble\\_weight_boosting.py:627: RuntimeWarning:\n",
      "\n",
      "overflow encountered in exp\n",
      "\n",
      "C:\\Users\\moria\\PycharmProjects\\API_Security_Research\\venv\\lib\\site-packages\\sklearn\\ensemble\\_base.py:46: UserWarning:\n",
      "\n",
      "Sample weights have reached infinite values, at iteration 1, causing overflow. Iterations stopped. Try lowering the learning rate.\n",
      "\n",
      "C:\\Users\\moria\\PycharmProjects\\API_Security_Research\\venv\\lib\\site-packages\\sklearn\\ensemble\\_weight_boosting.py:627: RuntimeWarning:\n",
      "\n",
      "overflow encountered in exp\n",
      "\n",
      "C:\\Users\\moria\\PycharmProjects\\API_Security_Research\\venv\\lib\\site-packages\\sklearn\\model_selection\\_validation.py:1050: UserWarning:\n",
      "\n",
      "Sample weights have reached infinite values, at iteration 1, causing overflow. Iterations stopped. Try lowering the learning rate.\n",
      "\n",
      "C:\\Users\\moria\\PycharmProjects\\API_Security_Research\\venv\\lib\\site-packages\\sklearn\\ensemble\\_weight_boosting.py:627: RuntimeWarning:\n",
      "\n",
      "overflow encountered in exp\n",
      "\n",
      "C:\\Users\\moria\\PycharmProjects\\API_Security_Research\\venv\\lib\\site-packages\\sklearn\\model_selection\\_validation.py:1050: UserWarning:\n",
      "\n",
      "Sample weights have reached infinite values, at iteration 1, causing overflow. Iterations stopped. Try lowering the learning rate.\n",
      "\n",
      "C:\\Users\\moria\\PycharmProjects\\API_Security_Research\\venv\\lib\\site-packages\\sklearn\\ensemble\\_weight_boosting.py:627: RuntimeWarning:\n",
      "\n",
      "overflow encountered in exp\n",
      "\n",
      "C:\\Users\\moria\\PycharmProjects\\API_Security_Research\\venv\\lib\\site-packages\\sklearn\\model_selection\\_validation.py:1050: UserWarning:\n",
      "\n",
      "Sample weights have reached infinite values, at iteration 1, causing overflow. Iterations stopped. Try lowering the learning rate.\n",
      "\n",
      "C:\\Users\\moria\\PycharmProjects\\API_Security_Research\\venv\\lib\\site-packages\\sklearn\\ensemble\\_weight_boosting.py:627: RuntimeWarning:\n",
      "\n",
      "overflow encountered in exp\n",
      "\n",
      "C:\\Users\\moria\\PycharmProjects\\API_Security_Research\\venv\\lib\\site-packages\\sklearn\\model_selection\\_validation.py:1050: UserWarning:\n",
      "\n",
      "Sample weights have reached infinite values, at iteration 1, causing overflow. Iterations stopped. Try lowering the learning rate.\n",
      "\n",
      "C:\\Users\\moria\\PycharmProjects\\API_Security_Research\\venv\\lib\\site-packages\\sklearn\\ensemble\\_weight_boosting.py:627: RuntimeWarning:\n",
      "\n",
      "overflow encountered in exp\n",
      "\n",
      "C:\\Users\\moria\\PycharmProjects\\API_Security_Research\\venv\\lib\\site-packages\\sklearn\\model_selection\\_validation.py:1050: UserWarning:\n",
      "\n",
      "Sample weights have reached infinite values, at iteration 1, causing overflow. Iterations stopped. Try lowering the learning rate.\n",
      "\n",
      "C:\\Users\\moria\\PycharmProjects\\API_Security_Research\\venv\\lib\\site-packages\\sklearn\\ensemble\\_weight_boosting.py:627: RuntimeWarning:\n",
      "\n",
      "overflow encountered in exp\n",
      "\n",
      "C:\\Users\\moria\\PycharmProjects\\API_Security_Research\\venv\\lib\\site-packages\\sklearn\\ensemble\\_base.py:46: UserWarning:\n",
      "\n",
      "Sample weights have reached infinite values, at iteration 1, causing overflow. Iterations stopped. Try lowering the learning rate.\n",
      "\n",
      "C:\\Users\\moria\\PycharmProjects\\API_Security_Research\\venv\\lib\\site-packages\\sklearn\\ensemble\\_weight_boosting.py:627: RuntimeWarning:\n",
      "\n",
      "overflow encountered in exp\n",
      "\n",
      "C:\\Users\\moria\\PycharmProjects\\API_Security_Research\\venv\\lib\\site-packages\\sklearn\\model_selection\\_validation.py:1050: UserWarning:\n",
      "\n",
      "Sample weights have reached infinite values, at iteration 1, causing overflow. Iterations stopped. Try lowering the learning rate.\n",
      "\n",
      "C:\\Users\\moria\\PycharmProjects\\API_Security_Research\\venv\\lib\\site-packages\\sklearn\\ensemble\\_weight_boosting.py:627: RuntimeWarning:\n",
      "\n",
      "overflow encountered in exp\n",
      "\n",
      "C:\\Users\\moria\\PycharmProjects\\API_Security_Research\\venv\\lib\\site-packages\\sklearn\\model_selection\\_validation.py:1050: UserWarning:\n",
      "\n",
      "Sample weights have reached infinite values, at iteration 1, causing overflow. Iterations stopped. Try lowering the learning rate.\n",
      "\n",
      "C:\\Users\\moria\\PycharmProjects\\API_Security_Research\\venv\\lib\\site-packages\\sklearn\\ensemble\\_weight_boosting.py:627: RuntimeWarning:\n",
      "\n",
      "overflow encountered in exp\n",
      "\n",
      "C:\\Users\\moria\\PycharmProjects\\API_Security_Research\\venv\\lib\\site-packages\\sklearn\\model_selection\\_validation.py:1050: UserWarning:\n",
      "\n",
      "Sample weights have reached infinite values, at iteration 1, causing overflow. Iterations stopped. Try lowering the learning rate.\n",
      "\n",
      "C:\\Users\\moria\\PycharmProjects\\API_Security_Research\\venv\\lib\\site-packages\\sklearn\\ensemble\\_weight_boosting.py:627: RuntimeWarning:\n",
      "\n",
      "overflow encountered in exp\n",
      "\n",
      "C:\\Users\\moria\\PycharmProjects\\API_Security_Research\\venv\\lib\\site-packages\\sklearn\\model_selection\\_validation.py:1050: UserWarning:\n",
      "\n",
      "Sample weights have reached infinite values, at iteration 1, causing overflow. Iterations stopped. Try lowering the learning rate.\n",
      "\n",
      "C:\\Users\\moria\\PycharmProjects\\API_Security_Research\\venv\\lib\\site-packages\\sklearn\\ensemble\\_weight_boosting.py:627: RuntimeWarning:\n",
      "\n",
      "overflow encountered in exp\n",
      "\n",
      "C:\\Users\\moria\\PycharmProjects\\API_Security_Research\\venv\\lib\\site-packages\\sklearn\\model_selection\\_validation.py:1050: UserWarning:\n",
      "\n",
      "Sample weights have reached infinite values, at iteration 1, causing overflow. Iterations stopped. Try lowering the learning rate.\n",
      "\n",
      "C:\\Users\\moria\\PycharmProjects\\API_Security_Research\\venv\\lib\\site-packages\\sklearn\\ensemble\\_weight_boosting.py:627: RuntimeWarning:\n",
      "\n",
      "overflow encountered in exp\n",
      "\n",
      "C:\\Users\\moria\\PycharmProjects\\API_Security_Research\\venv\\lib\\site-packages\\sklearn\\ensemble\\_base.py:46: UserWarning:\n",
      "\n",
      "Sample weights have reached infinite values, at iteration 1, causing overflow. Iterations stopped. Try lowering the learning rate.\n",
      "\n",
      "C:\\Users\\moria\\PycharmProjects\\API_Security_Research\\venv\\lib\\site-packages\\sklearn\\ensemble\\_weight_boosting.py:627: RuntimeWarning:\n",
      "\n",
      "overflow encountered in exp\n",
      "\n",
      "C:\\Users\\moria\\PycharmProjects\\API_Security_Research\\venv\\lib\\site-packages\\sklearn\\model_selection\\_validation.py:1050: UserWarning:\n",
      "\n",
      "Sample weights have reached infinite values, at iteration 1, causing overflow. Iterations stopped. Try lowering the learning rate.\n",
      "\n",
      "C:\\Users\\moria\\PycharmProjects\\API_Security_Research\\venv\\lib\\site-packages\\sklearn\\ensemble\\_weight_boosting.py:627: RuntimeWarning:\n",
      "\n",
      "overflow encountered in exp\n",
      "\n",
      "C:\\Users\\moria\\PycharmProjects\\API_Security_Research\\venv\\lib\\site-packages\\sklearn\\model_selection\\_validation.py:1050: UserWarning:\n",
      "\n",
      "Sample weights have reached infinite values, at iteration 1, causing overflow. Iterations stopped. Try lowering the learning rate.\n",
      "\n",
      "C:\\Users\\moria\\PycharmProjects\\API_Security_Research\\venv\\lib\\site-packages\\sklearn\\ensemble\\_weight_boosting.py:627: RuntimeWarning:\n",
      "\n",
      "overflow encountered in exp\n",
      "\n",
      "C:\\Users\\moria\\PycharmProjects\\API_Security_Research\\venv\\lib\\site-packages\\sklearn\\model_selection\\_validation.py:1050: UserWarning:\n",
      "\n",
      "Sample weights have reached infinite values, at iteration 1, causing overflow. Iterations stopped. Try lowering the learning rate.\n",
      "\n",
      "C:\\Users\\moria\\PycharmProjects\\API_Security_Research\\venv\\lib\\site-packages\\sklearn\\ensemble\\_weight_boosting.py:627: RuntimeWarning:\n",
      "\n",
      "overflow encountered in exp\n",
      "\n",
      "C:\\Users\\moria\\PycharmProjects\\API_Security_Research\\venv\\lib\\site-packages\\sklearn\\model_selection\\_validation.py:1050: UserWarning:\n",
      "\n",
      "Sample weights have reached infinite values, at iteration 1, causing overflow. Iterations stopped. Try lowering the learning rate.\n",
      "\n",
      "C:\\Users\\moria\\PycharmProjects\\API_Security_Research\\venv\\lib\\site-packages\\sklearn\\ensemble\\_weight_boosting.py:627: RuntimeWarning:\n",
      "\n",
      "overflow encountered in exp\n",
      "\n",
      "C:\\Users\\moria\\PycharmProjects\\API_Security_Research\\venv\\lib\\site-packages\\sklearn\\model_selection\\_validation.py:1050: UserWarning:\n",
      "\n",
      "Sample weights have reached infinite values, at iteration 1, causing overflow. Iterations stopped. Try lowering the learning rate.\n",
      "\n",
      "C:\\Users\\moria\\PycharmProjects\\API_Security_Research\\venv\\lib\\site-packages\\sklearn\\ensemble\\_weight_boosting.py:627: RuntimeWarning:\n",
      "\n",
      "overflow encountered in exp\n",
      "\n",
      "C:\\Users\\moria\\PycharmProjects\\API_Security_Research\\venv\\lib\\site-packages\\sklearn\\ensemble\\_base.py:46: UserWarning:\n",
      "\n",
      "Sample weights have reached infinite values, at iteration 1, causing overflow. Iterations stopped. Try lowering the learning rate.\n",
      "\n",
      "C:\\Users\\moria\\PycharmProjects\\API_Security_Research\\venv\\lib\\site-packages\\sklearn\\ensemble\\_weight_boosting.py:627: RuntimeWarning:\n",
      "\n",
      "overflow encountered in exp\n",
      "\n",
      "C:\\Users\\moria\\PycharmProjects\\API_Security_Research\\venv\\lib\\site-packages\\sklearn\\model_selection\\_validation.py:1050: UserWarning:\n",
      "\n",
      "Sample weights have reached infinite values, at iteration 1, causing overflow. Iterations stopped. Try lowering the learning rate.\n",
      "\n",
      "C:\\Users\\moria\\PycharmProjects\\API_Security_Research\\venv\\lib\\site-packages\\sklearn\\ensemble\\_weight_boosting.py:627: RuntimeWarning:\n",
      "\n",
      "overflow encountered in exp\n",
      "\n",
      "C:\\Users\\moria\\PycharmProjects\\API_Security_Research\\venv\\lib\\site-packages\\sklearn\\model_selection\\_validation.py:1050: UserWarning:\n",
      "\n",
      "Sample weights have reached infinite values, at iteration 1, causing overflow. Iterations stopped. Try lowering the learning rate.\n",
      "\n",
      "C:\\Users\\moria\\PycharmProjects\\API_Security_Research\\venv\\lib\\site-packages\\sklearn\\ensemble\\_weight_boosting.py:627: RuntimeWarning:\n",
      "\n",
      "overflow encountered in exp\n",
      "\n",
      "C:\\Users\\moria\\PycharmProjects\\API_Security_Research\\venv\\lib\\site-packages\\sklearn\\model_selection\\_validation.py:1050: UserWarning:\n",
      "\n",
      "Sample weights have reached infinite values, at iteration 1, causing overflow. Iterations stopped. Try lowering the learning rate.\n",
      "\n",
      "C:\\Users\\moria\\PycharmProjects\\API_Security_Research\\venv\\lib\\site-packages\\sklearn\\ensemble\\_weight_boosting.py:627: RuntimeWarning:\n",
      "\n",
      "overflow encountered in exp\n",
      "\n",
      "C:\\Users\\moria\\PycharmProjects\\API_Security_Research\\venv\\lib\\site-packages\\sklearn\\model_selection\\_validation.py:1050: UserWarning:\n",
      "\n",
      "Sample weights have reached infinite values, at iteration 1, causing overflow. Iterations stopped. Try lowering the learning rate.\n",
      "\n",
      "C:\\Users\\moria\\PycharmProjects\\API_Security_Research\\venv\\lib\\site-packages\\sklearn\\ensemble\\_weight_boosting.py:627: RuntimeWarning:\n",
      "\n",
      "overflow encountered in exp\n",
      "\n",
      "C:\\Users\\moria\\PycharmProjects\\API_Security_Research\\venv\\lib\\site-packages\\sklearn\\model_selection\\_validation.py:1050: UserWarning:\n",
      "\n",
      "Sample weights have reached infinite values, at iteration 1, causing overflow. Iterations stopped. Try lowering the learning rate.\n",
      "\n",
      "C:\\Users\\moria\\PycharmProjects\\API_Security_Research\\venv\\lib\\site-packages\\sklearn\\ensemble\\_weight_boosting.py:627: RuntimeWarning:\n",
      "\n",
      "overflow encountered in exp\n",
      "\n",
      "C:\\Users\\moria\\PycharmProjects\\API_Security_Research\\venv\\lib\\site-packages\\sklearn\\ensemble\\_base.py:46: UserWarning:\n",
      "\n",
      "Sample weights have reached infinite values, at iteration 1, causing overflow. Iterations stopped. Try lowering the learning rate.\n",
      "\n",
      "C:\\Users\\moria\\PycharmProjects\\API_Security_Research\\venv\\lib\\site-packages\\sklearn\\ensemble\\_weight_boosting.py:627: RuntimeWarning:\n",
      "\n",
      "overflow encountered in exp\n",
      "\n",
      "C:\\Users\\moria\\PycharmProjects\\API_Security_Research\\venv\\lib\\site-packages\\sklearn\\model_selection\\_validation.py:1050: UserWarning:\n",
      "\n",
      "Sample weights have reached infinite values, at iteration 1, causing overflow. Iterations stopped. Try lowering the learning rate.\n",
      "\n",
      "C:\\Users\\moria\\PycharmProjects\\API_Security_Research\\venv\\lib\\site-packages\\sklearn\\ensemble\\_weight_boosting.py:627: RuntimeWarning:\n",
      "\n",
      "overflow encountered in exp\n",
      "\n",
      "C:\\Users\\moria\\PycharmProjects\\API_Security_Research\\venv\\lib\\site-packages\\sklearn\\model_selection\\_validation.py:1050: UserWarning:\n",
      "\n",
      "Sample weights have reached infinite values, at iteration 1, causing overflow. Iterations stopped. Try lowering the learning rate.\n",
      "\n",
      "C:\\Users\\moria\\PycharmProjects\\API_Security_Research\\venv\\lib\\site-packages\\sklearn\\ensemble\\_weight_boosting.py:627: RuntimeWarning:\n",
      "\n",
      "overflow encountered in exp\n",
      "\n",
      "C:\\Users\\moria\\PycharmProjects\\API_Security_Research\\venv\\lib\\site-packages\\sklearn\\model_selection\\_validation.py:1050: UserWarning:\n",
      "\n",
      "Sample weights have reached infinite values, at iteration 1, causing overflow. Iterations stopped. Try lowering the learning rate.\n",
      "\n",
      "C:\\Users\\moria\\PycharmProjects\\API_Security_Research\\venv\\lib\\site-packages\\sklearn\\ensemble\\_weight_boosting.py:627: RuntimeWarning:\n",
      "\n",
      "overflow encountered in exp\n",
      "\n",
      "C:\\Users\\moria\\PycharmProjects\\API_Security_Research\\venv\\lib\\site-packages\\sklearn\\model_selection\\_validation.py:1050: UserWarning:\n",
      "\n",
      "Sample weights have reached infinite values, at iteration 1, causing overflow. Iterations stopped. Try lowering the learning rate.\n",
      "\n",
      "C:\\Users\\moria\\PycharmProjects\\API_Security_Research\\venv\\lib\\site-packages\\sklearn\\ensemble\\_weight_boosting.py:627: RuntimeWarning:\n",
      "\n",
      "overflow encountered in exp\n",
      "\n",
      "C:\\Users\\moria\\PycharmProjects\\API_Security_Research\\venv\\lib\\site-packages\\sklearn\\model_selection\\_validation.py:1050: UserWarning:\n",
      "\n",
      "Sample weights have reached infinite values, at iteration 1, causing overflow. Iterations stopped. Try lowering the learning rate.\n",
      "\n",
      "C:\\Users\\moria\\PycharmProjects\\API_Security_Research\\venv\\lib\\site-packages\\sklearn\\model_selection\\_validation.py:378: FitFailedWarning:\n",
      "\n",
      "\n",
      "15 fits failed out of a total of 24.\n",
      "The score on these train-test partitions for these parameters will be set to nan.\n",
      "If these failures are not expected, you can try to debug them by setting error_score='raise'.\n",
      "\n",
      "Below are more details about the failures:\n",
      "--------------------------------------------------------------------------------\n",
      "12 fits failed with the following error:\n",
      "Traceback (most recent call last):\n",
      "  File \"C:\\Users\\moria\\PycharmProjects\\API_Security_Research\\venv\\lib\\site-packages\\sklearn\\model_selection\\_validation.py\", line 686, in _fit_and_score\n",
      "    estimator.fit(X_train, y_train, **fit_params)\n",
      "  File \"C:\\Users\\moria\\PycharmProjects\\API_Security_Research\\venv\\lib\\site-packages\\sklearn\\ensemble\\_stacking.py\", line 660, in fit\n",
      "    return super().fit(X, y_encoded, sample_weight)\n",
      "  File \"C:\\Users\\moria\\PycharmProjects\\API_Security_Research\\venv\\lib\\site-packages\\sklearn\\ensemble\\_stacking.py\", line 204, in fit\n",
      "    check_is_fitted(estimator)\n",
      "  File \"C:\\Users\\moria\\PycharmProjects\\API_Security_Research\\venv\\lib\\site-packages\\sklearn\\utils\\validation.py\", line 1380, in check_is_fitted\n",
      "    raise NotFittedError(msg % {\"name\": type(estimator).__name__})\n",
      "sklearn.exceptions.NotFittedError: This RandomForestClassifier instance is not fitted yet. Call 'fit' with appropriate arguments before using this estimator.\n",
      "\n",
      "--------------------------------------------------------------------------------\n",
      "3 fits failed with the following error:\n",
      "Traceback (most recent call last):\n",
      "  File \"C:\\Users\\moria\\PycharmProjects\\API_Security_Research\\venv\\lib\\site-packages\\sklearn\\model_selection\\_validation.py\", line 686, in _fit_and_score\n",
      "    estimator.fit(X_train, y_train, **fit_params)\n",
      "  File \"C:\\Users\\moria\\PycharmProjects\\API_Security_Research\\venv\\lib\\site-packages\\sklearn\\ensemble\\_stacking.py\", line 660, in fit\n",
      "    return super().fit(X, y_encoded, sample_weight)\n",
      "  File \"C:\\Users\\moria\\PycharmProjects\\API_Security_Research\\venv\\lib\\site-packages\\sklearn\\ensemble\\_stacking.py\", line 277, in fit\n",
      "    _fit_single_estimator(\n",
      "  File \"C:\\Users\\moria\\PycharmProjects\\API_Security_Research\\venv\\lib\\site-packages\\sklearn\\ensemble\\_base.py\", line 46, in _fit_single_estimator\n",
      "    estimator.fit(X, y)\n",
      "  File \"C:\\Users\\moria\\PycharmProjects\\API_Security_Research\\venv\\lib\\site-packages\\sklearn\\linear_model\\_logistic.py\", line 1160, in fit\n",
      "    self._validate_params()\n",
      "  File \"C:\\Users\\moria\\PycharmProjects\\API_Security_Research\\venv\\lib\\site-packages\\sklearn\\base.py\", line 570, in _validate_params\n",
      "    validate_parameter_constraints(\n",
      "  File \"C:\\Users\\moria\\PycharmProjects\\API_Security_Research\\venv\\lib\\site-packages\\sklearn\\utils\\_param_validation.py\", line 97, in validate_parameter_constraints\n",
      "    raise InvalidParameterError(\n",
      "sklearn.utils._param_validation.InvalidParameterError: The 'C' parameter of LogisticRegression must be a float in the range (0, inf]. Got 0 instead.\n",
      "\n",
      "\n",
      "C:\\Users\\moria\\PycharmProjects\\API_Security_Research\\venv\\lib\\site-packages\\sklearn\\model_selection\\_search.py:953: UserWarning:\n",
      "\n",
      "One or more of the test scores are non-finite: [       nan        nan        nan        nan        nan 0.96137768\n",
      " 0.96137768 0.96137768]\n",
      "\n",
      "C:\\Users\\moria\\PycharmProjects\\API_Security_Research\\venv\\lib\\site-packages\\sklearn\\model_selection\\_search.py:953: UserWarning:\n",
      "\n",
      "One or more of the train scores are non-finite: [       nan        nan        nan        nan        nan 0.96244735\n",
      " 0.96271552 0.96271552]\n",
      "\n",
      "C:\\Users\\moria\\PycharmProjects\\API_Security_Research\\venv\\lib\\site-packages\\sklearn\\ensemble\\_weight_boosting.py:627: RuntimeWarning:\n",
      "\n",
      "overflow encountered in exp\n",
      "\n",
      "C:\\Users\\moria\\PycharmProjects\\API_Security_Research\\venv\\lib\\site-packages\\sklearn\\ensemble\\_base.py:46: UserWarning:\n",
      "\n",
      "Sample weights have reached infinite values, at iteration 1, causing overflow. Iterations stopped. Try lowering the learning rate.\n",
      "\n",
      "C:\\Users\\moria\\PycharmProjects\\API_Security_Research\\venv\\lib\\site-packages\\sklearn\\ensemble\\_weight_boosting.py:627: RuntimeWarning:\n",
      "\n",
      "overflow encountered in exp\n",
      "\n",
      "C:\\Users\\moria\\PycharmProjects\\API_Security_Research\\venv\\lib\\site-packages\\sklearn\\model_selection\\_validation.py:1050: UserWarning:\n",
      "\n",
      "Sample weights have reached infinite values, at iteration 1, causing overflow. Iterations stopped. Try lowering the learning rate.\n",
      "\n",
      "C:\\Users\\moria\\PycharmProjects\\API_Security_Research\\venv\\lib\\site-packages\\sklearn\\ensemble\\_weight_boosting.py:627: RuntimeWarning:\n",
      "\n",
      "overflow encountered in exp\n",
      "\n",
      "C:\\Users\\moria\\PycharmProjects\\API_Security_Research\\venv\\lib\\site-packages\\sklearn\\model_selection\\_validation.py:1050: UserWarning:\n",
      "\n",
      "Sample weights have reached infinite values, at iteration 1, causing overflow. Iterations stopped. Try lowering the learning rate.\n",
      "\n",
      "C:\\Users\\moria\\PycharmProjects\\API_Security_Research\\venv\\lib\\site-packages\\sklearn\\ensemble\\_weight_boosting.py:627: RuntimeWarning:\n",
      "\n",
      "overflow encountered in exp\n",
      "\n",
      "C:\\Users\\moria\\PycharmProjects\\API_Security_Research\\venv\\lib\\site-packages\\sklearn\\model_selection\\_validation.py:1050: UserWarning:\n",
      "\n",
      "Sample weights have reached infinite values, at iteration 1, causing overflow. Iterations stopped. Try lowering the learning rate.\n",
      "\n",
      "C:\\Users\\moria\\PycharmProjects\\API_Security_Research\\venv\\lib\\site-packages\\sklearn\\ensemble\\_weight_boosting.py:627: RuntimeWarning:\n",
      "\n",
      "overflow encountered in exp\n",
      "\n",
      "C:\\Users\\moria\\PycharmProjects\\API_Security_Research\\venv\\lib\\site-packages\\sklearn\\model_selection\\_validation.py:1050: UserWarning:\n",
      "\n",
      "Sample weights have reached infinite values, at iteration 1, causing overflow. Iterations stopped. Try lowering the learning rate.\n",
      "\n",
      "C:\\Users\\moria\\PycharmProjects\\API_Security_Research\\venv\\lib\\site-packages\\sklearn\\ensemble\\_weight_boosting.py:627: RuntimeWarning:\n",
      "\n",
      "overflow encountered in exp\n",
      "\n",
      "C:\\Users\\moria\\PycharmProjects\\API_Security_Research\\venv\\lib\\site-packages\\sklearn\\model_selection\\_validation.py:1050: UserWarning:\n",
      "\n",
      "Sample weights have reached infinite values, at iteration 1, causing overflow. Iterations stopped. Try lowering the learning rate.\n",
      "\n"
     ]
    }
   ],
   "source": [
    "sc = StackingClassifier(estimators=[(\"clf\",clf),\n",
    "                                    (\"svc\",svc),\n",
    "                                    (\"lr\",lr),\n",
    "                                    (\"knn\",knn),\n",
    "                                    (\"dt\",dt),\n",
    "                                    (\"abc\",abc),\n",
    "                                    (\"gbc\",gbc),\n",
    "                                    (\"mlp\",mlp)],\n",
    "                        final_estimator=LogisticRegression())\n",
    "sc_param = {\"final_estimator__C\": [0, 1, 2, 3],\n",
    "            \"cv\": [\"prefit\", None]}\n",
    "sc_gcv = create_grid_search(sc, sc_param)\n",
    "sc_gcv.fit(x_train_pca, y_train)\n",
    "\n",
    "# plot_grid_search_results(sc_gcv.cv_results_)\n",
    "print(\"Best parameters:\", sc_gcv.best_params_)"
   ]
  },
  {
   "cell_type": "code",
   "execution_count": 481,
   "metadata": {
    "id": "qkgprbsHtQYV"
   },
   "outputs": [],
   "source": [
    "# # Save the model\n",
    "sc = sc_gcv.best_estimator_\n",
    "# filename = \"Model/\"+str(dataset_number)+\"/sc\"+str(dataset_number)+\"_model.sav\"\n",
    "# pickle.dump(sc, open(filename, 'wb'))"
   ]
  },
  {
   "cell_type": "markdown",
   "source": [
    "### Choose The Best Model\n"
   ],
   "metadata": {
    "id": "UvoCW1rA7lD7"
   }
  },
  {
   "cell_type": "code",
   "source": [
    "models = [clf, svc, lr, knn, dt, abc, gbc, mlp, vc, sc]\n",
    "\n",
    "model_names = [\"Random Forest\",\n",
    "               \"SVM\",\n",
    "               \"Logistic Regression\",\n",
    "               \"KNN\",\n",
    "               \"Decision Tree\",\n",
    "               \"AdaBoost\",\n",
    "               \"Gradient Boosting\",\n",
    "               \"Neural Network\",\n",
    "               \"Voting Classifier\",\n",
    "               \"Stacking Classifier\"]\n",
    "\n",
    "model_scores = []\n",
    "\n",
    "for model in models:\n",
    "    predictions = model.predict(x_test_pca)\n",
    "    true_labels = y_test\n",
    "    model_report = classification_report(true_labels, predictions, digits=5)\n",
    "    model_scores.append(model_report.split()[12])"
   ],
   "metadata": {
    "id": "nDQGoTlw73I2"
   },
   "execution_count": 482,
   "outputs": [
    {
     "name": "stderr",
     "output_type": "stream",
     "text": [
      "C:\\Users\\moria\\PycharmProjects\\API_Security_Research\\venv\\lib\\site-packages\\sklearn\\metrics\\_classification.py:1344: UndefinedMetricWarning:\n",
      "\n",
      "Precision and F-score are ill-defined and being set to 0.0 in labels with no predicted samples. Use `zero_division` parameter to control this behavior.\n",
      "\n",
      "C:\\Users\\moria\\PycharmProjects\\API_Security_Research\\venv\\lib\\site-packages\\sklearn\\metrics\\_classification.py:1344: UndefinedMetricWarning:\n",
      "\n",
      "Precision and F-score are ill-defined and being set to 0.0 in labels with no predicted samples. Use `zero_division` parameter to control this behavior.\n",
      "\n",
      "C:\\Users\\moria\\PycharmProjects\\API_Security_Research\\venv\\lib\\site-packages\\sklearn\\metrics\\_classification.py:1344: UndefinedMetricWarning:\n",
      "\n",
      "Precision and F-score are ill-defined and being set to 0.0 in labels with no predicted samples. Use `zero_division` parameter to control this behavior.\n",
      "\n",
      "C:\\Users\\moria\\PycharmProjects\\API_Security_Research\\venv\\lib\\site-packages\\sklearn\\metrics\\_classification.py:1344: UndefinedMetricWarning:\n",
      "\n",
      "Precision and F-score are ill-defined and being set to 0.0 in labels with no predicted samples. Use `zero_division` parameter to control this behavior.\n",
      "\n",
      "C:\\Users\\moria\\PycharmProjects\\API_Security_Research\\venv\\lib\\site-packages\\sklearn\\metrics\\_classification.py:1344: UndefinedMetricWarning:\n",
      "\n",
      "Precision and F-score are ill-defined and being set to 0.0 in labels with no predicted samples. Use `zero_division` parameter to control this behavior.\n",
      "\n",
      "C:\\Users\\moria\\PycharmProjects\\API_Security_Research\\venv\\lib\\site-packages\\sklearn\\metrics\\_classification.py:1344: UndefinedMetricWarning:\n",
      "\n",
      "Precision and F-score are ill-defined and being set to 0.0 in labels with no predicted samples. Use `zero_division` parameter to control this behavior.\n",
      "\n",
      "C:\\Users\\moria\\PycharmProjects\\API_Security_Research\\venv\\lib\\site-packages\\sklearn\\metrics\\_classification.py:1344: UndefinedMetricWarning:\n",
      "\n",
      "Precision and F-score are ill-defined and being set to 0.0 in labels with no predicted samples. Use `zero_division` parameter to control this behavior.\n",
      "\n",
      "C:\\Users\\moria\\PycharmProjects\\API_Security_Research\\venv\\lib\\site-packages\\sklearn\\metrics\\_classification.py:1344: UndefinedMetricWarning:\n",
      "\n",
      "Precision and F-score are ill-defined and being set to 0.0 in labels with no predicted samples. Use `zero_division` parameter to control this behavior.\n",
      "\n",
      "C:\\Users\\moria\\PycharmProjects\\API_Security_Research\\venv\\lib\\site-packages\\sklearn\\metrics\\_classification.py:1344: UndefinedMetricWarning:\n",
      "\n",
      "Precision and F-score are ill-defined and being set to 0.0 in labels with no predicted samples. Use `zero_division` parameter to control this behavior.\n",
      "\n",
      "C:\\Users\\moria\\PycharmProjects\\API_Security_Research\\venv\\lib\\site-packages\\sklearn\\metrics\\_classification.py:1344: UndefinedMetricWarning:\n",
      "\n",
      "Precision and F-score are ill-defined and being set to 0.0 in labels with no predicted samples. Use `zero_division` parameter to control this behavior.\n",
      "\n",
      "C:\\Users\\moria\\PycharmProjects\\API_Security_Research\\venv\\lib\\site-packages\\sklearn\\metrics\\_classification.py:1344: UndefinedMetricWarning:\n",
      "\n",
      "Precision and F-score are ill-defined and being set to 0.0 in labels with no predicted samples. Use `zero_division` parameter to control this behavior.\n",
      "\n",
      "C:\\Users\\moria\\PycharmProjects\\API_Security_Research\\venv\\lib\\site-packages\\sklearn\\metrics\\_classification.py:1344: UndefinedMetricWarning:\n",
      "\n",
      "Precision and F-score are ill-defined and being set to 0.0 in labels with no predicted samples. Use `zero_division` parameter to control this behavior.\n",
      "\n"
     ]
    }
   ]
  },
  {
   "cell_type": "markdown",
   "source": [
    "#### Result"
   ],
   "metadata": {
    "collapsed": false
   }
  },
  {
   "cell_type": "code",
   "execution_count": 483,
   "metadata": {
    "id": "Wzy9Ek6QtQYV"
   },
   "outputs": [
    {
     "name": "stdout",
     "output_type": "stream",
     "text": [
      "Best model: Logistic Regression\n",
      "Score: 0.82979\n",
      "              precision    recall  f1-score   support\n",
      "\n",
      "      Benign    0.95370   0.57865   0.72028       356\n",
      "     Malware    0.72222   0.97500   0.82979       400\n",
      "\n",
      "    accuracy                        0.78836       756\n",
      "   macro avg    0.83796   0.77683   0.77503       756\n",
      "weighted avg    0.83123   0.78836   0.77822       756\n",
      "\n"
     ]
    }
   ],
   "source": [
    "best_model = models[model_scores.index(max(model_scores))]\n",
    "best_model_name = model_names[model_scores.index(max(model_scores))]\n",
    "best_model_score = max(model_scores)\n",
    "\n",
    "print(\"Best model:\", best_model_name)\n",
    "print(\"Score:\", str(best_model_score))\n",
    "\n",
    "model_report = classification_report(true_labels, predictions, digits=5)\n",
    "\n",
    "print(model_report)"
   ]
  },
  {
   "cell_type": "markdown",
   "metadata": {
    "id": "N6It-IeetQYW"
   },
   "source": [
    "## Test\n"
   ]
  },
  {
   "cell_type": "code",
   "execution_count": 484,
   "metadata": {
    "id": "EUq4XcUAtQYW"
   },
   "outputs": [
    {
     "name": "stderr",
     "output_type": "stream",
     "text": [
      "C:\\Users\\moria\\PycharmProjects\\API_Security_Research\\venv\\lib\\site-packages\\sklearn\\base.py:409: UserWarning:\n",
      "\n",
      "X does not have valid feature names, but StandardScaler was fitted with feature names\n",
      "\n"
     ]
    }
   ],
   "source": [
    "# Read the valuation json\n",
    "# Preprocess data & run model\n",
    "with open(f'./dataset_{str(dataset_number)}_val.json') as file:\n",
    "    raw_ds = json.load(file)\n",
    "test_df = pd.json_normalize(raw_ds, max_level=2)\n",
    "\n",
    "# Preprocess the validation dataset\n",
    "# Remove / Replace NAN columns\n",
    "for column in test_df.columns[test_df.isna().any()].tolist():\n",
    "    test_df[column] = test_df[column].fillna('None')\n",
    "    \n",
    "test_df = vectorize_df(test_df)\n",
    "\n",
    "x = test_df[features_list].to_numpy()\n",
    "x = ss.transform(x)\n",
    "x = rfecv.transform(x)\n",
    "pred_ = vc.predict(x)"
   ]
  },
  {
   "cell_type": "code",
   "execution_count": 485,
   "metadata": {
    "id": "y_ZkHSZjtQYX"
   },
   "outputs": [],
   "source": [
    "# Save your predictions\n",
    "enc = LabelEncoder()\n",
    "np.savetxt(f'./dataset_{str(dataset_number)}_{test_type}_result.txt',\n",
    "           enc.fit_transform(pred_), fmt='%2d')"
   ]
  }
 ],
 "metadata": {
  "kernelspec": {
   "display_name": "Python 3",
   "language": "python",
   "name": "python3"
  },
  "language_info": {
   "codemirror_mode": {
    "name": "ipython",
    "version": 3
   },
   "file_extension": ".py",
   "mimetype": "text/x-python",
   "name": "python",
   "nbconvert_exporter": "python",
   "pygments_lexer": "ipython3",
   "version": "3.8.10 (default, Nov 14 2022, 12:59:47) \n[GCC 9.4.0]"
  },
  "orig_nbformat": 4,
  "vscode": {
   "interpreter": {
    "hash": "5b3ded1ccb95c1d9bd405e7b823d9e85424cde40fbb5985eb47e999ef50e15b4"
   }
  },
  "colab": {
   "provenance": [],
   "include_colab_link": true
  },
  "gpuClass": "standard"
 },
 "nbformat": 4,
 "nbformat_minor": 0
}