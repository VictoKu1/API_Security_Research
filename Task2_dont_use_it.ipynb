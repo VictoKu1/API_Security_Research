{
 "cells": [
  {
   "attachments": {},
   "cell_type": "markdown",
   "metadata": {},
   "source": [
    "# Task 2\n",
    "\n",
    "Link to the datasets: https://arielacil-my.sharepoint.com/:u:/g/personal/rand_ariel_ac_il/EbcKOLRNLExFvxcOCpESGLMBRlP1f5WhX9EIpZJ7qAXi9g?e=tAycKc\n",
    "\n",
    "**Dataset_2** - A more advance version of the former dataset containing much more attacks and endpoint (almost double). The data is also more complex with a higher randomization mechanism.\n",
    "\n",
    "```\n",
    "Dataset 2 baseline score:\n",
    "\n",
    "                  precision    recall  f1-score   support\n",
    "\n",
    "    Benign          0.98455   0.99178   0.98815     20812\n",
    "    Malware         0.88889   0.80851   0.84680      1692\n",
    "\n",
    "    accuracy                            0.97800     22504\n",
    "    macro avg       0.93672   0.90015   0.91747     22504\n",
    "    weighted avg    0.97735   0.97800   0.97752     22504\n",
    "```"
   ]
  },
  {
   "attachments": {},
   "cell_type": "markdown",
   "metadata": {},
   "source": [
    "# Cisco - Ariel University API Security Detection Challenge 2023\n",
    "## Baseline code\n",
    "\n",
    "\n",
    "### Imports and global settings"
   ]
  },
  {
   "cell_type": "code",
   "execution_count": 6,
   "metadata": {},
   "outputs": [
    {
     "data": {
      "text/html": [
       "<div>\n",
       "<style scoped>\n",
       "    .dataframe tbody tr th:only-of-type {\n",
       "        vertical-align: middle;\n",
       "    }\n",
       "\n",
       "    .dataframe tbody tr th {\n",
       "        vertical-align: top;\n",
       "    }\n",
       "\n",
       "    .dataframe thead th {\n",
       "        text-align: right;\n",
       "    }\n",
       "</style>\n",
       "<table border=\"1\" class=\"dataframe\">\n",
       "  <thead>\n",
       "    <tr style=\"text-align: right;\">\n",
       "      <th></th>\n",
       "      <th>request.headers.Host</th>\n",
       "      <th>request.headers.User-Agent</th>\n",
       "      <th>request.headers.Accept-Encoding</th>\n",
       "      <th>request.headers.Accept</th>\n",
       "      <th>request.headers.Connection</th>\n",
       "      <th>request.headers.Accept-Language</th>\n",
       "      <th>request.headers.Sec-Fetch-Site</th>\n",
       "      <th>request.headers.Sec-Fetch-Mode</th>\n",
       "      <th>request.headers.Sec-Fetch-User</th>\n",
       "      <th>request.headers.Sec-Fetch-Dest</th>\n",
       "      <th>request.headers.Set-Cookie</th>\n",
       "      <th>request.headers.Date</th>\n",
       "      <th>request.method</th>\n",
       "      <th>request.url</th>\n",
       "      <th>request.body</th>\n",
       "      <th>response.status</th>\n",
       "      <th>response.headers.Content-Type</th>\n",
       "      <th>response.headers.Content-Length</th>\n",
       "      <th>response.status_code</th>\n",
       "      <th>response.body</th>\n",
       "      <th>response.headers.Location</th>\n",
       "      <th>request.Attack_Tag</th>\n",
       "      <th>request.headers.Cookie</th>\n",
       "      <th>request.headers.Content-Length</th>\n",
       "      <th>response.headers.Set-Cookie</th>\n",
       "    </tr>\n",
       "  </thead>\n",
       "  <tbody>\n",
       "    <tr>\n",
       "      <th>0</th>\n",
       "      <td>127.0.0.1:5000</td>\n",
       "      <td>Mozilla/5.0 (Windows NT 5.1; rv:31.0) Gecko/20...</td>\n",
       "      <td>gzip, deflate, br</td>\n",
       "      <td>*/*</td>\n",
       "      <td>keep-alive</td>\n",
       "      <td>de-CH</td>\n",
       "      <td>none</td>\n",
       "      <td>same-origin</td>\n",
       "      <td>?1</td>\n",
       "      <td>document</td>\n",
       "      <td>['ck=w6oM9XV_jvWjuuVd3hLe3eSdXXPydbyfsLwTlj4Mc...</td>\n",
       "      <td>Fri, 11 Nov 2022 03:12:09 GMT</td>\n",
       "      <td>GET</td>\n",
       "      <td>http://127.0.0.1:5000/static/download_txt/7115</td>\n",
       "      <td></td>\n",
       "      <td>404 NOT FOUND</td>\n",
       "      <td>application/json</td>\n",
       "      <td>32</td>\n",
       "      <td>404</td>\n",
       "      <td>{\"error\": \"File not found\"}</td>\n",
       "      <td>NaN</td>\n",
       "      <td>NaN</td>\n",
       "      <td>NaN</td>\n",
       "      <td>NaN</td>\n",
       "      <td>NaN</td>\n",
       "    </tr>\n",
       "    <tr>\n",
       "      <th>1</th>\n",
       "      <td>127.0.0.1:5000</td>\n",
       "      <td>Mozilla/5.0 (X11; Linux x86_64) AppleWebKit/53...</td>\n",
       "      <td>gzip, deflate, br</td>\n",
       "      <td>*/*</td>\n",
       "      <td>keep-alive</td>\n",
       "      <td>en-US,en;q=0.9,he;q=0.8</td>\n",
       "      <td>none</td>\n",
       "      <td>same-origin</td>\n",
       "      <td>?1</td>\n",
       "      <td>document</td>\n",
       "      <td>['ck=c8uOUXcCTGAn3VPZ7KkmjeGl7T4m7z5hvteH_e4NP...</td>\n",
       "      <td>Fri, 11 Nov 2022 03:01:18 GMT</td>\n",
       "      <td>GET</td>\n",
       "      <td>http://127.0.0.1:5000/about/random_page</td>\n",
       "      <td></td>\n",
       "      <td>200 OK</td>\n",
       "      <td>text/html; charset=utf-8</td>\n",
       "      <td>1163</td>\n",
       "      <td>200</td>\n",
       "      <td>&lt;figure&gt;&lt;img src=\"https://img-c.udemycdn.com/r...</td>\n",
       "      <td>NaN</td>\n",
       "      <td>NaN</td>\n",
       "      <td>NaN</td>\n",
       "      <td>NaN</td>\n",
       "      <td>NaN</td>\n",
       "    </tr>\n",
       "    <tr>\n",
       "      <th>2</th>\n",
       "      <td>127.0.0.1:5000</td>\n",
       "      <td>Mozilla/5.0 (Windows NT 6.1; WOW64; rv:31.0) G...</td>\n",
       "      <td>gzip, deflate, br</td>\n",
       "      <td>*/*</td>\n",
       "      <td>keep-alive</td>\n",
       "      <td>de-CH</td>\n",
       "      <td>none</td>\n",
       "      <td>websocket</td>\n",
       "      <td>?1</td>\n",
       "      <td>document</td>\n",
       "      <td>['ck=RKquq_BCt65ARAQ2BjFcYW58e4Hr_JMvmHA71wfu8...</td>\n",
       "      <td>Fri, 11 Nov 2022 03:01:17 GMT</td>\n",
       "      <td>GET</td>\n",
       "      <td>http://127.0.0.1:5000/categories/check/all</td>\n",
       "      <td></td>\n",
       "      <td>200 OK</td>\n",
       "      <td>application/json</td>\n",
       "      <td>1112</td>\n",
       "      <td>200</td>\n",
       "      <td>[{\"category_id\": \"1\", \"category_name\": \"Bevera...</td>\n",
       "      <td>NaN</td>\n",
       "      <td>NaN</td>\n",
       "      <td>NaN</td>\n",
       "      <td>NaN</td>\n",
       "      <td>NaN</td>\n",
       "    </tr>\n",
       "    <tr>\n",
       "      <th>3</th>\n",
       "      <td>127.0.0.1:5000</td>\n",
       "      <td>Mozilla/5.0 (Macintosh; Intel Mac OS X 10_10_1...</td>\n",
       "      <td>gzip, deflate, br</td>\n",
       "      <td>*/*</td>\n",
       "      <td>keep-alive</td>\n",
       "      <td>en-US,en;q=0.5</td>\n",
       "      <td>none</td>\n",
       "      <td>same-origin</td>\n",
       "      <td>?1</td>\n",
       "      <td>document</td>\n",
       "      <td>['ck=RhHVh7pmM73Qp434tecicojVb27D_OtIVbYPqWaqj...</td>\n",
       "      <td>Fri, 11 Nov 2022 02:40:48 GMT</td>\n",
       "      <td>GET</td>\n",
       "      <td>http://127.0.0.1:5000/states/5911</td>\n",
       "      <td></td>\n",
       "      <td>404 NOT FOUND</td>\n",
       "      <td>application/json</td>\n",
       "      <td>33</td>\n",
       "      <td>404</td>\n",
       "      <td>{\"error\": \"State not found\"}</td>\n",
       "      <td>NaN</td>\n",
       "      <td>NaN</td>\n",
       "      <td>NaN</td>\n",
       "      <td>NaN</td>\n",
       "      <td>NaN</td>\n",
       "    </tr>\n",
       "    <tr>\n",
       "      <th>4</th>\n",
       "      <td>127.0.0.1:5000</td>\n",
       "      <td>Mozilla/5.0 (Windows NT 6.1; WOW64; rv:40.0) G...</td>\n",
       "      <td>gzip, deflate, br</td>\n",
       "      <td>*/*</td>\n",
       "      <td>keep-alive</td>\n",
       "      <td>en-US,en;q=0.9,he;q=0.8</td>\n",
       "      <td>none</td>\n",
       "      <td>websocket</td>\n",
       "      <td>?1</td>\n",
       "      <td>document</td>\n",
       "      <td>['ck=DBFNGnjseloXLj_cxqJe3QTz-J1XS4kaCpMWDl60G...</td>\n",
       "      <td>Fri, 11 Nov 2022 03:05:42 GMT</td>\n",
       "      <td>GET</td>\n",
       "      <td>http://127.0.0.1:5000/orders/get/ship_via/10642</td>\n",
       "      <td></td>\n",
       "      <td>404 NOT FOUND</td>\n",
       "      <td>application/json</td>\n",
       "      <td>36</td>\n",
       "      <td>404</td>\n",
       "      <td>{\"error\": \"Ship VIA not found\"}</td>\n",
       "      <td>NaN</td>\n",
       "      <td>NaN</td>\n",
       "      <td>NaN</td>\n",
       "      <td>NaN</td>\n",
       "      <td>NaN</td>\n",
       "    </tr>\n",
       "  </tbody>\n",
       "</table>\n",
       "</div>"
      ],
      "text/plain": [
       "  request.headers.Host                         request.headers.User-Agent  \\\n",
       "0       127.0.0.1:5000  Mozilla/5.0 (Windows NT 5.1; rv:31.0) Gecko/20...   \n",
       "1       127.0.0.1:5000  Mozilla/5.0 (X11; Linux x86_64) AppleWebKit/53...   \n",
       "2       127.0.0.1:5000  Mozilla/5.0 (Windows NT 6.1; WOW64; rv:31.0) G...   \n",
       "3       127.0.0.1:5000  Mozilla/5.0 (Macintosh; Intel Mac OS X 10_10_1...   \n",
       "4       127.0.0.1:5000  Mozilla/5.0 (Windows NT 6.1; WOW64; rv:40.0) G...   \n",
       "\n",
       "  request.headers.Accept-Encoding request.headers.Accept  \\\n",
       "0               gzip, deflate, br                    */*   \n",
       "1               gzip, deflate, br                    */*   \n",
       "2               gzip, deflate, br                    */*   \n",
       "3               gzip, deflate, br                    */*   \n",
       "4               gzip, deflate, br                    */*   \n",
       "\n",
       "  request.headers.Connection request.headers.Accept-Language  \\\n",
       "0                 keep-alive                           de-CH   \n",
       "1                 keep-alive         en-US,en;q=0.9,he;q=0.8   \n",
       "2                 keep-alive                           de-CH   \n",
       "3                 keep-alive                  en-US,en;q=0.5   \n",
       "4                 keep-alive         en-US,en;q=0.9,he;q=0.8   \n",
       "\n",
       "  request.headers.Sec-Fetch-Site request.headers.Sec-Fetch-Mode  \\\n",
       "0                           none                    same-origin   \n",
       "1                           none                    same-origin   \n",
       "2                           none                      websocket   \n",
       "3                           none                    same-origin   \n",
       "4                           none                      websocket   \n",
       "\n",
       "  request.headers.Sec-Fetch-User request.headers.Sec-Fetch-Dest  \\\n",
       "0                             ?1                       document   \n",
       "1                             ?1                       document   \n",
       "2                             ?1                       document   \n",
       "3                             ?1                       document   \n",
       "4                             ?1                       document   \n",
       "\n",
       "                          request.headers.Set-Cookie  \\\n",
       "0  ['ck=w6oM9XV_jvWjuuVd3hLe3eSdXXPydbyfsLwTlj4Mc...   \n",
       "1  ['ck=c8uOUXcCTGAn3VPZ7KkmjeGl7T4m7z5hvteH_e4NP...   \n",
       "2  ['ck=RKquq_BCt65ARAQ2BjFcYW58e4Hr_JMvmHA71wfu8...   \n",
       "3  ['ck=RhHVh7pmM73Qp434tecicojVb27D_OtIVbYPqWaqj...   \n",
       "4  ['ck=DBFNGnjseloXLj_cxqJe3QTz-J1XS4kaCpMWDl60G...   \n",
       "\n",
       "            request.headers.Date request.method  \\\n",
       "0  Fri, 11 Nov 2022 03:12:09 GMT            GET   \n",
       "1  Fri, 11 Nov 2022 03:01:18 GMT            GET   \n",
       "2  Fri, 11 Nov 2022 03:01:17 GMT            GET   \n",
       "3  Fri, 11 Nov 2022 02:40:48 GMT            GET   \n",
       "4  Fri, 11 Nov 2022 03:05:42 GMT            GET   \n",
       "\n",
       "                                       request.url request.body  \\\n",
       "0   http://127.0.0.1:5000/static/download_txt/7115                \n",
       "1          http://127.0.0.1:5000/about/random_page                \n",
       "2       http://127.0.0.1:5000/categories/check/all                \n",
       "3                http://127.0.0.1:5000/states/5911                \n",
       "4  http://127.0.0.1:5000/orders/get/ship_via/10642                \n",
       "\n",
       "  response.status response.headers.Content-Type  \\\n",
       "0   404 NOT FOUND              application/json   \n",
       "1          200 OK      text/html; charset=utf-8   \n",
       "2          200 OK              application/json   \n",
       "3   404 NOT FOUND              application/json   \n",
       "4   404 NOT FOUND              application/json   \n",
       "\n",
       "  response.headers.Content-Length  response.status_code  \\\n",
       "0                              32                   404   \n",
       "1                            1163                   200   \n",
       "2                            1112                   200   \n",
       "3                              33                   404   \n",
       "4                              36                   404   \n",
       "\n",
       "                                       response.body  \\\n",
       "0                        {\"error\": \"File not found\"}   \n",
       "1  <figure><img src=\"https://img-c.udemycdn.com/r...   \n",
       "2  [{\"category_id\": \"1\", \"category_name\": \"Bevera...   \n",
       "3                       {\"error\": \"State not found\"}   \n",
       "4                    {\"error\": \"Ship VIA not found\"}   \n",
       "\n",
       "  response.headers.Location request.Attack_Tag request.headers.Cookie  \\\n",
       "0                       NaN                NaN                    NaN   \n",
       "1                       NaN                NaN                    NaN   \n",
       "2                       NaN                NaN                    NaN   \n",
       "3                       NaN                NaN                    NaN   \n",
       "4                       NaN                NaN                    NaN   \n",
       "\n",
       "  request.headers.Content-Length response.headers.Set-Cookie  \n",
       "0                            NaN                         NaN  \n",
       "1                            NaN                         NaN  \n",
       "2                            NaN                         NaN  \n",
       "3                            NaN                         NaN  \n",
       "4                            NaN                         NaN  "
      ]
     },
     "execution_count": 6,
     "metadata": {},
     "output_type": "execute_result"
    }
   ],
   "source": [
    "# Imports, settings and first dataset view\n",
    "from sklearn.svm import SVC\n",
    "import pandas as pd\n",
    "import seaborn as sns\n",
    "import numpy as np\n",
    "import json\n",
    "\n",
    "from sklearn.feature_extraction.text import CountVectorizer, HashingVectorizer\n",
    "from sklearn.preprocessing import LabelEncoder\n",
    "from sklearn.model_selection import train_test_split\n",
    "from sklearn.ensemble import RandomForestClassifier\n",
    "from sklearn.metrics import confusion_matrix, classification_report\n",
    "from collections import Counter\n",
    "\n",
    "from sklearn.model_selection import GridSearchCV, cross_validate\n",
    "from sklearn.decomposition import TruncatedSVD\n",
    "\n",
    "import plotly.express as px\n",
    "import plotly.graph_objects as go\n",
    "import plotly.subplots as ps\n",
    "import matplotlib.pyplot as plt\n",
    "import plotly.io as pio\n",
    "pio.templates.default = \"plotly_dark\"\n",
    "pio.templates['plotly_dark'].layout.autosize = False\n",
    "pio.templates['plotly_dark'].layout.width = 1_000\n",
    "pio.templates['plotly_dark'].layout.height = 800\n",
    "\n",
    "from sklearn.decomposition import PCA\n",
    "from sklearn.preprocessing import StandardScaler\n",
    "\n",
    "from sklearn.linear_model import LogisticRegression\n",
    "\n",
    "from sklearn.neighbors import KNeighborsClassifier\n",
    "\n",
    "from sklearn.tree import DecisionTreeClassifier\n",
    "\n",
    "from sklearn.ensemble import AdaBoostClassifier\n",
    "\n",
    "from sklearn.ensemble import GradientBoostingClassifier\n",
    "\n",
    "from sklearn.neural_network import MLPClassifier\n",
    "\n",
    "from sklearn.ensemble import VotingClassifier\n",
    "\n",
    "from sklearn.ensemble import StackingClassifier\n",
    "\n",
    "import pickle\n",
    "\n",
    "# from ipywidgets import widgets\n",
    "\n",
    "# Set pandas to show all columns when you print a dataframe\n",
    "pd.set_option('display.max_columns', None)\n",
    "\n",
    "# Global setting here you choose the dataset number and classification type for the model\n",
    "dataset_number = 2  # Options are [1, 2, 3, 4]\n",
    "test_type = 'label'  # Options are ['label', 'attack_type']\n",
    "\n",
    "# Read the json and read it to a pandas dataframe object, you can change these settings\n",
    "with open(f'./dataset_{str(dataset_number)}_train.json') as file:\n",
    "    raw_ds = json.load(file)\n",
    "df = pd.json_normalize(raw_ds, max_level=2)\n",
    "\n",
    "# Shoe the first five lines of the dataframe to see if everything was read accordingly\n",
    "df.head()"
   ]
  },
  {
   "attachments": {},
   "cell_type": "markdown",
   "metadata": {},
   "source": [
    "### Basic dataset label arrangements"
   ]
  },
  {
   "cell_type": "code",
   "execution_count": 8,
   "metadata": {},
   "outputs": [
    {
     "data": {
      "text/html": [
       "<div>\n",
       "<style scoped>\n",
       "    .dataframe tbody tr th:only-of-type {\n",
       "        vertical-align: middle;\n",
       "    }\n",
       "\n",
       "    .dataframe tbody tr th {\n",
       "        vertical-align: top;\n",
       "    }\n",
       "\n",
       "    .dataframe thead th {\n",
       "        text-align: right;\n",
       "    }\n",
       "</style>\n",
       "<table border=\"1\" class=\"dataframe\">\n",
       "  <thead>\n",
       "    <tr style=\"text-align: right;\">\n",
       "      <th></th>\n",
       "      <th>request.headers.Host</th>\n",
       "      <th>request.headers.User-Agent</th>\n",
       "      <th>request.headers.Accept-Encoding</th>\n",
       "      <th>request.headers.Accept</th>\n",
       "      <th>request.headers.Connection</th>\n",
       "      <th>request.headers.Accept-Language</th>\n",
       "      <th>request.headers.Sec-Fetch-Site</th>\n",
       "      <th>request.headers.Sec-Fetch-Mode</th>\n",
       "      <th>request.headers.Sec-Fetch-User</th>\n",
       "      <th>request.headers.Sec-Fetch-Dest</th>\n",
       "      <th>request.headers.Set-Cookie</th>\n",
       "      <th>request.headers.Date</th>\n",
       "      <th>request.method</th>\n",
       "      <th>request.url</th>\n",
       "      <th>request.body</th>\n",
       "      <th>response.status</th>\n",
       "      <th>response.headers.Content-Type</th>\n",
       "      <th>response.headers.Content-Length</th>\n",
       "      <th>response.status_code</th>\n",
       "      <th>response.body</th>\n",
       "      <th>response.headers.Location</th>\n",
       "      <th>request.headers.Cookie</th>\n",
       "      <th>request.headers.Content-Length</th>\n",
       "      <th>response.headers.Set-Cookie</th>\n",
       "      <th>attack_type</th>\n",
       "      <th>label</th>\n",
       "    </tr>\n",
       "  </thead>\n",
       "  <tbody>\n",
       "    <tr>\n",
       "      <th>0</th>\n",
       "      <td>127.0.0.1:5000</td>\n",
       "      <td>Mozilla/5.0 (Windows NT 5.1; rv:31.0) Gecko/20...</td>\n",
       "      <td>gzip, deflate, br</td>\n",
       "      <td>*/*</td>\n",
       "      <td>keep-alive</td>\n",
       "      <td>de-CH</td>\n",
       "      <td>none</td>\n",
       "      <td>same-origin</td>\n",
       "      <td>?1</td>\n",
       "      <td>document</td>\n",
       "      <td>['ck=w6oM9XV_jvWjuuVd3hLe3eSdXXPydbyfsLwTlj4Mc...</td>\n",
       "      <td>Fri, 11 Nov 2022 03:12:09 GMT</td>\n",
       "      <td>GET</td>\n",
       "      <td>http://127.0.0.1:5000/static/download_txt/7115</td>\n",
       "      <td></td>\n",
       "      <td>404 NOT FOUND</td>\n",
       "      <td>application/json</td>\n",
       "      <td>32</td>\n",
       "      <td>404</td>\n",
       "      <td>{\"error\": \"File not found\"}</td>\n",
       "      <td>NaN</td>\n",
       "      <td>NaN</td>\n",
       "      <td>NaN</td>\n",
       "      <td>NaN</td>\n",
       "      <td>Benign</td>\n",
       "      <td>Benign</td>\n",
       "    </tr>\n",
       "    <tr>\n",
       "      <th>1</th>\n",
       "      <td>127.0.0.1:5000</td>\n",
       "      <td>Mozilla/5.0 (X11; Linux x86_64) AppleWebKit/53...</td>\n",
       "      <td>gzip, deflate, br</td>\n",
       "      <td>*/*</td>\n",
       "      <td>keep-alive</td>\n",
       "      <td>en-US,en;q=0.9,he;q=0.8</td>\n",
       "      <td>none</td>\n",
       "      <td>same-origin</td>\n",
       "      <td>?1</td>\n",
       "      <td>document</td>\n",
       "      <td>['ck=c8uOUXcCTGAn3VPZ7KkmjeGl7T4m7z5hvteH_e4NP...</td>\n",
       "      <td>Fri, 11 Nov 2022 03:01:18 GMT</td>\n",
       "      <td>GET</td>\n",
       "      <td>http://127.0.0.1:5000/about/random_page</td>\n",
       "      <td></td>\n",
       "      <td>200 OK</td>\n",
       "      <td>text/html; charset=utf-8</td>\n",
       "      <td>1163</td>\n",
       "      <td>200</td>\n",
       "      <td>&lt;figure&gt;&lt;img src=\"https://img-c.udemycdn.com/r...</td>\n",
       "      <td>NaN</td>\n",
       "      <td>NaN</td>\n",
       "      <td>NaN</td>\n",
       "      <td>NaN</td>\n",
       "      <td>Benign</td>\n",
       "      <td>Benign</td>\n",
       "    </tr>\n",
       "    <tr>\n",
       "      <th>2</th>\n",
       "      <td>127.0.0.1:5000</td>\n",
       "      <td>Mozilla/5.0 (Windows NT 6.1; WOW64; rv:31.0) G...</td>\n",
       "      <td>gzip, deflate, br</td>\n",
       "      <td>*/*</td>\n",
       "      <td>keep-alive</td>\n",
       "      <td>de-CH</td>\n",
       "      <td>none</td>\n",
       "      <td>websocket</td>\n",
       "      <td>?1</td>\n",
       "      <td>document</td>\n",
       "      <td>['ck=RKquq_BCt65ARAQ2BjFcYW58e4Hr_JMvmHA71wfu8...</td>\n",
       "      <td>Fri, 11 Nov 2022 03:01:17 GMT</td>\n",
       "      <td>GET</td>\n",
       "      <td>http://127.0.0.1:5000/categories/check/all</td>\n",
       "      <td></td>\n",
       "      <td>200 OK</td>\n",
       "      <td>application/json</td>\n",
       "      <td>1112</td>\n",
       "      <td>200</td>\n",
       "      <td>[{\"category_id\": \"1\", \"category_name\": \"Bevera...</td>\n",
       "      <td>NaN</td>\n",
       "      <td>NaN</td>\n",
       "      <td>NaN</td>\n",
       "      <td>NaN</td>\n",
       "      <td>Benign</td>\n",
       "      <td>Benign</td>\n",
       "    </tr>\n",
       "    <tr>\n",
       "      <th>3</th>\n",
       "      <td>127.0.0.1:5000</td>\n",
       "      <td>Mozilla/5.0 (Macintosh; Intel Mac OS X 10_10_1...</td>\n",
       "      <td>gzip, deflate, br</td>\n",
       "      <td>*/*</td>\n",
       "      <td>keep-alive</td>\n",
       "      <td>en-US,en;q=0.5</td>\n",
       "      <td>none</td>\n",
       "      <td>same-origin</td>\n",
       "      <td>?1</td>\n",
       "      <td>document</td>\n",
       "      <td>['ck=RhHVh7pmM73Qp434tecicojVb27D_OtIVbYPqWaqj...</td>\n",
       "      <td>Fri, 11 Nov 2022 02:40:48 GMT</td>\n",
       "      <td>GET</td>\n",
       "      <td>http://127.0.0.1:5000/states/5911</td>\n",
       "      <td></td>\n",
       "      <td>404 NOT FOUND</td>\n",
       "      <td>application/json</td>\n",
       "      <td>33</td>\n",
       "      <td>404</td>\n",
       "      <td>{\"error\": \"State not found\"}</td>\n",
       "      <td>NaN</td>\n",
       "      <td>NaN</td>\n",
       "      <td>NaN</td>\n",
       "      <td>NaN</td>\n",
       "      <td>Benign</td>\n",
       "      <td>Benign</td>\n",
       "    </tr>\n",
       "    <tr>\n",
       "      <th>4</th>\n",
       "      <td>127.0.0.1:5000</td>\n",
       "      <td>Mozilla/5.0 (Windows NT 6.1; WOW64; rv:40.0) G...</td>\n",
       "      <td>gzip, deflate, br</td>\n",
       "      <td>*/*</td>\n",
       "      <td>keep-alive</td>\n",
       "      <td>en-US,en;q=0.9,he;q=0.8</td>\n",
       "      <td>none</td>\n",
       "      <td>websocket</td>\n",
       "      <td>?1</td>\n",
       "      <td>document</td>\n",
       "      <td>['ck=DBFNGnjseloXLj_cxqJe3QTz-J1XS4kaCpMWDl60G...</td>\n",
       "      <td>Fri, 11 Nov 2022 03:05:42 GMT</td>\n",
       "      <td>GET</td>\n",
       "      <td>http://127.0.0.1:5000/orders/get/ship_via/10642</td>\n",
       "      <td></td>\n",
       "      <td>404 NOT FOUND</td>\n",
       "      <td>application/json</td>\n",
       "      <td>36</td>\n",
       "      <td>404</td>\n",
       "      <td>{\"error\": \"Ship VIA not found\"}</td>\n",
       "      <td>NaN</td>\n",
       "      <td>NaN</td>\n",
       "      <td>NaN</td>\n",
       "      <td>NaN</td>\n",
       "      <td>Benign</td>\n",
       "      <td>Benign</td>\n",
       "    </tr>\n",
       "    <tr>\n",
       "      <th>...</th>\n",
       "      <td>...</td>\n",
       "      <td>...</td>\n",
       "      <td>...</td>\n",
       "      <td>...</td>\n",
       "      <td>...</td>\n",
       "      <td>...</td>\n",
       "      <td>...</td>\n",
       "      <td>...</td>\n",
       "      <td>...</td>\n",
       "      <td>...</td>\n",
       "      <td>...</td>\n",
       "      <td>...</td>\n",
       "      <td>...</td>\n",
       "      <td>...</td>\n",
       "      <td>...</td>\n",
       "      <td>...</td>\n",
       "      <td>...</td>\n",
       "      <td>...</td>\n",
       "      <td>...</td>\n",
       "      <td>...</td>\n",
       "      <td>...</td>\n",
       "      <td>...</td>\n",
       "      <td>...</td>\n",
       "      <td>...</td>\n",
       "      <td>...</td>\n",
       "      <td>...</td>\n",
       "    </tr>\n",
       "    <tr>\n",
       "      <th>127495</th>\n",
       "      <td>127.0.0.1:5000</td>\n",
       "      <td>Mozilla/5.0 (Windows NT 6.1; WOW64) AppleWebKi...</td>\n",
       "      <td>gzip, deflate, br</td>\n",
       "      <td>*/*</td>\n",
       "      <td>keep-alive</td>\n",
       "      <td>en-US,en;q=0.5</td>\n",
       "      <td>none</td>\n",
       "      <td>websocket</td>\n",
       "      <td>?1</td>\n",
       "      <td>document</td>\n",
       "      <td>['ck=ubWnuAa4wIHnDTz0Su8AYWJAM7fUMCps6AxyNzFok...</td>\n",
       "      <td>Fri, 11 Nov 2022 02:57:49 GMT</td>\n",
       "      <td>GET</td>\n",
       "      <td>http://127.0.0.1:5000/orders/get/employee_id/5482</td>\n",
       "      <td></td>\n",
       "      <td>404 NOT FOUND</td>\n",
       "      <td>application/json</td>\n",
       "      <td>39</td>\n",
       "      <td>404</td>\n",
       "      <td>{\"error\": \"Employee ID not found\"}</td>\n",
       "      <td>NaN</td>\n",
       "      <td>NaN</td>\n",
       "      <td>NaN</td>\n",
       "      <td>NaN</td>\n",
       "      <td>Benign</td>\n",
       "      <td>Benign</td>\n",
       "    </tr>\n",
       "    <tr>\n",
       "      <th>127496</th>\n",
       "      <td>127.0.0.1:5000</td>\n",
       "      <td>Mozilla/5.0 (Windows NT 6.1; WOW64; rv:40.0) G...</td>\n",
       "      <td>gzip, deflate, br</td>\n",
       "      <td>*/*</td>\n",
       "      <td>keep-alive</td>\n",
       "      <td>de</td>\n",
       "      <td>none</td>\n",
       "      <td>websocket</td>\n",
       "      <td>?1</td>\n",
       "      <td>document</td>\n",
       "      <td>['ck=SkLWkaUE83sP38c3kf-XYBCKlSlSmBTQSEJw6EaMg...</td>\n",
       "      <td>Fri, 11 Nov 2022 02:56:21 GMT</td>\n",
       "      <td>GET</td>\n",
       "      <td>http://127.0.0.1:5000/post/new/</td>\n",
       "      <td></td>\n",
       "      <td>200 OK</td>\n",
       "      <td>text/html; charset=utf-8</td>\n",
       "      <td>70</td>\n",
       "      <td>200</td>\n",
       "      <td>&lt;form method='POST'&gt;&lt;input name='message'&gt;&lt;inp...</td>\n",
       "      <td>NaN</td>\n",
       "      <td>NaN</td>\n",
       "      <td>NaN</td>\n",
       "      <td>NaN</td>\n",
       "      <td>Benign</td>\n",
       "      <td>Benign</td>\n",
       "    </tr>\n",
       "    <tr>\n",
       "      <th>127497</th>\n",
       "      <td>127.0.0.1:5000</td>\n",
       "      <td>Mozilla/5.0 (Windows NT 6.1; Win64; x64; rv:25...</td>\n",
       "      <td>gzip, deflate, br</td>\n",
       "      <td>*/*</td>\n",
       "      <td>keep-alive</td>\n",
       "      <td>de</td>\n",
       "      <td>none</td>\n",
       "      <td>websocket</td>\n",
       "      <td>?1</td>\n",
       "      <td>document</td>\n",
       "      <td>['ck=giYaDJkC2Oa-rCmlAvYglQzy_Em-YHTv_5aOjposX...</td>\n",
       "      <td>Fri, 11 Nov 2022 02:49:37 GMT</td>\n",
       "      <td>GET</td>\n",
       "      <td>http://127.0.0.1:5000/post/new/</td>\n",
       "      <td></td>\n",
       "      <td>200 OK</td>\n",
       "      <td>text/html; charset=utf-8</td>\n",
       "      <td>70</td>\n",
       "      <td>200</td>\n",
       "      <td>&lt;form method='POST'&gt;&lt;input name='message'&gt;&lt;inp...</td>\n",
       "      <td>NaN</td>\n",
       "      <td>NaN</td>\n",
       "      <td>NaN</td>\n",
       "      <td>NaN</td>\n",
       "      <td>Benign</td>\n",
       "      <td>Benign</td>\n",
       "    </tr>\n",
       "    <tr>\n",
       "      <th>127498</th>\n",
       "      <td>127.0.0.1:5000</td>\n",
       "      <td>Mozilla/5.0 (X11; Ubuntu; Linux x86_64; rv:24....</td>\n",
       "      <td>gzip, deflate, br</td>\n",
       "      <td>*/*</td>\n",
       "      <td>keep-alive</td>\n",
       "      <td>de-CH</td>\n",
       "      <td>none</td>\n",
       "      <td>websocket</td>\n",
       "      <td>?1</td>\n",
       "      <td>document</td>\n",
       "      <td>['ck=VzOU9Ac91LxJ8UAvQ8Wt3c5Ua-30j4s9kcdTKrwCw...</td>\n",
       "      <td>Fri, 11 Nov 2022 02:47:43 GMT</td>\n",
       "      <td>GET</td>\n",
       "      <td>http://127.0.0.1:5000/orders/get/country/8599</td>\n",
       "      <td></td>\n",
       "      <td>404 NOT FOUND</td>\n",
       "      <td>text/html; charset=utf-8</td>\n",
       "      <td>207</td>\n",
       "      <td>404</td>\n",
       "      <td>&lt;!doctype html&gt;\\n&lt;html lang=en&gt;\\n&lt;title&gt;404 No...</td>\n",
       "      <td>NaN</td>\n",
       "      <td>NaN</td>\n",
       "      <td>NaN</td>\n",
       "      <td>NaN</td>\n",
       "      <td>Benign</td>\n",
       "      <td>Benign</td>\n",
       "    </tr>\n",
       "    <tr>\n",
       "      <th>127499</th>\n",
       "      <td>127.0.0.1:5000</td>\n",
       "      <td>Mozilla/5.0 (X11; Ubuntu; Linux x86_64; rv:24....</td>\n",
       "      <td>gzip, deflate, br</td>\n",
       "      <td>*/*</td>\n",
       "      <td>keep-alive</td>\n",
       "      <td>de-CH</td>\n",
       "      <td>none</td>\n",
       "      <td>same-origin</td>\n",
       "      <td>?1</td>\n",
       "      <td>document</td>\n",
       "      <td>['ck=0w5tjJLrrO3gkGZJQTSj2ryTjSiI2Dv-VPIdQfN1N...</td>\n",
       "      <td>Fri, 11 Nov 2022 03:10:46 GMT</td>\n",
       "      <td>GET</td>\n",
       "      <td>http://127.0.0.1:5000/about/greet</td>\n",
       "      <td></td>\n",
       "      <td>200 OK</td>\n",
       "      <td>text/html; charset=utf-8</td>\n",
       "      <td>350</td>\n",
       "      <td>200</td>\n",
       "      <td>&lt;p&gt;To start the challenge, first head over to ...</td>\n",
       "      <td>NaN</td>\n",
       "      <td>NaN</td>\n",
       "      <td>NaN</td>\n",
       "      <td>NaN</td>\n",
       "      <td>Benign</td>\n",
       "      <td>Benign</td>\n",
       "    </tr>\n",
       "  </tbody>\n",
       "</table>\n",
       "<p>127500 rows × 26 columns</p>\n",
       "</div>"
      ],
      "text/plain": [
       "       request.headers.Host  \\\n",
       "0            127.0.0.1:5000   \n",
       "1            127.0.0.1:5000   \n",
       "2            127.0.0.1:5000   \n",
       "3            127.0.0.1:5000   \n",
       "4            127.0.0.1:5000   \n",
       "...                     ...   \n",
       "127495       127.0.0.1:5000   \n",
       "127496       127.0.0.1:5000   \n",
       "127497       127.0.0.1:5000   \n",
       "127498       127.0.0.1:5000   \n",
       "127499       127.0.0.1:5000   \n",
       "\n",
       "                               request.headers.User-Agent  \\\n",
       "0       Mozilla/5.0 (Windows NT 5.1; rv:31.0) Gecko/20...   \n",
       "1       Mozilla/5.0 (X11; Linux x86_64) AppleWebKit/53...   \n",
       "2       Mozilla/5.0 (Windows NT 6.1; WOW64; rv:31.0) G...   \n",
       "3       Mozilla/5.0 (Macintosh; Intel Mac OS X 10_10_1...   \n",
       "4       Mozilla/5.0 (Windows NT 6.1; WOW64; rv:40.0) G...   \n",
       "...                                                   ...   \n",
       "127495  Mozilla/5.0 (Windows NT 6.1; WOW64) AppleWebKi...   \n",
       "127496  Mozilla/5.0 (Windows NT 6.1; WOW64; rv:40.0) G...   \n",
       "127497  Mozilla/5.0 (Windows NT 6.1; Win64; x64; rv:25...   \n",
       "127498  Mozilla/5.0 (X11; Ubuntu; Linux x86_64; rv:24....   \n",
       "127499  Mozilla/5.0 (X11; Ubuntu; Linux x86_64; rv:24....   \n",
       "\n",
       "       request.headers.Accept-Encoding request.headers.Accept  \\\n",
       "0                    gzip, deflate, br                    */*   \n",
       "1                    gzip, deflate, br                    */*   \n",
       "2                    gzip, deflate, br                    */*   \n",
       "3                    gzip, deflate, br                    */*   \n",
       "4                    gzip, deflate, br                    */*   \n",
       "...                                ...                    ...   \n",
       "127495               gzip, deflate, br                    */*   \n",
       "127496               gzip, deflate, br                    */*   \n",
       "127497               gzip, deflate, br                    */*   \n",
       "127498               gzip, deflate, br                    */*   \n",
       "127499               gzip, deflate, br                    */*   \n",
       "\n",
       "       request.headers.Connection request.headers.Accept-Language  \\\n",
       "0                      keep-alive                           de-CH   \n",
       "1                      keep-alive         en-US,en;q=0.9,he;q=0.8   \n",
       "2                      keep-alive                           de-CH   \n",
       "3                      keep-alive                  en-US,en;q=0.5   \n",
       "4                      keep-alive         en-US,en;q=0.9,he;q=0.8   \n",
       "...                           ...                             ...   \n",
       "127495                 keep-alive                  en-US,en;q=0.5   \n",
       "127496                 keep-alive                              de   \n",
       "127497                 keep-alive                              de   \n",
       "127498                 keep-alive                           de-CH   \n",
       "127499                 keep-alive                           de-CH   \n",
       "\n",
       "       request.headers.Sec-Fetch-Site request.headers.Sec-Fetch-Mode  \\\n",
       "0                                none                    same-origin   \n",
       "1                                none                    same-origin   \n",
       "2                                none                      websocket   \n",
       "3                                none                    same-origin   \n",
       "4                                none                      websocket   \n",
       "...                               ...                            ...   \n",
       "127495                           none                      websocket   \n",
       "127496                           none                      websocket   \n",
       "127497                           none                      websocket   \n",
       "127498                           none                      websocket   \n",
       "127499                           none                    same-origin   \n",
       "\n",
       "       request.headers.Sec-Fetch-User request.headers.Sec-Fetch-Dest  \\\n",
       "0                                  ?1                       document   \n",
       "1                                  ?1                       document   \n",
       "2                                  ?1                       document   \n",
       "3                                  ?1                       document   \n",
       "4                                  ?1                       document   \n",
       "...                               ...                            ...   \n",
       "127495                             ?1                       document   \n",
       "127496                             ?1                       document   \n",
       "127497                             ?1                       document   \n",
       "127498                             ?1                       document   \n",
       "127499                             ?1                       document   \n",
       "\n",
       "                               request.headers.Set-Cookie  \\\n",
       "0       ['ck=w6oM9XV_jvWjuuVd3hLe3eSdXXPydbyfsLwTlj4Mc...   \n",
       "1       ['ck=c8uOUXcCTGAn3VPZ7KkmjeGl7T4m7z5hvteH_e4NP...   \n",
       "2       ['ck=RKquq_BCt65ARAQ2BjFcYW58e4Hr_JMvmHA71wfu8...   \n",
       "3       ['ck=RhHVh7pmM73Qp434tecicojVb27D_OtIVbYPqWaqj...   \n",
       "4       ['ck=DBFNGnjseloXLj_cxqJe3QTz-J1XS4kaCpMWDl60G...   \n",
       "...                                                   ...   \n",
       "127495  ['ck=ubWnuAa4wIHnDTz0Su8AYWJAM7fUMCps6AxyNzFok...   \n",
       "127496  ['ck=SkLWkaUE83sP38c3kf-XYBCKlSlSmBTQSEJw6EaMg...   \n",
       "127497  ['ck=giYaDJkC2Oa-rCmlAvYglQzy_Em-YHTv_5aOjposX...   \n",
       "127498  ['ck=VzOU9Ac91LxJ8UAvQ8Wt3c5Ua-30j4s9kcdTKrwCw...   \n",
       "127499  ['ck=0w5tjJLrrO3gkGZJQTSj2ryTjSiI2Dv-VPIdQfN1N...   \n",
       "\n",
       "                 request.headers.Date request.method  \\\n",
       "0       Fri, 11 Nov 2022 03:12:09 GMT            GET   \n",
       "1       Fri, 11 Nov 2022 03:01:18 GMT            GET   \n",
       "2       Fri, 11 Nov 2022 03:01:17 GMT            GET   \n",
       "3       Fri, 11 Nov 2022 02:40:48 GMT            GET   \n",
       "4       Fri, 11 Nov 2022 03:05:42 GMT            GET   \n",
       "...                               ...            ...   \n",
       "127495  Fri, 11 Nov 2022 02:57:49 GMT            GET   \n",
       "127496  Fri, 11 Nov 2022 02:56:21 GMT            GET   \n",
       "127497  Fri, 11 Nov 2022 02:49:37 GMT            GET   \n",
       "127498  Fri, 11 Nov 2022 02:47:43 GMT            GET   \n",
       "127499  Fri, 11 Nov 2022 03:10:46 GMT            GET   \n",
       "\n",
       "                                              request.url request.body  \\\n",
       "0          http://127.0.0.1:5000/static/download_txt/7115                \n",
       "1                 http://127.0.0.1:5000/about/random_page                \n",
       "2              http://127.0.0.1:5000/categories/check/all                \n",
       "3                       http://127.0.0.1:5000/states/5911                \n",
       "4         http://127.0.0.1:5000/orders/get/ship_via/10642                \n",
       "...                                                   ...          ...   \n",
       "127495  http://127.0.0.1:5000/orders/get/employee_id/5482                \n",
       "127496                    http://127.0.0.1:5000/post/new/                \n",
       "127497                    http://127.0.0.1:5000/post/new/                \n",
       "127498      http://127.0.0.1:5000/orders/get/country/8599                \n",
       "127499                  http://127.0.0.1:5000/about/greet                \n",
       "\n",
       "       response.status response.headers.Content-Type  \\\n",
       "0        404 NOT FOUND              application/json   \n",
       "1               200 OK      text/html; charset=utf-8   \n",
       "2               200 OK              application/json   \n",
       "3        404 NOT FOUND              application/json   \n",
       "4        404 NOT FOUND              application/json   \n",
       "...                ...                           ...   \n",
       "127495   404 NOT FOUND              application/json   \n",
       "127496          200 OK      text/html; charset=utf-8   \n",
       "127497          200 OK      text/html; charset=utf-8   \n",
       "127498   404 NOT FOUND      text/html; charset=utf-8   \n",
       "127499          200 OK      text/html; charset=utf-8   \n",
       "\n",
       "       response.headers.Content-Length  response.status_code  \\\n",
       "0                                   32                   404   \n",
       "1                                 1163                   200   \n",
       "2                                 1112                   200   \n",
       "3                                   33                   404   \n",
       "4                                   36                   404   \n",
       "...                                ...                   ...   \n",
       "127495                              39                   404   \n",
       "127496                              70                   200   \n",
       "127497                              70                   200   \n",
       "127498                             207                   404   \n",
       "127499                             350                   200   \n",
       "\n",
       "                                            response.body  \\\n",
       "0                             {\"error\": \"File not found\"}   \n",
       "1       <figure><img src=\"https://img-c.udemycdn.com/r...   \n",
       "2       [{\"category_id\": \"1\", \"category_name\": \"Bevera...   \n",
       "3                            {\"error\": \"State not found\"}   \n",
       "4                         {\"error\": \"Ship VIA not found\"}   \n",
       "...                                                   ...   \n",
       "127495                 {\"error\": \"Employee ID not found\"}   \n",
       "127496  <form method='POST'><input name='message'><inp...   \n",
       "127497  <form method='POST'><input name='message'><inp...   \n",
       "127498  <!doctype html>\\n<html lang=en>\\n<title>404 No...   \n",
       "127499  <p>To start the challenge, first head over to ...   \n",
       "\n",
       "       response.headers.Location request.headers.Cookie  \\\n",
       "0                            NaN                    NaN   \n",
       "1                            NaN                    NaN   \n",
       "2                            NaN                    NaN   \n",
       "3                            NaN                    NaN   \n",
       "4                            NaN                    NaN   \n",
       "...                          ...                    ...   \n",
       "127495                       NaN                    NaN   \n",
       "127496                       NaN                    NaN   \n",
       "127497                       NaN                    NaN   \n",
       "127498                       NaN                    NaN   \n",
       "127499                       NaN                    NaN   \n",
       "\n",
       "       request.headers.Content-Length response.headers.Set-Cookie attack_type  \\\n",
       "0                                 NaN                         NaN      Benign   \n",
       "1                                 NaN                         NaN      Benign   \n",
       "2                                 NaN                         NaN      Benign   \n",
       "3                                 NaN                         NaN      Benign   \n",
       "4                                 NaN                         NaN      Benign   \n",
       "...                               ...                         ...         ...   \n",
       "127495                            NaN                         NaN      Benign   \n",
       "127496                            NaN                         NaN      Benign   \n",
       "127497                            NaN                         NaN      Benign   \n",
       "127498                            NaN                         NaN      Benign   \n",
       "127499                            NaN                         NaN      Benign   \n",
       "\n",
       "         label  \n",
       "0       Benign  \n",
       "1       Benign  \n",
       "2       Benign  \n",
       "3       Benign  \n",
       "4       Benign  \n",
       "...        ...  \n",
       "127495  Benign  \n",
       "127496  Benign  \n",
       "127497  Benign  \n",
       "127498  Benign  \n",
       "127499  Benign  \n",
       "\n",
       "[127500 rows x 26 columns]"
      ]
     },
     "execution_count": 8,
     "metadata": {},
     "output_type": "execute_result"
    }
   ],
   "source": [
    "# Fill the black attack tag lines with \"Benign\" string\n",
    "df['request.Attack_Tag'] = df['request.Attack_Tag'].fillna('Benign')\n",
    "df['attack_type'] = df['request.Attack_Tag']\n",
    "\n",
    "# This function will be used in the lambda below to iterate over the label columns\n",
    "# You can use this snippet to run your own lambda on any data with the apply() method\n",
    "\n",
    "\n",
    "def categorize(row):\n",
    "    if row['request.Attack_Tag'] == 'Benign':\n",
    "        return 'Benign'\n",
    "    return 'Malware'\n",
    "\n",
    "\n",
    "df['label'] = df.apply(lambda row: categorize(row), axis=1)\n",
    "\n",
    "# After finishing the arrangements we delete the irrelevant column\n",
    "df.drop('request.Attack_Tag', axis=1, inplace=True)\n",
    "\n",
    "df"
   ]
  },
  {
   "cell_type": "code",
   "execution_count": 9,
   "metadata": {},
   "outputs": [
    {
     "data": {
      "text/html": [
       "<div>\n",
       "<style scoped>\n",
       "    .dataframe tbody tr th:only-of-type {\n",
       "        vertical-align: middle;\n",
       "    }\n",
       "\n",
       "    .dataframe tbody tr th {\n",
       "        vertical-align: top;\n",
       "    }\n",
       "\n",
       "    .dataframe thead th {\n",
       "        text-align: right;\n",
       "    }\n",
       "</style>\n",
       "<table border=\"1\" class=\"dataframe\">\n",
       "  <thead>\n",
       "    <tr style=\"text-align: right;\">\n",
       "      <th></th>\n",
       "      <th>request.headers.Host</th>\n",
       "      <th>request.headers.User-Agent</th>\n",
       "      <th>request.headers.Accept-Encoding</th>\n",
       "      <th>request.headers.Accept</th>\n",
       "      <th>request.headers.Connection</th>\n",
       "      <th>request.headers.Accept-Language</th>\n",
       "      <th>request.headers.Sec-Fetch-Site</th>\n",
       "      <th>request.headers.Sec-Fetch-Mode</th>\n",
       "      <th>request.headers.Sec-Fetch-User</th>\n",
       "      <th>request.headers.Sec-Fetch-Dest</th>\n",
       "      <th>request.headers.Set-Cookie</th>\n",
       "      <th>request.headers.Date</th>\n",
       "      <th>request.method</th>\n",
       "      <th>request.url</th>\n",
       "      <th>request.body</th>\n",
       "      <th>response.status</th>\n",
       "      <th>response.headers.Content-Type</th>\n",
       "      <th>response.headers.Content-Length</th>\n",
       "      <th>response.status_code</th>\n",
       "      <th>response.body</th>\n",
       "      <th>response.headers.Location</th>\n",
       "      <th>request.headers.Cookie</th>\n",
       "      <th>request.headers.Content-Length</th>\n",
       "      <th>response.headers.Set-Cookie</th>\n",
       "      <th>attack_type</th>\n",
       "      <th>label</th>\n",
       "    </tr>\n",
       "  </thead>\n",
       "  <tbody>\n",
       "    <tr>\n",
       "      <th>0</th>\n",
       "      <td>127.0.0.1:5000</td>\n",
       "      <td>Mozilla/5.0 (Windows NT 5.1; rv:31.0) Gecko/20...</td>\n",
       "      <td>gzip, deflate, br</td>\n",
       "      <td>*/*</td>\n",
       "      <td>keep-alive</td>\n",
       "      <td>de-CH</td>\n",
       "      <td>none</td>\n",
       "      <td>same-origin</td>\n",
       "      <td>?1</td>\n",
       "      <td>document</td>\n",
       "      <td>['ck=w6oM9XV_jvWjuuVd3hLe3eSdXXPydbyfsLwTlj4Mc...</td>\n",
       "      <td>Fri, 11 Nov 2022 03:12:09 GMT</td>\n",
       "      <td>GET</td>\n",
       "      <td>http://127.0.0.1:5000/static/download_txt/7115</td>\n",
       "      <td></td>\n",
       "      <td>404 NOT FOUND</td>\n",
       "      <td>application/json</td>\n",
       "      <td>32</td>\n",
       "      <td>404</td>\n",
       "      <td>{\"error\": \"File not found\"}</td>\n",
       "      <td>None</td>\n",
       "      <td>None</td>\n",
       "      <td>None</td>\n",
       "      <td>None</td>\n",
       "      <td>Benign</td>\n",
       "      <td>Benign</td>\n",
       "    </tr>\n",
       "    <tr>\n",
       "      <th>1</th>\n",
       "      <td>127.0.0.1:5000</td>\n",
       "      <td>Mozilla/5.0 (X11; Linux x86_64) AppleWebKit/53...</td>\n",
       "      <td>gzip, deflate, br</td>\n",
       "      <td>*/*</td>\n",
       "      <td>keep-alive</td>\n",
       "      <td>en-US,en;q=0.9,he;q=0.8</td>\n",
       "      <td>none</td>\n",
       "      <td>same-origin</td>\n",
       "      <td>?1</td>\n",
       "      <td>document</td>\n",
       "      <td>['ck=c8uOUXcCTGAn3VPZ7KkmjeGl7T4m7z5hvteH_e4NP...</td>\n",
       "      <td>Fri, 11 Nov 2022 03:01:18 GMT</td>\n",
       "      <td>GET</td>\n",
       "      <td>http://127.0.0.1:5000/about/random_page</td>\n",
       "      <td></td>\n",
       "      <td>200 OK</td>\n",
       "      <td>text/html; charset=utf-8</td>\n",
       "      <td>1163</td>\n",
       "      <td>200</td>\n",
       "      <td>&lt;figure&gt;&lt;img src=\"https://img-c.udemycdn.com/r...</td>\n",
       "      <td>None</td>\n",
       "      <td>None</td>\n",
       "      <td>None</td>\n",
       "      <td>None</td>\n",
       "      <td>Benign</td>\n",
       "      <td>Benign</td>\n",
       "    </tr>\n",
       "    <tr>\n",
       "      <th>2</th>\n",
       "      <td>127.0.0.1:5000</td>\n",
       "      <td>Mozilla/5.0 (Windows NT 6.1; WOW64; rv:31.0) G...</td>\n",
       "      <td>gzip, deflate, br</td>\n",
       "      <td>*/*</td>\n",
       "      <td>keep-alive</td>\n",
       "      <td>de-CH</td>\n",
       "      <td>none</td>\n",
       "      <td>websocket</td>\n",
       "      <td>?1</td>\n",
       "      <td>document</td>\n",
       "      <td>['ck=RKquq_BCt65ARAQ2BjFcYW58e4Hr_JMvmHA71wfu8...</td>\n",
       "      <td>Fri, 11 Nov 2022 03:01:17 GMT</td>\n",
       "      <td>GET</td>\n",
       "      <td>http://127.0.0.1:5000/categories/check/all</td>\n",
       "      <td></td>\n",
       "      <td>200 OK</td>\n",
       "      <td>application/json</td>\n",
       "      <td>1112</td>\n",
       "      <td>200</td>\n",
       "      <td>[{\"category_id\": \"1\", \"category_name\": \"Bevera...</td>\n",
       "      <td>None</td>\n",
       "      <td>None</td>\n",
       "      <td>None</td>\n",
       "      <td>None</td>\n",
       "      <td>Benign</td>\n",
       "      <td>Benign</td>\n",
       "    </tr>\n",
       "    <tr>\n",
       "      <th>3</th>\n",
       "      <td>127.0.0.1:5000</td>\n",
       "      <td>Mozilla/5.0 (Macintosh; Intel Mac OS X 10_10_1...</td>\n",
       "      <td>gzip, deflate, br</td>\n",
       "      <td>*/*</td>\n",
       "      <td>keep-alive</td>\n",
       "      <td>en-US,en;q=0.5</td>\n",
       "      <td>none</td>\n",
       "      <td>same-origin</td>\n",
       "      <td>?1</td>\n",
       "      <td>document</td>\n",
       "      <td>['ck=RhHVh7pmM73Qp434tecicojVb27D_OtIVbYPqWaqj...</td>\n",
       "      <td>Fri, 11 Nov 2022 02:40:48 GMT</td>\n",
       "      <td>GET</td>\n",
       "      <td>http://127.0.0.1:5000/states/5911</td>\n",
       "      <td></td>\n",
       "      <td>404 NOT FOUND</td>\n",
       "      <td>application/json</td>\n",
       "      <td>33</td>\n",
       "      <td>404</td>\n",
       "      <td>{\"error\": \"State not found\"}</td>\n",
       "      <td>None</td>\n",
       "      <td>None</td>\n",
       "      <td>None</td>\n",
       "      <td>None</td>\n",
       "      <td>Benign</td>\n",
       "      <td>Benign</td>\n",
       "    </tr>\n",
       "    <tr>\n",
       "      <th>4</th>\n",
       "      <td>127.0.0.1:5000</td>\n",
       "      <td>Mozilla/5.0 (Windows NT 6.1; WOW64; rv:40.0) G...</td>\n",
       "      <td>gzip, deflate, br</td>\n",
       "      <td>*/*</td>\n",
       "      <td>keep-alive</td>\n",
       "      <td>en-US,en;q=0.9,he;q=0.8</td>\n",
       "      <td>none</td>\n",
       "      <td>websocket</td>\n",
       "      <td>?1</td>\n",
       "      <td>document</td>\n",
       "      <td>['ck=DBFNGnjseloXLj_cxqJe3QTz-J1XS4kaCpMWDl60G...</td>\n",
       "      <td>Fri, 11 Nov 2022 03:05:42 GMT</td>\n",
       "      <td>GET</td>\n",
       "      <td>http://127.0.0.1:5000/orders/get/ship_via/10642</td>\n",
       "      <td></td>\n",
       "      <td>404 NOT FOUND</td>\n",
       "      <td>application/json</td>\n",
       "      <td>36</td>\n",
       "      <td>404</td>\n",
       "      <td>{\"error\": \"Ship VIA not found\"}</td>\n",
       "      <td>None</td>\n",
       "      <td>None</td>\n",
       "      <td>None</td>\n",
       "      <td>None</td>\n",
       "      <td>Benign</td>\n",
       "      <td>Benign</td>\n",
       "    </tr>\n",
       "  </tbody>\n",
       "</table>\n",
       "</div>"
      ],
      "text/plain": [
       "  request.headers.Host                         request.headers.User-Agent  \\\n",
       "0       127.0.0.1:5000  Mozilla/5.0 (Windows NT 5.1; rv:31.0) Gecko/20...   \n",
       "1       127.0.0.1:5000  Mozilla/5.0 (X11; Linux x86_64) AppleWebKit/53...   \n",
       "2       127.0.0.1:5000  Mozilla/5.0 (Windows NT 6.1; WOW64; rv:31.0) G...   \n",
       "3       127.0.0.1:5000  Mozilla/5.0 (Macintosh; Intel Mac OS X 10_10_1...   \n",
       "4       127.0.0.1:5000  Mozilla/5.0 (Windows NT 6.1; WOW64; rv:40.0) G...   \n",
       "\n",
       "  request.headers.Accept-Encoding request.headers.Accept  \\\n",
       "0               gzip, deflate, br                    */*   \n",
       "1               gzip, deflate, br                    */*   \n",
       "2               gzip, deflate, br                    */*   \n",
       "3               gzip, deflate, br                    */*   \n",
       "4               gzip, deflate, br                    */*   \n",
       "\n",
       "  request.headers.Connection request.headers.Accept-Language  \\\n",
       "0                 keep-alive                           de-CH   \n",
       "1                 keep-alive         en-US,en;q=0.9,he;q=0.8   \n",
       "2                 keep-alive                           de-CH   \n",
       "3                 keep-alive                  en-US,en;q=0.5   \n",
       "4                 keep-alive         en-US,en;q=0.9,he;q=0.8   \n",
       "\n",
       "  request.headers.Sec-Fetch-Site request.headers.Sec-Fetch-Mode  \\\n",
       "0                           none                    same-origin   \n",
       "1                           none                    same-origin   \n",
       "2                           none                      websocket   \n",
       "3                           none                    same-origin   \n",
       "4                           none                      websocket   \n",
       "\n",
       "  request.headers.Sec-Fetch-User request.headers.Sec-Fetch-Dest  \\\n",
       "0                             ?1                       document   \n",
       "1                             ?1                       document   \n",
       "2                             ?1                       document   \n",
       "3                             ?1                       document   \n",
       "4                             ?1                       document   \n",
       "\n",
       "                          request.headers.Set-Cookie  \\\n",
       "0  ['ck=w6oM9XV_jvWjuuVd3hLe3eSdXXPydbyfsLwTlj4Mc...   \n",
       "1  ['ck=c8uOUXcCTGAn3VPZ7KkmjeGl7T4m7z5hvteH_e4NP...   \n",
       "2  ['ck=RKquq_BCt65ARAQ2BjFcYW58e4Hr_JMvmHA71wfu8...   \n",
       "3  ['ck=RhHVh7pmM73Qp434tecicojVb27D_OtIVbYPqWaqj...   \n",
       "4  ['ck=DBFNGnjseloXLj_cxqJe3QTz-J1XS4kaCpMWDl60G...   \n",
       "\n",
       "            request.headers.Date request.method  \\\n",
       "0  Fri, 11 Nov 2022 03:12:09 GMT            GET   \n",
       "1  Fri, 11 Nov 2022 03:01:18 GMT            GET   \n",
       "2  Fri, 11 Nov 2022 03:01:17 GMT            GET   \n",
       "3  Fri, 11 Nov 2022 02:40:48 GMT            GET   \n",
       "4  Fri, 11 Nov 2022 03:05:42 GMT            GET   \n",
       "\n",
       "                                       request.url request.body  \\\n",
       "0   http://127.0.0.1:5000/static/download_txt/7115                \n",
       "1          http://127.0.0.1:5000/about/random_page                \n",
       "2       http://127.0.0.1:5000/categories/check/all                \n",
       "3                http://127.0.0.1:5000/states/5911                \n",
       "4  http://127.0.0.1:5000/orders/get/ship_via/10642                \n",
       "\n",
       "  response.status response.headers.Content-Type  \\\n",
       "0   404 NOT FOUND              application/json   \n",
       "1          200 OK      text/html; charset=utf-8   \n",
       "2          200 OK              application/json   \n",
       "3   404 NOT FOUND              application/json   \n",
       "4   404 NOT FOUND              application/json   \n",
       "\n",
       "  response.headers.Content-Length  response.status_code  \\\n",
       "0                              32                   404   \n",
       "1                            1163                   200   \n",
       "2                            1112                   200   \n",
       "3                              33                   404   \n",
       "4                              36                   404   \n",
       "\n",
       "                                       response.body  \\\n",
       "0                        {\"error\": \"File not found\"}   \n",
       "1  <figure><img src=\"https://img-c.udemycdn.com/r...   \n",
       "2  [{\"category_id\": \"1\", \"category_name\": \"Bevera...   \n",
       "3                       {\"error\": \"State not found\"}   \n",
       "4                    {\"error\": \"Ship VIA not found\"}   \n",
       "\n",
       "  response.headers.Location request.headers.Cookie  \\\n",
       "0                      None                   None   \n",
       "1                      None                   None   \n",
       "2                      None                   None   \n",
       "3                      None                   None   \n",
       "4                      None                   None   \n",
       "\n",
       "  request.headers.Content-Length response.headers.Set-Cookie attack_type  \\\n",
       "0                           None                        None      Benign   \n",
       "1                           None                        None      Benign   \n",
       "2                           None                        None      Benign   \n",
       "3                           None                        None      Benign   \n",
       "4                           None                        None      Benign   \n",
       "\n",
       "    label  \n",
       "0  Benign  \n",
       "1  Benign  \n",
       "2  Benign  \n",
       "3  Benign  \n",
       "4  Benign  "
      ]
     },
     "execution_count": 9,
     "metadata": {},
     "output_type": "execute_result"
    }
   ],
   "source": [
    "# Remove all NAN columns or replace with desired string\n",
    "# This loop iterates over all of the column names which are all NaN\n",
    "for column in df.columns[df.isna().any()].tolist():\n",
    "    # df.drop(column, axis=1, inplace=True)\n",
    "    df[column] = df[column].fillna('None')\n",
    "\n",
    "# If you want to detect columns that may have only some NaN values use this:\n",
    "# df.loc[:, df.isna().any()].tolist()\n",
    "\n",
    "df.head()"
   ]
  },
  {
   "cell_type": "code",
   "execution_count": 10,
   "metadata": {},
   "outputs": [
    {
     "data": {
      "text/html": [
       "<div>\n",
       "<style scoped>\n",
       "    .dataframe tbody tr th:only-of-type {\n",
       "        vertical-align: middle;\n",
       "    }\n",
       "\n",
       "    .dataframe tbody tr th {\n",
       "        vertical-align: top;\n",
       "    }\n",
       "\n",
       "    .dataframe thead th {\n",
       "        text-align: right;\n",
       "    }\n",
       "</style>\n",
       "<table border=\"1\" class=\"dataframe\">\n",
       "  <thead>\n",
       "    <tr style=\"text-align: right;\">\n",
       "      <th></th>\n",
       "      <th>request.headers.Host</th>\n",
       "      <th>request.headers.User-Agent</th>\n",
       "      <th>request.headers.Accept-Encoding</th>\n",
       "      <th>request.headers.Accept</th>\n",
       "      <th>request.headers.Connection</th>\n",
       "      <th>request.headers.Accept-Language</th>\n",
       "      <th>request.headers.Sec-Fetch-Site</th>\n",
       "      <th>request.headers.Sec-Fetch-Mode</th>\n",
       "      <th>request.headers.Sec-Fetch-User</th>\n",
       "      <th>request.headers.Sec-Fetch-Dest</th>\n",
       "      <th>request.headers.Set-Cookie</th>\n",
       "      <th>request.method</th>\n",
       "      <th>request.url</th>\n",
       "      <th>response.status</th>\n",
       "      <th>response.headers.Content-Type</th>\n",
       "      <th>response.status_code</th>\n",
       "      <th>response.body</th>\n",
       "      <th>response.headers.Location</th>\n",
       "      <th>request.headers.Cookie</th>\n",
       "      <th>request.headers.Content-Length</th>\n",
       "      <th>response.headers.Set-Cookie</th>\n",
       "      <th>attack_type</th>\n",
       "      <th>label</th>\n",
       "    </tr>\n",
       "  </thead>\n",
       "  <tbody>\n",
       "    <tr>\n",
       "      <th>0</th>\n",
       "      <td>0</td>\n",
       "      <td>-0.755929</td>\n",
       "      <td>0</td>\n",
       "      <td>0</td>\n",
       "      <td>0</td>\n",
       "      <td>1</td>\n",
       "      <td>0</td>\n",
       "      <td>0</td>\n",
       "      <td>0</td>\n",
       "      <td>0</td>\n",
       "      <td>-0.646997</td>\n",
       "      <td>0</td>\n",
       "      <td>0.408248</td>\n",
       "      <td>4</td>\n",
       "      <td>-1.0</td>\n",
       "      <td>404</td>\n",
       "      <td>0.408248</td>\n",
       "      <td>-1.0</td>\n",
       "      <td>-1.0</td>\n",
       "      <td>-1.0</td>\n",
       "      <td>-1.0</td>\n",
       "      <td>Benign</td>\n",
       "      <td>Benign</td>\n",
       "    </tr>\n",
       "    <tr>\n",
       "      <th>1</th>\n",
       "      <td>0</td>\n",
       "      <td>0.000000</td>\n",
       "      <td>0</td>\n",
       "      <td>0</td>\n",
       "      <td>0</td>\n",
       "      <td>3</td>\n",
       "      <td>0</td>\n",
       "      <td>0</td>\n",
       "      <td>0</td>\n",
       "      <td>0</td>\n",
       "      <td>-0.480384</td>\n",
       "      <td>0</td>\n",
       "      <td>0.000000</td>\n",
       "      <td>0</td>\n",
       "      <td>-1.0</td>\n",
       "      <td>200</td>\n",
       "      <td>0.956183</td>\n",
       "      <td>-1.0</td>\n",
       "      <td>-1.0</td>\n",
       "      <td>-1.0</td>\n",
       "      <td>-1.0</td>\n",
       "      <td>Benign</td>\n",
       "      <td>Benign</td>\n",
       "    </tr>\n",
       "    <tr>\n",
       "      <th>2</th>\n",
       "      <td>0</td>\n",
       "      <td>-0.408248</td>\n",
       "      <td>0</td>\n",
       "      <td>0</td>\n",
       "      <td>0</td>\n",
       "      <td>1</td>\n",
       "      <td>0</td>\n",
       "      <td>1</td>\n",
       "      <td>0</td>\n",
       "      <td>0</td>\n",
       "      <td>0.426401</td>\n",
       "      <td>0</td>\n",
       "      <td>0.707107</td>\n",
       "      <td>0</td>\n",
       "      <td>-1.0</td>\n",
       "      <td>200</td>\n",
       "      <td>-0.255551</td>\n",
       "      <td>-1.0</td>\n",
       "      <td>-1.0</td>\n",
       "      <td>-1.0</td>\n",
       "      <td>-1.0</td>\n",
       "      <td>Benign</td>\n",
       "      <td>Benign</td>\n",
       "    </tr>\n",
       "    <tr>\n",
       "      <th>3</th>\n",
       "      <td>0</td>\n",
       "      <td>0.666667</td>\n",
       "      <td>0</td>\n",
       "      <td>0</td>\n",
       "      <td>0</td>\n",
       "      <td>2</td>\n",
       "      <td>0</td>\n",
       "      <td>0</td>\n",
       "      <td>0</td>\n",
       "      <td>0</td>\n",
       "      <td>-0.593391</td>\n",
       "      <td>0</td>\n",
       "      <td>0.577350</td>\n",
       "      <td>4</td>\n",
       "      <td>-1.0</td>\n",
       "      <td>404</td>\n",
       "      <td>0.408248</td>\n",
       "      <td>-1.0</td>\n",
       "      <td>-1.0</td>\n",
       "      <td>-1.0</td>\n",
       "      <td>-1.0</td>\n",
       "      <td>Benign</td>\n",
       "      <td>Benign</td>\n",
       "    </tr>\n",
       "    <tr>\n",
       "      <th>4</th>\n",
       "      <td>0</td>\n",
       "      <td>-0.471405</td>\n",
       "      <td>0</td>\n",
       "      <td>0</td>\n",
       "      <td>0</td>\n",
       "      <td>3</td>\n",
       "      <td>0</td>\n",
       "      <td>1</td>\n",
       "      <td>0</td>\n",
       "      <td>0</td>\n",
       "      <td>-0.652753</td>\n",
       "      <td>0</td>\n",
       "      <td>0.377964</td>\n",
       "      <td>4</td>\n",
       "      <td>-1.0</td>\n",
       "      <td>404</td>\n",
       "      <td>0.894427</td>\n",
       "      <td>-1.0</td>\n",
       "      <td>-1.0</td>\n",
       "      <td>-1.0</td>\n",
       "      <td>-1.0</td>\n",
       "      <td>Benign</td>\n",
       "      <td>Benign</td>\n",
       "    </tr>\n",
       "  </tbody>\n",
       "</table>\n",
       "</div>"
      ],
      "text/plain": [
       "   request.headers.Host  request.headers.User-Agent  \\\n",
       "0                     0                   -0.755929   \n",
       "1                     0                    0.000000   \n",
       "2                     0                   -0.408248   \n",
       "3                     0                    0.666667   \n",
       "4                     0                   -0.471405   \n",
       "\n",
       "   request.headers.Accept-Encoding  request.headers.Accept  \\\n",
       "0                                0                       0   \n",
       "1                                0                       0   \n",
       "2                                0                       0   \n",
       "3                                0                       0   \n",
       "4                                0                       0   \n",
       "\n",
       "   request.headers.Connection  request.headers.Accept-Language  \\\n",
       "0                           0                                1   \n",
       "1                           0                                3   \n",
       "2                           0                                1   \n",
       "3                           0                                2   \n",
       "4                           0                                3   \n",
       "\n",
       "   request.headers.Sec-Fetch-Site  request.headers.Sec-Fetch-Mode  \\\n",
       "0                               0                               0   \n",
       "1                               0                               0   \n",
       "2                               0                               1   \n",
       "3                               0                               0   \n",
       "4                               0                               1   \n",
       "\n",
       "   request.headers.Sec-Fetch-User  request.headers.Sec-Fetch-Dest  \\\n",
       "0                               0                               0   \n",
       "1                               0                               0   \n",
       "2                               0                               0   \n",
       "3                               0                               0   \n",
       "4                               0                               0   \n",
       "\n",
       "   request.headers.Set-Cookie  request.method  request.url  response.status  \\\n",
       "0                   -0.646997               0     0.408248                4   \n",
       "1                   -0.480384               0     0.000000                0   \n",
       "2                    0.426401               0     0.707107                0   \n",
       "3                   -0.593391               0     0.577350                4   \n",
       "4                   -0.652753               0     0.377964                4   \n",
       "\n",
       "   response.headers.Content-Type  response.status_code  response.body  \\\n",
       "0                           -1.0                   404       0.408248   \n",
       "1                           -1.0                   200       0.956183   \n",
       "2                           -1.0                   200      -0.255551   \n",
       "3                           -1.0                   404       0.408248   \n",
       "4                           -1.0                   404       0.894427   \n",
       "\n",
       "   response.headers.Location  request.headers.Cookie  \\\n",
       "0                       -1.0                    -1.0   \n",
       "1                       -1.0                    -1.0   \n",
       "2                       -1.0                    -1.0   \n",
       "3                       -1.0                    -1.0   \n",
       "4                       -1.0                    -1.0   \n",
       "\n",
       "   request.headers.Content-Length  response.headers.Set-Cookie attack_type  \\\n",
       "0                            -1.0                         -1.0      Benign   \n",
       "1                            -1.0                         -1.0      Benign   \n",
       "2                            -1.0                         -1.0      Benign   \n",
       "3                            -1.0                         -1.0      Benign   \n",
       "4                            -1.0                         -1.0      Benign   \n",
       "\n",
       "    label  \n",
       "0  Benign  \n",
       "1  Benign  \n",
       "2  Benign  \n",
       "3  Benign  \n",
       "4  Benign  "
      ]
     },
     "execution_count": 10,
     "metadata": {},
     "output_type": "execute_result"
    }
   ],
   "source": [
    "# Setting features for further feature extraction by choosing columns\n",
    "# Some will be \"simply\" encoded via label encoding and others with HashingVectorizer\n",
    "\n",
    "# On these headers we will run a \"simple\" BOW\n",
    "SIMPLE_HEADERS = ['request.headers.Accept-Encoding',\n",
    "                  'request.headers.Connection',\n",
    "                  'request.headers.Host',\n",
    "                  'request.headers.Accept',\n",
    "                  'request.method',\n",
    "                  'request.headers.Accept-Language',\n",
    "                  'request.headers.Sec-Fetch-Site',\n",
    "                  'request.headers.Sec-Fetch-Mode',\n",
    "                  'request.headers.Sec-Fetch-Dest',\n",
    "                  'request.headers.Sec-Fetch-User',\n",
    "                  'response.status',\n",
    "                  ]\n",
    "\n",
    "# On these headers we will run HashingVectorizer\n",
    "COMPLEX_HEADERS = ['request.headers.User-Agent',\n",
    "                   'request.headers.Set-Cookie',\n",
    "                   'request.headers.Date',\n",
    "                   'request.url',\n",
    "                   'response.headers.Content-Type',\n",
    "                   'response.body',\n",
    "                   'response.headers.Location',\n",
    "                   'request.headers.Content-Length',\n",
    "                   'request.headers.Cookie',\n",
    "                   'response.headers.Set-Cookie'\n",
    "                   ]\n",
    "\n",
    "COLUMNS_TO_REMOVE = ['request.body',\n",
    "                     'response.headers.Content-Length',\n",
    "                     'request.headers.Date']\n",
    "\n",
    "# This is our main preprocessing function that will iterate over all of the chosen\n",
    "# columns and run some feature extraction models\n",
    "\n",
    "\n",
    "def vectorize_df(df):\n",
    "    le = LabelEncoder()\n",
    "    h_vec = HashingVectorizer(n_features=4)\n",
    "\n",
    "    # Run LabelEncoder on the chosen features\n",
    "    for column in SIMPLE_HEADERS:\n",
    "        df[column] = le.fit_transform(df[column])\n",
    "\n",
    "    # Run HashingVectorizer on the chosen features\n",
    "    for column in COMPLEX_HEADERS:\n",
    "        newHVec = h_vec.fit_transform(df[column])\n",
    "        df[column] = newHVec.todense()\n",
    "\n",
    "    # Remove some columns that may be needed.. (Or not, you decide)\n",
    "    for column in COLUMNS_TO_REMOVE:\n",
    "        df.drop(column, axis=1, inplace=True)\n",
    "    return df\n",
    "\n",
    "\n",
    "df = vectorize_df(df)\n",
    "df.head()"
   ]
  },
  {
   "cell_type": "code",
   "execution_count": 11,
   "metadata": {},
   "outputs": [
    {
     "name": "stdout",
     "output_type": "stream",
     "text": [
      "<class 'pandas.core.frame.DataFrame'>\n",
      "RangeIndex: 127500 entries, 0 to 127499\n",
      "Data columns (total 23 columns):\n",
      " #   Column                           Non-Null Count   Dtype  \n",
      "---  ------                           --------------   -----  \n",
      " 0   request.headers.Host             127500 non-null  int64  \n",
      " 1   request.headers.User-Agent       127500 non-null  float64\n",
      " 2   request.headers.Accept-Encoding  127500 non-null  int64  \n",
      " 3   request.headers.Accept           127500 non-null  int64  \n",
      " 4   request.headers.Connection       127500 non-null  int64  \n",
      " 5   request.headers.Accept-Language  127500 non-null  int64  \n",
      " 6   request.headers.Sec-Fetch-Site   127500 non-null  int64  \n",
      " 7   request.headers.Sec-Fetch-Mode   127500 non-null  int64  \n",
      " 8   request.headers.Sec-Fetch-User   127500 non-null  int64  \n",
      " 9   request.headers.Sec-Fetch-Dest   127500 non-null  int64  \n",
      " 10  request.headers.Set-Cookie       127500 non-null  float64\n",
      " 11  request.method                   127500 non-null  int64  \n",
      " 12  request.url                      127500 non-null  float64\n",
      " 13  response.status                  127500 non-null  int64  \n",
      " 14  response.headers.Content-Type    127500 non-null  float64\n",
      " 15  response.status_code             127500 non-null  int64  \n",
      " 16  response.body                    127500 non-null  float64\n",
      " 17  response.headers.Location        127500 non-null  float64\n",
      " 18  request.headers.Cookie           127500 non-null  float64\n",
      " 19  request.headers.Content-Length   127500 non-null  float64\n",
      " 20  response.headers.Set-Cookie      127500 non-null  float64\n",
      " 21  attack_type                      127500 non-null  object \n",
      " 22  label                            127500 non-null  object \n",
      "dtypes: float64(9), int64(12), object(2)\n",
      "memory usage: 35.8 MB\n"
     ]
    }
   ],
   "source": [
    "# Memory check (For large datasets sometimes the dataframe will exceed the computers resources)\n",
    "df.info(memory_usage=\"deep\")"
   ]
  },
  {
   "cell_type": "code",
   "execution_count": 12,
   "metadata": {},
   "outputs": [
    {
     "name": "stdout",
     "output_type": "stream",
     "text": [
      "['request.headers.Host', 'request.headers.User-Agent', 'request.headers.Accept-Encoding', 'request.headers.Accept', 'request.headers.Connection', 'request.headers.Accept-Language', 'request.headers.Sec-Fetch-Site', 'request.headers.Sec-Fetch-Mode', 'request.headers.Sec-Fetch-User', 'request.headers.Sec-Fetch-Dest', 'request.headers.Set-Cookie', 'request.method', 'request.url', 'response.status', 'response.headers.Content-Type', 'response.status_code', 'response.body', 'response.headers.Location', 'request.headers.Cookie', 'request.headers.Content-Length', 'response.headers.Set-Cookie']\n"
     ]
    },
    {
     "data": {
      "text/plain": [
       "request.headers.Host                 int64\n",
       "request.headers.User-Agent         float64\n",
       "request.headers.Accept-Encoding      int64\n",
       "request.headers.Accept               int64\n",
       "request.headers.Connection           int64\n",
       "request.headers.Accept-Language      int64\n",
       "request.headers.Sec-Fetch-Site       int64\n",
       "request.headers.Sec-Fetch-Mode       int64\n",
       "request.headers.Sec-Fetch-User       int64\n",
       "request.headers.Sec-Fetch-Dest       int64\n",
       "request.headers.Set-Cookie         float64\n",
       "request.method                       int64\n",
       "request.url                        float64\n",
       "response.status                      int64\n",
       "response.headers.Content-Type      float64\n",
       "response.status_code                 int64\n",
       "response.body                      float64\n",
       "response.headers.Location          float64\n",
       "request.headers.Cookie             float64\n",
       "request.headers.Content-Length     float64\n",
       "response.headers.Set-Cookie        float64\n",
       "attack_type                         object\n",
       "label                               object\n",
       "dtype: object"
      ]
     },
     "execution_count": 12,
     "metadata": {},
     "output_type": "execute_result"
    }
   ],
   "source": [
    "# Choose the right features\n",
    "# In our example code we choose all the columns as our feature this can be the right or wrong way to approach the model, you choose.\n",
    "\n",
    "features_list = df.columns.to_list()\n",
    "features_list.remove('label')\n",
    "features_list.remove('attack_type')\n",
    "print(features_list)\n",
    "\n",
    "# Recheck all datatype before training to see we don't have any objects in our features\n",
    "# In this example our model must get features containing only numbers so we recheck to see if we missed anything during preprocessing\n",
    "df.dtypes"
   ]
  },
  {
   "cell_type": "code",
   "execution_count": 13,
   "metadata": {},
   "outputs": [],
   "source": [
    "# # Feature selection\n",
    "# from sklearn.feature_selection import RFECV\n",
    "# from sklearn.model_selection import StratifiedKFold\n",
    "\n",
    "# # Split the data to train and test\n",
    "# X_train, X_test, y_train, y_test = train_test_split(df[features_list], df[test_type], test_size=0.2, random_state=42)\n",
    "\n",
    "# # Create the RFE object and compute a cross-validated score.\n",
    "# # The \"accuracy\" scoring is proportional to the number of correct classifications\n",
    "# rfecv = RFECV(estimator=LogisticRegression(), step=1, cv=StratifiedKFold(2), scoring='accuracy')\n",
    "# rfecv.fit(X_train, y_train)\n",
    "\n",
    "# print(\"Optimal number of features : %d\" % rfecv.n_features_)\n",
    "# print('Selected features: %s' % list(X_train.columns[rfecv.support_]))\n",
    "\n",
    "# # Plot number of features VS. cross-validation scores\n",
    "# plt.figure()\n",
    "# plt.xlabel(\"Number of features selected\")\n",
    "# plt.ylabel(\"Cross validation score (nb of correct classifications)\")\n",
    "# plt.plot(range(1, len(rfecv.grid_scores_) + 1), rfecv.grid_scores_)\n",
    "# plt.show()"
   ]
  },
  {
   "cell_type": "code",
   "execution_count": 14,
   "metadata": {},
   "outputs": [],
   "source": [
    "ss = StandardScaler()"
   ]
  },
  {
   "cell_type": "code",
   "execution_count": 15,
   "metadata": {},
   "outputs": [],
   "source": [
    "pca = PCA(n_components=2)"
   ]
  },
  {
   "cell_type": "code",
   "execution_count": 16,
   "metadata": {},
   "outputs": [],
   "source": [
    "# x_after_pca_in_2D=pca.fit_transform(df[features_list].to_numpy())\n",
    "x_after_pca_in_2D = pca.fit_transform(ss.fit_transform(df[features_list].to_numpy()))"
   ]
  },
  {
   "cell_type": "code",
   "execution_count": 17,
   "metadata": {},
   "outputs": [
    {
     "data": {
      "text/plain": [
       "<matplotlib.collections.PathCollection at 0x7f588d8998e0>"
      ]
     },
     "execution_count": 17,
     "metadata": {},
     "output_type": "execute_result"
    },
    {
     "data": {
      "image/png": "[encoded data removed]",
      "text/plain": [
       "<Figure size 640x480 with 1 Axes>"
      ]
     },
     "metadata": {},
     "output_type": "display_data"
    }
   ],
   "source": [
    "plt.scatter(x_after_pca_in_2D[:, 0], x_after_pca_in_2D[:, 1], c=df['label'].map({'Benign': 0, 'Malware': 1}))"
   ]
  },
  {
   "cell_type": "code",
   "execution_count": 18,
   "metadata": {},
   "outputs": [
    {
     "data": {
      "application/vnd.plotly.v1+json": {
       "config": {
        "plotlyServerURL": "https://plot.ly"
       },
       "data": [
        {
         "fillpattern": {
          "shape": ""
         },
         "hovertemplate": "# Components=%{x}<br>Explained Variance=%{y}<extra></extra>",
         "legendgroup": "",
         "line": {
          "color": "#636efa"
         },
         "marker": {
          "symbol": "circle"
         },
         "mode": "lines",
         "name": "",
         "orientation": "v",
         "showlegend": false,
         "stackgroup": "1",
         "type": "scatter",
         "x": [
          1,
          2,
          3,
          4,
          5,
          6,
          7,
          8,
          9,
          10,
          11,
          12,
          13,
          14,
          15,
          16,
          17,
          18,
          19,
          20,
          21
         ],
         "xaxis": "x",
         "y": [
          0.2577670053462502,
          0.3843210739105292,
          0.45550242917096107,
          0.5185063460578064,
          0.5813879791348333,
          0.6441080633141106,
          0.7066906383304377,
          0.7690368523536601,
          0.8310470458260666,
          0.89301452619276,
          0.9459391888709983,
          0.9763947039810484,
          0.9996359978420231,
          1,
          1,
          1,
          1,
          1,
          1,
          1,
          1
         ],
         "yaxis": "y"
        }
       ],
       "layout": {
        "legend": {
         "tracegroupgap": 0
        },
        "template": {
         "data": {
          "bar": [
           {
            "error_x": {
             "color": "#f2f5fa"
            },
            "error_y": {
             "color": "#f2f5fa"
            },
            "marker": {
             "line": {
              "color": "rgb(17,17,17)",
              "width": 0.5
             },
             "pattern": {
              "fillmode": "overlay",
              "size": 10,
              "solidity": 0.2
             }
            },
            "type": "bar"
           }
          ],
          "barpolar": [
           {
            "marker": {
             "line": {
              "color": "rgb(17,17,17)",
              "width": 0.5
             },
             "pattern": {
              "fillmode": "overlay",
              "size": 10,
              "solidity": 0.2
             }
            },
            "type": "barpolar"
           }
          ],
          "carpet": [
           {
            "aaxis": {
             "endlinecolor": "#A2B1C6",
             "gridcolor": "#506784",
             "linecolor": "#506784",
             "minorgridcolor": "#506784",
             "startlinecolor": "#A2B1C6"
            },
            "baxis": {
             "endlinecolor": "#A2B1C6",
             "gridcolor": "#506784",
             "linecolor": "#506784",
             "minorgridcolor": "#506784",
             "startlinecolor": "#A2B1C6"
            },
            "type": "carpet"
           }
          ],
          "choropleth": [
           {
            "colorbar": {
             "outlinewidth": 0,
             "ticks": ""
            },
            "type": "choropleth"
           }
          ],
          "contour": [
           {
            "colorbar": {
             "outlinewidth": 0,
             "ticks": ""
            },
            "colorscale": [
             [
              0,
              "#0d0887"
             ],
             [
              0.1111111111111111,
              "#46039f"
             ],
             [
              0.2222222222222222,
              "#7201a8"
             ],
             [
              0.3333333333333333,
              "#9c179e"
             ],
             [
              0.4444444444444444,
              "#bd3786"
             ],
             [
              0.5555555555555556,
              "#d8576b"
             ],
             [
              0.6666666666666666,
              "#ed7953"
             ],
             [
              0.7777777777777778,
              "#fb9f3a"
             ],
             [
              0.8888888888888888,
              "#fdca26"
             ],
             [
              1,
              "#f0f921"
             ]
            ],
            "type": "contour"
           }
          ],
          "contourcarpet": [
           {
            "colorbar": {
             "outlinewidth": 0,
             "ticks": ""
            },
            "type": "contourcarpet"
           }
          ],
          "heatmap": [
           {
            "colorbar": {
             "outlinewidth": 0,
             "ticks": ""
            },
            "colorscale": [
             [
              0,
              "#0d0887"
             ],
             [
              0.1111111111111111,
              "#46039f"
             ],
             [
              0.2222222222222222,
              "#7201a8"
             ],
             [
              0.3333333333333333,
              "#9c179e"
             ],
             [
              0.4444444444444444,
              "#bd3786"
             ],
             [
              0.5555555555555556,
              "#d8576b"
             ],
             [
              0.6666666666666666,
              "#ed7953"
             ],
             [
              0.7777777777777778,
              "#fb9f3a"
             ],
             [
              0.8888888888888888,
              "#fdca26"
             ],
             [
              1,
              "#f0f921"
             ]
            ],
            "type": "heatmap"
           }
          ],
          "heatmapgl": [
           {
            "colorbar": {
             "outlinewidth": 0,
             "ticks": ""
            },
            "colorscale": [
             [
              0,
              "#0d0887"
             ],
             [
              0.1111111111111111,
              "#46039f"
             ],
             [
              0.2222222222222222,
              "#7201a8"
             ],
             [
              0.3333333333333333,
              "#9c179e"
             ],
             [
              0.4444444444444444,
              "#bd3786"
             ],
             [
              0.5555555555555556,
              "#d8576b"
             ],
             [
              0.6666666666666666,
              "#ed7953"
             ],
             [
              0.7777777777777778,
              "#fb9f3a"
             ],
             [
              0.8888888888888888,
              "#fdca26"
             ],
             [
              1,
              "#f0f921"
             ]
            ],
            "type": "heatmapgl"
           }
          ],
          "histogram": [
           {
            "marker": {
             "pattern": {
              "fillmode": "overlay",
              "size": 10,
              "solidity": 0.2
             }
            },
            "type": "histogram"
           }
          ],
          "histogram2d": [
           {
            "colorbar": {
             "outlinewidth": 0,
             "ticks": ""
            },
            "colorscale": [
             [
              0,
              "#0d0887"
             ],
             [
              0.1111111111111111,
              "#46039f"
             ],
             [
              0.2222222222222222,
              "#7201a8"
             ],
             [
              0.3333333333333333,
              "#9c179e"
             ],
             [
              0.4444444444444444,
              "#bd3786"
             ],
             [
              0.5555555555555556,
              "#d8576b"
             ],
             [
              0.6666666666666666,
              "#ed7953"
             ],
             [
              0.7777777777777778,
              "#fb9f3a"
             ],
             [
              0.8888888888888888,
              "#fdca26"
             ],
             [
              1,
              "#f0f921"
             ]
            ],
            "type": "histogram2d"
           }
          ],
          "histogram2dcontour": [
           {
            "colorbar": {
             "outlinewidth": 0,
             "ticks": ""
            },
            "colorscale": [
             [
              0,
              "#0d0887"
             ],
             [
              0.1111111111111111,
              "#46039f"
             ],
             [
              0.2222222222222222,
              "#7201a8"
             ],
             [
              0.3333333333333333,
              "#9c179e"
             ],
             [
              0.4444444444444444,
              "#bd3786"
             ],
             [
              0.5555555555555556,
              "#d8576b"
             ],
             [
              0.6666666666666666,
              "#ed7953"
             ],
             [
              0.7777777777777778,
              "#fb9f3a"
             ],
             [
              0.8888888888888888,
              "#fdca26"
             ],
             [
              1,
              "#f0f921"
             ]
            ],
            "type": "histogram2dcontour"
           }
          ],
          "mesh3d": [
           {
            "colorbar": {
             "outlinewidth": 0,
             "ticks": ""
            },
            "type": "mesh3d"
           }
          ],
          "parcoords": [
           {
            "line": {
             "colorbar": {
              "outlinewidth": 0,
              "ticks": ""
             }
            },
            "type": "parcoords"
           }
          ],
          "pie": [
           {
            "automargin": true,
            "type": "pie"
           }
          ],
          "scatter": [
           {
            "marker": {
             "line": {
              "color": "#283442"
             }
            },
            "type": "scatter"
           }
          ],
          "scatter3d": [
           {
            "line": {
             "colorbar": {
              "outlinewidth": 0,
              "ticks": ""
             }
            },
            "marker": {
             "colorbar": {
              "outlinewidth": 0,
              "ticks": ""
             }
            },
            "type": "scatter3d"
           }
          ],
          "scattercarpet": [
           {
            "marker": {
             "colorbar": {
              "outlinewidth": 0,
              "ticks": ""
             }
            },
            "type": "scattercarpet"
           }
          ],
          "scattergeo": [
           {
            "marker": {
             "colorbar": {
              "outlinewidth": 0,
              "ticks": ""
             }
            },
            "type": "scattergeo"
           }
          ],
          "scattergl": [
           {
            "marker": {
             "line": {
              "color": "#283442"
             }
            },
            "type": "scattergl"
           }
          ],
          "scattermapbox": [
           {
            "marker": {
             "colorbar": {
              "outlinewidth": 0,
              "ticks": ""
             }
            },
            "type": "scattermapbox"
           }
          ],
          "scatterpolar": [
           {
            "marker": {
             "colorbar": {
              "outlinewidth": 0,
              "ticks": ""
             }
            },
            "type": "scatterpolar"
           }
          ],
          "scatterpolargl": [
           {
            "marker": {
             "colorbar": {
              "outlinewidth": 0,
              "ticks": ""
             }
            },
            "type": "scatterpolargl"
           }
          ],
          "scatterternary": [
           {
            "marker": {
             "colorbar": {
              "outlinewidth": 0,
              "ticks": ""
             }
            },
            "type": "scatterternary"
           }
          ],
          "surface": [
           {
            "colorbar": {
             "outlinewidth": 0,
             "ticks": ""
            },
            "colorscale": [
             [
              0,
              "#0d0887"
             ],
             [
              0.1111111111111111,
              "#46039f"
             ],
             [
              0.2222222222222222,
              "#7201a8"
             ],
             [
              0.3333333333333333,
              "#9c179e"
             ],
             [
              0.4444444444444444,
              "#bd3786"
             ],
             [
              0.5555555555555556,
              "#d8576b"
             ],
             [
              0.6666666666666666,
              "#ed7953"
             ],
             [
              0.7777777777777778,
              "#fb9f3a"
             ],
             [
              0.8888888888888888,
              "#fdca26"
             ],
             [
              1,
              "#f0f921"
             ]
            ],
            "type": "surface"
           }
          ],
          "table": [
           {
            "cells": {
             "fill": {
              "color": "#506784"
             },
             "line": {
              "color": "rgb(17,17,17)"
             }
            },
            "header": {
             "fill": {
              "color": "#2a3f5f"
             },
             "line": {
              "color": "rgb(17,17,17)"
             }
            },
            "type": "table"
           }
          ]
         },
         "layout": {
          "annotationdefaults": {
           "arrowcolor": "#f2f5fa",
           "arrowhead": 0,
           "arrowwidth": 1
          },
          "autosize": false,
          "autotypenumbers": "strict",
          "coloraxis": {
           "colorbar": {
            "outlinewidth": 0,
            "ticks": ""
           }
          },
          "colorscale": {
           "diverging": [
            [
             0,
             "#8e0152"
            ],
            [
             0.1,
             "#c51b7d"
            ],
            [
             0.2,
             "#de77ae"
            ],
            [
             0.3,
             "#f1b6da"
            ],
            [
             0.4,
             "#fde0ef"
            ],
            [
             0.5,
             "#f7f7f7"
            ],
            [
             0.6,
             "#e6f5d0"
            ],
            [
             0.7,
             "#b8e186"
            ],
            [
             0.8,
             "#7fbc41"
            ],
            [
             0.9,
             "#4d9221"
            ],
            [
             1,
             "#276419"
            ]
           ],
           "sequential": [
            [
             0,
             "#0d0887"
            ],
            [
             0.1111111111111111,
             "#46039f"
            ],
            [
             0.2222222222222222,
             "#7201a8"
            ],
            [
             0.3333333333333333,
             "#9c179e"
            ],
            [
             0.4444444444444444,
             "#bd3786"
            ],
            [
             0.5555555555555556,
             "#d8576b"
            ],
            [
             0.6666666666666666,
             "#ed7953"
            ],
            [
             0.7777777777777778,
             "#fb9f3a"
            ],
            [
             0.8888888888888888,
             "#fdca26"
            ],
            [
             1,
             "#f0f921"
            ]
           ],
           "sequentialminus": [
            [
             0,
             "#0d0887"
            ],
            [
             0.1111111111111111,
             "#46039f"
            ],
            [
             0.2222222222222222,
             "#7201a8"
            ],
            [
             0.3333333333333333,
             "#9c179e"
            ],
            [
             0.4444444444444444,
             "#bd3786"
            ],
            [
             0.5555555555555556,
             "#d8576b"
            ],
            [
             0.6666666666666666,
             "#ed7953"
            ],
            [
             0.7777777777777778,
             "#fb9f3a"
            ],
            [
             0.8888888888888888,
             "#fdca26"
            ],
            [
             1,
             "#f0f921"
            ]
           ]
          },
          "colorway": [
           "#636efa",
           "#EF553B",
           "#00cc96",
           "#ab63fa",
           "#FFA15A",
           "#19d3f3",
           "#FF6692",
           "#B6E880",
           "#FF97FF",
           "#FECB52"
          ],
          "font": {
           "color": "#f2f5fa"
          },
          "geo": {
           "bgcolor": "rgb(17,17,17)",
           "lakecolor": "rgb(17,17,17)",
           "landcolor": "rgb(17,17,17)",
           "showlakes": true,
           "showland": true,
           "subunitcolor": "#506784"
          },
          "height": 800,
          "hoverlabel": {
           "align": "left"
          },
          "hovermode": "closest",
          "mapbox": {
           "style": "dark"
          },
          "paper_bgcolor": "rgb(17,17,17)",
          "plot_bgcolor": "rgb(17,17,17)",
          "polar": {
           "angularaxis": {
            "gridcolor": "#506784",
            "linecolor": "#506784",
            "ticks": ""
           },
           "bgcolor": "rgb(17,17,17)",
           "radialaxis": {
            "gridcolor": "#506784",
            "linecolor": "#506784",
            "ticks": ""
           }
          },
          "scene": {
           "xaxis": {
            "backgroundcolor": "rgb(17,17,17)",
            "gridcolor": "#506784",
            "gridwidth": 2,
            "linecolor": "#506784",
            "showbackground": true,
            "ticks": "",
            "zerolinecolor": "#C8D4E3"
           },
           "yaxis": {
            "backgroundcolor": "rgb(17,17,17)",
            "gridcolor": "#506784",
            "gridwidth": 2,
            "linecolor": "#506784",
            "showbackground": true,
            "ticks": "",
            "zerolinecolor": "#C8D4E3"
           },
           "zaxis": {
            "backgroundcolor": "rgb(17,17,17)",
            "gridcolor": "#506784",
            "gridwidth": 2,
            "linecolor": "#506784",
            "showbackground": true,
            "ticks": "",
            "zerolinecolor": "#C8D4E3"
           }
          },
          "shapedefaults": {
           "line": {
            "color": "#f2f5fa"
           }
          },
          "sliderdefaults": {
           "bgcolor": "#C8D4E3",
           "bordercolor": "rgb(17,17,17)",
           "borderwidth": 1,
           "tickwidth": 0
          },
          "ternary": {
           "aaxis": {
            "gridcolor": "#506784",
            "linecolor": "#506784",
            "ticks": ""
           },
           "baxis": {
            "gridcolor": "#506784",
            "linecolor": "#506784",
            "ticks": ""
           },
           "bgcolor": "rgb(17,17,17)",
           "caxis": {
            "gridcolor": "#506784",
            "linecolor": "#506784",
            "ticks": ""
           }
          },
          "title": {
           "x": 0.05
          },
          "updatemenudefaults": {
           "bgcolor": "#506784",
           "borderwidth": 0
          },
          "width": 1000,
          "xaxis": {
           "automargin": true,
           "gridcolor": "#283442",
           "linecolor": "#506784",
           "ticks": "",
           "title": {
            "standoff": 15
           },
           "zerolinecolor": "#283442",
           "zerolinewidth": 2
          },
          "yaxis": {
           "automargin": true,
           "gridcolor": "#283442",
           "linecolor": "#506784",
           "ticks": "",
           "title": {
            "standoff": 15
           },
           "zerolinecolor": "#283442",
           "zerolinewidth": 2
          }
         }
        },
        "title": {
         "text": "SVD Explained Variance Ratio"
        },
        "xaxis": {
         "anchor": "y",
         "domain": [
          0,
          1
         ],
         "title": {
          "text": "# Components"
         }
        },
        "yaxis": {
         "anchor": "x",
         "domain": [
          0,
          1
         ],
         "range": [
          0.98,
          1.02
         ],
         "title": {
          "text": "Explained Variance"
         }
        }
       }
      }
     },
     "metadata": {},
     "output_type": "display_data"
    }
   ],
   "source": [
    "pca = PCA()\n",
    "pca.fit(ss.fit_transform(df[features_list].to_numpy()))\n",
    "\n",
    "exp_var_cumul = np.cumsum(pca.explained_variance_ratio_)\n",
    "\n",
    "px.area(\n",
    "    x=range(1, exp_var_cumul.shape[0] + 1),\n",
    "    y=exp_var_cumul,\n",
    "    labels={\"x\": \"# Components\", \"y\": \"Explained Variance\"},\n",
    "    range_y=(0.98, 1.02),\n",
    "    title=\"SVD Explained Variance Ratio\"\n",
    ")"
   ]
  },
  {
   "attachments": {},
   "cell_type": "markdown",
   "metadata": {},
   "source": [
    "As we can see we can compress the data into 14 components without loosing any information."
   ]
  },
  {
   "attachments": {},
   "cell_type": "markdown",
   "metadata": {},
   "source": [
    "## Train test split"
   ]
  },
  {
   "cell_type": "code",
   "execution_count": 19,
   "metadata": {},
   "outputs": [
    {
     "name": "stdout",
     "output_type": "stream",
     "text": [
      "(104996, 21) (104996,)\n",
      "(22504, 21) (22504,)\n"
     ]
    },
    {
     "data": {
      "text/plain": [
       "Counter({'Benign': 117914, 'Malware': 9586})"
      ]
     },
     "execution_count": 19,
     "metadata": {},
     "output_type": "execute_result"
    }
   ],
   "source": [
    "# Data train and test split preparations. Here we will insert our feature list and label list.\n",
    "# Afterwards the data will be trained and fitted on the amazing XGBoost model\n",
    "# X_Train and y_Train will be used for training\n",
    "# X_test and y_test.T will be used for over fitting checking and overall score testing\n",
    "\n",
    "# We convert the feature list to a numpy array, this is required for the model fitting\n",
    "X = df[features_list].to_numpy()\n",
    "\n",
    "# This column is the desired prediction we will train our model on\n",
    "y = np.stack(df[test_type])\n",
    "\n",
    "# We split the dataset to train and test according to the required ration\n",
    "# Do not change the test_size -> you can change anything else\n",
    "X_train, X_test, y_train, y_test = train_test_split(X, y, test_size=0.1765, random_state=42, stratify=y)\n",
    "\n",
    "# We print the resulted datasets and count the difference\n",
    "print(X_train.shape, y_train.shape)\n",
    "print(X_test.shape, y_test.shape)\n",
    "counter = Counter(y)\n",
    "counter"
   ]
  },
  {
   "cell_type": "code",
   "execution_count": 20,
   "metadata": {},
   "outputs": [],
   "source": [
    "ss = StandardScaler()\n",
    "X_train = ss.fit_transform(X_train)\n",
    "X_test = ss.transform(X_test)"
   ]
  },
  {
   "cell_type": "code",
   "execution_count": 21,
   "metadata": {},
   "outputs": [],
   "source": [
    "pca = PCA(14)\n",
    "pca.fit(X_train)\n",
    "# x_train_pca = pca.transform(X_train)\n",
    "x_train_pca = pca.transform(X_train)"
   ]
  },
  {
   "cell_type": "code",
   "execution_count": 22,
   "metadata": {},
   "outputs": [],
   "source": [
    "# x_test_pca = pca.transform(X_test)\n",
    "x_test_pca = pca.transform(X_test)"
   ]
  },
  {
   "cell_type": "code",
   "execution_count": 23,
   "metadata": {},
   "outputs": [],
   "source": [
    "def create_grid_search(model, params):\n",
    "    return GridSearchCV(estimator=model, param_grid=params, n_jobs=-1, verbose=3, cv=3, scoring='accuracy', return_train_score=True)"
   ]
  },
  {
   "cell_type": "code",
   "execution_count": 24,
   "metadata": {},
   "outputs": [],
   "source": [
    "# https://plotly.com/python/parallel-categories-diagram/\n",
    "\n",
    "def plot_grid_search_results(results):\n",
    "\n",
    "    df = pd.DataFrame(results)\n",
    "    # Build parcats dimensions\n",
    "    categorical_dimensions = [c for c in df.columns if \"param_\" in c]\n",
    "\n",
    "    dimensions = [dict(values=df[label], label=label)for label in categorical_dimensions]\n",
    "\n",
    "    # Build colorscale\n",
    "    color = np.zeros(len(df), dtype='uint8')\n",
    "    colorscale = [[0, 'gray'], [1, 'blue']]\n",
    "\n",
    "    # Build figure as FigureWidget\n",
    "    fig = go.FigureWidget(data=[go.Scatter(x=df['std_test_score'], y=df['mean_test_score'], marker={'color': 'gray'}, mode='markers', selected={'marker': {'color': 'blue'}}, unselected={'marker': {'opacity': 0.3}}), go.Parcats(domain={'y': [0, 0.4]}, dimensions=dimensions,line={'colorscale': colorscale, 'cmin': 0,'cmax': 1, 'color': color, 'shape': 'hspline'})])\n",
    "\n",
    "    fig.update_layout(\n",
    "        height=800, xaxis={'title': 'STD Score'},\n",
    "        yaxis={'title': 'Mean Score', 'domain': [0.6, 1]},\n",
    "        dragmode='lasso', hovermode='closest')\n",
    "\n",
    "    # Update color callback\n",
    "    def update_color(trace, points, state):\n",
    "        # Update scatter selection\n",
    "        fig.data[0].selectedpoints = points.point_inds\n",
    "\n",
    "        # Update parcats colors\n",
    "        new_color = np.zeros(len(df), dtype='uint8')\n",
    "        new_color[points.point_inds] = 1\n",
    "        fig.data[1].line.color = new_color\n",
    "\n",
    "    # Register callback on scatter selection...\n",
    "    fig.data[0].on_selection(update_color)\n",
    "    # and parcats click\n",
    "    fig.data[1].on_click(update_color)\n",
    "\n",
    "    return fig"
   ]
  },
  {
   "attachments": {},
   "cell_type": "markdown",
   "metadata": {},
   "source": [
    "## Model choosing and fitting"
   ]
  },
  {
   "cell_type": "code",
   "execution_count": null,
   "metadata": {},
   "outputs": [],
   "source": [
    "# Random forest is an ensemble learning method that uses multiple decision trees to make predictions.\n",
    "# It is a robust and flexible model that can handle high-dimensional and complex data,\n",
    "# making it a good choice for API classification tasks.\n",
    "\n",
    "rf = RandomForestClassifier()\n",
    "rf_param = {\n",
    "    \"n_estimators\": [50, 100, 150, 200, 250, 300],\n",
    "    \"criterion\": [\"gini\", \"entropy\"],\n",
    "}\n",
    "rf_gcv = create_grid_search(rf, rf_param)"
   ]
  },
  {
   "cell_type": "code",
   "execution_count": null,
   "metadata": {},
   "outputs": [
    {
     "name": "stdout",
     "output_type": "stream",
     "text": [
      "Fitting 3 folds for each of 12 candidates, totalling 36 fits\n"
     ]
    },
    {
     "data": {
      "text/html": [
       "<style>#sk-container-id-1 {color: black;background-color: white;}#sk-container-id-1 pre{padding: 0;}#sk-container-id-1 div.sk-toggleable {background-color: white;}#sk-container-id-1 label.sk-toggleable__label {cursor: pointer;display: block;width: 100%;margin-bottom: 0;padding: 0.3em;box-sizing: border-box;text-align: center;}#sk-container-id-1 label.sk-toggleable__label-arrow:before {content: \"▸\";float: left;margin-right: 0.25em;color: #696969;}#sk-container-id-1 label.sk-toggleable__label-arrow:hover:before {color: black;}#sk-container-id-1 div.sk-estimator:hover label.sk-toggleable__label-arrow:before {color: black;}#sk-container-id-1 div.sk-toggleable__content {max-height: 0;max-width: 0;overflow: hidden;text-align: left;background-color: #f0f8ff;}#sk-container-id-1 div.sk-toggleable__content pre {margin: 0.2em;color: black;border-radius: 0.25em;background-color: #f0f8ff;}#sk-container-id-1 input.sk-toggleable__control:checked~div.sk-toggleable__content {max-height: 200px;max-width: 100%;overflow: auto;}#sk-container-id-1 input.sk-toggleable__control:checked~label.sk-toggleable__label-arrow:before {content: \"▾\";}#sk-container-id-1 div.sk-estimator input.sk-toggleable__control:checked~label.sk-toggleable__label {background-color: #d4ebff;}#sk-container-id-1 div.sk-label input.sk-toggleable__control:checked~label.sk-toggleable__label {background-color: #d4ebff;}#sk-container-id-1 input.sk-hidden--visually {border: 0;clip: rect(1px 1px 1px 1px);clip: rect(1px, 1px, 1px, 1px);height: 1px;margin: -1px;overflow: hidden;padding: 0;position: absolute;width: 1px;}#sk-container-id-1 div.sk-estimator {font-family: monospace;background-color: #f0f8ff;border: 1px dotted black;border-radius: 0.25em;box-sizing: border-box;margin-bottom: 0.5em;}#sk-container-id-1 div.sk-estimator:hover {background-color: #d4ebff;}#sk-container-id-1 div.sk-parallel-item::after {content: \"\";width: 100%;border-bottom: 1px solid gray;flex-grow: 1;}#sk-container-id-1 div.sk-label:hover label.sk-toggleable__label {background-color: #d4ebff;}#sk-container-id-1 div.sk-serial::before {content: \"\";position: absolute;border-left: 1px solid gray;box-sizing: border-box;top: 0;bottom: 0;left: 50%;z-index: 0;}#sk-container-id-1 div.sk-serial {display: flex;flex-direction: column;align-items: center;background-color: white;padding-right: 0.2em;padding-left: 0.2em;position: relative;}#sk-container-id-1 div.sk-item {position: relative;z-index: 1;}#sk-container-id-1 div.sk-parallel {display: flex;align-items: stretch;justify-content: center;background-color: white;position: relative;}#sk-container-id-1 div.sk-item::before, #sk-container-id-1 div.sk-parallel-item::before {content: \"\";position: absolute;border-left: 1px solid gray;box-sizing: border-box;top: 0;bottom: 0;left: 50%;z-index: -1;}#sk-container-id-1 div.sk-parallel-item {display: flex;flex-direction: column;z-index: 1;position: relative;background-color: white;}#sk-container-id-1 div.sk-parallel-item:first-child::after {align-self: flex-end;width: 50%;}#sk-container-id-1 div.sk-parallel-item:last-child::after {align-self: flex-start;width: 50%;}#sk-container-id-1 div.sk-parallel-item:only-child::after {width: 0;}#sk-container-id-1 div.sk-dashed-wrapped {border: 1px dashed gray;margin: 0 0.4em 0.5em 0.4em;box-sizing: border-box;padding-bottom: 0.4em;background-color: white;}#sk-container-id-1 div.sk-label label {font-family: monospace;font-weight: bold;display: inline-block;line-height: 1.2em;}#sk-container-id-1 div.sk-label-container {text-align: center;}#sk-container-id-1 div.sk-container {/* jupyter's `normalize.less` sets `[hidden] { display: none; }` but bootstrap.min.css set `[hidden] { display: none !important; }` so we also need the `!important` here to be able to override the default hidden behavior on the sphinx rendered scikit-learn.org. See: https://github.com/scikit-learn/scikit-learn/issues/21755 */display: inline-block !important;position: relative;}#sk-container-id-1 div.sk-text-repr-fallback {display: none;}</style><div id=\"sk-container-id-1\" class=\"sk-top-container\"><div class=\"sk-text-repr-fallback\"><pre>GridSearchCV(cv=3, estimator=RandomForestClassifier(), n_jobs=-1,\n",
       "             param_grid={&#x27;criterion&#x27;: [&#x27;gini&#x27;, &#x27;entropy&#x27;],\n",
       "                         &#x27;n_estimators&#x27;: [50, 100, 150, 200, 250, 300]},\n",
       "             return_train_score=True, scoring=&#x27;accuracy&#x27;, verbose=3)</pre><b>In a Jupyter environment, please rerun this cell to show the HTML representation or trust the notebook. <br />On GitHub, the HTML representation is unable to render, please try loading this page with nbviewer.org.</b></div><div class=\"sk-container\" hidden><div class=\"sk-item sk-dashed-wrapped\"><div class=\"sk-label-container\"><div class=\"sk-label sk-toggleable\"><input class=\"sk-toggleable__control sk-hidden--visually\" id=\"sk-estimator-id-1\" type=\"checkbox\" ><label for=\"sk-estimator-id-1\" class=\"sk-toggleable__label sk-toggleable__label-arrow\">GridSearchCV</label><div class=\"sk-toggleable__content\"><pre>GridSearchCV(cv=3, estimator=RandomForestClassifier(), n_jobs=-1,\n",
       "             param_grid={&#x27;criterion&#x27;: [&#x27;gini&#x27;, &#x27;entropy&#x27;],\n",
       "                         &#x27;n_estimators&#x27;: [50, 100, 150, 200, 250, 300]},\n",
       "             return_train_score=True, scoring=&#x27;accuracy&#x27;, verbose=3)</pre></div></div></div><div class=\"sk-parallel\"><div class=\"sk-parallel-item\"><div class=\"sk-item\"><div class=\"sk-label-container\"><div class=\"sk-label sk-toggleable\"><input class=\"sk-toggleable__control sk-hidden--visually\" id=\"sk-estimator-id-2\" type=\"checkbox\" ><label for=\"sk-estimator-id-2\" class=\"sk-toggleable__label sk-toggleable__label-arrow\">estimator: RandomForestClassifier</label><div class=\"sk-toggleable__content\"><pre>RandomForestClassifier()</pre></div></div></div><div class=\"sk-serial\"><div class=\"sk-item\"><div class=\"sk-estimator sk-toggleable\"><input class=\"sk-toggleable__control sk-hidden--visually\" id=\"sk-estimator-id-3\" type=\"checkbox\" ><label for=\"sk-estimator-id-3\" class=\"sk-toggleable__label sk-toggleable__label-arrow\">RandomForestClassifier</label><div class=\"sk-toggleable__content\"><pre>RandomForestClassifier()</pre></div></div></div></div></div></div></div></div></div></div>"
      ],
      "text/plain": [
       "GridSearchCV(cv=3, estimator=RandomForestClassifier(), n_jobs=-1,\n",
       "             param_grid={'criterion': ['gini', 'entropy'],\n",
       "                         'n_estimators': [50, 100, 150, 200, 250, 300]},\n",
       "             return_train_score=True, scoring='accuracy', verbose=3)"
      ]
     },
     "execution_count": 22,
     "metadata": {},
     "output_type": "execute_result"
    }
   ],
   "source": [
    "rf_gcv.fit(x_train_pca, y_train)"
   ]
  },
  {
   "cell_type": "code",
   "execution_count": null,
   "metadata": {},
   "outputs": [],
   "source": [
    "# plot_grid_search_results(rf_gcv.cv_results_)"
   ]
  },
  {
   "cell_type": "code",
   "execution_count": null,
   "metadata": {},
   "outputs": [],
   "source": [
    "clf = rf_gcv.best_estimator_"
   ]
  },
  {
   "cell_type": "code",
   "execution_count": null,
   "metadata": {},
   "outputs": [],
   "source": [
    "# Save the model\n",
    "filename = \"Model/\"+str(dataset_number)+\"/rf\"+str(dataset_number)+\"_model.sav\"\n",
    "pickle.dump(clf, open(filename, 'wb'))"
   ]
  },
  {
   "cell_type": "code",
   "execution_count": null,
   "metadata": {},
   "outputs": [
    {
     "name": "stdout",
     "output_type": "stream",
     "text": [
      "              precision    recall  f1-score   support\n",
      "\n",
      "      Benign    0.98413   0.99198   0.98804     20812\n",
      "     Malware    0.89056   0.80319   0.84462      1692\n",
      "\n",
      "    accuracy                        0.97778     22504\n",
      "   macro avg    0.93734   0.89758   0.91633     22504\n",
      "weighted avg    0.97709   0.97778   0.97725     22504\n",
      "\n"
     ]
    },
    {
     "data": {
      "image/png": "[encoded data removed]",
      "text/plain": [
       "<Figure size 1500x800 with 2 Axes>"
      ]
     },
     "metadata": {},
     "output_type": "display_data"
    }
   ],
   "source": [
    "show(clf)"
   ]
  },
  {
   "cell_type": "code",
   "execution_count": null,
   "metadata": {},
   "outputs": [],
   "source": [
    "# Support vector machines are a popular choice for classification tasks, including API classification.\n",
    "# They work by finding the hyperplane in a high-dimensional space that maximally\n",
    "# separates different classes of data points.\n",
    "\n",
    "svc = SVC(cache_size=500)\n",
    "svc_param = {\n",
    "    \"C\": [1, 2, 3],\n",
    "    \"kernel\": [\"poly\", \"rbf\"],\n",
    "    \"probability\": [True],\n",
    "}\n",
    "svc_gcv = create_grid_search(svc, svc_param)"
   ]
  },
  {
   "cell_type": "code",
   "execution_count": null,
   "metadata": {},
   "outputs": [
    {
     "name": "stdout",
     "output_type": "stream",
     "text": [
      "Fitting 3 folds for each of 6 candidates, totalling 18 fits\n"
     ]
    },
    {
     "data": {
      "text/html": [
       "<style>#sk-container-id-2 {color: black;background-color: white;}#sk-container-id-2 pre{padding: 0;}#sk-container-id-2 div.sk-toggleable {background-color: white;}#sk-container-id-2 label.sk-toggleable__label {cursor: pointer;display: block;width: 100%;margin-bottom: 0;padding: 0.3em;box-sizing: border-box;text-align: center;}#sk-container-id-2 label.sk-toggleable__label-arrow:before {content: \"▸\";float: left;margin-right: 0.25em;color: #696969;}#sk-container-id-2 label.sk-toggleable__label-arrow:hover:before {color: black;}#sk-container-id-2 div.sk-estimator:hover label.sk-toggleable__label-arrow:before {color: black;}#sk-container-id-2 div.sk-toggleable__content {max-height: 0;max-width: 0;overflow: hidden;text-align: left;background-color: #f0f8ff;}#sk-container-id-2 div.sk-toggleable__content pre {margin: 0.2em;color: black;border-radius: 0.25em;background-color: #f0f8ff;}#sk-container-id-2 input.sk-toggleable__control:checked~div.sk-toggleable__content {max-height: 200px;max-width: 100%;overflow: auto;}#sk-container-id-2 input.sk-toggleable__control:checked~label.sk-toggleable__label-arrow:before {content: \"▾\";}#sk-container-id-2 div.sk-estimator input.sk-toggleable__control:checked~label.sk-toggleable__label {background-color: #d4ebff;}#sk-container-id-2 div.sk-label input.sk-toggleable__control:checked~label.sk-toggleable__label {background-color: #d4ebff;}#sk-container-id-2 input.sk-hidden--visually {border: 0;clip: rect(1px 1px 1px 1px);clip: rect(1px, 1px, 1px, 1px);height: 1px;margin: -1px;overflow: hidden;padding: 0;position: absolute;width: 1px;}#sk-container-id-2 div.sk-estimator {font-family: monospace;background-color: #f0f8ff;border: 1px dotted black;border-radius: 0.25em;box-sizing: border-box;margin-bottom: 0.5em;}#sk-container-id-2 div.sk-estimator:hover {background-color: #d4ebff;}#sk-container-id-2 div.sk-parallel-item::after {content: \"\";width: 100%;border-bottom: 1px solid gray;flex-grow: 1;}#sk-container-id-2 div.sk-label:hover label.sk-toggleable__label {background-color: #d4ebff;}#sk-container-id-2 div.sk-serial::before {content: \"\";position: absolute;border-left: 1px solid gray;box-sizing: border-box;top: 0;bottom: 0;left: 50%;z-index: 0;}#sk-container-id-2 div.sk-serial {display: flex;flex-direction: column;align-items: center;background-color: white;padding-right: 0.2em;padding-left: 0.2em;position: relative;}#sk-container-id-2 div.sk-item {position: relative;z-index: 1;}#sk-container-id-2 div.sk-parallel {display: flex;align-items: stretch;justify-content: center;background-color: white;position: relative;}#sk-container-id-2 div.sk-item::before, #sk-container-id-2 div.sk-parallel-item::before {content: \"\";position: absolute;border-left: 1px solid gray;box-sizing: border-box;top: 0;bottom: 0;left: 50%;z-index: -1;}#sk-container-id-2 div.sk-parallel-item {display: flex;flex-direction: column;z-index: 1;position: relative;background-color: white;}#sk-container-id-2 div.sk-parallel-item:first-child::after {align-self: flex-end;width: 50%;}#sk-container-id-2 div.sk-parallel-item:last-child::after {align-self: flex-start;width: 50%;}#sk-container-id-2 div.sk-parallel-item:only-child::after {width: 0;}#sk-container-id-2 div.sk-dashed-wrapped {border: 1px dashed gray;margin: 0 0.4em 0.5em 0.4em;box-sizing: border-box;padding-bottom: 0.4em;background-color: white;}#sk-container-id-2 div.sk-label label {font-family: monospace;font-weight: bold;display: inline-block;line-height: 1.2em;}#sk-container-id-2 div.sk-label-container {text-align: center;}#sk-container-id-2 div.sk-container {/* jupyter's `normalize.less` sets `[hidden] { display: none; }` but bootstrap.min.css set `[hidden] { display: none !important; }` so we also need the `!important` here to be able to override the default hidden behavior on the sphinx rendered scikit-learn.org. See: https://github.com/scikit-learn/scikit-learn/issues/21755 */display: inline-block !important;position: relative;}#sk-container-id-2 div.sk-text-repr-fallback {display: none;}</style><div id=\"sk-container-id-2\" class=\"sk-top-container\"><div class=\"sk-text-repr-fallback\"><pre>GridSearchCV(cv=3, estimator=SVC(cache_size=500), n_jobs=-1,\n",
       "             param_grid={&#x27;C&#x27;: [1, 2, 3], &#x27;kernel&#x27;: [&#x27;poly&#x27;, &#x27;rbf&#x27;],\n",
       "                         &#x27;probability&#x27;: [True]},\n",
       "             return_train_score=True, scoring=&#x27;accuracy&#x27;, verbose=3)</pre><b>In a Jupyter environment, please rerun this cell to show the HTML representation or trust the notebook. <br />On GitHub, the HTML representation is unable to render, please try loading this page with nbviewer.org.</b></div><div class=\"sk-container\" hidden><div class=\"sk-item sk-dashed-wrapped\"><div class=\"sk-label-container\"><div class=\"sk-label sk-toggleable\"><input class=\"sk-toggleable__control sk-hidden--visually\" id=\"sk-estimator-id-4\" type=\"checkbox\" ><label for=\"sk-estimator-id-4\" class=\"sk-toggleable__label sk-toggleable__label-arrow\">GridSearchCV</label><div class=\"sk-toggleable__content\"><pre>GridSearchCV(cv=3, estimator=SVC(cache_size=500), n_jobs=-1,\n",
       "             param_grid={&#x27;C&#x27;: [1, 2, 3], &#x27;kernel&#x27;: [&#x27;poly&#x27;, &#x27;rbf&#x27;],\n",
       "                         &#x27;probability&#x27;: [True]},\n",
       "             return_train_score=True, scoring=&#x27;accuracy&#x27;, verbose=3)</pre></div></div></div><div class=\"sk-parallel\"><div class=\"sk-parallel-item\"><div class=\"sk-item\"><div class=\"sk-label-container\"><div class=\"sk-label sk-toggleable\"><input class=\"sk-toggleable__control sk-hidden--visually\" id=\"sk-estimator-id-5\" type=\"checkbox\" ><label for=\"sk-estimator-id-5\" class=\"sk-toggleable__label sk-toggleable__label-arrow\">estimator: SVC</label><div class=\"sk-toggleable__content\"><pre>SVC(cache_size=500)</pre></div></div></div><div class=\"sk-serial\"><div class=\"sk-item\"><div class=\"sk-estimator sk-toggleable\"><input class=\"sk-toggleable__control sk-hidden--visually\" id=\"sk-estimator-id-6\" type=\"checkbox\" ><label for=\"sk-estimator-id-6\" class=\"sk-toggleable__label sk-toggleable__label-arrow\">SVC</label><div class=\"sk-toggleable__content\"><pre>SVC(cache_size=500)</pre></div></div></div></div></div></div></div></div></div></div>"
      ],
      "text/plain": [
       "GridSearchCV(cv=3, estimator=SVC(cache_size=500), n_jobs=-1,\n",
       "             param_grid={'C': [1, 2, 3], 'kernel': ['poly', 'rbf'],\n",
       "                         'probability': [True]},\n",
       "             return_train_score=True, scoring='accuracy', verbose=3)"
      ]
     },
     "execution_count": 28,
     "metadata": {},
     "output_type": "execute_result"
    }
   ],
   "source": [
    "svc_gcv.fit(x_train_pca, y_train)"
   ]
  },
  {
   "cell_type": "code",
   "execution_count": null,
   "metadata": {},
   "outputs": [],
   "source": [
    "# plot_grid_search_results(svc_gcv.cv_results_)"
   ]
  },
  {
   "cell_type": "code",
   "execution_count": null,
   "metadata": {},
   "outputs": [],
   "source": [
    "svc = svc_gcv.best_estimator_"
   ]
  },
  {
   "cell_type": "code",
   "execution_count": null,
   "metadata": {},
   "outputs": [],
   "source": [
    "# Save the model\n",
    "filename = \"Model/\"+str(dataset_number)+\"/svc\"+str(dataset_number)+\"_model.sav\"\n",
    "pickle.dump(svc, open(filename, 'wb'))"
   ]
  },
  {
   "cell_type": "code",
   "execution_count": null,
   "metadata": {},
   "outputs": [
    {
     "name": "stdout",
     "output_type": "stream",
     "text": [
      "              precision    recall  f1-score   support\n",
      "\n",
      "      Benign    0.96179   0.99899   0.98004     20812\n",
      "     Malware    0.97632   0.51182   0.67158      1692\n",
      "\n",
      "    accuracy                        0.96236     22504\n",
      "   macro avg    0.96906   0.75541   0.82581     22504\n",
      "weighted avg    0.96288   0.96236   0.95685     22504\n",
      "\n"
     ]
    },
    {
     "data": {
      "image/png": "[encoded data removed]",
      "text/plain": [
       "<Figure size 1500x800 with 2 Axes>"
      ]
     },
     "metadata": {},
     "output_type": "display_data"
    }
   ],
   "source": [
    "show(svc)"
   ]
  },
  {
   "cell_type": "code",
   "execution_count": null,
   "metadata": {},
   "outputs": [],
   "source": [
    "# Logistic regression is a simple yet effective linear model for classification tasks.\n",
    "# It is particularly useful for predicting binary outcomes\n",
    "# (e.g., malicious vs benign) and is often used as a baseline\n",
    "# model for comparison with more complex models.\n",
    "\n",
    "lr = LogisticRegression()\n",
    "lr_param = {\n",
    "    \"C\": [1, 2, 3],\n",
    "    \"penalty\": [\"l2\"],\n",
    "}\n",
    "lr_gcv = create_grid_search(lr, lr_param)"
   ]
  },
  {
   "cell_type": "code",
   "execution_count": null,
   "metadata": {},
   "outputs": [
    {
     "name": "stdout",
     "output_type": "stream",
     "text": [
      "Fitting 3 folds for each of 3 candidates, totalling 9 fits\n"
     ]
    },
    {
     "data": {
      "text/html": [
       "<style>#sk-container-id-3 {color: black;background-color: white;}#sk-container-id-3 pre{padding: 0;}#sk-container-id-3 div.sk-toggleable {background-color: white;}#sk-container-id-3 label.sk-toggleable__label {cursor: pointer;display: block;width: 100%;margin-bottom: 0;padding: 0.3em;box-sizing: border-box;text-align: center;}#sk-container-id-3 label.sk-toggleable__label-arrow:before {content: \"▸\";float: left;margin-right: 0.25em;color: #696969;}#sk-container-id-3 label.sk-toggleable__label-arrow:hover:before {color: black;}#sk-container-id-3 div.sk-estimator:hover label.sk-toggleable__label-arrow:before {color: black;}#sk-container-id-3 div.sk-toggleable__content {max-height: 0;max-width: 0;overflow: hidden;text-align: left;background-color: #f0f8ff;}#sk-container-id-3 div.sk-toggleable__content pre {margin: 0.2em;color: black;border-radius: 0.25em;background-color: #f0f8ff;}#sk-container-id-3 input.sk-toggleable__control:checked~div.sk-toggleable__content {max-height: 200px;max-width: 100%;overflow: auto;}#sk-container-id-3 input.sk-toggleable__control:checked~label.sk-toggleable__label-arrow:before {content: \"▾\";}#sk-container-id-3 div.sk-estimator input.sk-toggleable__control:checked~label.sk-toggleable__label {background-color: #d4ebff;}#sk-container-id-3 div.sk-label input.sk-toggleable__control:checked~label.sk-toggleable__label {background-color: #d4ebff;}#sk-container-id-3 input.sk-hidden--visually {border: 0;clip: rect(1px 1px 1px 1px);clip: rect(1px, 1px, 1px, 1px);height: 1px;margin: -1px;overflow: hidden;padding: 0;position: absolute;width: 1px;}#sk-container-id-3 div.sk-estimator {font-family: monospace;background-color: #f0f8ff;border: 1px dotted black;border-radius: 0.25em;box-sizing: border-box;margin-bottom: 0.5em;}#sk-container-id-3 div.sk-estimator:hover {background-color: #d4ebff;}#sk-container-id-3 div.sk-parallel-item::after {content: \"\";width: 100%;border-bottom: 1px solid gray;flex-grow: 1;}#sk-container-id-3 div.sk-label:hover label.sk-toggleable__label {background-color: #d4ebff;}#sk-container-id-3 div.sk-serial::before {content: \"\";position: absolute;border-left: 1px solid gray;box-sizing: border-box;top: 0;bottom: 0;left: 50%;z-index: 0;}#sk-container-id-3 div.sk-serial {display: flex;flex-direction: column;align-items: center;background-color: white;padding-right: 0.2em;padding-left: 0.2em;position: relative;}#sk-container-id-3 div.sk-item {position: relative;z-index: 1;}#sk-container-id-3 div.sk-parallel {display: flex;align-items: stretch;justify-content: center;background-color: white;position: relative;}#sk-container-id-3 div.sk-item::before, #sk-container-id-3 div.sk-parallel-item::before {content: \"\";position: absolute;border-left: 1px solid gray;box-sizing: border-box;top: 0;bottom: 0;left: 50%;z-index: -1;}#sk-container-id-3 div.sk-parallel-item {display: flex;flex-direction: column;z-index: 1;position: relative;background-color: white;}#sk-container-id-3 div.sk-parallel-item:first-child::after {align-self: flex-end;width: 50%;}#sk-container-id-3 div.sk-parallel-item:last-child::after {align-self: flex-start;width: 50%;}#sk-container-id-3 div.sk-parallel-item:only-child::after {width: 0;}#sk-container-id-3 div.sk-dashed-wrapped {border: 1px dashed gray;margin: 0 0.4em 0.5em 0.4em;box-sizing: border-box;padding-bottom: 0.4em;background-color: white;}#sk-container-id-3 div.sk-label label {font-family: monospace;font-weight: bold;display: inline-block;line-height: 1.2em;}#sk-container-id-3 div.sk-label-container {text-align: center;}#sk-container-id-3 div.sk-container {/* jupyter's `normalize.less` sets `[hidden] { display: none; }` but bootstrap.min.css set `[hidden] { display: none !important; }` so we also need the `!important` here to be able to override the default hidden behavior on the sphinx rendered scikit-learn.org. See: https://github.com/scikit-learn/scikit-learn/issues/21755 */display: inline-block !important;position: relative;}#sk-container-id-3 div.sk-text-repr-fallback {display: none;}</style><div id=\"sk-container-id-3\" class=\"sk-top-container\"><div class=\"sk-text-repr-fallback\"><pre>GridSearchCV(cv=3, estimator=LogisticRegression(), n_jobs=-1,\n",
       "             param_grid={&#x27;C&#x27;: [1, 2, 3], &#x27;penalty&#x27;: [&#x27;l2&#x27;]},\n",
       "             return_train_score=True, scoring=&#x27;accuracy&#x27;, verbose=3)</pre><b>In a Jupyter environment, please rerun this cell to show the HTML representation or trust the notebook. <br />On GitHub, the HTML representation is unable to render, please try loading this page with nbviewer.org.</b></div><div class=\"sk-container\" hidden><div class=\"sk-item sk-dashed-wrapped\"><div class=\"sk-label-container\"><div class=\"sk-label sk-toggleable\"><input class=\"sk-toggleable__control sk-hidden--visually\" id=\"sk-estimator-id-7\" type=\"checkbox\" ><label for=\"sk-estimator-id-7\" class=\"sk-toggleable__label sk-toggleable__label-arrow\">GridSearchCV</label><div class=\"sk-toggleable__content\"><pre>GridSearchCV(cv=3, estimator=LogisticRegression(), n_jobs=-1,\n",
       "             param_grid={&#x27;C&#x27;: [1, 2, 3], &#x27;penalty&#x27;: [&#x27;l2&#x27;]},\n",
       "             return_train_score=True, scoring=&#x27;accuracy&#x27;, verbose=3)</pre></div></div></div><div class=\"sk-parallel\"><div class=\"sk-parallel-item\"><div class=\"sk-item\"><div class=\"sk-label-container\"><div class=\"sk-label sk-toggleable\"><input class=\"sk-toggleable__control sk-hidden--visually\" id=\"sk-estimator-id-8\" type=\"checkbox\" ><label for=\"sk-estimator-id-8\" class=\"sk-toggleable__label sk-toggleable__label-arrow\">estimator: LogisticRegression</label><div class=\"sk-toggleable__content\"><pre>LogisticRegression()</pre></div></div></div><div class=\"sk-serial\"><div class=\"sk-item\"><div class=\"sk-estimator sk-toggleable\"><input class=\"sk-toggleable__control sk-hidden--visually\" id=\"sk-estimator-id-9\" type=\"checkbox\" ><label for=\"sk-estimator-id-9\" class=\"sk-toggleable__label sk-toggleable__label-arrow\">LogisticRegression</label><div class=\"sk-toggleable__content\"><pre>LogisticRegression()</pre></div></div></div></div></div></div></div></div></div></div>"
      ],
      "text/plain": [
       "GridSearchCV(cv=3, estimator=LogisticRegression(), n_jobs=-1,\n",
       "             param_grid={'C': [1, 2, 3], 'penalty': ['l2']},\n",
       "             return_train_score=True, scoring='accuracy', verbose=3)"
      ]
     },
     "execution_count": 34,
     "metadata": {},
     "output_type": "execute_result"
    }
   ],
   "source": [
    "lr_gcv.fit(x_train_pca, y_train)"
   ]
  },
  {
   "cell_type": "code",
   "execution_count": null,
   "metadata": {},
   "outputs": [],
   "source": [
    "# plot_grid_search_results(lr_gcv.cv_results_)"
   ]
  },
  {
   "cell_type": "code",
   "execution_count": null,
   "metadata": {},
   "outputs": [],
   "source": [
    "lr = lr_gcv.best_estimator_"
   ]
  },
  {
   "cell_type": "code",
   "execution_count": null,
   "metadata": {},
   "outputs": [],
   "source": [
    "# Save the model\n",
    "filename = \"Model/\"+str(dataset_number)+\"/lrh\"+str(dataset_number)+\"_model.sav\"\n",
    "pickle.dump(lr, open(filename, 'wb'))"
   ]
  },
  {
   "cell_type": "code",
   "execution_count": null,
   "metadata": {},
   "outputs": [
    {
     "name": "stdout",
     "output_type": "stream",
     "text": [
      "              precision    recall  f1-score   support\n",
      "\n",
      "      Benign    0.95877   1.00000   0.97895     20812\n",
      "     Malware    1.00000   0.47104   0.64042      1692\n",
      "\n",
      "    accuracy                        0.96023     22504\n",
      "   macro avg    0.97938   0.73552   0.80968     22504\n",
      "weighted avg    0.96187   0.96023   0.95350     22504\n",
      "\n"
     ]
    },
    {
     "data": {
      "image/png": "[encoded data removed]",
      "text/plain": [
       "<Figure size 1500x800 with 2 Axes>"
      ]
     },
     "metadata": {},
     "output_type": "display_data"
    }
   ],
   "source": [
    "show(lr)"
   ]
  },
  {
   "cell_type": "code",
   "execution_count": null,
   "metadata": {},
   "outputs": [],
   "source": [
    "# KNN is a simple yet effective classification algorithm that works by finding the k nearest neighbors of a data point.\n",
    "# It is a non-parametric model that does not make any assumptions about the underlying data distribution.\n",
    "\n",
    "knn = KNeighborsClassifier()\n",
    "knn_param = {\n",
    "    \"n_neighbors\": [3, 5, 7, 9, 11, 13, 15],\n",
    "    \"weights\": [\"uniform\", \"distance\"],\n",
    "}\n",
    "knn_gcv = create_grid_search(knn, knn_param)"
   ]
  },
  {
   "cell_type": "code",
   "execution_count": null,
   "metadata": {},
   "outputs": [
    {
     "name": "stdout",
     "output_type": "stream",
     "text": [
      "Fitting 3 folds for each of 14 candidates, totalling 42 fits\n"
     ]
    },
    {
     "data": {
      "text/html": [
       "<style>#sk-container-id-4 {color: black;background-color: white;}#sk-container-id-4 pre{padding: 0;}#sk-container-id-4 div.sk-toggleable {background-color: white;}#sk-container-id-4 label.sk-toggleable__label {cursor: pointer;display: block;width: 100%;margin-bottom: 0;padding: 0.3em;box-sizing: border-box;text-align: center;}#sk-container-id-4 label.sk-toggleable__label-arrow:before {content: \"▸\";float: left;margin-right: 0.25em;color: #696969;}#sk-container-id-4 label.sk-toggleable__label-arrow:hover:before {color: black;}#sk-container-id-4 div.sk-estimator:hover label.sk-toggleable__label-arrow:before {color: black;}#sk-container-id-4 div.sk-toggleable__content {max-height: 0;max-width: 0;overflow: hidden;text-align: left;background-color: #f0f8ff;}#sk-container-id-4 div.sk-toggleable__content pre {margin: 0.2em;color: black;border-radius: 0.25em;background-color: #f0f8ff;}#sk-container-id-4 input.sk-toggleable__control:checked~div.sk-toggleable__content {max-height: 200px;max-width: 100%;overflow: auto;}#sk-container-id-4 input.sk-toggleable__control:checked~label.sk-toggleable__label-arrow:before {content: \"▾\";}#sk-container-id-4 div.sk-estimator input.sk-toggleable__control:checked~label.sk-toggleable__label {background-color: #d4ebff;}#sk-container-id-4 div.sk-label input.sk-toggleable__control:checked~label.sk-toggleable__label {background-color: #d4ebff;}#sk-container-id-4 input.sk-hidden--visually {border: 0;clip: rect(1px 1px 1px 1px);clip: rect(1px, 1px, 1px, 1px);height: 1px;margin: -1px;overflow: hidden;padding: 0;position: absolute;width: 1px;}#sk-container-id-4 div.sk-estimator {font-family: monospace;background-color: #f0f8ff;border: 1px dotted black;border-radius: 0.25em;box-sizing: border-box;margin-bottom: 0.5em;}#sk-container-id-4 div.sk-estimator:hover {background-color: #d4ebff;}#sk-container-id-4 div.sk-parallel-item::after {content: \"\";width: 100%;border-bottom: 1px solid gray;flex-grow: 1;}#sk-container-id-4 div.sk-label:hover label.sk-toggleable__label {background-color: #d4ebff;}#sk-container-id-4 div.sk-serial::before {content: \"\";position: absolute;border-left: 1px solid gray;box-sizing: border-box;top: 0;bottom: 0;left: 50%;z-index: 0;}#sk-container-id-4 div.sk-serial {display: flex;flex-direction: column;align-items: center;background-color: white;padding-right: 0.2em;padding-left: 0.2em;position: relative;}#sk-container-id-4 div.sk-item {position: relative;z-index: 1;}#sk-container-id-4 div.sk-parallel {display: flex;align-items: stretch;justify-content: center;background-color: white;position: relative;}#sk-container-id-4 div.sk-item::before, #sk-container-id-4 div.sk-parallel-item::before {content: \"\";position: absolute;border-left: 1px solid gray;box-sizing: border-box;top: 0;bottom: 0;left: 50%;z-index: -1;}#sk-container-id-4 div.sk-parallel-item {display: flex;flex-direction: column;z-index: 1;position: relative;background-color: white;}#sk-container-id-4 div.sk-parallel-item:first-child::after {align-self: flex-end;width: 50%;}#sk-container-id-4 div.sk-parallel-item:last-child::after {align-self: flex-start;width: 50%;}#sk-container-id-4 div.sk-parallel-item:only-child::after {width: 0;}#sk-container-id-4 div.sk-dashed-wrapped {border: 1px dashed gray;margin: 0 0.4em 0.5em 0.4em;box-sizing: border-box;padding-bottom: 0.4em;background-color: white;}#sk-container-id-4 div.sk-label label {font-family: monospace;font-weight: bold;display: inline-block;line-height: 1.2em;}#sk-container-id-4 div.sk-label-container {text-align: center;}#sk-container-id-4 div.sk-container {/* jupyter's `normalize.less` sets `[hidden] { display: none; }` but bootstrap.min.css set `[hidden] { display: none !important; }` so we also need the `!important` here to be able to override the default hidden behavior on the sphinx rendered scikit-learn.org. See: https://github.com/scikit-learn/scikit-learn/issues/21755 */display: inline-block !important;position: relative;}#sk-container-id-4 div.sk-text-repr-fallback {display: none;}</style><div id=\"sk-container-id-4\" class=\"sk-top-container\"><div class=\"sk-text-repr-fallback\"><pre>GridSearchCV(cv=3, estimator=KNeighborsClassifier(), n_jobs=-1,\n",
       "             param_grid={&#x27;n_neighbors&#x27;: [3, 5, 7, 9, 11, 13, 15],\n",
       "                         &#x27;weights&#x27;: [&#x27;uniform&#x27;, &#x27;distance&#x27;]},\n",
       "             return_train_score=True, scoring=&#x27;accuracy&#x27;, verbose=3)</pre><b>In a Jupyter environment, please rerun this cell to show the HTML representation or trust the notebook. <br />On GitHub, the HTML representation is unable to render, please try loading this page with nbviewer.org.</b></div><div class=\"sk-container\" hidden><div class=\"sk-item sk-dashed-wrapped\"><div class=\"sk-label-container\"><div class=\"sk-label sk-toggleable\"><input class=\"sk-toggleable__control sk-hidden--visually\" id=\"sk-estimator-id-10\" type=\"checkbox\" ><label for=\"sk-estimator-id-10\" class=\"sk-toggleable__label sk-toggleable__label-arrow\">GridSearchCV</label><div class=\"sk-toggleable__content\"><pre>GridSearchCV(cv=3, estimator=KNeighborsClassifier(), n_jobs=-1,\n",
       "             param_grid={&#x27;n_neighbors&#x27;: [3, 5, 7, 9, 11, 13, 15],\n",
       "                         &#x27;weights&#x27;: [&#x27;uniform&#x27;, &#x27;distance&#x27;]},\n",
       "             return_train_score=True, scoring=&#x27;accuracy&#x27;, verbose=3)</pre></div></div></div><div class=\"sk-parallel\"><div class=\"sk-parallel-item\"><div class=\"sk-item\"><div class=\"sk-label-container\"><div class=\"sk-label sk-toggleable\"><input class=\"sk-toggleable__control sk-hidden--visually\" id=\"sk-estimator-id-11\" type=\"checkbox\" ><label for=\"sk-estimator-id-11\" class=\"sk-toggleable__label sk-toggleable__label-arrow\">estimator: KNeighborsClassifier</label><div class=\"sk-toggleable__content\"><pre>KNeighborsClassifier()</pre></div></div></div><div class=\"sk-serial\"><div class=\"sk-item\"><div class=\"sk-estimator sk-toggleable\"><input class=\"sk-toggleable__control sk-hidden--visually\" id=\"sk-estimator-id-12\" type=\"checkbox\" ><label for=\"sk-estimator-id-12\" class=\"sk-toggleable__label sk-toggleable__label-arrow\">KNeighborsClassifier</label><div class=\"sk-toggleable__content\"><pre>KNeighborsClassifier()</pre></div></div></div></div></div></div></div></div></div></div>"
      ],
      "text/plain": [
       "GridSearchCV(cv=3, estimator=KNeighborsClassifier(), n_jobs=-1,\n",
       "             param_grid={'n_neighbors': [3, 5, 7, 9, 11, 13, 15],\n",
       "                         'weights': ['uniform', 'distance']},\n",
       "             return_train_score=True, scoring='accuracy', verbose=3)"
      ]
     },
     "execution_count": 40,
     "metadata": {},
     "output_type": "execute_result"
    }
   ],
   "source": [
    "knn_gcv.fit(x_train_pca, y_train)"
   ]
  },
  {
   "cell_type": "code",
   "execution_count": null,
   "metadata": {},
   "outputs": [],
   "source": [
    "# plot_grid_search_results(knn_gcv.cv_results_)"
   ]
  },
  {
   "cell_type": "code",
   "execution_count": null,
   "metadata": {},
   "outputs": [],
   "source": [
    "knn = knn_gcv.best_estimator_"
   ]
  },
  {
   "cell_type": "code",
   "execution_count": null,
   "metadata": {},
   "outputs": [],
   "source": [
    "# Save the model\n",
    "filename = \"Model/\"+str(dataset_number)+\"/knn\"+str(dataset_number)+\"_model.sav\"\n",
    "pickle.dump(knn, open(filename, 'wb'))"
   ]
  },
  {
   "cell_type": "code",
   "execution_count": null,
   "metadata": {},
   "outputs": [
    {
     "name": "stdout",
     "output_type": "stream",
     "text": [
      "              precision    recall  f1-score   support\n",
      "\n",
      "      Benign    0.97245   0.99058   0.98143     20812\n",
      "     Malware    0.84969   0.65485   0.73965      1692\n",
      "\n",
      "    accuracy                        0.96534     22504\n",
      "   macro avg    0.91107   0.82271   0.86054     22504\n",
      "weighted avg    0.96322   0.96534   0.96326     22504\n",
      "\n"
     ]
    },
    {
     "data": {
      "image/png": "[encoded data removed]",
      "text/plain": [
       "<Figure size 1500x800 with 2 Axes>"
      ]
     },
     "metadata": {},
     "output_type": "display_data"
    }
   ],
   "source": [
    "show(knn)"
   ]
  },
  {
   "cell_type": "code",
   "execution_count": null,
   "metadata": {},
   "outputs": [],
   "source": [
    "# Decision trees are a popular choice for classification tasks.\n",
    "# They work by recursively partitioning the feature space into smaller and smaller regions,\n",
    "# until each region contains only a single class of data points.\n",
    "\n",
    "dt = DecisionTreeClassifier()\n",
    "dt_param = {\n",
    "    \"criterion\": [\"gini\", \"entropy\"],\n",
    "    \"max_depth\": [3, 5, 7, 9, 11, 13, 15],\n",
    "    \"min_samples_split\": [2, 3, 4, 5, 6, 7, 8, 9, 10],\n",
    "}\n",
    "dt_gcv = create_grid_search(dt, dt_param)"
   ]
  },
  {
   "cell_type": "code",
   "execution_count": null,
   "metadata": {},
   "outputs": [
    {
     "name": "stdout",
     "output_type": "stream",
     "text": [
      "Fitting 3 folds for each of 126 candidates, totalling 378 fits\n"
     ]
    },
    {
     "data": {
      "text/html": [
       "<style>#sk-container-id-5 {color: black;background-color: white;}#sk-container-id-5 pre{padding: 0;}#sk-container-id-5 div.sk-toggleable {background-color: white;}#sk-container-id-5 label.sk-toggleable__label {cursor: pointer;display: block;width: 100%;margin-bottom: 0;padding: 0.3em;box-sizing: border-box;text-align: center;}#sk-container-id-5 label.sk-toggleable__label-arrow:before {content: \"▸\";float: left;margin-right: 0.25em;color: #696969;}#sk-container-id-5 label.sk-toggleable__label-arrow:hover:before {color: black;}#sk-container-id-5 div.sk-estimator:hover label.sk-toggleable__label-arrow:before {color: black;}#sk-container-id-5 div.sk-toggleable__content {max-height: 0;max-width: 0;overflow: hidden;text-align: left;background-color: #f0f8ff;}#sk-container-id-5 div.sk-toggleable__content pre {margin: 0.2em;color: black;border-radius: 0.25em;background-color: #f0f8ff;}#sk-container-id-5 input.sk-toggleable__control:checked~div.sk-toggleable__content {max-height: 200px;max-width: 100%;overflow: auto;}#sk-container-id-5 input.sk-toggleable__control:checked~label.sk-toggleable__label-arrow:before {content: \"▾\";}#sk-container-id-5 div.sk-estimator input.sk-toggleable__control:checked~label.sk-toggleable__label {background-color: #d4ebff;}#sk-container-id-5 div.sk-label input.sk-toggleable__control:checked~label.sk-toggleable__label {background-color: #d4ebff;}#sk-container-id-5 input.sk-hidden--visually {border: 0;clip: rect(1px 1px 1px 1px);clip: rect(1px, 1px, 1px, 1px);height: 1px;margin: -1px;overflow: hidden;padding: 0;position: absolute;width: 1px;}#sk-container-id-5 div.sk-estimator {font-family: monospace;background-color: #f0f8ff;border: 1px dotted black;border-radius: 0.25em;box-sizing: border-box;margin-bottom: 0.5em;}#sk-container-id-5 div.sk-estimator:hover {background-color: #d4ebff;}#sk-container-id-5 div.sk-parallel-item::after {content: \"\";width: 100%;border-bottom: 1px solid gray;flex-grow: 1;}#sk-container-id-5 div.sk-label:hover label.sk-toggleable__label {background-color: #d4ebff;}#sk-container-id-5 div.sk-serial::before {content: \"\";position: absolute;border-left: 1px solid gray;box-sizing: border-box;top: 0;bottom: 0;left: 50%;z-index: 0;}#sk-container-id-5 div.sk-serial {display: flex;flex-direction: column;align-items: center;background-color: white;padding-right: 0.2em;padding-left: 0.2em;position: relative;}#sk-container-id-5 div.sk-item {position: relative;z-index: 1;}#sk-container-id-5 div.sk-parallel {display: flex;align-items: stretch;justify-content: center;background-color: white;position: relative;}#sk-container-id-5 div.sk-item::before, #sk-container-id-5 div.sk-parallel-item::before {content: \"\";position: absolute;border-left: 1px solid gray;box-sizing: border-box;top: 0;bottom: 0;left: 50%;z-index: -1;}#sk-container-id-5 div.sk-parallel-item {display: flex;flex-direction: column;z-index: 1;position: relative;background-color: white;}#sk-container-id-5 div.sk-parallel-item:first-child::after {align-self: flex-end;width: 50%;}#sk-container-id-5 div.sk-parallel-item:last-child::after {align-self: flex-start;width: 50%;}#sk-container-id-5 div.sk-parallel-item:only-child::after {width: 0;}#sk-container-id-5 div.sk-dashed-wrapped {border: 1px dashed gray;margin: 0 0.4em 0.5em 0.4em;box-sizing: border-box;padding-bottom: 0.4em;background-color: white;}#sk-container-id-5 div.sk-label label {font-family: monospace;font-weight: bold;display: inline-block;line-height: 1.2em;}#sk-container-id-5 div.sk-label-container {text-align: center;}#sk-container-id-5 div.sk-container {/* jupyter's `normalize.less` sets `[hidden] { display: none; }` but bootstrap.min.css set `[hidden] { display: none !important; }` so we also need the `!important` here to be able to override the default hidden behavior on the sphinx rendered scikit-learn.org. See: https://github.com/scikit-learn/scikit-learn/issues/21755 */display: inline-block !important;position: relative;}#sk-container-id-5 div.sk-text-repr-fallback {display: none;}</style><div id=\"sk-container-id-5\" class=\"sk-top-container\"><div class=\"sk-text-repr-fallback\"><pre>GridSearchCV(cv=3, estimator=DecisionTreeClassifier(), n_jobs=-1,\n",
       "             param_grid={&#x27;criterion&#x27;: [&#x27;gini&#x27;, &#x27;entropy&#x27;],\n",
       "                         &#x27;max_depth&#x27;: [3, 5, 7, 9, 11, 13, 15],\n",
       "                         &#x27;min_samples_split&#x27;: [2, 3, 4, 5, 6, 7, 8, 9, 10]},\n",
       "             return_train_score=True, scoring=&#x27;accuracy&#x27;, verbose=3)</pre><b>In a Jupyter environment, please rerun this cell to show the HTML representation or trust the notebook. <br />On GitHub, the HTML representation is unable to render, please try loading this page with nbviewer.org.</b></div><div class=\"sk-container\" hidden><div class=\"sk-item sk-dashed-wrapped\"><div class=\"sk-label-container\"><div class=\"sk-label sk-toggleable\"><input class=\"sk-toggleable__control sk-hidden--visually\" id=\"sk-estimator-id-13\" type=\"checkbox\" ><label for=\"sk-estimator-id-13\" class=\"sk-toggleable__label sk-toggleable__label-arrow\">GridSearchCV</label><div class=\"sk-toggleable__content\"><pre>GridSearchCV(cv=3, estimator=DecisionTreeClassifier(), n_jobs=-1,\n",
       "             param_grid={&#x27;criterion&#x27;: [&#x27;gini&#x27;, &#x27;entropy&#x27;],\n",
       "                         &#x27;max_depth&#x27;: [3, 5, 7, 9, 11, 13, 15],\n",
       "                         &#x27;min_samples_split&#x27;: [2, 3, 4, 5, 6, 7, 8, 9, 10]},\n",
       "             return_train_score=True, scoring=&#x27;accuracy&#x27;, verbose=3)</pre></div></div></div><div class=\"sk-parallel\"><div class=\"sk-parallel-item\"><div class=\"sk-item\"><div class=\"sk-label-container\"><div class=\"sk-label sk-toggleable\"><input class=\"sk-toggleable__control sk-hidden--visually\" id=\"sk-estimator-id-14\" type=\"checkbox\" ><label for=\"sk-estimator-id-14\" class=\"sk-toggleable__label sk-toggleable__label-arrow\">estimator: DecisionTreeClassifier</label><div class=\"sk-toggleable__content\"><pre>DecisionTreeClassifier()</pre></div></div></div><div class=\"sk-serial\"><div class=\"sk-item\"><div class=\"sk-estimator sk-toggleable\"><input class=\"sk-toggleable__control sk-hidden--visually\" id=\"sk-estimator-id-15\" type=\"checkbox\" ><label for=\"sk-estimator-id-15\" class=\"sk-toggleable__label sk-toggleable__label-arrow\">DecisionTreeClassifier</label><div class=\"sk-toggleable__content\"><pre>DecisionTreeClassifier()</pre></div></div></div></div></div></div></div></div></div></div>"
      ],
      "text/plain": [
       "GridSearchCV(cv=3, estimator=DecisionTreeClassifier(), n_jobs=-1,\n",
       "             param_grid={'criterion': ['gini', 'entropy'],\n",
       "                         'max_depth': [3, 5, 7, 9, 11, 13, 15],\n",
       "                         'min_samples_split': [2, 3, 4, 5, 6, 7, 8, 9, 10]},\n",
       "             return_train_score=True, scoring='accuracy', verbose=3)"
      ]
     },
     "execution_count": 46,
     "metadata": {},
     "output_type": "execute_result"
    }
   ],
   "source": [
    "dt_gcv.fit(x_train_pca, y_train)"
   ]
  },
  {
   "cell_type": "code",
   "execution_count": null,
   "metadata": {},
   "outputs": [],
   "source": [
    "# plot_grid_search_results(dt_gcv.cv_results_)"
   ]
  },
  {
   "cell_type": "code",
   "execution_count": null,
   "metadata": {},
   "outputs": [],
   "source": [
    "dt = dt_gcv.best_estimator_"
   ]
  },
  {
   "cell_type": "code",
   "execution_count": null,
   "metadata": {},
   "outputs": [],
   "source": [
    "# Save the model\n",
    "filename = \"Model/\"+str(dataset_number)+\"/dt\"+str(dataset_number)+\"_model.sav\"\n",
    "pickle.dump(dt, open(filename, 'wb'))"
   ]
  },
  {
   "cell_type": "code",
   "execution_count": null,
   "metadata": {},
   "outputs": [
    {
     "name": "stdout",
     "output_type": "stream",
     "text": [
      "              precision    recall  f1-score   support\n",
      "\n",
      "      Benign    0.98044   0.99476   0.98755     20812\n",
      "     Malware    0.92147   0.75591   0.83052      1692\n",
      "\n",
      "    accuracy                        0.97680     22504\n",
      "   macro avg    0.95096   0.87534   0.90903     22504\n",
      "weighted avg    0.97601   0.97680   0.97574     22504\n",
      "\n"
     ]
    },
    {
     "data": {
      "image/png": "[encoded data removed]",
      "text/plain": [
       "<Figure size 1500x800 with 2 Axes>"
      ]
     },
     "metadata": {},
     "output_type": "display_data"
    }
   ],
   "source": [
    "show(dt)"
   ]
  },
  {
   "cell_type": "code",
   "execution_count": null,
   "metadata": {},
   "outputs": [],
   "source": [
    "# AdaBoost is a popular ensemble method that works by combining the predictions of multiple weak learners.\n",
    "# It is a simple way to improve the performance of a model by combining the predictions of multiple models.\n",
    "\n",
    "abc = AdaBoostClassifier()\n",
    "abc_param = {\n",
    "    \"n_estimators\": [50, 100, 150, 200, 250, 300, 350, 400, 450, 500],\n",
    "    \"learning_rate\": [0.001, 0.01, 0.1, 1, 10, 100],\n",
    "}\n",
    "abc_gcv = create_grid_search(abc, abc_param)"
   ]
  },
  {
   "cell_type": "code",
   "execution_count": null,
   "metadata": {},
   "outputs": [
    {
     "name": "stdout",
     "output_type": "stream",
     "text": [
      "Fitting 3 folds for each of 60 candidates, totalling 180 fits\n"
     ]
    },
    {
     "data": {
      "text/html": [
       "<style>#sk-container-id-6 {color: black;background-color: white;}#sk-container-id-6 pre{padding: 0;}#sk-container-id-6 div.sk-toggleable {background-color: white;}#sk-container-id-6 label.sk-toggleable__label {cursor: pointer;display: block;width: 100%;margin-bottom: 0;padding: 0.3em;box-sizing: border-box;text-align: center;}#sk-container-id-6 label.sk-toggleable__label-arrow:before {content: \"▸\";float: left;margin-right: 0.25em;color: #696969;}#sk-container-id-6 label.sk-toggleable__label-arrow:hover:before {color: black;}#sk-container-id-6 div.sk-estimator:hover label.sk-toggleable__label-arrow:before {color: black;}#sk-container-id-6 div.sk-toggleable__content {max-height: 0;max-width: 0;overflow: hidden;text-align: left;background-color: #f0f8ff;}#sk-container-id-6 div.sk-toggleable__content pre {margin: 0.2em;color: black;border-radius: 0.25em;background-color: #f0f8ff;}#sk-container-id-6 input.sk-toggleable__control:checked~div.sk-toggleable__content {max-height: 200px;max-width: 100%;overflow: auto;}#sk-container-id-6 input.sk-toggleable__control:checked~label.sk-toggleable__label-arrow:before {content: \"▾\";}#sk-container-id-6 div.sk-estimator input.sk-toggleable__control:checked~label.sk-toggleable__label {background-color: #d4ebff;}#sk-container-id-6 div.sk-label input.sk-toggleable__control:checked~label.sk-toggleable__label {background-color: #d4ebff;}#sk-container-id-6 input.sk-hidden--visually {border: 0;clip: rect(1px 1px 1px 1px);clip: rect(1px, 1px, 1px, 1px);height: 1px;margin: -1px;overflow: hidden;padding: 0;position: absolute;width: 1px;}#sk-container-id-6 div.sk-estimator {font-family: monospace;background-color: #f0f8ff;border: 1px dotted black;border-radius: 0.25em;box-sizing: border-box;margin-bottom: 0.5em;}#sk-container-id-6 div.sk-estimator:hover {background-color: #d4ebff;}#sk-container-id-6 div.sk-parallel-item::after {content: \"\";width: 100%;border-bottom: 1px solid gray;flex-grow: 1;}#sk-container-id-6 div.sk-label:hover label.sk-toggleable__label {background-color: #d4ebff;}#sk-container-id-6 div.sk-serial::before {content: \"\";position: absolute;border-left: 1px solid gray;box-sizing: border-box;top: 0;bottom: 0;left: 50%;z-index: 0;}#sk-container-id-6 div.sk-serial {display: flex;flex-direction: column;align-items: center;background-color: white;padding-right: 0.2em;padding-left: 0.2em;position: relative;}#sk-container-id-6 div.sk-item {position: relative;z-index: 1;}#sk-container-id-6 div.sk-parallel {display: flex;align-items: stretch;justify-content: center;background-color: white;position: relative;}#sk-container-id-6 div.sk-item::before, #sk-container-id-6 div.sk-parallel-item::before {content: \"\";position: absolute;border-left: 1px solid gray;box-sizing: border-box;top: 0;bottom: 0;left: 50%;z-index: -1;}#sk-container-id-6 div.sk-parallel-item {display: flex;flex-direction: column;z-index: 1;position: relative;background-color: white;}#sk-container-id-6 div.sk-parallel-item:first-child::after {align-self: flex-end;width: 50%;}#sk-container-id-6 div.sk-parallel-item:last-child::after {align-self: flex-start;width: 50%;}#sk-container-id-6 div.sk-parallel-item:only-child::after {width: 0;}#sk-container-id-6 div.sk-dashed-wrapped {border: 1px dashed gray;margin: 0 0.4em 0.5em 0.4em;box-sizing: border-box;padding-bottom: 0.4em;background-color: white;}#sk-container-id-6 div.sk-label label {font-family: monospace;font-weight: bold;display: inline-block;line-height: 1.2em;}#sk-container-id-6 div.sk-label-container {text-align: center;}#sk-container-id-6 div.sk-container {/* jupyter's `normalize.less` sets `[hidden] { display: none; }` but bootstrap.min.css set `[hidden] { display: none !important; }` so we also need the `!important` here to be able to override the default hidden behavior on the sphinx rendered scikit-learn.org. See: https://github.com/scikit-learn/scikit-learn/issues/21755 */display: inline-block !important;position: relative;}#sk-container-id-6 div.sk-text-repr-fallback {display: none;}</style><div id=\"sk-container-id-6\" class=\"sk-top-container\"><div class=\"sk-text-repr-fallback\"><pre>GridSearchCV(cv=3, estimator=AdaBoostClassifier(), n_jobs=-1,\n",
       "             param_grid={&#x27;learning_rate&#x27;: [0.001, 0.01, 0.1, 1, 10, 100],\n",
       "                         &#x27;n_estimators&#x27;: [50, 100, 150, 200, 250, 300, 350, 400,\n",
       "                                          450, 500]},\n",
       "             return_train_score=True, scoring=&#x27;accuracy&#x27;, verbose=3)</pre><b>In a Jupyter environment, please rerun this cell to show the HTML representation or trust the notebook. <br />On GitHub, the HTML representation is unable to render, please try loading this page with nbviewer.org.</b></div><div class=\"sk-container\" hidden><div class=\"sk-item sk-dashed-wrapped\"><div class=\"sk-label-container\"><div class=\"sk-label sk-toggleable\"><input class=\"sk-toggleable__control sk-hidden--visually\" id=\"sk-estimator-id-16\" type=\"checkbox\" ><label for=\"sk-estimator-id-16\" class=\"sk-toggleable__label sk-toggleable__label-arrow\">GridSearchCV</label><div class=\"sk-toggleable__content\"><pre>GridSearchCV(cv=3, estimator=AdaBoostClassifier(), n_jobs=-1,\n",
       "             param_grid={&#x27;learning_rate&#x27;: [0.001, 0.01, 0.1, 1, 10, 100],\n",
       "                         &#x27;n_estimators&#x27;: [50, 100, 150, 200, 250, 300, 350, 400,\n",
       "                                          450, 500]},\n",
       "             return_train_score=True, scoring=&#x27;accuracy&#x27;, verbose=3)</pre></div></div></div><div class=\"sk-parallel\"><div class=\"sk-parallel-item\"><div class=\"sk-item\"><div class=\"sk-label-container\"><div class=\"sk-label sk-toggleable\"><input class=\"sk-toggleable__control sk-hidden--visually\" id=\"sk-estimator-id-17\" type=\"checkbox\" ><label for=\"sk-estimator-id-17\" class=\"sk-toggleable__label sk-toggleable__label-arrow\">estimator: AdaBoostClassifier</label><div class=\"sk-toggleable__content\"><pre>AdaBoostClassifier()</pre></div></div></div><div class=\"sk-serial\"><div class=\"sk-item\"><div class=\"sk-estimator sk-toggleable\"><input class=\"sk-toggleable__control sk-hidden--visually\" id=\"sk-estimator-id-18\" type=\"checkbox\" ><label for=\"sk-estimator-id-18\" class=\"sk-toggleable__label sk-toggleable__label-arrow\">AdaBoostClassifier</label><div class=\"sk-toggleable__content\"><pre>AdaBoostClassifier()</pre></div></div></div></div></div></div></div></div></div></div>"
      ],
      "text/plain": [
       "GridSearchCV(cv=3, estimator=AdaBoostClassifier(), n_jobs=-1,\n",
       "             param_grid={'learning_rate': [0.001, 0.01, 0.1, 1, 10, 100],\n",
       "                         'n_estimators': [50, 100, 150, 200, 250, 300, 350, 400,\n",
       "                                          450, 500]},\n",
       "             return_train_score=True, scoring='accuracy', verbose=3)"
      ]
     },
     "execution_count": 52,
     "metadata": {},
     "output_type": "execute_result"
    }
   ],
   "source": [
    "abc_gcv.fit(x_train_pca, y_train)"
   ]
  },
  {
   "cell_type": "code",
   "execution_count": null,
   "metadata": {},
   "outputs": [],
   "source": [
    "# plot_grid_search_results(abc_gcv.cv_results_)"
   ]
  },
  {
   "cell_type": "code",
   "execution_count": null,
   "metadata": {},
   "outputs": [],
   "source": [
    "abc = abc_gcv.best_estimator_"
   ]
  },
  {
   "cell_type": "code",
   "execution_count": null,
   "metadata": {},
   "outputs": [],
   "source": [
    "# Save the model\n",
    "filename = \"Model/\"+str(dataset_number)+\"/abc\"+str(dataset_number)+\"_model.sav\"\n",
    "pickle.dump(abc, open(filename, 'wb'))"
   ]
  },
  {
   "cell_type": "code",
   "execution_count": null,
   "metadata": {},
   "outputs": [
    {
     "name": "stdout",
     "output_type": "stream",
     "text": [
      "              precision    recall  f1-score   support\n",
      "\n",
      "      Benign    0.97927   0.99438   0.98677     20812\n",
      "     Malware    0.91466   0.74113   0.81881      1692\n",
      "\n",
      "    accuracy                        0.97534     22504\n",
      "   macro avg    0.94697   0.86776   0.90279     22504\n",
      "weighted avg    0.97442   0.97534   0.97414     22504\n",
      "\n"
     ]
    },
    {
     "data": {
      "image/png": "[encoded data removed]",
      "text/plain": [
       "<Figure size 1500x800 with 2 Axes>"
      ]
     },
     "metadata": {},
     "output_type": "display_data"
    }
   ],
   "source": [
    "show(abc)"
   ]
  },
  {
   "cell_type": "code",
   "execution_count": null,
   "metadata": {},
   "outputs": [],
   "source": [
    "# Gradient Boosting is a popular ensemble method that works by combining the predictions of multiple weak learners.\n",
    "# It is a simple way to improve the performance of a model by combining the predictions of multiple models.\n",
    "\n",
    "gbc = GradientBoostingClassifier()\n",
    "gbc_param = {\n",
    "    \"n_estimators\": [50, 100, 150, 200, 250, 300, 350, 400, 450, 500],\n",
    "    \"learning_rate\": [0.001, 0.01, 0.1, 1, 10, 100],\n",
    "}\n",
    "gbc_gcv = create_grid_search(gbc, gbc_param)"
   ]
  },
  {
   "cell_type": "code",
   "execution_count": null,
   "metadata": {},
   "outputs": [
    {
     "name": "stdout",
     "output_type": "stream",
     "text": [
      "Fitting 3 folds for each of 60 candidates, totalling 180 fits\n"
     ]
    },
    {
     "data": {
      "text/html": [
       "<style>#sk-container-id-7 {color: black;background-color: white;}#sk-container-id-7 pre{padding: 0;}#sk-container-id-7 div.sk-toggleable {background-color: white;}#sk-container-id-7 label.sk-toggleable__label {cursor: pointer;display: block;width: 100%;margin-bottom: 0;padding: 0.3em;box-sizing: border-box;text-align: center;}#sk-container-id-7 label.sk-toggleable__label-arrow:before {content: \"▸\";float: left;margin-right: 0.25em;color: #696969;}#sk-container-id-7 label.sk-toggleable__label-arrow:hover:before {color: black;}#sk-container-id-7 div.sk-estimator:hover label.sk-toggleable__label-arrow:before {color: black;}#sk-container-id-7 div.sk-toggleable__content {max-height: 0;max-width: 0;overflow: hidden;text-align: left;background-color: #f0f8ff;}#sk-container-id-7 div.sk-toggleable__content pre {margin: 0.2em;color: black;border-radius: 0.25em;background-color: #f0f8ff;}#sk-container-id-7 input.sk-toggleable__control:checked~div.sk-toggleable__content {max-height: 200px;max-width: 100%;overflow: auto;}#sk-container-id-7 input.sk-toggleable__control:checked~label.sk-toggleable__label-arrow:before {content: \"▾\";}#sk-container-id-7 div.sk-estimator input.sk-toggleable__control:checked~label.sk-toggleable__label {background-color: #d4ebff;}#sk-container-id-7 div.sk-label input.sk-toggleable__control:checked~label.sk-toggleable__label {background-color: #d4ebff;}#sk-container-id-7 input.sk-hidden--visually {border: 0;clip: rect(1px 1px 1px 1px);clip: rect(1px, 1px, 1px, 1px);height: 1px;margin: -1px;overflow: hidden;padding: 0;position: absolute;width: 1px;}#sk-container-id-7 div.sk-estimator {font-family: monospace;background-color: #f0f8ff;border: 1px dotted black;border-radius: 0.25em;box-sizing: border-box;margin-bottom: 0.5em;}#sk-container-id-7 div.sk-estimator:hover {background-color: #d4ebff;}#sk-container-id-7 div.sk-parallel-item::after {content: \"\";width: 100%;border-bottom: 1px solid gray;flex-grow: 1;}#sk-container-id-7 div.sk-label:hover label.sk-toggleable__label {background-color: #d4ebff;}#sk-container-id-7 div.sk-serial::before {content: \"\";position: absolute;border-left: 1px solid gray;box-sizing: border-box;top: 0;bottom: 0;left: 50%;z-index: 0;}#sk-container-id-7 div.sk-serial {display: flex;flex-direction: column;align-items: center;background-color: white;padding-right: 0.2em;padding-left: 0.2em;position: relative;}#sk-container-id-7 div.sk-item {position: relative;z-index: 1;}#sk-container-id-7 div.sk-parallel {display: flex;align-items: stretch;justify-content: center;background-color: white;position: relative;}#sk-container-id-7 div.sk-item::before, #sk-container-id-7 div.sk-parallel-item::before {content: \"\";position: absolute;border-left: 1px solid gray;box-sizing: border-box;top: 0;bottom: 0;left: 50%;z-index: -1;}#sk-container-id-7 div.sk-parallel-item {display: flex;flex-direction: column;z-index: 1;position: relative;background-color: white;}#sk-container-id-7 div.sk-parallel-item:first-child::after {align-self: flex-end;width: 50%;}#sk-container-id-7 div.sk-parallel-item:last-child::after {align-self: flex-start;width: 50%;}#sk-container-id-7 div.sk-parallel-item:only-child::after {width: 0;}#sk-container-id-7 div.sk-dashed-wrapped {border: 1px dashed gray;margin: 0 0.4em 0.5em 0.4em;box-sizing: border-box;padding-bottom: 0.4em;background-color: white;}#sk-container-id-7 div.sk-label label {font-family: monospace;font-weight: bold;display: inline-block;line-height: 1.2em;}#sk-container-id-7 div.sk-label-container {text-align: center;}#sk-container-id-7 div.sk-container {/* jupyter's `normalize.less` sets `[hidden] { display: none; }` but bootstrap.min.css set `[hidden] { display: none !important; }` so we also need the `!important` here to be able to override the default hidden behavior on the sphinx rendered scikit-learn.org. See: https://github.com/scikit-learn/scikit-learn/issues/21755 */display: inline-block !important;position: relative;}#sk-container-id-7 div.sk-text-repr-fallback {display: none;}</style><div id=\"sk-container-id-7\" class=\"sk-top-container\"><div class=\"sk-text-repr-fallback\"><pre>GridSearchCV(cv=3, estimator=GradientBoostingClassifier(), n_jobs=-1,\n",
       "             param_grid={&#x27;learning_rate&#x27;: [0.001, 0.01, 0.1, 1, 10, 100],\n",
       "                         &#x27;n_estimators&#x27;: [50, 100, 150, 200, 250, 300, 350, 400,\n",
       "                                          450, 500]},\n",
       "             return_train_score=True, scoring=&#x27;accuracy&#x27;, verbose=3)</pre><b>In a Jupyter environment, please rerun this cell to show the HTML representation or trust the notebook. <br />On GitHub, the HTML representation is unable to render, please try loading this page with nbviewer.org.</b></div><div class=\"sk-container\" hidden><div class=\"sk-item sk-dashed-wrapped\"><div class=\"sk-label-container\"><div class=\"sk-label sk-toggleable\"><input class=\"sk-toggleable__control sk-hidden--visually\" id=\"sk-estimator-id-19\" type=\"checkbox\" ><label for=\"sk-estimator-id-19\" class=\"sk-toggleable__label sk-toggleable__label-arrow\">GridSearchCV</label><div class=\"sk-toggleable__content\"><pre>GridSearchCV(cv=3, estimator=GradientBoostingClassifier(), n_jobs=-1,\n",
       "             param_grid={&#x27;learning_rate&#x27;: [0.001, 0.01, 0.1, 1, 10, 100],\n",
       "                         &#x27;n_estimators&#x27;: [50, 100, 150, 200, 250, 300, 350, 400,\n",
       "                                          450, 500]},\n",
       "             return_train_score=True, scoring=&#x27;accuracy&#x27;, verbose=3)</pre></div></div></div><div class=\"sk-parallel\"><div class=\"sk-parallel-item\"><div class=\"sk-item\"><div class=\"sk-label-container\"><div class=\"sk-label sk-toggleable\"><input class=\"sk-toggleable__control sk-hidden--visually\" id=\"sk-estimator-id-20\" type=\"checkbox\" ><label for=\"sk-estimator-id-20\" class=\"sk-toggleable__label sk-toggleable__label-arrow\">estimator: GradientBoostingClassifier</label><div class=\"sk-toggleable__content\"><pre>GradientBoostingClassifier()</pre></div></div></div><div class=\"sk-serial\"><div class=\"sk-item\"><div class=\"sk-estimator sk-toggleable\"><input class=\"sk-toggleable__control sk-hidden--visually\" id=\"sk-estimator-id-21\" type=\"checkbox\" ><label for=\"sk-estimator-id-21\" class=\"sk-toggleable__label sk-toggleable__label-arrow\">GradientBoostingClassifier</label><div class=\"sk-toggleable__content\"><pre>GradientBoostingClassifier()</pre></div></div></div></div></div></div></div></div></div></div>"
      ],
      "text/plain": [
       "GridSearchCV(cv=3, estimator=GradientBoostingClassifier(), n_jobs=-1,\n",
       "             param_grid={'learning_rate': [0.001, 0.01, 0.1, 1, 10, 100],\n",
       "                         'n_estimators': [50, 100, 150, 200, 250, 300, 350, 400,\n",
       "                                          450, 500]},\n",
       "             return_train_score=True, scoring='accuracy', verbose=3)"
      ]
     },
     "execution_count": 58,
     "metadata": {},
     "output_type": "execute_result"
    }
   ],
   "source": [
    "gbc_gcv.fit(x_train_pca, y_train)"
   ]
  },
  {
   "cell_type": "code",
   "execution_count": null,
   "metadata": {},
   "outputs": [],
   "source": [
    "# plot_grid_search_results(gbc_gcv.cv_results_)"
   ]
  },
  {
   "cell_type": "code",
   "execution_count": null,
   "metadata": {},
   "outputs": [],
   "source": [
    "gbc = gbc_gcv.best_estimator_"
   ]
  },
  {
   "cell_type": "code",
   "execution_count": null,
   "metadata": {},
   "outputs": [],
   "source": [
    "# Save the model\n",
    "filename = \"Model/\"+str(dataset_number)+\"/gbc\"+str(dataset_number)+\"_model.sav\"\n",
    "pickle.dump(gbc, open(filename, 'wb'))"
   ]
  },
  {
   "cell_type": "code",
   "execution_count": null,
   "metadata": {},
   "outputs": [
    {
     "name": "stdout",
     "output_type": "stream",
     "text": [
      "              precision    recall  f1-score   support\n",
      "\n",
      "      Benign    0.97625   0.99741   0.98671     20812\n",
      "     Malware    0.95649   0.70154   0.80941      1692\n",
      "\n",
      "    accuracy                        0.97516     22504\n",
      "   macro avg    0.96637   0.84947   0.89806     22504\n",
      "weighted avg    0.97476   0.97516   0.97338     22504\n",
      "\n"
     ]
    },
    {
     "data": {
      "image/png": "[encoded data removed]",
      "text/plain": [
       "<Figure size 1500x800 with 2 Axes>"
      ]
     },
     "metadata": {},
     "output_type": "display_data"
    }
   ],
   "source": [
    "show(gbc)"
   ]
  },
  {
   "cell_type": "code",
   "execution_count": null,
   "metadata": {},
   "outputs": [],
   "source": [
    "# Neural networks are a popular choice for classification tasks.\n",
    "# They work by learning the weights of the connections between neurons in the network.\n",
    "\n",
    "mlp = MLPClassifier()\n",
    "mlp_param = {\n",
    "    \"hidden_layer_sizes\": [(100, 100, 100), (100, 100, 100, 100), (100, 100, 100, 100, 100)],\n",
    "    \"activation\": [\"relu\"],\n",
    "    \"solver\": [\"adam\"],\n",
    "    \"alpha\": [0.0001, 0.001, 0.01, 0.1, 1],\n",
    "    \"learning_rate\": [\"constant\", \"invscaling\", \"adaptive\"],\n",
    "    \"early_stopping\": [True],\n",
    "}\n",
    "mlp_gcv = create_grid_search(mlp, mlp_param)"
   ]
  },
  {
   "cell_type": "code",
   "execution_count": null,
   "metadata": {},
   "outputs": [
    {
     "name": "stdout",
     "output_type": "stream",
     "text": [
      "Fitting 3 folds for each of 45 candidates, totalling 135 fits\n"
     ]
    },
    {
     "data": {
      "text/html": [
       "<style>#sk-container-id-8 {color: black;background-color: white;}#sk-container-id-8 pre{padding: 0;}#sk-container-id-8 div.sk-toggleable {background-color: white;}#sk-container-id-8 label.sk-toggleable__label {cursor: pointer;display: block;width: 100%;margin-bottom: 0;padding: 0.3em;box-sizing: border-box;text-align: center;}#sk-container-id-8 label.sk-toggleable__label-arrow:before {content: \"▸\";float: left;margin-right: 0.25em;color: #696969;}#sk-container-id-8 label.sk-toggleable__label-arrow:hover:before {color: black;}#sk-container-id-8 div.sk-estimator:hover label.sk-toggleable__label-arrow:before {color: black;}#sk-container-id-8 div.sk-toggleable__content {max-height: 0;max-width: 0;overflow: hidden;text-align: left;background-color: #f0f8ff;}#sk-container-id-8 div.sk-toggleable__content pre {margin: 0.2em;color: black;border-radius: 0.25em;background-color: #f0f8ff;}#sk-container-id-8 input.sk-toggleable__control:checked~div.sk-toggleable__content {max-height: 200px;max-width: 100%;overflow: auto;}#sk-container-id-8 input.sk-toggleable__control:checked~label.sk-toggleable__label-arrow:before {content: \"▾\";}#sk-container-id-8 div.sk-estimator input.sk-toggleable__control:checked~label.sk-toggleable__label {background-color: #d4ebff;}#sk-container-id-8 div.sk-label input.sk-toggleable__control:checked~label.sk-toggleable__label {background-color: #d4ebff;}#sk-container-id-8 input.sk-hidden--visually {border: 0;clip: rect(1px 1px 1px 1px);clip: rect(1px, 1px, 1px, 1px);height: 1px;margin: -1px;overflow: hidden;padding: 0;position: absolute;width: 1px;}#sk-container-id-8 div.sk-estimator {font-family: monospace;background-color: #f0f8ff;border: 1px dotted black;border-radius: 0.25em;box-sizing: border-box;margin-bottom: 0.5em;}#sk-container-id-8 div.sk-estimator:hover {background-color: #d4ebff;}#sk-container-id-8 div.sk-parallel-item::after {content: \"\";width: 100%;border-bottom: 1px solid gray;flex-grow: 1;}#sk-container-id-8 div.sk-label:hover label.sk-toggleable__label {background-color: #d4ebff;}#sk-container-id-8 div.sk-serial::before {content: \"\";position: absolute;border-left: 1px solid gray;box-sizing: border-box;top: 0;bottom: 0;left: 50%;z-index: 0;}#sk-container-id-8 div.sk-serial {display: flex;flex-direction: column;align-items: center;background-color: white;padding-right: 0.2em;padding-left: 0.2em;position: relative;}#sk-container-id-8 div.sk-item {position: relative;z-index: 1;}#sk-container-id-8 div.sk-parallel {display: flex;align-items: stretch;justify-content: center;background-color: white;position: relative;}#sk-container-id-8 div.sk-item::before, #sk-container-id-8 div.sk-parallel-item::before {content: \"\";position: absolute;border-left: 1px solid gray;box-sizing: border-box;top: 0;bottom: 0;left: 50%;z-index: -1;}#sk-container-id-8 div.sk-parallel-item {display: flex;flex-direction: column;z-index: 1;position: relative;background-color: white;}#sk-container-id-8 div.sk-parallel-item:first-child::after {align-self: flex-end;width: 50%;}#sk-container-id-8 div.sk-parallel-item:last-child::after {align-self: flex-start;width: 50%;}#sk-container-id-8 div.sk-parallel-item:only-child::after {width: 0;}#sk-container-id-8 div.sk-dashed-wrapped {border: 1px dashed gray;margin: 0 0.4em 0.5em 0.4em;box-sizing: border-box;padding-bottom: 0.4em;background-color: white;}#sk-container-id-8 div.sk-label label {font-family: monospace;font-weight: bold;display: inline-block;line-height: 1.2em;}#sk-container-id-8 div.sk-label-container {text-align: center;}#sk-container-id-8 div.sk-container {/* jupyter's `normalize.less` sets `[hidden] { display: none; }` but bootstrap.min.css set `[hidden] { display: none !important; }` so we also need the `!important` here to be able to override the default hidden behavior on the sphinx rendered scikit-learn.org. See: https://github.com/scikit-learn/scikit-learn/issues/21755 */display: inline-block !important;position: relative;}#sk-container-id-8 div.sk-text-repr-fallback {display: none;}</style><div id=\"sk-container-id-8\" class=\"sk-top-container\"><div class=\"sk-text-repr-fallback\"><pre>GridSearchCV(cv=3, estimator=MLPClassifier(), n_jobs=-1,\n",
       "             param_grid={&#x27;activation&#x27;: [&#x27;relu&#x27;],\n",
       "                         &#x27;alpha&#x27;: [0.0001, 0.001, 0.01, 0.1, 1],\n",
       "                         &#x27;early_stopping&#x27;: [True],\n",
       "                         &#x27;hidden_layer_sizes&#x27;: [(100, 100, 100),\n",
       "                                                (100, 100, 100, 100),\n",
       "                                                (100, 100, 100, 100, 100)],\n",
       "                         &#x27;learning_rate&#x27;: [&#x27;constant&#x27;, &#x27;invscaling&#x27;,\n",
       "                                           &#x27;adaptive&#x27;],\n",
       "                         &#x27;solver&#x27;: [&#x27;adam&#x27;]},\n",
       "             return_train_score=True, scoring=&#x27;accuracy&#x27;, verbose=3)</pre><b>In a Jupyter environment, please rerun this cell to show the HTML representation or trust the notebook. <br />On GitHub, the HTML representation is unable to render, please try loading this page with nbviewer.org.</b></div><div class=\"sk-container\" hidden><div class=\"sk-item sk-dashed-wrapped\"><div class=\"sk-label-container\"><div class=\"sk-label sk-toggleable\"><input class=\"sk-toggleable__control sk-hidden--visually\" id=\"sk-estimator-id-22\" type=\"checkbox\" ><label for=\"sk-estimator-id-22\" class=\"sk-toggleable__label sk-toggleable__label-arrow\">GridSearchCV</label><div class=\"sk-toggleable__content\"><pre>GridSearchCV(cv=3, estimator=MLPClassifier(), n_jobs=-1,\n",
       "             param_grid={&#x27;activation&#x27;: [&#x27;relu&#x27;],\n",
       "                         &#x27;alpha&#x27;: [0.0001, 0.001, 0.01, 0.1, 1],\n",
       "                         &#x27;early_stopping&#x27;: [True],\n",
       "                         &#x27;hidden_layer_sizes&#x27;: [(100, 100, 100),\n",
       "                                                (100, 100, 100, 100),\n",
       "                                                (100, 100, 100, 100, 100)],\n",
       "                         &#x27;learning_rate&#x27;: [&#x27;constant&#x27;, &#x27;invscaling&#x27;,\n",
       "                                           &#x27;adaptive&#x27;],\n",
       "                         &#x27;solver&#x27;: [&#x27;adam&#x27;]},\n",
       "             return_train_score=True, scoring=&#x27;accuracy&#x27;, verbose=3)</pre></div></div></div><div class=\"sk-parallel\"><div class=\"sk-parallel-item\"><div class=\"sk-item\"><div class=\"sk-label-container\"><div class=\"sk-label sk-toggleable\"><input class=\"sk-toggleable__control sk-hidden--visually\" id=\"sk-estimator-id-23\" type=\"checkbox\" ><label for=\"sk-estimator-id-23\" class=\"sk-toggleable__label sk-toggleable__label-arrow\">estimator: MLPClassifier</label><div class=\"sk-toggleable__content\"><pre>MLPClassifier()</pre></div></div></div><div class=\"sk-serial\"><div class=\"sk-item\"><div class=\"sk-estimator sk-toggleable\"><input class=\"sk-toggleable__control sk-hidden--visually\" id=\"sk-estimator-id-24\" type=\"checkbox\" ><label for=\"sk-estimator-id-24\" class=\"sk-toggleable__label sk-toggleable__label-arrow\">MLPClassifier</label><div class=\"sk-toggleable__content\"><pre>MLPClassifier()</pre></div></div></div></div></div></div></div></div></div></div>"
      ],
      "text/plain": [
       "GridSearchCV(cv=3, estimator=MLPClassifier(), n_jobs=-1,\n",
       "             param_grid={'activation': ['relu'],\n",
       "                         'alpha': [0.0001, 0.001, 0.01, 0.1, 1],\n",
       "                         'early_stopping': [True],\n",
       "                         'hidden_layer_sizes': [(100, 100, 100),\n",
       "                                                (100, 100, 100, 100),\n",
       "                                                (100, 100, 100, 100, 100)],\n",
       "                         'learning_rate': ['constant', 'invscaling',\n",
       "                                           'adaptive'],\n",
       "                         'solver': ['adam']},\n",
       "             return_train_score=True, scoring='accuracy', verbose=3)"
      ]
     },
     "execution_count": 64,
     "metadata": {},
     "output_type": "execute_result"
    }
   ],
   "source": [
    "mlp_gcv.fit(x_train_pca, y_train)"
   ]
  },
  {
   "cell_type": "code",
   "execution_count": null,
   "metadata": {},
   "outputs": [],
   "source": [
    "# plot_grid_search_results(mlp_gcv.cv_results_)"
   ]
  },
  {
   "cell_type": "code",
   "execution_count": null,
   "metadata": {},
   "outputs": [],
   "source": [
    "mlp = mlp_gcv.best_estimator_"
   ]
  },
  {
   "cell_type": "code",
   "execution_count": null,
   "metadata": {},
   "outputs": [],
   "source": [
    "# Save the model\n",
    "filename = \"Model/\"+str(dataset_number)+\"/mlp1\"+str(dataset_number)+\"_model.sav\"\n",
    "pickle.dump(mlp, open(filename, 'wb'))"
   ]
  },
  {
   "cell_type": "code",
   "execution_count": null,
   "metadata": {},
   "outputs": [
    {
     "name": "stdout",
     "output_type": "stream",
     "text": [
      "              precision    recall  f1-score   support\n",
      "\n",
      "      Benign    0.97475   0.99995   0.98719     20812\n",
      "     Malware    0.99913   0.68144   0.81026      1692\n",
      "\n",
      "    accuracy                        0.97600     22504\n",
      "   macro avg    0.98694   0.84070   0.89873     22504\n",
      "weighted avg    0.97659   0.97600   0.97389     22504\n",
      "\n"
     ]
    },
    {
     "data": {
      "image/png": "[encoded data removed]",
      "text/plain": [
       "<Figure size 1500x800 with 2 Axes>"
      ]
     },
     "metadata": {},
     "output_type": "display_data"
    }
   ],
   "source": [
    "show(mlp)"
   ]
  },
  {
   "cell_type": "code",
   "execution_count": null,
   "metadata": {},
   "outputs": [],
   "source": [
    "# Voting classifier is a meta-classifier that combines the predictions of multiple classifiers.\n",
    "# It is a simple way to improve the performance of a model by combining the predictions of multiple models.\n",
    "\n",
    "vc = VotingClassifier(estimators=[('lr', lr), ('knn', knn), ('dt', dt), ('abc', abc), ('gbc', gbc), ('mlp', mlp)], voting='soft')\n",
    "vc_param = {\n",
    "    \"weights\": [[1, 1, 1, 1, 1, 1], [2, 1, 1, 1, 1, 1], [1, 2, 1, 1, 1, 1], [1, 1, 2, 1, 1, 1], [1, 1, 1, 2, 1, 1], [1, 1, 1, 1, 2, 1], [1, 1, 1, 1, 1, 2]],\n",
    "}\n",
    "vc_gcv = create_grid_search(vc, vc_param)"
   ]
  },
  {
   "cell_type": "code",
   "execution_count": null,
   "metadata": {},
   "outputs": [
    {
     "name": "stdout",
     "output_type": "stream",
     "text": [
      "Fitting 3 folds for each of 7 candidates, totalling 21 fits\n"
     ]
    },
    {
     "data": {
      "text/html": [
       "<style>#sk-container-id-9 {color: black;background-color: white;}#sk-container-id-9 pre{padding: 0;}#sk-container-id-9 div.sk-toggleable {background-color: white;}#sk-container-id-9 label.sk-toggleable__label {cursor: pointer;display: block;width: 100%;margin-bottom: 0;padding: 0.3em;box-sizing: border-box;text-align: center;}#sk-container-id-9 label.sk-toggleable__label-arrow:before {content: \"▸\";float: left;margin-right: 0.25em;color: #696969;}#sk-container-id-9 label.sk-toggleable__label-arrow:hover:before {color: black;}#sk-container-id-9 div.sk-estimator:hover label.sk-toggleable__label-arrow:before {color: black;}#sk-container-id-9 div.sk-toggleable__content {max-height: 0;max-width: 0;overflow: hidden;text-align: left;background-color: #f0f8ff;}#sk-container-id-9 div.sk-toggleable__content pre {margin: 0.2em;color: black;border-radius: 0.25em;background-color: #f0f8ff;}#sk-container-id-9 input.sk-toggleable__control:checked~div.sk-toggleable__content {max-height: 200px;max-width: 100%;overflow: auto;}#sk-container-id-9 input.sk-toggleable__control:checked~label.sk-toggleable__label-arrow:before {content: \"▾\";}#sk-container-id-9 div.sk-estimator input.sk-toggleable__control:checked~label.sk-toggleable__label {background-color: #d4ebff;}#sk-container-id-9 div.sk-label input.sk-toggleable__control:checked~label.sk-toggleable__label {background-color: #d4ebff;}#sk-container-id-9 input.sk-hidden--visually {border: 0;clip: rect(1px 1px 1px 1px);clip: rect(1px, 1px, 1px, 1px);height: 1px;margin: -1px;overflow: hidden;padding: 0;position: absolute;width: 1px;}#sk-container-id-9 div.sk-estimator {font-family: monospace;background-color: #f0f8ff;border: 1px dotted black;border-radius: 0.25em;box-sizing: border-box;margin-bottom: 0.5em;}#sk-container-id-9 div.sk-estimator:hover {background-color: #d4ebff;}#sk-container-id-9 div.sk-parallel-item::after {content: \"\";width: 100%;border-bottom: 1px solid gray;flex-grow: 1;}#sk-container-id-9 div.sk-label:hover label.sk-toggleable__label {background-color: #d4ebff;}#sk-container-id-9 div.sk-serial::before {content: \"\";position: absolute;border-left: 1px solid gray;box-sizing: border-box;top: 0;bottom: 0;left: 50%;z-index: 0;}#sk-container-id-9 div.sk-serial {display: flex;flex-direction: column;align-items: center;background-color: white;padding-right: 0.2em;padding-left: 0.2em;position: relative;}#sk-container-id-9 div.sk-item {position: relative;z-index: 1;}#sk-container-id-9 div.sk-parallel {display: flex;align-items: stretch;justify-content: center;background-color: white;position: relative;}#sk-container-id-9 div.sk-item::before, #sk-container-id-9 div.sk-parallel-item::before {content: \"\";position: absolute;border-left: 1px solid gray;box-sizing: border-box;top: 0;bottom: 0;left: 50%;z-index: -1;}#sk-container-id-9 div.sk-parallel-item {display: flex;flex-direction: column;z-index: 1;position: relative;background-color: white;}#sk-container-id-9 div.sk-parallel-item:first-child::after {align-self: flex-end;width: 50%;}#sk-container-id-9 div.sk-parallel-item:last-child::after {align-self: flex-start;width: 50%;}#sk-container-id-9 div.sk-parallel-item:only-child::after {width: 0;}#sk-container-id-9 div.sk-dashed-wrapped {border: 1px dashed gray;margin: 0 0.4em 0.5em 0.4em;box-sizing: border-box;padding-bottom: 0.4em;background-color: white;}#sk-container-id-9 div.sk-label label {font-family: monospace;font-weight: bold;display: inline-block;line-height: 1.2em;}#sk-container-id-9 div.sk-label-container {text-align: center;}#sk-container-id-9 div.sk-container {/* jupyter's `normalize.less` sets `[hidden] { display: none; }` but bootstrap.min.css set `[hidden] { display: none !important; }` so we also need the `!important` here to be able to override the default hidden behavior on the sphinx rendered scikit-learn.org. See: https://github.com/scikit-learn/scikit-learn/issues/21755 */display: inline-block !important;position: relative;}#sk-container-id-9 div.sk-text-repr-fallback {display: none;}</style><div id=\"sk-container-id-9\" class=\"sk-top-container\"><div class=\"sk-text-repr-fallback\"><pre>GridSearchCV(cv=3,\n",
       "             estimator=VotingClassifier(estimators=[(&#x27;lr&#x27;,\n",
       "                                                     LogisticRegression(C=1)),\n",
       "                                                    (&#x27;knn&#x27;,\n",
       "                                                     KNeighborsClassifier(n_neighbors=9,\n",
       "                                                                          weights=&#x27;distance&#x27;)),\n",
       "                                                    (&#x27;dt&#x27;,\n",
       "                                                     DecisionTreeClassifier(max_depth=15,\n",
       "                                                                            min_samples_split=7)),\n",
       "                                                    (&#x27;abc&#x27;,\n",
       "                                                     AdaBoostClassifier(learning_rate=1,\n",
       "                                                                        n_estimators=450)),\n",
       "                                                    (&#x27;gbc&#x27;,\n",
       "                                                     GradientBoostingClassifier(n_estimators=200)),\n",
       "                                                    (&#x27;mlp&#x27;,\n",
       "                                                     MLPClassifier(alpha=0.01,\n",
       "                                                                   early_stopping=True,\n",
       "                                                                   hidden_layer_sizes=(100,\n",
       "                                                                                       100,\n",
       "                                                                                       100,\n",
       "                                                                                       100,\n",
       "                                                                                       100),\n",
       "                                                                   learning_rate=&#x27;adaptive&#x27;))],\n",
       "                                        voting=&#x27;soft&#x27;),\n",
       "             n_jobs=-1,\n",
       "             param_grid={&#x27;weights&#x27;: [[1, 1, 1, 1, 1, 1], [2, 1, 1, 1, 1, 1],\n",
       "                                     [1, 2, 1, 1, 1, 1], [1, 1, 2, 1, 1, 1],\n",
       "                                     [1, 1, 1, 2, 1, 1], [1, 1, 1, 1, 2, 1],\n",
       "                                     [1, 1, 1, 1, 1, 2]]},\n",
       "             return_train_score=True, scoring=&#x27;accuracy&#x27;, verbose=3)</pre><b>In a Jupyter environment, please rerun this cell to show the HTML representation or trust the notebook. <br />On GitHub, the HTML representation is unable to render, please try loading this page with nbviewer.org.</b></div><div class=\"sk-container\" hidden><div class=\"sk-item sk-dashed-wrapped\"><div class=\"sk-label-container\"><div class=\"sk-label sk-toggleable\"><input class=\"sk-toggleable__control sk-hidden--visually\" id=\"sk-estimator-id-25\" type=\"checkbox\" ><label for=\"sk-estimator-id-25\" class=\"sk-toggleable__label sk-toggleable__label-arrow\">GridSearchCV</label><div class=\"sk-toggleable__content\"><pre>GridSearchCV(cv=3,\n",
       "             estimator=VotingClassifier(estimators=[(&#x27;lr&#x27;,\n",
       "                                                     LogisticRegression(C=1)),\n",
       "                                                    (&#x27;knn&#x27;,\n",
       "                                                     KNeighborsClassifier(n_neighbors=9,\n",
       "                                                                          weights=&#x27;distance&#x27;)),\n",
       "                                                    (&#x27;dt&#x27;,\n",
       "                                                     DecisionTreeClassifier(max_depth=15,\n",
       "                                                                            min_samples_split=7)),\n",
       "                                                    (&#x27;abc&#x27;,\n",
       "                                                     AdaBoostClassifier(learning_rate=1,\n",
       "                                                                        n_estimators=450)),\n",
       "                                                    (&#x27;gbc&#x27;,\n",
       "                                                     GradientBoostingClassifier(n_estimators=200)),\n",
       "                                                    (&#x27;mlp&#x27;,\n",
       "                                                     MLPClassifier(alpha=0.01,\n",
       "                                                                   early_stopping=True,\n",
       "                                                                   hidden_layer_sizes=(100,\n",
       "                                                                                       100,\n",
       "                                                                                       100,\n",
       "                                                                                       100,\n",
       "                                                                                       100),\n",
       "                                                                   learning_rate=&#x27;adaptive&#x27;))],\n",
       "                                        voting=&#x27;soft&#x27;),\n",
       "             n_jobs=-1,\n",
       "             param_grid={&#x27;weights&#x27;: [[1, 1, 1, 1, 1, 1], [2, 1, 1, 1, 1, 1],\n",
       "                                     [1, 2, 1, 1, 1, 1], [1, 1, 2, 1, 1, 1],\n",
       "                                     [1, 1, 1, 2, 1, 1], [1, 1, 1, 1, 2, 1],\n",
       "                                     [1, 1, 1, 1, 1, 2]]},\n",
       "             return_train_score=True, scoring=&#x27;accuracy&#x27;, verbose=3)</pre></div></div></div><div class=\"sk-parallel\"><div class=\"sk-parallel-item\"><div class=\"sk-item\"><div class=\"sk-label-container\"><div class=\"sk-label sk-toggleable\"><input class=\"sk-toggleable__control sk-hidden--visually\" id=\"sk-estimator-id-26\" type=\"checkbox\" ><label for=\"sk-estimator-id-26\" class=\"sk-toggleable__label sk-toggleable__label-arrow\">estimator: VotingClassifier</label><div class=\"sk-toggleable__content\"><pre>VotingClassifier(estimators=[(&#x27;lr&#x27;, LogisticRegression(C=1)),\n",
       "                             (&#x27;knn&#x27;,\n",
       "                              KNeighborsClassifier(n_neighbors=9,\n",
       "                                                   weights=&#x27;distance&#x27;)),\n",
       "                             (&#x27;dt&#x27;,\n",
       "                              DecisionTreeClassifier(max_depth=15,\n",
       "                                                     min_samples_split=7)),\n",
       "                             (&#x27;abc&#x27;,\n",
       "                              AdaBoostClassifier(learning_rate=1,\n",
       "                                                 n_estimators=450)),\n",
       "                             (&#x27;gbc&#x27;,\n",
       "                              GradientBoostingClassifier(n_estimators=200)),\n",
       "                             (&#x27;mlp&#x27;,\n",
       "                              MLPClassifier(alpha=0.01, early_stopping=True,\n",
       "                                            hidden_layer_sizes=(100, 100, 100,\n",
       "                                                                100, 100),\n",
       "                                            learning_rate=&#x27;adaptive&#x27;))],\n",
       "                 voting=&#x27;soft&#x27;)</pre></div></div></div><div class=\"sk-serial\"><div class=\"sk-item sk-dashed-wrapped\"><div class=\"sk-parallel\"><div class=\"sk-parallel-item\"><div class=\"sk-item\"><div class=\"sk-label-container\"><div class=\"sk-label sk-toggleable\"><label>lr</label></div></div><div class=\"sk-serial\"><div class=\"sk-item\"><div class=\"sk-estimator sk-toggleable\"><input class=\"sk-toggleable__control sk-hidden--visually\" id=\"sk-estimator-id-27\" type=\"checkbox\" ><label for=\"sk-estimator-id-27\" class=\"sk-toggleable__label sk-toggleable__label-arrow\">LogisticRegression</label><div class=\"sk-toggleable__content\"><pre>LogisticRegression(C=1)</pre></div></div></div></div></div></div><div class=\"sk-parallel-item\"><div class=\"sk-item\"><div class=\"sk-label-container\"><div class=\"sk-label sk-toggleable\"><label>knn</label></div></div><div class=\"sk-serial\"><div class=\"sk-item\"><div class=\"sk-estimator sk-toggleable\"><input class=\"sk-toggleable__control sk-hidden--visually\" id=\"sk-estimator-id-28\" type=\"checkbox\" ><label for=\"sk-estimator-id-28\" class=\"sk-toggleable__label sk-toggleable__label-arrow\">KNeighborsClassifier</label><div class=\"sk-toggleable__content\"><pre>KNeighborsClassifier(n_neighbors=9, weights=&#x27;distance&#x27;)</pre></div></div></div></div></div></div><div class=\"sk-parallel-item\"><div class=\"sk-item\"><div class=\"sk-label-container\"><div class=\"sk-label sk-toggleable\"><label>dt</label></div></div><div class=\"sk-serial\"><div class=\"sk-item\"><div class=\"sk-estimator sk-toggleable\"><input class=\"sk-toggleable__control sk-hidden--visually\" id=\"sk-estimator-id-29\" type=\"checkbox\" ><label for=\"sk-estimator-id-29\" class=\"sk-toggleable__label sk-toggleable__label-arrow\">DecisionTreeClassifier</label><div class=\"sk-toggleable__content\"><pre>DecisionTreeClassifier(max_depth=15, min_samples_split=7)</pre></div></div></div></div></div></div><div class=\"sk-parallel-item\"><div class=\"sk-item\"><div class=\"sk-label-container\"><div class=\"sk-label sk-toggleable\"><label>abc</label></div></div><div class=\"sk-serial\"><div class=\"sk-item\"><div class=\"sk-estimator sk-toggleable\"><input class=\"sk-toggleable__control sk-hidden--visually\" id=\"sk-estimator-id-30\" type=\"checkbox\" ><label for=\"sk-estimator-id-30\" class=\"sk-toggleable__label sk-toggleable__label-arrow\">AdaBoostClassifier</label><div class=\"sk-toggleable__content\"><pre>AdaBoostClassifier(learning_rate=1, n_estimators=450)</pre></div></div></div></div></div></div><div class=\"sk-parallel-item\"><div class=\"sk-item\"><div class=\"sk-label-container\"><div class=\"sk-label sk-toggleable\"><label>gbc</label></div></div><div class=\"sk-serial\"><div class=\"sk-item\"><div class=\"sk-estimator sk-toggleable\"><input class=\"sk-toggleable__control sk-hidden--visually\" id=\"sk-estimator-id-31\" type=\"checkbox\" ><label for=\"sk-estimator-id-31\" class=\"sk-toggleable__label sk-toggleable__label-arrow\">GradientBoostingClassifier</label><div class=\"sk-toggleable__content\"><pre>GradientBoostingClassifier(n_estimators=200)</pre></div></div></div></div></div></div><div class=\"sk-parallel-item\"><div class=\"sk-item\"><div class=\"sk-label-container\"><div class=\"sk-label sk-toggleable\"><label>mlp</label></div></div><div class=\"sk-serial\"><div class=\"sk-item\"><div class=\"sk-estimator sk-toggleable\"><input class=\"sk-toggleable__control sk-hidden--visually\" id=\"sk-estimator-id-32\" type=\"checkbox\" ><label for=\"sk-estimator-id-32\" class=\"sk-toggleable__label sk-toggleable__label-arrow\">MLPClassifier</label><div class=\"sk-toggleable__content\"><pre>MLPClassifier(alpha=0.01, early_stopping=True,\n",
       "              hidden_layer_sizes=(100, 100, 100, 100, 100),\n",
       "              learning_rate=&#x27;adaptive&#x27;)</pre></div></div></div></div></div></div></div></div></div></div></div></div></div></div></div>"
      ],
      "text/plain": [
       "GridSearchCV(cv=3,\n",
       "             estimator=VotingClassifier(estimators=[('lr',\n",
       "                                                     LogisticRegression(C=1)),\n",
       "                                                    ('knn',\n",
       "                                                     KNeighborsClassifier(n_neighbors=9,\n",
       "                                                                          weights='distance')),\n",
       "                                                    ('dt',\n",
       "                                                     DecisionTreeClassifier(max_depth=15,\n",
       "                                                                            min_samples_split=7)),\n",
       "                                                    ('abc',\n",
       "                                                     AdaBoostClassifier(learning_rate=1,\n",
       "                                                                        n_estimators=450)),\n",
       "                                                    ('gbc',\n",
       "                                                     GradientBoostingClassifier(n_estimators=200)),\n",
       "                                                    ('mlp',\n",
       "                                                     MLPClassifier(alpha=0.01,\n",
       "                                                                   early_stopping=True,\n",
       "                                                                   hidden_layer_sizes=(100,\n",
       "                                                                                       100,\n",
       "                                                                                       100,\n",
       "                                                                                       100,\n",
       "                                                                                       100),\n",
       "                                                                   learning_rate='adaptive'))],\n",
       "                                        voting='soft'),\n",
       "             n_jobs=-1,\n",
       "             param_grid={'weights': [[1, 1, 1, 1, 1, 1], [2, 1, 1, 1, 1, 1],\n",
       "                                     [1, 2, 1, 1, 1, 1], [1, 1, 2, 1, 1, 1],\n",
       "                                     [1, 1, 1, 2, 1, 1], [1, 1, 1, 1, 2, 1],\n",
       "                                     [1, 1, 1, 1, 1, 2]]},\n",
       "             return_train_score=True, scoring='accuracy', verbose=3)"
      ]
     },
     "execution_count": 70,
     "metadata": {},
     "output_type": "execute_result"
    }
   ],
   "source": [
    "vc_gcv.fit(x_train_pca, y_train)"
   ]
  },
  {
   "cell_type": "code",
   "execution_count": null,
   "metadata": {},
   "outputs": [],
   "source": [
    "# plot_grid_search_results(vc_gcv.cv_results_)"
   ]
  },
  {
   "cell_type": "code",
   "execution_count": null,
   "metadata": {},
   "outputs": [],
   "source": [
    "vc = vc_gcv.best_estimator_"
   ]
  },
  {
   "cell_type": "code",
   "execution_count": null,
   "metadata": {},
   "outputs": [],
   "source": [
    "# Save the model\n",
    "filename = \"Model/\"+str(dataset_number)+\"/vc1\"+str(dataset_number)+\"_model.sav\"\n",
    "pickle.dump(vc, open(filename, 'wb'))"
   ]
  },
  {
   "cell_type": "code",
   "execution_count": null,
   "metadata": {},
   "outputs": [
    {
     "name": "stdout",
     "output_type": "stream",
     "text": [
      "              precision    recall  f1-score   support\n",
      "\n",
      "      Benign    0.97621   0.99774   0.98686     20812\n",
      "     Malware    0.96188   0.70095   0.81094      1692\n",
      "\n",
      "    accuracy                        0.97543     22504\n",
      "   macro avg    0.96905   0.84934   0.89890     22504\n",
      "weighted avg    0.97513   0.97543   0.97363     22504\n",
      "\n"
     ]
    },
    {
     "data": {
      "image/png": "[encoded data removed]",
      "text/plain": [
       "<Figure size 1500x800 with 2 Axes>"
      ]
     },
     "metadata": {},
     "output_type": "display_data"
    }
   ],
   "source": [
    "show(vc)"
   ]
  },
  {
   "cell_type": "code",
   "execution_count": null,
   "metadata": {},
   "outputs": [],
   "source": [
    "# Stacking classifier is a meta-classifier that combines the predictions of multiple classifiers.\n",
    "# It is a simple way to improve the performance of a model by combining the predictions of multiple models.\n",
    "\n",
    "sc = StackingClassifier(estimators=[('lr', lr), ('knn', knn), ('dt', dt), ('abc', abc), ('gbc', gbc), ('mlp', mlp)], final_estimator=DecisionTreeClassifier())\n",
    "sc_param = {\n",
    "    \"final_estimator__criterion\": [\"gini\", \"entropy\"],\n",
    "    \"final_estimator__max_depth\": [3, 5, 7, 9, 11, 13, 15],\n",
    "    \"final_estimator__min_samples_split\": [2, 3, 4, 5, 6, 7, 8, 9, 10],\n",
    "}\n",
    "sc_gcv = create_grid_search(sc, sc_param)"
   ]
  },
  {
   "cell_type": "code",
   "execution_count": null,
   "metadata": {},
   "outputs": [
    {
     "name": "stdout",
     "output_type": "stream",
     "text": [
      "Fitting 3 folds for each of 126 candidates, totalling 378 fits\n"
     ]
    },
    {
     "data": {
      "text/html": [
       "<style>#sk-container-id-10 {color: black;background-color: white;}#sk-container-id-10 pre{padding: 0;}#sk-container-id-10 div.sk-toggleable {background-color: white;}#sk-container-id-10 label.sk-toggleable__label {cursor: pointer;display: block;width: 100%;margin-bottom: 0;padding: 0.3em;box-sizing: border-box;text-align: center;}#sk-container-id-10 label.sk-toggleable__label-arrow:before {content: \"▸\";float: left;margin-right: 0.25em;color: #696969;}#sk-container-id-10 label.sk-toggleable__label-arrow:hover:before {color: black;}#sk-container-id-10 div.sk-estimator:hover label.sk-toggleable__label-arrow:before {color: black;}#sk-container-id-10 div.sk-toggleable__content {max-height: 0;max-width: 0;overflow: hidden;text-align: left;background-color: #f0f8ff;}#sk-container-id-10 div.sk-toggleable__content pre {margin: 0.2em;color: black;border-radius: 0.25em;background-color: #f0f8ff;}#sk-container-id-10 input.sk-toggleable__control:checked~div.sk-toggleable__content {max-height: 200px;max-width: 100%;overflow: auto;}#sk-container-id-10 input.sk-toggleable__control:checked~label.sk-toggleable__label-arrow:before {content: \"▾\";}#sk-container-id-10 div.sk-estimator input.sk-toggleable__control:checked~label.sk-toggleable__label {background-color: #d4ebff;}#sk-container-id-10 div.sk-label input.sk-toggleable__control:checked~label.sk-toggleable__label {background-color: #d4ebff;}#sk-container-id-10 input.sk-hidden--visually {border: 0;clip: rect(1px 1px 1px 1px);clip: rect(1px, 1px, 1px, 1px);height: 1px;margin: -1px;overflow: hidden;padding: 0;position: absolute;width: 1px;}#sk-container-id-10 div.sk-estimator {font-family: monospace;background-color: #f0f8ff;border: 1px dotted black;border-radius: 0.25em;box-sizing: border-box;margin-bottom: 0.5em;}#sk-container-id-10 div.sk-estimator:hover {background-color: #d4ebff;}#sk-container-id-10 div.sk-parallel-item::after {content: \"\";width: 100%;border-bottom: 1px solid gray;flex-grow: 1;}#sk-container-id-10 div.sk-label:hover label.sk-toggleable__label {background-color: #d4ebff;}#sk-container-id-10 div.sk-serial::before {content: \"\";position: absolute;border-left: 1px solid gray;box-sizing: border-box;top: 0;bottom: 0;left: 50%;z-index: 0;}#sk-container-id-10 div.sk-serial {display: flex;flex-direction: column;align-items: center;background-color: white;padding-right: 0.2em;padding-left: 0.2em;position: relative;}#sk-container-id-10 div.sk-item {position: relative;z-index: 1;}#sk-container-id-10 div.sk-parallel {display: flex;align-items: stretch;justify-content: center;background-color: white;position: relative;}#sk-container-id-10 div.sk-item::before, #sk-container-id-10 div.sk-parallel-item::before {content: \"\";position: absolute;border-left: 1px solid gray;box-sizing: border-box;top: 0;bottom: 0;left: 50%;z-index: -1;}#sk-container-id-10 div.sk-parallel-item {display: flex;flex-direction: column;z-index: 1;position: relative;background-color: white;}#sk-container-id-10 div.sk-parallel-item:first-child::after {align-self: flex-end;width: 50%;}#sk-container-id-10 div.sk-parallel-item:last-child::after {align-self: flex-start;width: 50%;}#sk-container-id-10 div.sk-parallel-item:only-child::after {width: 0;}#sk-container-id-10 div.sk-dashed-wrapped {border: 1px dashed gray;margin: 0 0.4em 0.5em 0.4em;box-sizing: border-box;padding-bottom: 0.4em;background-color: white;}#sk-container-id-10 div.sk-label label {font-family: monospace;font-weight: bold;display: inline-block;line-height: 1.2em;}#sk-container-id-10 div.sk-label-container {text-align: center;}#sk-container-id-10 div.sk-container {/* jupyter's `normalize.less` sets `[hidden] { display: none; }` but bootstrap.min.css set `[hidden] { display: none !important; }` so we also need the `!important` here to be able to override the default hidden behavior on the sphinx rendered scikit-learn.org. See: https://github.com/scikit-learn/scikit-learn/issues/21755 */display: inline-block !important;position: relative;}#sk-container-id-10 div.sk-text-repr-fallback {display: none;}</style><div id=\"sk-container-id-10\" class=\"sk-top-container\"><div class=\"sk-text-repr-fallback\"><pre>GridSearchCV(cv=3,\n",
       "             estimator=StackingClassifier(estimators=[(&#x27;lr&#x27;,\n",
       "                                                       LogisticRegression(C=1)),\n",
       "                                                      (&#x27;knn&#x27;,\n",
       "                                                       KNeighborsClassifier(n_neighbors=9,\n",
       "                                                                            weights=&#x27;distance&#x27;)),\n",
       "                                                      (&#x27;dt&#x27;,\n",
       "                                                       DecisionTreeClassifier(max_depth=15,\n",
       "                                                                              min_samples_split=7)),\n",
       "                                                      (&#x27;abc&#x27;,\n",
       "                                                       AdaBoostClassifier(learning_rate=1,\n",
       "                                                                          n_estimators=450)),\n",
       "                                                      (&#x27;gbc&#x27;,\n",
       "                                                       GradientBoostingClassifier(n_estimators=200)),\n",
       "                                                      (&#x27;mlp&#x27;,\n",
       "                                                       MLPClassifie...\n",
       "                                                                     early_stopping=True,\n",
       "                                                                     hidden_layer_sizes=(100,\n",
       "                                                                                         100,\n",
       "                                                                                         100,\n",
       "                                                                                         100,\n",
       "                                                                                         100),\n",
       "                                                                     learning_rate=&#x27;adaptive&#x27;))],\n",
       "                                          final_estimator=DecisionTreeClassifier()),\n",
       "             n_jobs=-1,\n",
       "             param_grid={&#x27;final_estimator__criterion&#x27;: [&#x27;gini&#x27;, &#x27;entropy&#x27;],\n",
       "                         &#x27;final_estimator__max_depth&#x27;: [3, 5, 7, 9, 11, 13, 15],\n",
       "                         &#x27;final_estimator__min_samples_split&#x27;: [2, 3, 4, 5, 6,\n",
       "                                                                7, 8, 9, 10]},\n",
       "             return_train_score=True, scoring=&#x27;accuracy&#x27;, verbose=3)</pre><b>In a Jupyter environment, please rerun this cell to show the HTML representation or trust the notebook. <br />On GitHub, the HTML representation is unable to render, please try loading this page with nbviewer.org.</b></div><div class=\"sk-container\" hidden><div class=\"sk-item sk-dashed-wrapped\"><div class=\"sk-label-container\"><div class=\"sk-label sk-toggleable\"><input class=\"sk-toggleable__control sk-hidden--visually\" id=\"sk-estimator-id-33\" type=\"checkbox\" ><label for=\"sk-estimator-id-33\" class=\"sk-toggleable__label sk-toggleable__label-arrow\">GridSearchCV</label><div class=\"sk-toggleable__content\"><pre>GridSearchCV(cv=3,\n",
       "             estimator=StackingClassifier(estimators=[(&#x27;lr&#x27;,\n",
       "                                                       LogisticRegression(C=1)),\n",
       "                                                      (&#x27;knn&#x27;,\n",
       "                                                       KNeighborsClassifier(n_neighbors=9,\n",
       "                                                                            weights=&#x27;distance&#x27;)),\n",
       "                                                      (&#x27;dt&#x27;,\n",
       "                                                       DecisionTreeClassifier(max_depth=15,\n",
       "                                                                              min_samples_split=7)),\n",
       "                                                      (&#x27;abc&#x27;,\n",
       "                                                       AdaBoostClassifier(learning_rate=1,\n",
       "                                                                          n_estimators=450)),\n",
       "                                                      (&#x27;gbc&#x27;,\n",
       "                                                       GradientBoostingClassifier(n_estimators=200)),\n",
       "                                                      (&#x27;mlp&#x27;,\n",
       "                                                       MLPClassifie...\n",
       "                                                                     early_stopping=True,\n",
       "                                                                     hidden_layer_sizes=(100,\n",
       "                                                                                         100,\n",
       "                                                                                         100,\n",
       "                                                                                         100,\n",
       "                                                                                         100),\n",
       "                                                                     learning_rate=&#x27;adaptive&#x27;))],\n",
       "                                          final_estimator=DecisionTreeClassifier()),\n",
       "             n_jobs=-1,\n",
       "             param_grid={&#x27;final_estimator__criterion&#x27;: [&#x27;gini&#x27;, &#x27;entropy&#x27;],\n",
       "                         &#x27;final_estimator__max_depth&#x27;: [3, 5, 7, 9, 11, 13, 15],\n",
       "                         &#x27;final_estimator__min_samples_split&#x27;: [2, 3, 4, 5, 6,\n",
       "                                                                7, 8, 9, 10]},\n",
       "             return_train_score=True, scoring=&#x27;accuracy&#x27;, verbose=3)</pre></div></div></div><div class=\"sk-parallel\"><div class=\"sk-parallel-item\"><div class=\"sk-item\"><div class=\"sk-label-container\"><div class=\"sk-label sk-toggleable\"><input class=\"sk-toggleable__control sk-hidden--visually\" id=\"sk-estimator-id-34\" type=\"checkbox\" ><label for=\"sk-estimator-id-34\" class=\"sk-toggleable__label sk-toggleable__label-arrow\">estimator: StackingClassifier</label><div class=\"sk-toggleable__content\"><pre>StackingClassifier(estimators=[(&#x27;lr&#x27;, LogisticRegression(C=1)),\n",
       "                               (&#x27;knn&#x27;,\n",
       "                                KNeighborsClassifier(n_neighbors=9,\n",
       "                                                     weights=&#x27;distance&#x27;)),\n",
       "                               (&#x27;dt&#x27;,\n",
       "                                DecisionTreeClassifier(max_depth=15,\n",
       "                                                       min_samples_split=7)),\n",
       "                               (&#x27;abc&#x27;,\n",
       "                                AdaBoostClassifier(learning_rate=1,\n",
       "                                                   n_estimators=450)),\n",
       "                               (&#x27;gbc&#x27;,\n",
       "                                GradientBoostingClassifier(n_estimators=200)),\n",
       "                               (&#x27;mlp&#x27;,\n",
       "                                MLPClassifier(alpha=0.01, early_stopping=True,\n",
       "                                              hidden_layer_sizes=(100, 100, 100,\n",
       "                                                                  100, 100),\n",
       "                                              learning_rate=&#x27;adaptive&#x27;))],\n",
       "                   final_estimator=DecisionTreeClassifier())</pre></div></div></div><div class=\"sk-serial\"><div class=\"sk-item\"><div class=\"sk-serial\"><div class=\"sk-item\"><div class=\"sk-parallel\"><div class=\"sk-parallel-item\"><div class=\"sk-item\"><div class=\"sk-label-container\"><div class=\"sk-label sk-toggleable\"><label>lr</label></div></div><div class=\"sk-serial\"><div class=\"sk-item\"><div class=\"sk-estimator sk-toggleable\"><input class=\"sk-toggleable__control sk-hidden--visually\" id=\"sk-estimator-id-35\" type=\"checkbox\" ><label for=\"sk-estimator-id-35\" class=\"sk-toggleable__label sk-toggleable__label-arrow\">LogisticRegression</label><div class=\"sk-toggleable__content\"><pre>LogisticRegression(C=1)</pre></div></div></div></div></div></div><div class=\"sk-parallel-item\"><div class=\"sk-item\"><div class=\"sk-label-container\"><div class=\"sk-label sk-toggleable\"><label>knn</label></div></div><div class=\"sk-serial\"><div class=\"sk-item\"><div class=\"sk-estimator sk-toggleable\"><input class=\"sk-toggleable__control sk-hidden--visually\" id=\"sk-estimator-id-36\" type=\"checkbox\" ><label for=\"sk-estimator-id-36\" class=\"sk-toggleable__label sk-toggleable__label-arrow\">KNeighborsClassifier</label><div class=\"sk-toggleable__content\"><pre>KNeighborsClassifier(n_neighbors=9, weights=&#x27;distance&#x27;)</pre></div></div></div></div></div></div><div class=\"sk-parallel-item\"><div class=\"sk-item\"><div class=\"sk-label-container\"><div class=\"sk-label sk-toggleable\"><label>dt</label></div></div><div class=\"sk-serial\"><div class=\"sk-item\"><div class=\"sk-estimator sk-toggleable\"><input class=\"sk-toggleable__control sk-hidden--visually\" id=\"sk-estimator-id-37\" type=\"checkbox\" ><label for=\"sk-estimator-id-37\" class=\"sk-toggleable__label sk-toggleable__label-arrow\">DecisionTreeClassifier</label><div class=\"sk-toggleable__content\"><pre>DecisionTreeClassifier(max_depth=15, min_samples_split=7)</pre></div></div></div></div></div></div><div class=\"sk-parallel-item\"><div class=\"sk-item\"><div class=\"sk-label-container\"><div class=\"sk-label sk-toggleable\"><label>abc</label></div></div><div class=\"sk-serial\"><div class=\"sk-item\"><div class=\"sk-estimator sk-toggleable\"><input class=\"sk-toggleable__control sk-hidden--visually\" id=\"sk-estimator-id-38\" type=\"checkbox\" ><label for=\"sk-estimator-id-38\" class=\"sk-toggleable__label sk-toggleable__label-arrow\">AdaBoostClassifier</label><div class=\"sk-toggleable__content\"><pre>AdaBoostClassifier(learning_rate=1, n_estimators=450)</pre></div></div></div></div></div></div><div class=\"sk-parallel-item\"><div class=\"sk-item\"><div class=\"sk-label-container\"><div class=\"sk-label sk-toggleable\"><label>gbc</label></div></div><div class=\"sk-serial\"><div class=\"sk-item\"><div class=\"sk-estimator sk-toggleable\"><input class=\"sk-toggleable__control sk-hidden--visually\" id=\"sk-estimator-id-39\" type=\"checkbox\" ><label for=\"sk-estimator-id-39\" class=\"sk-toggleable__label sk-toggleable__label-arrow\">GradientBoostingClassifier</label><div class=\"sk-toggleable__content\"><pre>GradientBoostingClassifier(n_estimators=200)</pre></div></div></div></div></div></div><div class=\"sk-parallel-item\"><div class=\"sk-item\"><div class=\"sk-label-container\"><div class=\"sk-label sk-toggleable\"><label>mlp</label></div></div><div class=\"sk-serial\"><div class=\"sk-item\"><div class=\"sk-estimator sk-toggleable\"><input class=\"sk-toggleable__control sk-hidden--visually\" id=\"sk-estimator-id-40\" type=\"checkbox\" ><label for=\"sk-estimator-id-40\" class=\"sk-toggleable__label sk-toggleable__label-arrow\">MLPClassifier</label><div class=\"sk-toggleable__content\"><pre>MLPClassifier(alpha=0.01, early_stopping=True,\n",
       "              hidden_layer_sizes=(100, 100, 100, 100, 100),\n",
       "              learning_rate=&#x27;adaptive&#x27;)</pre></div></div></div></div></div></div></div></div><div class=\"sk-item\"><div class=\"sk-parallel\"><div class=\"sk-parallel-item\"><div class=\"sk-item\"><div class=\"sk-label-container\"><div class=\"sk-label sk-toggleable\"><label>final_estimator</label></div></div><div class=\"sk-serial\"><div class=\"sk-item\"><div class=\"sk-estimator sk-toggleable\"><input class=\"sk-toggleable__control sk-hidden--visually\" id=\"sk-estimator-id-41\" type=\"checkbox\" ><label for=\"sk-estimator-id-41\" class=\"sk-toggleable__label sk-toggleable__label-arrow\">DecisionTreeClassifier</label><div class=\"sk-toggleable__content\"><pre>DecisionTreeClassifier()</pre></div></div></div></div></div></div></div></div></div></div></div></div></div></div></div></div></div>"
      ],
      "text/plain": [
       "GridSearchCV(cv=3,\n",
       "             estimator=StackingClassifier(estimators=[('lr',\n",
       "                                                       LogisticRegression(C=1)),\n",
       "                                                      ('knn',\n",
       "                                                       KNeighborsClassifier(n_neighbors=9,\n",
       "                                                                            weights='distance')),\n",
       "                                                      ('dt',\n",
       "                                                       DecisionTreeClassifier(max_depth=15,\n",
       "                                                                              min_samples_split=7)),\n",
       "                                                      ('abc',\n",
       "                                                       AdaBoostClassifier(learning_rate=1,\n",
       "                                                                          n_estimators=450)),\n",
       "                                                      ('gbc',\n",
       "                                                       GradientBoostingClassifier(n_estimators=200)),\n",
       "                                                      ('mlp',\n",
       "                                                       MLPClassifie...\n",
       "                                                                     early_stopping=True,\n",
       "                                                                     hidden_layer_sizes=(100,\n",
       "                                                                                         100,\n",
       "                                                                                         100,\n",
       "                                                                                         100,\n",
       "                                                                                         100),\n",
       "                                                                     learning_rate='adaptive'))],\n",
       "                                          final_estimator=DecisionTreeClassifier()),\n",
       "             n_jobs=-1,\n",
       "             param_grid={'final_estimator__criterion': ['gini', 'entropy'],\n",
       "                         'final_estimator__max_depth': [3, 5, 7, 9, 11, 13, 15],\n",
       "                         'final_estimator__min_samples_split': [2, 3, 4, 5, 6,\n",
       "                                                                7, 8, 9, 10]},\n",
       "             return_train_score=True, scoring='accuracy', verbose=3)"
      ]
     },
     "execution_count": 76,
     "metadata": {},
     "output_type": "execute_result"
    }
   ],
   "source": [
    "sc_gcv.fit(x_train_pca, y_train)"
   ]
  },
  {
   "cell_type": "code",
   "execution_count": null,
   "metadata": {},
   "outputs": [],
   "source": [
    "# plot_grid_search_results(sc_gcv.cv_results_)"
   ]
  },
  {
   "cell_type": "code",
   "execution_count": null,
   "metadata": {},
   "outputs": [],
   "source": [
    "sc = sc_gcv.best_estimator_"
   ]
  },
  {
   "cell_type": "code",
   "execution_count": null,
   "metadata": {},
   "outputs": [],
   "source": [
    "# Save the model\n",
    "filename = \"Model/\"+str(dataset_number)+\"/sc1\"+str(dataset_number)+\"_model.sav\"\n",
    "pickle.dump(sc, open(filename, 'wb'))"
   ]
  },
  {
   "cell_type": "code",
   "execution_count": null,
   "metadata": {},
   "outputs": [
    {
     "name": "stdout",
     "output_type": "stream",
     "text": [
      "              precision    recall  f1-score   support\n",
      "\n",
      "      Benign    0.97692   0.99865   0.98767     20812\n",
      "     Malware    0.97722   0.70981   0.82232      1692\n",
      "\n",
      "    accuracy                        0.97694     22504\n",
      "   macro avg    0.97707   0.85423   0.90499     22504\n",
      "weighted avg    0.97694   0.97694   0.97524     22504\n",
      "\n"
     ]
    },
    {
     "data": {
      "image/png": "[encoded data removed]",
      "text/plain": [
       "<Figure size 1500x800 with 2 Axes>"
      ]
     },
     "metadata": {},
     "output_type": "display_data"
    }
   ],
   "source": [
    "show(sc)"
   ]
  },
  {
   "cell_type": "code",
   "execution_count": null,
   "metadata": {},
   "outputs": [
    {
     "name": "stdout",
     "output_type": "stream",
     "text": [
      "Best model: Decision Tree\n",
      "Score: 0.83052\n",
      "              precision    recall  f1-score   support\n",
      "\n",
      "      Benign    0.97692   0.99865   0.98767     20812\n",
      "     Malware    0.97722   0.70981   0.82232      1692\n",
      "\n",
      "    accuracy                        0.97694     22504\n",
      "   macro avg    0.97707   0.85423   0.90499     22504\n",
      "weighted avg    0.97694   0.97694   0.97524     22504\n",
      "\n"
     ]
    }
   ],
   "source": [
    "# Choose the best model\n",
    "\n",
    "models = [lr, knn, dt, abc, gbc, mlp, vc, sc]\n",
    "model_names = [\"Logistic Regression\", \"K-Nearest Neighbors\", \"Decision Tree\", \"AdaBoost\", \"Gradient Boosting\", \"Neural Network\", \"Voting Classifier\", \"Stacking Classifier\"]\n",
    "model_scores = []\n",
    "\n",
    "for model in models:\n",
    "    predictions = model.predict(x_test_pca)\n",
    "    true_labels = y_test\n",
    "    model_report = classification_report(true_labels, predictions, digits=5)\n",
    "    model_scores.append(model_report.split()[12])\n",
    "\n",
    "best_model = models[model_scores.index(max(model_scores))]\n",
    "best_model_name = model_names[model_scores.index(max(model_scores))]\n",
    "best_model_score = max(model_scores)\n",
    "print(\"Best model: \" + best_model_name)\n",
    "print(\"Score: \" + str(best_model_score))\n",
    "model_report = classification_report(true_labels, predictions, digits=5)\n",
    "print(model_report)"
   ]
  },
  {
   "attachments": {},
   "cell_type": "markdown",
   "metadata": {},
   "source": [
    "## Result printout"
   ]
  },
  {
   "cell_type": "code",
   "execution_count": null,
   "metadata": {},
   "outputs": [],
   "source": [
    "def show(model):\n",
    "    # We print our results\n",
    "    sns.set(rc={'figure.figsize': (15, 8)})\n",
    "    predictions = model.predict(x_test_pca)\n",
    "    true_labels = y_test\n",
    "    cf_matrix = confusion_matrix(true_labels, predictions)\n",
    "    model_report = classification_report(true_labels, predictions, digits=5)\n",
    "    heatmap = sns.heatmap(cf_matrix, annot=True, cmap='Blues', fmt='g', xticklabels=np.unique(true_labels), yticklabels=np.unique(true_labels))\n",
    "\n",
    "    # The heatmap is cool but this is the most important result\n",
    "    print(model_report)"
   ]
  },
  {
   "attachments": {},
   "cell_type": "markdown",
   "metadata": {},
   "source": [
    "# Test"
   ]
  },
  {
   "cell_type": "code",
   "execution_count": 25,
   "metadata": {},
   "outputs": [
    {
     "name": "stderr",
     "output_type": "stream",
     "text": [
      "/home/nonofurbuisness/.local/lib/python3.8/site-packages/sklearn/base.py:329: UserWarning:\n",
      "\n",
      "Trying to unpickle estimator LogisticRegression from version 1.2.0 when using version 1.1.3. This might lead to breaking code or invalid results. Use at your own risk. For more info please refer to:\n",
      "https://scikit-learn.org/stable/model_persistence.html#security-maintainability-limitations\n",
      "\n",
      "/home/nonofurbuisness/.local/lib/python3.8/site-packages/sklearn/base.py:329: UserWarning:\n",
      "\n",
      "Trying to unpickle estimator KNeighborsClassifier from version 1.2.0 when using version 1.1.3. This might lead to breaking code or invalid results. Use at your own risk. For more info please refer to:\n",
      "https://scikit-learn.org/stable/model_persistence.html#security-maintainability-limitations\n",
      "\n",
      "/home/nonofurbuisness/.local/lib/python3.8/site-packages/sklearn/base.py:329: UserWarning:\n",
      "\n",
      "Trying to unpickle estimator DecisionTreeClassifier from version 1.2.0 when using version 1.1.3. This might lead to breaking code or invalid results. Use at your own risk. For more info please refer to:\n",
      "https://scikit-learn.org/stable/model_persistence.html#security-maintainability-limitations\n",
      "\n",
      "/home/nonofurbuisness/.local/lib/python3.8/site-packages/sklearn/base.py:329: UserWarning:\n",
      "\n",
      "Trying to unpickle estimator AdaBoostClassifier from version 1.2.0 when using version 1.1.3. This might lead to breaking code or invalid results. Use at your own risk. For more info please refer to:\n",
      "https://scikit-learn.org/stable/model_persistence.html#security-maintainability-limitations\n",
      "\n",
      "/home/nonofurbuisness/.local/lib/python3.8/site-packages/sklearn/base.py:329: UserWarning:\n",
      "\n",
      "Trying to unpickle estimator GradientBoostingClassifier from version 1.2.0 when using version 1.1.3. This might lead to breaking code or invalid results. Use at your own risk. For more info please refer to:\n",
      "https://scikit-learn.org/stable/model_persistence.html#security-maintainability-limitations\n",
      "\n",
      "/home/nonofurbuisness/.local/lib/python3.8/site-packages/sklearn/base.py:329: UserWarning:\n",
      "\n",
      "Trying to unpickle estimator MLPClassifier from version 1.2.0 when using version 1.1.3. This might lead to breaking code or invalid results. Use at your own risk. For more info please refer to:\n",
      "https://scikit-learn.org/stable/model_persistence.html#security-maintainability-limitations\n",
      "\n",
      "/home/nonofurbuisness/.local/lib/python3.8/site-packages/sklearn/base.py:329: UserWarning:\n",
      "\n",
      "Trying to unpickle estimator LabelEncoder from version 1.2.0 when using version 1.1.3. This might lead to breaking code or invalid results. Use at your own risk. For more info please refer to:\n",
      "https://scikit-learn.org/stable/model_persistence.html#security-maintainability-limitations\n",
      "\n",
      "/home/nonofurbuisness/.local/lib/python3.8/site-packages/sklearn/base.py:329: UserWarning:\n",
      "\n",
      "Trying to unpickle estimator DummyClassifier from version 1.2.0 when using version 1.1.3. This might lead to breaking code or invalid results. Use at your own risk. For more info please refer to:\n",
      "https://scikit-learn.org/stable/model_persistence.html#security-maintainability-limitations\n",
      "\n",
      "/home/nonofurbuisness/.local/lib/python3.8/site-packages/sklearn/base.py:329: UserWarning:\n",
      "\n",
      "Trying to unpickle estimator DecisionTreeRegressor from version 1.2.0 when using version 1.1.3. This might lead to breaking code or invalid results. Use at your own risk. For more info please refer to:\n",
      "https://scikit-learn.org/stable/model_persistence.html#security-maintainability-limitations\n",
      "\n",
      "/home/nonofurbuisness/.local/lib/python3.8/site-packages/sklearn/base.py:329: UserWarning:\n",
      "\n",
      "Trying to unpickle estimator LabelBinarizer from version 1.2.0 when using version 1.1.3. This might lead to breaking code or invalid results. Use at your own risk. For more info please refer to:\n",
      "https://scikit-learn.org/stable/model_persistence.html#security-maintainability-limitations\n",
      "\n",
      "/home/nonofurbuisness/.local/lib/python3.8/site-packages/sklearn/base.py:329: UserWarning:\n",
      "\n",
      "Trying to unpickle estimator VotingClassifier from version 1.2.0 when using version 1.1.3. This might lead to breaking code or invalid results. Use at your own risk. For more info please refer to:\n",
      "https://scikit-learn.org/stable/model_persistence.html#security-maintainability-limitations\n",
      "\n"
     ]
    }
   ],
   "source": [
    "# Now it's your turn, use the model you have just created :)\n",
    "\n",
    "# Read the valuation json, preprocess it and run your model\n",
    "with open(f'./dataset_{str(dataset_number)}_val.json') as file:\n",
    "    raw_ds = json.load(file)\n",
    "test_df = pd.json_normalize(raw_ds, max_level=2)\n",
    "\n",
    "# Preprocess the validation dataset, remember that here you don't have the labels\n",
    "test_df.fillna(' ', inplace=True)\n",
    "test_df = vectorize_df(test_df)\n",
    "\n",
    "# Load the model\n",
    "filename = \"Model/\"+str(dataset_number)+\"/vc\"+str(dataset_number)+\"_model.sav\"\n",
    "vc = pickle.load(open(filename, 'rb'))\n",
    "\n",
    "# Predict with your model\n",
    "X = test_df[features_list].to_numpy()\n",
    "x_test_pca = pca.transform(X)\n",
    "predictions = vc.predict(x_test_pca)"
   ]
  },
  {
   "attachments": {},
   "cell_type": "markdown",
   "metadata": {},
   "source": [
    "# Save your predictions"
   ]
  },
  {
   "cell_type": "code",
   "execution_count": 45,
   "metadata": {},
   "outputs": [],
   "source": [
    "# Save your preditions\n",
    "enc = LabelEncoder()\n",
    "np.savetxt(f'./dataset_{str(dataset_number)}_{test_type}_result.txt', enc.fit_transform(predictions), fmt='%2d')"
   ]
  }
 ],
 "metadata": {
  "kernelspec": {
   "display_name": "Python 3",
   "language": "python",
   "name": "python3"
  },
  "language_info": {
   "codemirror_mode": {
    "name": "ipython",
    "version": 3
   },
   "file_extension": ".py",
   "mimetype": "text/x-python",
   "name": "python",
   "nbconvert_exporter": "python",
   "pygments_lexer": "ipython3",
   "version": "3.8.10 (default, Nov 14 2022, 12:59:47) \n[GCC 9.4.0]"
  },
  "orig_nbformat": 4,
  "vscode": {
   "interpreter": {
    "hash": "5b3ded1ccb95c1d9bd405e7b823d9e85424cde40fbb5985eb47e999ef50e15b4"
   }
  }
 },
 "nbformat": 4,
 "nbformat_minor": 2
}
